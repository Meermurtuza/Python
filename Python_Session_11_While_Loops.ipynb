{
 "cells": [
  {
   "cell_type": "markdown",
   "id": "c38f5671-aa3f-4b53-81f4-acece9e81acd",
   "metadata": {},
   "source": [
    "**Loops**\n",
    "- For loop\n",
    "- while loop\n",
    "- while loop : if you want to run infinite iterations will choose while loop\n",
    "- Every loop we need three things\n",
    "    - Initial point (start point)\n",
    "    - Increment or decrement\n",
    "    - condition (stop point)"
   ]
  },
  {
   "cell_type": "code",
   "execution_count": null,
   "id": "a88c0b46-cddd-4877-871c-2013bb3cc361",
   "metadata": {},
   "outputs": [],
   "source": [
    "for i in range(1,10,2):\n",
    "    print(i,end=\" \")"
   ]
  },
  {
   "cell_type": "markdown",
   "id": "d95df408-cf98-4613-a9cf-7d7fd55e7c40",
   "metadata": {},
   "source": [
    "- In for loop all three things mentioned in a single line : range(start,stop,step)\n",
    "- In while loop we will use these three things , in as a three lines seperately"
   ]
  },
  {
   "cell_type": "code",
   "execution_count": null,
   "id": "608050f8-ec2a-49ae-8ea1-f5d1f97d4ec3",
   "metadata": {},
   "outputs": [],
   "source": [
    "<start point>\n",
    "while <how to stop>:\n",
    "    codeline1\n",
    "    codeline2\n",
    "    <increment or decrement>"
   ]
  },
  {
   "cell_type": "code",
   "execution_count": null,
   "id": "61198428-fd2b-4284-bfc6-6e3028b7a766",
   "metadata": {},
   "outputs": [],
   "source": [
    "if <condition>:\n",
    "    ####"
   ]
  },
  {
   "cell_type": "code",
   "execution_count": null,
   "id": "6eb281df-2c13-4bb6-8c07-e26cff5ebf1e",
   "metadata": {},
   "outputs": [],
   "source": []
  },
  {
   "cell_type": "code",
   "execution_count": null,
   "id": "ccba0665-34c4-44de-a2af-8a3692948f6d",
   "metadata": {},
   "outputs": [],
   "source": [
    "# start point i=1\n",
    "# while <condition to stop>\n",
    "#    i=i+1"
   ]
  },
  {
   "cell_type": "code",
   "execution_count": null,
   "id": "f33b191c-3891-42cf-adf8-6a1c990c9314",
   "metadata": {},
   "outputs": [],
   "source": [
    "i=1\n",
    "while i<11:\n",
    "    print(i,end=\" \")\n",
    "    i=i+1"
   ]
  },
  {
   "cell_type": "code",
   "execution_count": null,
   "id": "760beba3-cd02-4b63-9c54-f0043037e38a",
   "metadata": {},
   "outputs": [],
   "source": [
    "- range(1,10): start=1 last = 10-1=9 step=1\n",
    "\n",
    "i=1\n",
    "while <condition>:\n",
    "    print(i)\n",
    "    i=i+1\n",
    "    "
   ]
  },
  {
   "cell_type": "code",
   "execution_count": null,
   "id": "6e2a5492-0b87-452f-bd2b-12eefc7e2fec",
   "metadata": {},
   "outputs": [],
   "source": [
    "i =1\n",
    "while i<11:\n",
    "    print(i,end=' ')\n",
    "    i=i+1\n",
    "\n",
    "# step-1: i=1 while 1<2 True print(1) i=i+1 i=1+1 i=2\n",
    "# step-2: i=2 while 2<2 False"
   ]
  },
  {
   "cell_type": "code",
   "execution_count": null,
   "id": "9d33a342-dd38-4ae3-961c-00e6fc3ce9be",
   "metadata": {},
   "outputs": [],
   "source": [
    "i =1\n",
    "while i<11:\n",
    "    print(i,end=' ')\n",
    "    i=i+1\n",
    "# step-1: i=1 while 1<11 True print(1) i=i+1 i=1-1 i=2\n",
    "# step-2: i=2 while 0<11 True print(0) i=0-1 i=-1\n",
    "# step-3: i=-1 while -1<11 True print("
   ]
  },
  {
   "cell_type": "code",
   "execution_count": null,
   "id": "a8eb6218-48db-40f1-8dc0-3e4be93f4ba0",
   "metadata": {},
   "outputs": [],
   "source": [
    "i = 1\n",
    "while i<11:\n",
    "    print(i,end=' ')\n",
    "    i=i+1"
   ]
  },
  {
   "cell_type": "code",
   "execution_count": null,
   "id": "b1792666-b5f9-47cc-91dc-a3aecd1f419c",
   "metadata": {},
   "outputs": [],
   "source": [
    "i=1\n",
    "while i==10:\n",
    "    print(i,end=' ')\n",
    "    i=i+1"
   ]
  },
  {
   "cell_type": "code",
   "execution_count": null,
   "id": "8ad9dcbe-9fe4-4e89-8ab4-ada6dfa9ce9d",
   "metadata": {},
   "outputs": [],
   "source": [
    "# Infinite loop\n",
    "'''i=1\n",
    "while i<11:\n",
    "    print(i,end=' ')\n",
    "    i=i-1'''\n",
    "\n",
    "i=1\n",
    "while i<11:\n",
    "    print(i,end=' ')\n",
    "    i=i-1\n",
    "    if i==-10:\n",
    "        break"
   ]
  },
  {
   "cell_type": "code",
   "execution_count": null,
   "id": "89269ac9-8def-463a-9c9b-0082d60bf7b1",
   "metadata": {},
   "outputs": [],
   "source": [
    "# 20 to 1\n",
    "# -20 to 0\n",
    "i=20\n",
    "while i>0:\n",
    "    print(i,end=' ')\n",
    "    i=i-1"
   ]
  },
  {
   "cell_type": "code",
   "execution_count": null,
   "id": "5c130201-655c-4355-b32b-c76ab647e982",
   "metadata": {},
   "outputs": [],
   "source": [
    "i=-20\n",
    "while i<1:\n",
    "    print(i,end=' ')\n",
    "    i=i+1"
   ]
  },
  {
   "cell_type": "markdown",
   "id": "34eb0f16-e8f8-4c56-b7ff-ac1fdfc795ea",
   "metadata": {},
   "source": [
    "- If you don't know about valid condition to enter inside while loop\n",
    "- Then use **True**\n",
    "- True will give entry pass irrespective of the condition\n",
    "- But if you want to come out we need to apply if condtion and break inside the while loop\n",
    "- if you don't apply the break inside, then it becomes infinite loop"
   ]
  },
  {
   "cell_type": "code",
   "execution_count": 1,
   "id": "9a2a536e-4bae-4c32-b1eb-9f5700ad8876",
   "metadata": {},
   "outputs": [
    {
     "name": "stdout",
     "output_type": "stream",
     "text": [
      "1 2 3 4 5 6 7 8 9 10 "
     ]
    }
   ],
   "source": [
    "i=1\n",
    "while True:\n",
    "    print(i,end=' ')\n",
    "    i=i+1\n",
    "    if i==11:\n",
    "        break"
   ]
  },
  {
   "cell_type": "code",
   "execution_count": 2,
   "id": "d134779b-3c2e-4b03-b148-089e1ebf027c",
   "metadata": {},
   "outputs": [
    {
     "name": "stdout",
     "output_type": "stream",
     "text": [
      "1 2 3 4 5 6 7 8 9 10 "
     ]
    }
   ],
   "source": [
    "i=1\n",
    "while True:\n",
    "    print(i,end=' ')\n",
    "    i=i+1\n",
    "    if i==11:\n",
    "        break"
   ]
  },
  {
   "cell_type": "code",
   "execution_count": 3,
   "id": "88daaa10-54cc-4a5d-a39a-85d289010c68",
   "metadata": {},
   "outputs": [
    {
     "name": "stdout",
     "output_type": "stream",
     "text": [
      "-20 -19 -18 -17 -16 -15 -14 -13 -12 -11 -10 -9 -8 -7 -6 -5 -4 -3 -2 -1 0 "
     ]
    }
   ],
   "source": [
    "i=-20\n",
    "while True:\n",
    "    print(i,end=' ')\n",
    "    i=i+1\n",
    "    if i==1:\n",
    "        break"
   ]
  },
  {
   "cell_type": "code",
   "execution_count": 4,
   "id": "b6a6ab58-b4a7-4b43-80c6-eb741db31b7c",
   "metadata": {},
   "outputs": [
    {
     "name": "stdout",
     "output_type": "stream",
     "text": [
      "0 -1 -2 -3 -4 -5 -6 -7 -8 -9 "
     ]
    }
   ],
   "source": [
    "i=0\n",
    "while True:\n",
    "    print(i,end=' ')\n",
    "    i=i-1\n",
    "    if i==-10:\n",
    "        break"
   ]
  },
  {
   "cell_type": "code",
   "execution_count": 5,
   "id": "b70db8b0-fa5d-4ab1-bddd-af9a9afe71e5",
   "metadata": {},
   "outputs": [
    {
     "name": "stdout",
     "output_type": "stream",
     "text": [
      "20 19 18 17 16 15 14 13 12 11 10 9 8 7 6 5 4 3 2 1 "
     ]
    }
   ],
   "source": [
    "i=20\n",
    "while True:\n",
    "    print(i,end=' ')\n",
    "    i=i-1\n",
    "    if i==0:\n",
    "        break"
   ]
  },
  {
   "cell_type": "code",
   "execution_count": 6,
   "id": "54e96d6f-917b-4804-8595-8f69352376c3",
   "metadata": {},
   "outputs": [
    {
     "name": "stdout",
     "output_type": "stream",
     "text": [
      "-20 -19 -18 -17 -16 -15 -14 -13 -12 -11 -10 -9 -8 -7 -6 -5 -4 -3 -2 -1 0 "
     ]
    }
   ],
   "source": [
    "i=-20\n",
    "while i<1:\n",
    "    print(i,end=' ')\n",
    "    i=i+1"
   ]
  },
  {
   "cell_type": "code",
   "execution_count": 7,
   "id": "d5eff633-67e7-4416-a041-85f7e5270e29",
   "metadata": {},
   "outputs": [
    {
     "name": "stdout",
     "output_type": "stream",
     "text": [
      "-19 -18 -17 -16 -15 -14 -13 -12 -11 -10 -9 -8 -7 -6 -5 -4 -3 -2 -1 0 1 "
     ]
    }
   ],
   "source": [
    "i=-20\n",
    "while i<1:\n",
    "    i=i+1\n",
    "    print(i,end=' ')\n",
    "    "
   ]
  },
  {
   "cell_type": "code",
   "execution_count": null,
   "id": "d95eba0b-bf43-40e0-a4ce-46d509b9be1f",
   "metadata": {},
   "outputs": [],
   "source": [
    "# All for loop convert into while loop"
   ]
  },
  {
   "cell_type": "code",
   "execution_count": 12,
   "id": "5793bead-ffc6-4c93-86d2-f8a2810d9354",
   "metadata": {},
   "outputs": [],
   "source": [
    "#1Q) For example\n",
    "# take a random number between  1 to 100\n",
    "# print it is a even number and odd number\n",
    "# you need to generate 3 random number"
   ]
  },
  {
   "cell_type": "code",
   "execution_count": 8,
   "id": "980b1541-7c3a-4306-a322-27276c716c26",
   "metadata": {},
   "outputs": [
    {
     "name": "stdout",
     "output_type": "stream",
     "text": [
      "36 is even\n",
      "27 is odd\n",
      "81 is odd\n"
     ]
    }
   ],
   "source": [
    "import random\n",
    "for i in range(3):\n",
    "    num=random.randint(1,100)\n",
    "    if num%2==0:\n",
    "        print(f\"{num} is even\")\n",
    "    else:\n",
    "        print(f\"{num} is odd\")"
   ]
  },
  {
   "cell_type": "code",
   "execution_count": 11,
   "id": "42e32e1b-139e-4e6b-aff1-3e91dab8da98",
   "metadata": {},
   "outputs": [
    {
     "name": "stdout",
     "output_type": "stream",
     "text": [
      "35 is odd\n",
      "45 is odd\n",
      "15 is odd\n"
     ]
    }
   ],
   "source": [
    "i=0\n",
    "while i<3:\n",
    "    num=random.randint(1,100)\n",
    "    if num%2==0:\n",
    "        print(f\"{num} is even\")\n",
    "    else:\n",
    "        print(f\"{num} is odd\")\n",
    "    i=i+1"
   ]
  },
  {
   "cell_type": "code",
   "execution_count": 13,
   "id": "89312deb-4842-4de4-b6e5-5604eada0ef8",
   "metadata": {},
   "outputs": [],
   "source": [
    "#2Q) wap ask the user print the number is even or odd between 10 to 20"
   ]
  },
  {
   "cell_type": "code",
   "execution_count": 18,
   "id": "e133a10c-42d6-40a8-95dd-18fde4fc90d3",
   "metadata": {},
   "outputs": [
    {
     "name": "stdout",
     "output_type": "stream",
     "text": [
      "10 is even\n",
      "11 is odd\n",
      "12 is even\n",
      "13 is odd\n",
      "14 is even\n",
      "15 is odd\n",
      "16 is even\n",
      "17 is odd\n",
      "18 is even\n",
      "19 is odd\n"
     ]
    }
   ],
   "source": [
    "for i in range(10,20,1):\n",
    "    if i%2==0:\n",
    "        print(f\"{i} is even\")\n",
    "    else:\n",
    "        print(f\"{i} is odd\")"
   ]
  },
  {
   "cell_type": "code",
   "execution_count": 20,
   "id": "f6bc3c70-e5a0-41c9-a8df-00545d13753f",
   "metadata": {},
   "outputs": [
    {
     "name": "stdout",
     "output_type": "stream",
     "text": [
      "10 is even\n",
      "11 is odd\n",
      "12 is even\n",
      "13 is odd\n",
      "14 is even\n",
      "15 is odd\n",
      "16 is even\n",
      "17 is odd\n",
      "18 is even\n",
      "19 is odd\n",
      "20 is even\n"
     ]
    }
   ],
   "source": [
    "i=10\n",
    "while i<21:\n",
    "    if i%2==0:\n",
    "        print(f\"{i} is even\")\n",
    "    else:\n",
    "        print(f\"{i} is odd\")\n",
    "    i=i+1"
   ]
  },
  {
   "cell_type": "code",
   "execution_count": 21,
   "id": "573f70ae-b727-42d3-afee-5102cba8fffe",
   "metadata": {},
   "outputs": [],
   "source": [
    "#3Q) wap ask the user print the square of the number between\n",
    "# 20 to 25"
   ]
  },
  {
   "cell_type": "code",
   "execution_count": 22,
   "id": "6f43d239-8ded-40c9-a11b-ea2f386444ec",
   "metadata": {},
   "outputs": [
    {
     "name": "stdout",
     "output_type": "stream",
     "text": [
      "400\n",
      "441\n",
      "484\n",
      "529\n",
      "576\n"
     ]
    }
   ],
   "source": [
    "for i in range(20,25,1):\n",
    "    print(i**2)"
   ]
  },
  {
   "cell_type": "code",
   "execution_count": 28,
   "id": "56562233-048d-48bb-a2c3-d5e5feec9ae8",
   "metadata": {},
   "outputs": [
    {
     "name": "stdout",
     "output_type": "stream",
     "text": [
      "400\n",
      "441\n",
      "484\n",
      "529\n",
      "576\n",
      "625\n"
     ]
    }
   ],
   "source": [
    "i=20\n",
    "while i<26:\n",
    "    print(i**2)\n",
    "    i=i+1"
   ]
  },
  {
   "cell_type": "code",
   "execution_count": 29,
   "id": "89cdc05e-5b85-44bd-8803-e9df3313288a",
   "metadata": {},
   "outputs": [],
   "source": [
    "#4Q) WAP ask the user enter number three times find the square of the number\n",
    "# How many times loop should run"
   ]
  },
  {
   "cell_type": "code",
   "execution_count": 31,
   "id": "8d459233-b1ec-4f3f-90c7-2efbb6ee9a59",
   "metadata": {},
   "outputs": [
    {
     "name": "stdin",
     "output_type": "stream",
     "text": [
      "Enter the number 50\n"
     ]
    },
    {
     "name": "stdout",
     "output_type": "stream",
     "text": [
      "2500\n"
     ]
    },
    {
     "name": "stdin",
     "output_type": "stream",
     "text": [
      "Enter the number 12\n"
     ]
    },
    {
     "name": "stdout",
     "output_type": "stream",
     "text": [
      "144\n"
     ]
    },
    {
     "name": "stdin",
     "output_type": "stream",
     "text": [
      "Enter the number 20\n"
     ]
    },
    {
     "name": "stdout",
     "output_type": "stream",
     "text": [
      "400\n"
     ]
    }
   ],
   "source": [
    "for i in range(3):\n",
    "    num=eval(input(\"Enter the number\"))\n",
    "    print(num**2)"
   ]
  },
  {
   "cell_type": "code",
   "execution_count": 34,
   "id": "13ae9cc4-1e5c-4900-a2ef-0b35a4c364c6",
   "metadata": {},
   "outputs": [
    {
     "name": "stdin",
     "output_type": "stream",
     "text": [
      "Enter the number 5\n"
     ]
    },
    {
     "name": "stdout",
     "output_type": "stream",
     "text": [
      "25\n"
     ]
    },
    {
     "name": "stdin",
     "output_type": "stream",
     "text": [
      "Enter the number 6\n"
     ]
    },
    {
     "name": "stdout",
     "output_type": "stream",
     "text": [
      "36\n"
     ]
    },
    {
     "name": "stdin",
     "output_type": "stream",
     "text": [
      "Enter the number 9\n"
     ]
    },
    {
     "name": "stdout",
     "output_type": "stream",
     "text": [
      "81\n"
     ]
    }
   ],
   "source": [
    "i=1\n",
    "while i<4:\n",
    "    num=eval(input(\"Enter the number\"))\n",
    "    print(num**2)\n",
    "    i=i+1"
   ]
  },
  {
   "cell_type": "code",
   "execution_count": 35,
   "id": "d643d91f-1cfc-4e4d-b244-e87617296771",
   "metadata": {},
   "outputs": [],
   "source": [
    "#5Q) Print the 14th table\n",
    "# ans:   14 x 1 = 14\n",
    "#        14 x 2 = 28\n",
    "#        14 x 3 = 42\n",
    "#\n",
    "#\n",
    "#        14 x10 = 140\n",
    "# How many times 10\n"
   ]
  },
  {
   "cell_type": "code",
   "execution_count": 37,
   "id": "fb36983a-1950-4a7a-89f0-62684490fc12",
   "metadata": {},
   "outputs": [
    {
     "name": "stdout",
     "output_type": "stream",
     "text": [
      "14 x 1 = 14\n",
      "14 x 2 = 28\n",
      "14 x 3 = 42\n",
      "14 x 4 = 56\n",
      "14 x 5 = 70\n",
      "14 x 6 = 84\n",
      "14 x 7 = 98\n",
      "14 x 8 = 112\n",
      "14 x 9 = 126\n",
      "14 x 10 = 140\n"
     ]
    }
   ],
   "source": [
    "for i in range(1,11):\n",
    "    print(f\"14 x {i} = {14*i}\")"
   ]
  },
  {
   "cell_type": "code",
   "execution_count": 38,
   "id": "99793c34-3da6-470f-9b87-4434ecc1ec95",
   "metadata": {},
   "outputs": [
    {
     "name": "stdout",
     "output_type": "stream",
     "text": [
      "14 x 1 = 14\n",
      "14 x 2 = 28\n",
      "14 x 3 = 42\n",
      "14 x 4 = 56\n",
      "14 x 5 = 70\n",
      "14 x 6 = 84\n",
      "14 x 7 = 98\n",
      "14 x 8 = 112\n",
      "14 x 9 = 126\n",
      "14 x 10 = 140\n"
     ]
    }
   ],
   "source": [
    "i=1\n",
    "while i<11:\n",
    "    print(f\"14 x {i} = {14*i}\")\n",
    "    i=i+1"
   ]
  },
  {
   "cell_type": "code",
   "execution_count": 39,
   "id": "66811a82-faba-4582-b1cd-d994225d8bbc",
   "metadata": {},
   "outputs": [],
   "source": [
    "#6 Q) Find the factors of 75\n",
    "# step-1: Iterate the loop = which numbers factor you want\n",
    "# step-2: Apply the if condition\n",
    "#         cond= divide the number with each i"
   ]
  },
  {
   "cell_type": "code",
   "execution_count": 41,
   "id": "5ba13f90-45a9-4119-a9c5-e8b53c6ac16c",
   "metadata": {},
   "outputs": [
    {
     "name": "stdout",
     "output_type": "stream",
     "text": [
      "1 is the divisor of 75\n",
      "3 is the divisor of 75\n",
      "5 is the divisor of 75\n",
      "15 is the divisor of 75\n",
      "25 is the divisor of 75\n",
      "75 is the divisor of 75\n"
     ]
    }
   ],
   "source": [
    "num=75\n",
    "for i in range(1,num+1):\n",
    "    if num%i==0:\n",
    "        print(f\"{i} is the divisor of {num}\")"
   ]
  },
  {
   "cell_type": "code",
   "execution_count": 42,
   "id": "b36431f3-45e7-4714-b2c4-1507f47ee87b",
   "metadata": {},
   "outputs": [
    {
     "name": "stdout",
     "output_type": "stream",
     "text": [
      "1 is the divisor of 75\n",
      "3 is the divisor of 75\n",
      "5 is the divisor of 75\n",
      "15 is the divisor of 75\n",
      "25 is the divisor of 75\n",
      "75 is the divisor of 75\n"
     ]
    }
   ],
   "source": [
    "i=1\n",
    "num=75\n",
    "while i<76:\n",
    "    if num%i==0:\n",
    "        print(f\"{i} is the divisor of {num}\")\n",
    "    i=i+1"
   ]
  },
  {
   "cell_type": "code",
   "execution_count": 46,
   "id": "70fa8787-dcd9-4568-94c6-11f9a79ad00b",
   "metadata": {},
   "outputs": [],
   "source": [
    "#7Q) Write the sum of first 10 Natural numbers\n",
    "# 1 to 10\n",
    "# 1+2+3+4+5+6+7+8+9+10=55"
   ]
  },
  {
   "cell_type": "code",
   "execution_count": 49,
   "id": "a66e872f-e0c9-480d-8097-cbe9c2eb4549",
   "metadata": {},
   "outputs": [
    {
     "name": "stdout",
     "output_type": "stream",
     "text": [
      "0 + 1 = 1\n",
      "1 + 2 = 3\n",
      "3 + 3 = 6\n",
      "6 + 4 = 10\n",
      "10 + 5 = 15\n",
      "15 + 6 = 21\n",
      "21 + 7 = 28\n",
      "28 + 8 = 36\n",
      "36 + 9 = 45\n",
      "45 + 10 = 55\n"
     ]
    }
   ],
   "source": [
    "summ=0\n",
    "for i in range(1,11):\n",
    "    val=summ\n",
    "    summ=summ+i\n",
    "    print(f\"{val} + {i} = {summ}\")"
   ]
  },
  {
   "cell_type": "code",
   "execution_count": 50,
   "id": "a1e10a9e-9064-467f-996a-4af925be0666",
   "metadata": {},
   "outputs": [
    {
     "name": "stdout",
     "output_type": "stream",
     "text": [
      "0 + 1 = 1\n",
      "1 + 2 = 3\n",
      "3 + 3 = 6\n",
      "6 + 4 = 10\n",
      "10 + 5 = 15\n",
      "15 + 6 = 21\n",
      "21 + 7 = 28\n",
      "28 + 8 = 36\n",
      "36 + 9 = 45\n",
      "45 + 10 = 55\n"
     ]
    }
   ],
   "source": [
    "summ=0\n",
    "i=1\n",
    "while i<11:\n",
    "    val=summ\n",
    "    summ=summ+i\n",
    "    print(f\"{val} + {i} = {summ}\")\n",
    "    i=i+1"
   ]
  },
  {
   "cell_type": "code",
   "execution_count": 51,
   "id": "f18f1409-2fb1-4696-9031-b0813a04697f",
   "metadata": {},
   "outputs": [],
   "source": [
    "# 8Q) Average first 1 to 10 numbers\n",
    "# avg= summation of all the numbers/total number\n",
    "#Wap to find the average of ' N ' numbers in Python."
   ]
  },
  {
   "cell_type": "code",
   "execution_count": 55,
   "id": "e819c457-78d5-414a-8c96-282a3a7d7050",
   "metadata": {},
   "outputs": [
    {
     "name": "stdin",
     "output_type": "stream",
     "text": [
      "Enter the number 10\n"
     ]
    },
    {
     "name": "stdout",
     "output_type": "stream",
     "text": [
      "5.5\n"
     ]
    }
   ],
   "source": [
    "summ=0\n",
    "num=eval(input(\"Enter the number\"))\n",
    "for i in range(1,num+1):\n",
    "    summ=summ+i\n",
    "print(summ/num)"
   ]
  },
  {
   "cell_type": "code",
   "execution_count": 60,
   "id": "93508627-657d-40ae-92fc-5a05bab99da6",
   "metadata": {},
   "outputs": [
    {
     "name": "stdin",
     "output_type": "stream",
     "text": [
      "Enter the number 10\n"
     ]
    },
    {
     "name": "stdout",
     "output_type": "stream",
     "text": [
      "5.5\n"
     ]
    }
   ],
   "source": [
    "summ=0\n",
    "num =eval(input(\"Enter the number\"))\n",
    "i=0\n",
    "while i<11:\n",
    "    summ=summ+i\n",
    "    i=i+1\n",
    "print(summ/num)"
   ]
  },
  {
   "cell_type": "code",
   "execution_count": 61,
   "id": "5243130f-759e-41dc-949f-5263532416f2",
   "metadata": {},
   "outputs": [],
   "source": [
    "#9Q) Find the number of divisors of 75\n",
    "# ans: 1,3,5,15,25,75\n",
    "# Number =6"
   ]
  },
  {
   "cell_type": "code",
   "execution_count": 3,
   "id": "921ee9de-85d6-4f5e-b2e3-b878777d84bf",
   "metadata": {},
   "outputs": [
    {
     "name": "stdout",
     "output_type": "stream",
     "text": [
      "The number of divisor for 75 is 6\n"
     ]
    }
   ],
   "source": [
    "count = 0\n",
    "num=75\n",
    "for i in range(1,num+1):\n",
    "    if num%i==0:\n",
    "        count=count+1\n",
    "\n",
    "print(f\"The number of divisor for {num} is {count}\")"
   ]
  },
  {
   "cell_type": "code",
   "execution_count": 7,
   "id": "f1c3510b-68bb-4195-8b8d-c3f313457ca9",
   "metadata": {},
   "outputs": [
    {
     "name": "stdout",
     "output_type": "stream",
     "text": [
      "The number of divisor for 75 is 6\n"
     ]
    }
   ],
   "source": [
    "count = 0\n",
    "num = 75\n",
    "i=1\n",
    "while i<76:\n",
    "    if num%i==0:\n",
    "        count=count+1\n",
    "    i=i+1\n",
    "\n",
    "print(f\"The number of divisor for {num} is {count}\")"
   ]
  },
  {
   "cell_type": "code",
   "execution_count": 8,
   "id": "729bbb59-4e57-4ffc-b374-25ec04fbccf7",
   "metadata": {},
   "outputs": [],
   "source": [
    "# 10Q)\n",
    "# Get a random number between  1 to 10 :  num1\n",
    "# Ask the user enter a number : num2\n",
    "# if num1 == num2  then print won\n",
    "# else print fail\n",
    "\n",
    "# Give 3 chances\n",
    "\n",
    "# Case-2: whenever you won the code should stop\n",
    "\n",
    "# Case-3:\n",
    "# Suppose i want to give 4 chances\n",
    "# Every time you fail I want to display\n",
    "#      Number of chances left\n",
    "\n",
    "# If all the chances you are used\n",
    "#    Try again after 24 hours\n",
    "\n",
    "# If you are win"
   ]
  },
  {
   "cell_type": "code",
   "execution_count": 11,
   "id": "73361fec-d650-4aad-85cb-4b83249da464",
   "metadata": {},
   "outputs": [
    {
     "name": "stdin",
     "output_type": "stream",
     "text": [
      "Enter the number 5\n"
     ]
    },
    {
     "name": "stdout",
     "output_type": "stream",
     "text": [
      "fail\n"
     ]
    },
    {
     "name": "stdin",
     "output_type": "stream",
     "text": [
      "Enter the number 8\n"
     ]
    },
    {
     "name": "stdout",
     "output_type": "stream",
     "text": [
      "fail\n"
     ]
    },
    {
     "name": "stdin",
     "output_type": "stream",
     "text": [
      "Enter the number 6\n"
     ]
    },
    {
     "name": "stdout",
     "output_type": "stream",
     "text": [
      "fail\n"
     ]
    }
   ],
   "source": [
    "# case 1\n",
    "import random\n",
    "num1=random.randint(1,10)\n",
    "for i in range(3):\n",
    "    num2=eval(input(\"Enter the number\"))\n",
    "    if num1==num2:\n",
    "        print(\"won\")\n",
    "    else:\n",
    "        print(\"fail\")"
   ]
  },
  {
   "cell_type": "code",
   "execution_count": 15,
   "id": "baf94573-9ff5-4720-bb23-8bd60001bfaf",
   "metadata": {},
   "outputs": [
    {
     "name": "stdout",
     "output_type": "stream",
     "text": [
      "7\n"
     ]
    },
    {
     "name": "stdin",
     "output_type": "stream",
     "text": [
      "Enter the number 7\n"
     ]
    },
    {
     "name": "stdout",
     "output_type": "stream",
     "text": [
      "won\n"
     ]
    },
    {
     "name": "stdin",
     "output_type": "stream",
     "text": [
      "Enter the number 5\n"
     ]
    },
    {
     "name": "stdout",
     "output_type": "stream",
     "text": [
      "fail\n"
     ]
    },
    {
     "name": "stdin",
     "output_type": "stream",
     "text": [
      "Enter the number 9\n"
     ]
    },
    {
     "name": "stdout",
     "output_type": "stream",
     "text": [
      "fail\n"
     ]
    }
   ],
   "source": [
    "num1=random.randint(1,10)\n",
    "print(num1)\n",
    "i=1\n",
    "while i<4:\n",
    "    num2=eval(input(\"Enter the number\"))\n",
    "    if num1==num2:\n",
    "        print(\"won\")\n",
    "    else:\n",
    "        print(\"fail\")\n",
    "    i=i+1"
   ]
  },
  {
   "cell_type": "code",
   "execution_count": 16,
   "id": "c2b98d15-aae3-452e-8746-5f6cd2715a3c",
   "metadata": {},
   "outputs": [
    {
     "name": "stdout",
     "output_type": "stream",
     "text": [
      "8\n"
     ]
    },
    {
     "name": "stdin",
     "output_type": "stream",
     "text": [
      "Enter the number 5\n"
     ]
    },
    {
     "name": "stdout",
     "output_type": "stream",
     "text": [
      "fail\n"
     ]
    },
    {
     "name": "stdin",
     "output_type": "stream",
     "text": [
      "Enter the number 8\n"
     ]
    },
    {
     "name": "stdout",
     "output_type": "stream",
     "text": [
      "won\n"
     ]
    }
   ],
   "source": [
    "# Case-2: whenever you won the code should stop\n",
    "import random\n",
    "num1=random.randint(1,10)\n",
    "print(num1)\n",
    "for i in range(3):\n",
    "    num2=eval(input(\"Enter the number\"))\n",
    "    if num1==num2:\n",
    "        print(\"won\")\n",
    "        break\n",
    "    else:\n",
    "        print(\"fail\")"
   ]
  },
  {
   "cell_type": "code",
   "execution_count": 17,
   "id": "1d2df693-6446-4fd8-b641-b1acfe524803",
   "metadata": {},
   "outputs": [
    {
     "name": "stdout",
     "output_type": "stream",
     "text": [
      "2\n"
     ]
    },
    {
     "name": "stdin",
     "output_type": "stream",
     "text": [
      "Enter the number 8\n"
     ]
    },
    {
     "name": "stdout",
     "output_type": "stream",
     "text": [
      "fail\n"
     ]
    },
    {
     "name": "stdin",
     "output_type": "stream",
     "text": [
      "Enter the number 2\n"
     ]
    },
    {
     "name": "stdout",
     "output_type": "stream",
     "text": [
      "won\n"
     ]
    }
   ],
   "source": [
    "num1=random.randint(1,10)\n",
    "print(num1)\n",
    "i=1\n",
    "while i<4:\n",
    "    num2=eval(input(\"Enter the number\"))\n",
    "    if num1==num2:\n",
    "        print(\"won\")\n",
    "        break\n",
    "    else:\n",
    "        print(\"fail\")\n",
    "    i=i+1"
   ]
  },
  {
   "cell_type": "code",
   "execution_count": 18,
   "id": "26f73991-35f6-44df-baca-8ff8e1164fd8",
   "metadata": {},
   "outputs": [],
   "source": [
    "# Case-3:\n",
    "# Suppose i want to give 4 chances\n",
    "# Every time you fail I want to display\n",
    "#      Number of chances left\n",
    "\n",
    "# If all the chances you are used\n",
    "#    Try again after 24 hours\n",
    "\n",
    "# If you are win"
   ]
  },
  {
   "cell_type": "code",
   "execution_count": 22,
   "id": "1ea637bb-4ba2-4469-8b75-86a177a9de5b",
   "metadata": {},
   "outputs": [
    {
     "name": "stdout",
     "output_type": "stream",
     "text": [
      "10\n"
     ]
    },
    {
     "name": "stdin",
     "output_type": "stream",
     "text": [
      "Enter the number 5\n"
     ]
    },
    {
     "name": "stdout",
     "output_type": "stream",
     "text": [
      "fail\n",
      "you have 3 chances left\n"
     ]
    },
    {
     "name": "stdin",
     "output_type": "stream",
     "text": [
      "Enter the number 9\n"
     ]
    },
    {
     "name": "stdout",
     "output_type": "stream",
     "text": [
      "fail\n",
      "you have 2 chances left\n"
     ]
    },
    {
     "name": "stdin",
     "output_type": "stream",
     "text": [
      "Enter the number 10\n"
     ]
    },
    {
     "name": "stdout",
     "output_type": "stream",
     "text": [
      "won\n"
     ]
    }
   ],
   "source": [
    "import random\n",
    "num1=random.randint(1,10)\n",
    "print(num1)\n",
    "chances=4\n",
    "for i in range(4):\n",
    "    num2=eval(input(\"Enter the number\"))\n",
    "    if num1==num2:\n",
    "        print(\"won\")\n",
    "        break\n",
    "    else:\n",
    "        print(\"fail\")\n",
    "        chances=chances-1\n",
    "        if chances==0:\n",
    "            print(\"Try again after 24 hours\")\n",
    "        else:\n",
    "            print(f\"you have {chances} chances left\")"
   ]
  },
  {
   "cell_type": "code",
   "execution_count": 23,
   "id": "7a687fd2-9be1-41cf-869e-4d1aceeccf44",
   "metadata": {},
   "outputs": [
    {
     "name": "stdout",
     "output_type": "stream",
     "text": [
      "7\n"
     ]
    },
    {
     "name": "stdin",
     "output_type": "stream",
     "text": [
      "Enter the number 5\n"
     ]
    },
    {
     "name": "stdout",
     "output_type": "stream",
     "text": [
      "fail\n",
      "you have 3 chances left\n"
     ]
    },
    {
     "name": "stdin",
     "output_type": "stream",
     "text": [
      "Enter the number 9\n"
     ]
    },
    {
     "name": "stdout",
     "output_type": "stream",
     "text": [
      "fail\n",
      "you have 2 chances left\n"
     ]
    },
    {
     "name": "stdin",
     "output_type": "stream",
     "text": [
      "Enter the number 7\n"
     ]
    },
    {
     "name": "stdout",
     "output_type": "stream",
     "text": [
      "won\n"
     ]
    }
   ],
   "source": [
    "import random\n",
    "num1=random.randint(1,10)\n",
    "print(num1)\n",
    "chances=4\n",
    "i=1\n",
    "while i<5:\n",
    "    num2=eval(input(\"Enter the number\"))\n",
    "    if num1==num2:\n",
    "        print(\"won\")\n",
    "        break\n",
    "    else:\n",
    "        print(\"fail\")\n",
    "        chances=chances-1\n",
    "        if chances==0:\n",
    "            print(\"Try again after 24 hours\")\n",
    "        else:\n",
    "            print(f\"you have {chances} chances left\")\n",
    "    i=i+1"
   ]
  },
  {
   "cell_type": "code",
   "execution_count": 25,
   "id": "b3203504-37fa-488f-a979-bf0b77ef7b21",
   "metadata": {},
   "outputs": [],
   "source": [
    "#11q)# wap ask the user get 5 random numbers\n",
    "# Get it is an even number or odd number\n",
    "# also count how many even numbers are there\n",
    "# and  count how many odd numbers are there\n",
    "\n",
    "# Idea\n",
    "# take two counters one even and odd count\n",
    "# For loop 5 times\n",
    "# each time take the random number\n",
    "# If condition\n",
    "#    True counter update\n",
    "# else\n",
    "#   Update the counter"
   ]
  },
  {
   "cell_type": "code",
   "execution_count": 36,
   "id": "151e80dc-1030-4e37-81c7-614374014d50",
   "metadata": {},
   "outputs": [
    {
     "name": "stdout",
     "output_type": "stream",
     "text": [
      "The total number of even number are: 4\n",
      "The total number of odd number are: 1\n"
     ]
    }
   ],
   "source": [
    "import random\n",
    "even_count,odd_count = 0,0\n",
    "for i in range(5):\n",
    "    num=random.randint(1,100)\n",
    "    if num%2==0:\n",
    "        even_count=even_count+1\n",
    "    else:\n",
    "        odd_count=odd_count+1\n",
    "\n",
    "print(f\"The total number of even number are: {even_count}\") \n",
    "print(f\"The total number of odd number are: {odd_count}\") "
   ]
  },
  {
   "cell_type": "code",
   "execution_count": 34,
   "id": "14dfb88e-3cd2-4d56-970e-e0204d62f652",
   "metadata": {},
   "outputs": [
    {
     "name": "stdout",
     "output_type": "stream",
     "text": [
      "The total number of even number are: 1\n",
      "The total number of odd number are: 4\n"
     ]
    }
   ],
   "source": [
    "even_count,odd_count = 0,0\n",
    "count=1\n",
    "while count<6:\n",
    "    num=random.randint(1,100)\n",
    "    if num%2==0:\n",
    "        even_count=even_count+1\n",
    "    else:\n",
    "        odd_count=odd_count+1\n",
    "    count=count+1\n",
    "print(f\"The total number of even number are: {even_count}\") \n",
    "print(f\"The total number of odd number are: {odd_count}\") "
   ]
  },
  {
   "cell_type": "code",
   "execution_count": 37,
   "id": "521506a5-993d-4ff3-9980-0408925ecb11",
   "metadata": {},
   "outputs": [],
   "source": [
    "#12Q) # wap ask the user get 5 random numbers\n",
    "# Get it is an even number or odd number\n",
    "# also count how many even numbers are there\n",
    "# and  count how many odd numbers are there\n",
    "# I want summ even numbers\n",
    "# I want summ odd numbers"
   ]
  },
  {
   "cell_type": "code",
   "execution_count": 38,
   "id": "0fd0a7ea-209b-438a-816c-2795331a5d7c",
   "metadata": {},
   "outputs": [
    {
     "name": "stdout",
     "output_type": "stream",
     "text": [
      "The summation of all even number are: 206\n",
      "The summation of all odd number are: 70\n"
     ]
    }
   ],
   "source": [
    "import random\n",
    "even_summ,odd_summ = 0,0\n",
    "for i in range(5):\n",
    "    num=random.randint(1,100)\n",
    "    if num%2==0:\n",
    "        even_summ=even_summ+num\n",
    "    else:\n",
    "        odd_summ=odd_summ+num\n",
    "print(f\"The summation of all even number are: {even_summ}\") \n",
    "print(f\"The summation of all odd number are: {odd_summ}\") \n"
   ]
  },
  {
   "cell_type": "code",
   "execution_count": 41,
   "id": "138848a2-f805-46da-9e5b-f21898a72f08",
   "metadata": {},
   "outputs": [
    {
     "name": "stdout",
     "output_type": "stream",
     "text": [
      "The summation of all even number are: 164\n",
      "The summation of all odd number are: 123\n"
     ]
    }
   ],
   "source": [
    "even_summ,odd_summ = 0,0\n",
    "i=1\n",
    "while i<6:\n",
    "    num=random.randint(1,100)\n",
    "    if num%2==0:\n",
    "        even_summ=even_summ+num\n",
    "    else:\n",
    "        odd_summ=odd_summ+num\n",
    "    i=i+1\n",
    "print(f\"The summation of all even number are: {even_summ}\") \n",
    "print(f\"The summation of all odd number are: {odd_summ}\") \n"
   ]
  },
  {
   "cell_type": "code",
   "execution_count": null,
   "id": "f1deeb05-7326-4ffe-949c-4a55f4160c97",
   "metadata": {},
   "outputs": [],
   "source": []
  }
 ],
 "metadata": {
  "kernelspec": {
   "display_name": "Python 3 (ipykernel)",
   "language": "python",
   "name": "python3"
  },
  "language_info": {
   "codemirror_mode": {
    "name": "ipython",
    "version": 3
   },
   "file_extension": ".py",
   "mimetype": "text/x-python",
   "name": "python",
   "nbconvert_exporter": "python",
   "pygments_lexer": "ipython3",
   "version": "3.11.7"
  }
 },
 "nbformat": 4,
 "nbformat_minor": 5
}
