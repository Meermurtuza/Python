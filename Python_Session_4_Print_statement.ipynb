{
 "cells": [
  {
   "cell_type": "code",
   "execution_count": 1,
   "id": "18efcd2a-1634-45db-bb27-f69d36724e85",
   "metadata": {},
   "outputs": [
    {
     "name": "stdout",
     "output_type": "stream",
     "text": [
      "10\n"
     ]
    }
   ],
   "source": [
    "print(10)"
   ]
  },
  {
   "cell_type": "code",
   "execution_count": 2,
   "id": "23d5e340-3d01-4006-b6bb-a5152b9945e5",
   "metadata": {},
   "outputs": [
    {
     "name": "stdout",
     "output_type": "stream",
     "text": [
      "python\n"
     ]
    }
   ],
   "source": [
    "print('python')"
   ]
  },
  {
   "cell_type": "code",
   "execution_count": 3,
   "id": "3b903d58-9fbc-44a8-bed0-2ac75e62e52b",
   "metadata": {},
   "outputs": [
    {
     "name": "stdout",
     "output_type": "stream",
     "text": [
      "10 20 30\n"
     ]
    }
   ],
   "source": [
    "print(10,20,30)"
   ]
  },
  {
   "cell_type": "code",
   "execution_count": 4,
   "id": "89e6aa4b-43f0-40a9-a4b7-ee819ff048fd",
   "metadata": {},
   "outputs": [
    {
     "name": "stdout",
     "output_type": "stream",
     "text": [
      "10 10.5 meer True\n"
     ]
    }
   ],
   "source": [
    "print(10,10.5,'meer',True)"
   ]
  },
  {
   "cell_type": "code",
   "execution_count": 5,
   "id": "1278350a-4dbb-4dc7-9135-c1c1aa997ea0",
   "metadata": {},
   "outputs": [
    {
     "name": "stdout",
     "output_type": "stream",
     "text": [
      "10 20\n"
     ]
    }
   ],
   "source": [
    "n1=10\n",
    "n2=20\n",
    "print(n1,n2)"
   ]
  },
  {
   "cell_type": "code",
   "execution_count": 6,
   "id": "ec8d1c01-3f34-42ed-8043-9b819e884e16",
   "metadata": {},
   "outputs": [
    {
     "name": "stdout",
     "output_type": "stream",
     "text": [
      "10\n",
      "20\n"
     ]
    },
    {
     "data": {
      "text/plain": [
       "(None, None)"
      ]
     },
     "execution_count": 6,
     "metadata": {},
     "output_type": "execute_result"
    }
   ],
   "source": [
    "print(10),print(20)"
   ]
  },
  {
   "cell_type": "code",
   "execution_count": 7,
   "id": "c63b16bf-a915-4bf5-87ec-ebc453ec6981",
   "metadata": {},
   "outputs": [
    {
     "name": "stdout",
     "output_type": "stream",
     "text": [
      "10 20 30\n"
     ]
    }
   ],
   "source": [
    "print(10,20,30)"
   ]
  },
  {
   "cell_type": "code",
   "execution_count": 8,
   "id": "31b6a0f3-b807-4d18-84ac-4fda6828ebde",
   "metadata": {},
   "outputs": [
    {
     "name": "stdout",
     "output_type": "stream",
     "text": [
      "10\n",
      "20\n"
     ]
    }
   ],
   "source": [
    "print(10)\n",
    "print(20)"
   ]
  },
  {
   "cell_type": "code",
   "execution_count": 9,
   "id": "c2ce1ca9-e22c-4e0f-8f5e-8e48680cfda0",
   "metadata": {},
   "outputs": [
    {
     "data": {
      "text/plain": [
       "10"
      ]
     },
     "execution_count": 9,
     "metadata": {},
     "output_type": "execute_result"
    }
   ],
   "source": [
    "n1=10\n",
    "n1"
   ]
  },
  {
   "cell_type": "code",
   "execution_count": 10,
   "id": "d9608049-e9bd-446a-9a42-01688e47df82",
   "metadata": {},
   "outputs": [
    {
     "data": {
      "text/plain": [
       "(10, 20)"
      ]
     },
     "execution_count": 10,
     "metadata": {},
     "output_type": "execute_result"
    }
   ],
   "source": [
    "n1= 10\n",
    "n2=20\n",
    "n1,n2"
   ]
  },
  {
   "cell_type": "code",
   "execution_count": 19,
   "id": "716a210a-d3d6-4af5-bc00-f9034efb17b2",
   "metadata": {},
   "outputs": [
    {
     "name": "stdout",
     "output_type": "stream",
     "text": [
      "The addition of 100 and 200 is 300\n"
     ]
    }
   ],
   "source": [
    "a=100\n",
    "b=200\n",
    "c=a+b\n",
    "\n",
    "#the addition of 10 and 20 is 30\n",
    "print(f\"The addition of {a} and {b} is {c}\")"
   ]
  },
  {
   "cell_type": "code",
   "execution_count": 16,
   "id": "a7f9dde5-0ff3-4931-b98f-f350163ee1f6",
   "metadata": {},
   "outputs": [
    {
     "name": "stdout",
     "output_type": "stream",
     "text": [
      "my name is python, im 10 year old and im from hyd\n"
     ]
    }
   ],
   "source": [
    "#read your name\n",
    "#read your age \n",
    "#read your city\n",
    "#My name is python, iam 10years old im from hyd\n",
    "name='python'\n",
    "age=10\n",
    "city='hyd'\n",
    "print(\"my name is {}, im {} year old and im from {}\".format(name,age,city))"
   ]
  },
  {
   "cell_type": "code",
   "execution_count": 17,
   "id": "31a0bab8-f6cf-40a3-bdee-428345642120",
   "metadata": {},
   "outputs": [
    {
     "name": "stdout",
     "output_type": "stream",
     "text": [
      "my name is python, I want to become data scientist in google\n"
     ]
    }
   ],
   "source": [
    "emp_name= 'meer'\n",
    "role='data scientist'\n",
    "company='google'\n",
    "print(\"my name is {}, I want to become {} in {}\".format(name,role,company))"
   ]
  },
  {
   "cell_type": "code",
   "execution_count": 20,
   "id": "6ed5754c-7329-45b2-9fcb-9019c465572a",
   "metadata": {},
   "outputs": [
    {
     "name": "stdout",
     "output_type": "stream",
     "text": [
      "my name is meer, I want to become data scientist in google\n"
     ]
    }
   ],
   "source": [
    "emp_name= 'meer'\n",
    "role='data scientist'\n",
    "company='google'\n",
    "print(f\"my name is {emp_name}, I want to become {role} in {company}\")"
   ]
  },
  {
   "cell_type": "code",
   "execution_count": 21,
   "id": "15492a25-e5f8-42a8-bae4-6ff06fa97c13",
   "metadata": {},
   "outputs": [
    {
     "name": "stdout",
     "output_type": "stream",
     "text": [
      "The addition of 100 and 200 is 300\n"
     ]
    }
   ],
   "source": [
    "a=100\n",
    "b=200\n",
    "c=a+b\n",
    "\n",
    "#the addition of 10 and 20 is 30\n",
    "print(\"The addition of {} and {} is {}\".format(a,b,c))"
   ]
  },
  {
   "cell_type": "code",
   "execution_count": 22,
   "id": "78f31517-57fd-4275-85e5-75c55fdab0f0",
   "metadata": {},
   "outputs": [
    {
     "name": "stdout",
     "output_type": "stream",
     "text": [
      "my name is python, im 10 year old and im from hyd\n"
     ]
    }
   ],
   "source": [
    "name='python'\n",
    "age=10\n",
    "city='hyd'\n",
    "print(f\"my name is {name}, im {age} year old and im from {city}\")"
   ]
  },
  {
   "cell_type": "code",
   "execution_count": 7,
   "id": "33421402-6c02-4b87-8801-2234bf145526",
   "metadata": {},
   "outputs": [
    {
     "name": "stdout",
     "output_type": "stream",
     "text": [
      "The average of 100 and 200 is:150.0\n"
     ]
    }
   ],
   "source": [
    "num1=100\n",
    "num2=200\n",
    "average = (num1 + num2)/2\n",
    "#the average of 100 and 200 is 150\n",
    "print(f\"The average of {num1} and {num2} is:{average}\")"
   ]
  },
  {
   "cell_type": "code",
   "execution_count": 6,
   "id": "34f74d79-78df-4481-89f3-0474081c805c",
   "metadata": {},
   "outputs": [
    {
     "name": "stdout",
     "output_type": "stream",
     "text": [
      "The average of 100 and 200 is:150.0\n"
     ]
    }
   ],
   "source": [
    "print(\"The average of {} and {} is:{}\".format(num1,num2,average))"
   ]
  },
  {
   "cell_type": "code",
   "execution_count": 17,
   "id": "925810c1-e968-4d63-8792-b310dca1d669",
   "metadata": {},
   "outputs": [
    {
     "name": "stdout",
     "output_type": "stream",
     "text": [
      "The area of circle 314.0\n",
      "The area of circle 314.0\n"
     ]
    }
   ],
   "source": [
    "# take the radius of circle \n",
    "# take the pi value 3.14 \n",
    "# Find the area of circle pi*r*r\n",
    "radius = 10\n",
    "pi = 3.14\n",
    "area = pi*radius*radius\n",
    "print(f\"The area of circle {area}\")\n",
    "print(\"The area of circle {}\".format(area))"
   ]
  },
  {
   "cell_type": "code",
   "execution_count": 24,
   "id": "8f643061-d303-41d2-82c7-d4319ea62a3a",
   "metadata": {},
   "outputs": [
    {
     "name": "stdout",
     "output_type": "stream",
     "text": [
      "The area of tringle is:100.0\n",
      "The area of tringle is:100.0\n"
     ]
    }
   ],
   "source": [
    "#take the base of tringle\n",
    "#take the height of tringle\n",
    "#area of tringle =1/2*base*height\n",
    "base = 10\n",
    "height = 20\n",
    "area =0.5*base*height\n",
    "print(\"The area of tringle is:{}\".format(area))\n",
    "print(f\"The area of tringle is:{area}\")# "
   ]
  },
  {
   "cell_type": "code",
   "execution_count": 34,
   "id": "0a671c4e-b05b-430e-b7a8-86dc96cc8680",
   "metadata": {},
   "outputs": [
    {
     "name": "stdout",
     "output_type": "stream",
     "text": [
      "The total bill is:1100.0\n"
     ]
    }
   ],
   "source": [
    "# take the bill amount \n",
    "# take the tip percentage\n",
    "# calculate tip_amount\n",
    "#calculate the total bill\n",
    "#print the total bill\n",
    "bill = 1000\n",
    "tip_per = 10\n",
    "total_tip = bill* tip_per/100\n",
    "total_bill = bill+ total_tip\n",
    "print(f\"The total bill is:{total_bill}\")"
   ]
  },
  {
   "cell_type": "code",
   "execution_count": 35,
   "id": "e6a0c5d3-144e-40f8-b5d8-4e7497fba765",
   "metadata": {},
   "outputs": [
    {
     "name": "stdout",
     "output_type": "stream",
     "text": [
      "10\n",
      "20\n"
     ]
    }
   ],
   "source": [
    "print(10)\n",
    "print(20)"
   ]
  },
  {
   "cell_type": "code",
   "execution_count": 36,
   "id": "02ac2603-43a0-452d-9314-3fe89840530e",
   "metadata": {},
   "outputs": [
    {
     "name": "stdout",
     "output_type": "stream",
     "text": [
      "10 20\n"
     ]
    }
   ],
   "source": [
    "print(10,20)"
   ]
  },
  {
   "cell_type": "markdown",
   "id": "b4933668-a964-412c-a062-2677340ad55d",
   "metadata": {},
   "source": [
    "$End$\n",
    "- combining multiple statements in a single line"
   ]
  },
  {
   "cell_type": "code",
   "execution_count": 41,
   "id": "04d3a718-12ef-471f-9772-b59ae6914ba8",
   "metadata": {},
   "outputs": [
    {
     "name": "stdout",
     "output_type": "stream",
     "text": [
      "10&20\n"
     ]
    }
   ],
   "source": [
    "print(10,end = '&')\n",
    "print(20)"
   ]
  },
  {
   "cell_type": "code",
   "execution_count": 44,
   "id": "3c08cf27-d894-497d-aa6c-5cf3c0455fb0",
   "metadata": {},
   "outputs": [
    {
     "name": "stdout",
     "output_type": "stream",
     "text": [
      "10,20&30\n"
     ]
    }
   ],
   "source": [
    "print(10,end=',')\n",
    "print(20,end='&')\n",
    "print(30)"
   ]
  },
  {
   "cell_type": "markdown",
   "id": "9abbfe05-5a52-4e09-b24f-044ba80ed95e",
   "metadata": {},
   "source": [
    "$sep$\n",
    "- Seprate the multiple values in a single print statement"
   ]
  },
  {
   "cell_type": "code",
   "execution_count": 47,
   "id": "c0f6bdd6-b4f0-43a7-96be-28405aa4d9f6",
   "metadata": {},
   "outputs": [
    {
     "name": "stdout",
     "output_type": "stream",
     "text": [
      "10---->20---->30\n"
     ]
    }
   ],
   "source": [
    "print(10,20,30,sep ='---->')"
   ]
  },
  {
   "cell_type": "code",
   "execution_count": 49,
   "id": "0319d194-fcdd-4f2b-b0f2-28e90759b136",
   "metadata": {},
   "outputs": [
    {
     "name": "stdout",
     "output_type": "stream",
     "text": [
      "the addition of 5 and 3 is:8\n"
     ]
    }
   ],
   "source": [
    "print (f\"the addition of {5} and {3} is:{5+3}\")"
   ]
  },
  {
   "cell_type": "code",
   "execution_count": 51,
   "id": "006f6d33-1f6b-42b5-a22c-9672c42d715a",
   "metadata": {},
   "outputs": [
    {
     "name": "stdout",
     "output_type": "stream",
     "text": [
      "the addition of 5 and 3 is:8\n"
     ]
    }
   ],
   "source": [
    "print(\"the addition of {} and {} is:{}\".format(5,3,5+3))"
   ]
  },
  {
   "cell_type": "code",
   "execution_count": 53,
   "id": "4fa17d1c-9ff9-4d6b-a618-edd357e71c95",
   "metadata": {},
   "outputs": [
    {
     "name": "stdout",
     "output_type": "stream",
     "text": [
      "the addition of 5 and3 is 8.\n"
     ]
    }
   ],
   "source": [
    "print (\"the addition of 5 and3 is 8\",'.',sep='')"
   ]
  },
  {
   "cell_type": "code",
   "execution_count": null,
   "id": "be871ad2-2b51-4db9-9edd-deac80ec0551",
   "metadata": {},
   "outputs": [],
   "source": []
  }
 ],
 "metadata": {
  "kernelspec": {
   "display_name": "Python 3 (ipykernel)",
   "language": "python",
   "name": "python3"
  },
  "language_info": {
   "codemirror_mode": {
    "name": "ipython",
    "version": 3
   },
   "file_extension": ".py",
   "mimetype": "text/x-python",
   "name": "python",
   "nbconvert_exporter": "python",
   "pygments_lexer": "ipython3",
   "version": "3.11.7"
  }
 },
 "nbformat": 4,
 "nbformat_minor": 5
}
