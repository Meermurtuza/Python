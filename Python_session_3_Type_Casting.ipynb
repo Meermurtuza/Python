{
 "cells": [
  {
   "cell_type": "markdown",
   "id": "e5277f83-6221-4fc5-b2e9-9424102a16e4",
   "metadata": {},
   "source": [
    "**Type Casting**\n",
    "- Convert on data type to another data type is called type casting\n",
    "- which means we want to convert\n",
    "- integer type to all other (float, str, bool) data type\n",
    "- float type to all other (int, str, bool) data type\n",
    "- str type to all other (int, float, bool) data type\n",
    "- boolean type to all other (int, str, float) data type"
   ]
  },
  {
   "cell_type": "markdown",
   "id": "1983c79d-88e7-4aa4-82e1-69c66f8f3811",
   "metadata": {},
   "source": [
    "int - float"
   ]
  },
  {
   "cell_type": "code",
   "execution_count": 1,
   "id": "dd3b2467-f008-4507-bc0f-4900208b4564",
   "metadata": {},
   "outputs": [
    {
     "data": {
      "text/plain": [
       "int"
      ]
     },
     "execution_count": 1,
     "metadata": {},
     "output_type": "execute_result"
    }
   ],
   "source": [
    "num = 100\n",
    "type (num)"
   ]
  },
  {
   "cell_type": "code",
   "execution_count": 2,
   "id": "b4d2b663-257f-4db6-beab-af0c76330983",
   "metadata": {},
   "outputs": [
    {
     "data": {
      "text/plain": [
       "100.0"
      ]
     },
     "execution_count": 2,
     "metadata": {},
     "output_type": "execute_result"
    }
   ],
   "source": [
    "float(num)"
   ]
  },
  {
   "cell_type": "code",
   "execution_count": 4,
   "id": "faeeb2cc-416d-4aee-9426-0fe340c2c9c9",
   "metadata": {},
   "outputs": [
    {
     "data": {
      "text/plain": [
       "float"
      ]
     },
     "execution_count": 4,
     "metadata": {},
     "output_type": "execute_result"
    }
   ],
   "source": [
    "float_num=float(num)\n",
    "type(float_num)"
   ]
  },
  {
   "cell_type": "code",
   "execution_count": 6,
   "id": "d8706f2e-dd91-487e-b4bc-11ec01dccd44",
   "metadata": {},
   "outputs": [
    {
     "data": {
      "text/plain": [
       "'100'"
      ]
     },
     "execution_count": 6,
     "metadata": {},
     "output_type": "execute_result"
    }
   ],
   "source": [
    "str_num=str(num)\n",
    "str_num"
   ]
  },
  {
   "cell_type": "code",
   "execution_count": 8,
   "id": "cc68f528-a2e9-4b2a-a4e0-b4e5fad26be0",
   "metadata": {},
   "outputs": [
    {
     "data": {
      "text/plain": [
       "str"
      ]
     },
     "execution_count": 8,
     "metadata": {},
     "output_type": "execute_result"
    }
   ],
   "source": [
    "type(str_num)"
   ]
  },
  {
   "cell_type": "code",
   "execution_count": 9,
   "id": "5907b588-1642-45e6-9779-e380a358a7f3",
   "metadata": {},
   "outputs": [
    {
     "data": {
      "text/plain": [
       "True"
      ]
     },
     "execution_count": 9,
     "metadata": {},
     "output_type": "execute_result"
    }
   ],
   "source": [
    "bool_num=bool(num)\n",
    "bool_num"
   ]
  },
  {
   "cell_type": "code",
   "execution_count": 11,
   "id": "bafdbd1e-5610-46cb-9e49-3867d17baced",
   "metadata": {},
   "outputs": [
    {
     "data": {
      "text/plain": [
       "bool"
      ]
     },
     "execution_count": 11,
     "metadata": {},
     "output_type": "execute_result"
    }
   ],
   "source": [
    "type(bool_num)"
   ]
  },
  {
   "cell_type": "code",
   "execution_count": 12,
   "id": "981613fd-a4c4-473a-abbf-e1de3f4bfd0d",
   "metadata": {},
   "outputs": [
    {
     "data": {
      "text/plain": [
       "(200.0, '200', True)"
      ]
     },
     "execution_count": 12,
     "metadata": {},
     "output_type": "execute_result"
    }
   ],
   "source": [
    "float(200),str(200),bool(200)"
   ]
  },
  {
   "cell_type": "code",
   "execution_count": 13,
   "id": "e8ee3ee9-b062-4051-87ef-05e2abed2fb6",
   "metadata": {},
   "outputs": [
    {
     "data": {
      "text/plain": [
       "(-200.0, '-200', True)"
      ]
     },
     "execution_count": 13,
     "metadata": {},
     "output_type": "execute_result"
    }
   ],
   "source": [
    "float(-200),str(-200),bool(-200)"
   ]
  },
  {
   "cell_type": "code",
   "execution_count": 14,
   "id": "520fef3d-27af-4a36-9100-71d7799acb5e",
   "metadata": {},
   "outputs": [
    {
     "data": {
      "text/plain": [
       "(0.0, '0', False)"
      ]
     },
     "execution_count": 14,
     "metadata": {},
     "output_type": "execute_result"
    }
   ],
   "source": [
    "float(0),str(0),bool(0)"
   ]
  },
  {
   "cell_type": "markdown",
   "id": "0568468b-06c7-44a3-bacb-ec06a31c493d",
   "metadata": {},
   "source": [
    "**Note**\n",
    "- Integer = 0 then only boolean convertion becomes false\n",
    "- otherwise for any positive number or any negative number it becomes True"
   ]
  },
  {
   "cell_type": "markdown",
   "id": "c5b7b374-b90e-45cb-93b6-b12b2bcaae4f",
   "metadata": {},
   "source": [
    "**Float to another data type**"
   ]
  },
  {
   "cell_type": "code",
   "execution_count": 16,
   "id": "dcda5a5a-e716-4a5c-82eb-6ec423ee6be3",
   "metadata": {},
   "outputs": [
    {
     "data": {
      "text/plain": [
       "True"
      ]
     },
     "execution_count": 16,
     "metadata": {},
     "output_type": "execute_result"
    }
   ],
   "source": [
    "int(200.5)#200\n",
    "str(200.5)#'200.5'\n",
    "bool(200.5)#True"
   ]
  },
  {
   "cell_type": "code",
   "execution_count": 17,
   "id": "cf821735-1039-4482-a52a-2c1cc9587249",
   "metadata": {},
   "outputs": [
    {
     "data": {
      "text/plain": [
       "(200, '200.5', True)"
      ]
     },
     "execution_count": 17,
     "metadata": {},
     "output_type": "execute_result"
    }
   ],
   "source": [
    "int(200.5),str(200.5),bool(200.5)#"
   ]
  },
  {
   "cell_type": "markdown",
   "id": "46791f28-0513-49bf-923d-e91ff4856750",
   "metadata": {},
   "source": [
    "**String to another data type**"
   ]
  },
  {
   "cell_type": "code",
   "execution_count": 18,
   "id": "825d28f8-60c2-4bc7-8584-b8de3423add6",
   "metadata": {},
   "outputs": [],
   "source": [
    "#case 1 \n",
    "str = 'apple'\n",
    "#case 2\n",
    "str1='10'\n",
    "#case 3\n",
    "str2='10.5'"
   ]
  },
  {
   "cell_type": "code",
   "execution_count": 19,
   "id": "b9f5e023-737a-4129-80d9-0e92441c85a5",
   "metadata": {},
   "outputs": [
    {
     "ename": "ValueError",
     "evalue": "invalid literal for int() with base 10: 'apple'",
     "output_type": "error",
     "traceback": [
      "\u001b[1;31m---------------------------------------------------------------------------\u001b[0m",
      "\u001b[1;31mValueError\u001b[0m                                Traceback (most recent call last)",
      "Cell \u001b[1;32mIn[19], line 1\u001b[0m\n\u001b[1;32m----> 1\u001b[0m \u001b[38;5;28mint\u001b[39m(\u001b[38;5;124m'\u001b[39m\u001b[38;5;124mapple\u001b[39m\u001b[38;5;124m'\u001b[39m)\n",
      "\u001b[1;31mValueError\u001b[0m: invalid literal for int() with base 10: 'apple'"
     ]
    }
   ],
   "source": [
    "int('apple')"
   ]
  },
  {
   "cell_type": "code",
   "execution_count": 20,
   "id": "c220e119-c507-4ee7-9061-c2bba2c13652",
   "metadata": {},
   "outputs": [
    {
     "ename": "ValueError",
     "evalue": "could not convert string to float: 'apple'",
     "output_type": "error",
     "traceback": [
      "\u001b[1;31m---------------------------------------------------------------------------\u001b[0m",
      "\u001b[1;31mValueError\u001b[0m                                Traceback (most recent call last)",
      "Cell \u001b[1;32mIn[20], line 1\u001b[0m\n\u001b[1;32m----> 1\u001b[0m \u001b[38;5;28mfloat\u001b[39m(\u001b[38;5;124m'\u001b[39m\u001b[38;5;124mapple\u001b[39m\u001b[38;5;124m'\u001b[39m)\n",
      "\u001b[1;31mValueError\u001b[0m: could not convert string to float: 'apple'"
     ]
    }
   ],
   "source": [
    "float('apple')"
   ]
  },
  {
   "cell_type": "code",
   "execution_count": 21,
   "id": "0bded8aa-8221-4f41-9e2f-6446a9c213dd",
   "metadata": {},
   "outputs": [
    {
     "data": {
      "text/plain": [
       "True"
      ]
     },
     "execution_count": 21,
     "metadata": {},
     "output_type": "execute_result"
    }
   ],
   "source": [
    "bool('apple')"
   ]
  },
  {
   "cell_type": "code",
   "execution_count": 22,
   "id": "fca96d3b-755a-4004-9a7b-3cb2841a6aaa",
   "metadata": {},
   "outputs": [
    {
     "data": {
      "text/plain": [
       "10"
      ]
     },
     "execution_count": 22,
     "metadata": {},
     "output_type": "execute_result"
    }
   ],
   "source": [
    "int('10')"
   ]
  },
  {
   "cell_type": "code",
   "execution_count": 23,
   "id": "82903089-4dd1-4b39-ac84-c6274f74a2f2",
   "metadata": {},
   "outputs": [
    {
     "data": {
      "text/plain": [
       "10.0"
      ]
     },
     "execution_count": 23,
     "metadata": {},
     "output_type": "execute_result"
    }
   ],
   "source": [
    "float('10')"
   ]
  },
  {
   "cell_type": "code",
   "execution_count": 24,
   "id": "e440d4f1-03b0-4748-98a5-8f4326479881",
   "metadata": {},
   "outputs": [
    {
     "data": {
      "text/plain": [
       "True"
      ]
     },
     "execution_count": 24,
     "metadata": {},
     "output_type": "execute_result"
    }
   ],
   "source": [
    "bool('10')"
   ]
  },
  {
   "cell_type": "code",
   "execution_count": 25,
   "id": "73b5642e-225c-4807-8248-f32acaf4a16f",
   "metadata": {},
   "outputs": [
    {
     "ename": "ValueError",
     "evalue": "invalid literal for int() with base 10: '10.5'",
     "output_type": "error",
     "traceback": [
      "\u001b[1;31m---------------------------------------------------------------------------\u001b[0m",
      "\u001b[1;31mValueError\u001b[0m                                Traceback (most recent call last)",
      "Cell \u001b[1;32mIn[25], line 2\u001b[0m\n\u001b[0;32m      1\u001b[0m \u001b[38;5;28mint\u001b[39m(\u001b[38;5;124m'\u001b[39m\u001b[38;5;124m10\u001b[39m\u001b[38;5;124m'\u001b[39m)\u001b[38;5;66;03m#pass\u001b[39;00m\n\u001b[1;32m----> 2\u001b[0m \u001b[38;5;28mint\u001b[39m(\u001b[38;5;124m'\u001b[39m\u001b[38;5;124m10.5\u001b[39m\u001b[38;5;124m'\u001b[39m)\u001b[38;5;66;03m#fail\u001b[39;00m\n\u001b[0;32m      3\u001b[0m \u001b[38;5;28mfloat\u001b[39m(\u001b[38;5;124m'\u001b[39m\u001b[38;5;124m10\u001b[39m\u001b[38;5;124m'\u001b[39m)\u001b[38;5;66;03m#pass\u001b[39;00m\n\u001b[0;32m      4\u001b[0m flaot(\u001b[38;5;124m'\u001b[39m\u001b[38;5;124m10.5\u001b[39m\u001b[38;5;124m'\u001b[39m)\n",
      "\u001b[1;31mValueError\u001b[0m: invalid literal for int() with base 10: '10.5'"
     ]
    }
   ],
   "source": [
    "int('10')#pass\n",
    "int('10.5')#fail\n",
    "float('10')#pass\n",
    "flaot('10.5')#pass"
   ]
  },
  {
   "cell_type": "markdown",
   "id": "5ddf32b2-c2a9-42fb-8654-af7877c7e29f",
   "metadata": {},
   "source": [
    "- float is the boss\n",
    "- float of any value either it is integer in string format\n",
    "- or float in string format will work\n",
    "- but integer will works only for integer in strings format\n",
    "- integer type casting will fail for float in strings format"
   ]
  },
  {
   "cell_type": "code",
   "execution_count": 26,
   "id": "6a17e327-7343-4e6f-80d2-3c2149bce0d9",
   "metadata": {},
   "outputs": [
    {
     "data": {
      "text/plain": [
       "True"
      ]
     },
     "execution_count": 26,
     "metadata": {},
     "output_type": "execute_result"
    }
   ],
   "source": [
    "bool('0')"
   ]
  },
  {
   "cell_type": "code",
   "execution_count": 27,
   "id": "422b733c-a1ad-4f3c-ad66-912cf4f150bd",
   "metadata": {},
   "outputs": [
    {
     "data": {
      "text/plain": [
       "False"
      ]
     },
     "execution_count": 27,
     "metadata": {},
     "output_type": "execute_result"
    }
   ],
   "source": [
    "bool(0)"
   ]
  },
  {
   "cell_type": "code",
   "execution_count": 28,
   "id": "e735cd4c-63fc-4d55-8914-bc47594f3f31",
   "metadata": {},
   "outputs": [
    {
     "data": {
      "text/plain": [
       "False"
      ]
     },
     "execution_count": 28,
     "metadata": {},
     "output_type": "execute_result"
    }
   ],
   "source": [
    "bool('')"
   ]
  },
  {
   "cell_type": "markdown",
   "id": "03dadb79-dc8e-4747-81a9-5a3f7b1ac23d",
   "metadata": {},
   "source": [
    "- something is there always true\n",
    "- nothing is there is false\n",
    "- false means nothing either 0 or empty string"
   ]
  },
  {
   "cell_type": "code",
   "execution_count": 33,
   "id": "02ba338e-c181-4206-8234-903006e546a5",
   "metadata": {},
   "outputs": [
    {
     "data": {
      "text/plain": [
       "1"
      ]
     },
     "execution_count": 33,
     "metadata": {},
     "output_type": "execute_result"
    }
   ],
   "source": [
    "#boolean to other data types\n",
    "int(True)"
   ]
  },
  {
   "cell_type": "code",
   "execution_count": 34,
   "id": "7b873e0e-d305-4818-af13-49b71508b8a1",
   "metadata": {},
   "outputs": [
    {
     "data": {
      "text/plain": [
       "1.0"
      ]
     },
     "execution_count": 34,
     "metadata": {},
     "output_type": "execute_result"
    }
   ],
   "source": [
    "float(True)"
   ]
  },
  {
   "cell_type": "code",
   "execution_count": 36,
   "id": "b6de159f-5c10-4850-81d5-b98db4cb91a2",
   "metadata": {},
   "outputs": [
    {
     "ename": "TypeError",
     "evalue": "'str' object is not callable",
     "output_type": "error",
     "traceback": [
      "\u001b[1;31m---------------------------------------------------------------------------\u001b[0m",
      "\u001b[1;31mTypeError\u001b[0m                                 Traceback (most recent call last)",
      "Cell \u001b[1;32mIn[36], line 1\u001b[0m\n\u001b[1;32m----> 1\u001b[0m \u001b[38;5;28mstr\u001b[39m(\u001b[38;5;124m'\u001b[39m\u001b[38;5;124mTrue\u001b[39m\u001b[38;5;124m'\u001b[39m)\n",
      "\u001b[1;31mTypeError\u001b[0m: 'str' object is not callable"
     ]
    }
   ],
   "source": [
    "str(True)"
   ]
  },
  {
   "cell_type": "code",
   "execution_count": 37,
   "id": "da216573-9aba-4d01-b19c-8469e8b29567",
   "metadata": {},
   "outputs": [
    {
     "data": {
      "text/plain": [
       "0"
      ]
     },
     "execution_count": 37,
     "metadata": {},
     "output_type": "execute_result"
    }
   ],
   "source": [
    "int(False)"
   ]
  },
  {
   "cell_type": "code",
   "execution_count": 38,
   "id": "dbecd3f4-ab84-475c-a2b6-0b9c36402cfc",
   "metadata": {},
   "outputs": [
    {
     "data": {
      "text/plain": [
       "0.0"
      ]
     },
     "execution_count": 38,
     "metadata": {},
     "output_type": "execute_result"
    }
   ],
   "source": [
    "float(False)"
   ]
  },
  {
   "cell_type": "code",
   "execution_count": 39,
   "id": "67dfb545-b568-4a99-a832-cb3adc676c67",
   "metadata": {},
   "outputs": [
    {
     "ename": "TypeError",
     "evalue": "'str' object is not callable",
     "output_type": "error",
     "traceback": [
      "\u001b[1;31m---------------------------------------------------------------------------\u001b[0m",
      "\u001b[1;31mTypeError\u001b[0m                                 Traceback (most recent call last)",
      "Cell \u001b[1;32mIn[39], line 1\u001b[0m\n\u001b[1;32m----> 1\u001b[0m \u001b[38;5;28mstr\u001b[39m(\u001b[38;5;28;01mFalse\u001b[39;00m)\n",
      "\u001b[1;31mTypeError\u001b[0m: 'str' object is not callable"
     ]
    }
   ],
   "source": [
    "str(False)"
   ]
  },
  {
   "cell_type": "code",
   "execution_count": null,
   "id": "d0fb94ad-de55-4c19-adce-7bc9f942015b",
   "metadata": {},
   "outputs": [],
   "source": [
    "#interger to other\n",
    "float(100)\n",
    "str(100)\n",
    "bool(100)\n",
    "\n",
    "#float to other\n",
    "int(100.5)\n",
    "str(100.5)\n",
    "bool(100.5)\n",
    "\n",
    "#str to other\n",
    "int('apple')#error\n",
    "float('apple')#error\n",
    "bool('apple')#pass\n",
    "\n",
    "int('10')\n",
    "float('10')\n",
    "bool('10')\n",
    "\n",
    "int('10.5')#error\n",
    "float('10.5')\n",
    "bool('10.5)"
   ]
  }
 ],
 "metadata": {
  "kernelspec": {
   "display_name": "Python 3 (ipykernel)",
   "language": "python",
   "name": "python3"
  },
  "language_info": {
   "codemirror_mode": {
    "name": "ipython",
    "version": 3
   },
   "file_extension": ".py",
   "mimetype": "text/x-python",
   "name": "python",
   "nbconvert_exporter": "python",
   "pygments_lexer": "ipython3",
   "version": "3.11.7"
  }
 },
 "nbformat": 4,
 "nbformat_minor": 5
}
