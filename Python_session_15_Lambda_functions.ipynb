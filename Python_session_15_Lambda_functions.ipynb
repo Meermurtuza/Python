{
 "cells": [
  {
   "cell_type": "markdown",
   "id": "f4cb4a1b-c0ed-4964-b35b-d6f40ffaed93",
   "metadata": {},
   "source": [
    "**lambda functions**\n",
    "- almbda functions represents finction concept\n",
    "- but we can write a single line\n",
    "- like list comprehension, lambda functions similar only\n",
    "- it will decrease the time complexity\n",
    "- always remember if we use many foor loops or many conditions using multiple line, the"
   ]
  },
  {
   "cell_type": "code",
   "execution_count": 1,
   "id": "071047f9-02dc-421a-a8d4-22aea77cc345",
   "metadata": {},
   "outputs": [
    {
     "data": {
      "text/plain": [
       "20"
      ]
     },
     "execution_count": 1,
     "metadata": {},
     "output_type": "execute_result"
    }
   ],
   "source": [
    "def summ(n):\n",
    "    return(n+10)\n",
    "summ(10)"
   ]
  },
  {
   "cell_type": "markdown",
   "id": "7033ec01-6a33-4a35-bbe6-502473c8a20b",
   "metadata": {},
   "source": [
    "$Pattern-1$\n",
    "\n",
    "**Function with only one argument**\n",
    "- function name\n",
    "- argument name\n",
    "- return output"
   ]
  },
  {
   "cell_type": "code",
   "execution_count": 2,
   "id": "b54f47ac-1580-4747-922c-f71cdbd591e1",
   "metadata": {},
   "outputs": [],
   "source": [
    "#syntax: <function name>= lambda <argument name>:<return output>\n",
    "def summ(n):\n",
    "    return(n+10)\n",
    "summ(10)\n",
    "# function name= summ\n",
    "# args= n\n",
    "# return = n+10"
   ]
  },
  {
   "cell_type": "code",
   "execution_count": 5,
   "id": "bf9f13ed-0d22-48b9-a5a8-42164939fca7",
   "metadata": {},
   "outputs": [
    {
     "data": {
      "text/plain": [
       "110"
      ]
     },
     "execution_count": 5,
     "metadata": {},
     "output_type": "execute_result"
    }
   ],
   "source": [
    "summ = lambda n : n+10\n",
    "summ(100)"
   ]
  },
  {
   "cell_type": "code",
   "execution_count": 6,
   "id": "33c4cda2-9237-45ba-8642-2c62ed1e35a7",
   "metadata": {},
   "outputs": [
    {
     "data": {
      "text/plain": [
       "1000"
      ]
     },
     "execution_count": 6,
     "metadata": {},
     "output_type": "execute_result"
    }
   ],
   "source": [
    "def cube(n):\n",
    "    return(n**3)\n",
    "cube(10)"
   ]
  },
  {
   "cell_type": "code",
   "execution_count": 8,
   "id": "3890f7b5-d004-4384-ac41-ff28d8fe5d33",
   "metadata": {},
   "outputs": [
    {
     "data": {
      "text/plain": [
       "8000"
      ]
     },
     "execution_count": 8,
     "metadata": {},
     "output_type": "execute_result"
    }
   ],
   "source": [
    "cube = lambda n:n**3\n",
    "cube(20)"
   ]
  },
  {
   "cell_type": "markdown",
   "id": "62ab0252-9d90-4d36-aafd-e6461f75fc1a",
   "metadata": {},
   "source": [
    "$Pattern-2$\n",
    "\n",
    "**Functions with two arguments**\n",
    "\n"
   ]
  },
  {
   "cell_type": "code",
   "execution_count": 10,
   "id": "9f075ee2-2c5f-4ebf-bc00-d206a6c0388f",
   "metadata": {},
   "outputs": [
    {
     "data": {
      "text/plain": [
       "100"
      ]
     },
     "execution_count": 10,
     "metadata": {},
     "output_type": "execute_result"
    }
   ],
   "source": [
    "# sytan : <func name> = lambda <args1>,<args2>:<return output>\n",
    "def add (a,b):\n",
    "    return(a+b)\n",
    "add(50,50)"
   ]
  },
  {
   "cell_type": "code",
   "execution_count": 11,
   "id": "867150bb-a59f-44da-9a36-011064b1c514",
   "metadata": {},
   "outputs": [
    {
     "data": {
      "text/plain": [
       "100"
      ]
     },
     "execution_count": 11,
     "metadata": {},
     "output_type": "execute_result"
    }
   ],
   "source": [
    "add = lambda a,b:a+b\n",
    "add(50,50)"
   ]
  },
  {
   "cell_type": "code",
   "execution_count": 12,
   "id": "8afb8b7f-3848-43dc-9e63-2f7a41c4cfd7",
   "metadata": {},
   "outputs": [
    {
     "data": {
      "text/plain": [
       "5.0"
      ]
     },
     "execution_count": 12,
     "metadata": {},
     "output_type": "execute_result"
    }
   ],
   "source": [
    "def avg(a,b,c):\n",
    "    return((a+b+c)/3)\n",
    "avg(5,5,5)"
   ]
  },
  {
   "cell_type": "code",
   "execution_count": 13,
   "id": "91ead02a-afec-4981-b8e9-336623ff94f2",
   "metadata": {},
   "outputs": [
    {
     "data": {
      "text/plain": [
       "10.0"
      ]
     },
     "execution_count": 13,
     "metadata": {},
     "output_type": "execute_result"
    }
   ],
   "source": [
    "avg=lambda a,b,c:(a+b+c)/3\n",
    "avg(10,10,10)"
   ]
  },
  {
   "cell_type": "markdown",
   "id": "75fa94ff-e420-41bf-ab2c-24288864cf50",
   "metadata": {},
   "source": [
    "$Pattern-3$\n",
    "\n",
    "**Default arguments**"
   ]
  },
  {
   "cell_type": "code",
   "execution_count": 18,
   "id": "dc11af8e-a20d-4c63-bf94-c025807a0e70",
   "metadata": {},
   "outputs": [
    {
     "data": {
      "text/plain": [
       "333.33"
      ]
     },
     "execution_count": 18,
     "metadata": {},
     "output_type": "execute_result"
    }
   ],
   "source": [
    "avg=lambda a,b,c=500:round((a+b+c)/3,2)\n",
    "avg(100,400)"
   ]
  },
  {
   "cell_type": "markdown",
   "id": "cb4b40f0-56b4-40ea-8439-06f49a6819e4",
   "metadata": {},
   "source": [
    "$Pattern-4$\n",
    "\n",
    "**if-else**"
   ]
  },
  {
   "cell_type": "code",
   "execution_count": 19,
   "id": "9a0d09e0-572b-4648-9673-32f6633a1d2f",
   "metadata": {},
   "outputs": [
    {
     "data": {
      "text/plain": [
       "20"
      ]
     },
     "execution_count": 19,
     "metadata": {},
     "output_type": "execute_result"
    }
   ],
   "source": [
    "def max(a,b):\n",
    "    if a>b:\n",
    "        return(a)\n",
    "    else:\n",
    "        return(b)\n",
    "max(10,20)"
   ]
  },
  {
   "cell_type": "code",
   "execution_count": 25,
   "id": "ecb0de21-a1a9-4e8f-8609-04c807b6d4db",
   "metadata": {},
   "outputs": [
    {
     "data": {
      "text/plain": [
       "20"
      ]
     },
     "execution_count": 25,
     "metadata": {},
     "output_type": "execute_result"
    }
   ],
   "source": [
    "max= lambda a,b:a if a>b else b\n",
    "max(10,20)"
   ]
  },
  {
   "cell_type": "markdown",
   "id": "5b0a37f7-826b-400d-8b0e-65b4284fecf8",
   "metadata": {},
   "source": [
    "$Pattern-5$\n",
    "\n",
    "**Using list**"
   ]
  },
  {
   "cell_type": "code",
   "execution_count": 1,
   "id": "535c53b0-4658-4093-8380-5cfcb9f960e4",
   "metadata": {},
   "outputs": [
    {
     "data": {
      "text/plain": [
       "['Hyd', 'Chennai', 'Mumbai']"
      ]
     },
     "execution_count": 1,
     "metadata": {},
     "output_type": "execute_result"
    }
   ],
   "source": [
    "l=['hyd','chennai','mumbai']\n",
    "# op ['Hyd','Chennai','Mumbai']\n",
    "op=[]\n",
    "for i in l:\n",
    "    op.append(i.capitalize())\n",
    "op"
   ]
  },
  {
   "cell_type": "markdown",
   "id": "3d6da3c3-33b1-48cf-918c-48d41d179732",
   "metadata": {},
   "source": [
    "**Map**\n",
    "\n",
    "- the function and iterator are available "
   ]
  },
  {
   "cell_type": "code",
   "execution_count": 6,
   "id": "9199e2a9-7b9d-495b-8a56-bd54eaf02203",
   "metadata": {},
   "outputs": [
    {
     "data": {
      "text/plain": [
       "(<function __main__.<lambda>(i)>, ['hyd', 'chennai', 'mumbai'])"
      ]
     },
     "execution_count": 6,
     "metadata": {},
     "output_type": "execute_result"
    }
   ],
   "source": [
    "l=['hyd','chennai','mumbai']\n",
    "lambda i:i.capitalize(),l"
   ]
  },
  {
   "cell_type": "code",
   "execution_count": 7,
   "id": "22ec342f-5089-43ad-9c6c-305771011484",
   "metadata": {},
   "outputs": [
    {
     "data": {
      "text/plain": [
       "<map at 0x1c81359b9a0>"
      ]
     },
     "execution_count": 7,
     "metadata": {},
     "output_type": "execute_result"
    }
   ],
   "source": [
    "l=['hyd','chennai','mumbai']\n",
    "map(lambda i:i.capitalize(),l)"
   ]
  },
  {
   "cell_type": "code",
   "execution_count": 10,
   "id": "a31a22ba-6676-44c9-9715-4ddc774adacb",
   "metadata": {},
   "outputs": [
    {
     "data": {
      "text/plain": [
       "('Hyd', 'Chennai', 'Mumbai')"
      ]
     },
     "execution_count": 10,
     "metadata": {},
     "output_type": "execute_result"
    }
   ],
   "source": [
    "# apply the list to see the value \n",
    "l=['hyd','chennai','mumbai']\n",
    "tuple(map(lambda i:i.capitalize(),l))"
   ]
  },
  {
   "cell_type": "code",
   "execution_count": 11,
   "id": "08b1a723-6a46-419b-87da-0ae22baf592d",
   "metadata": {},
   "outputs": [
    {
     "data": {
      "text/plain": [
       "['Hyd', 'Chennai', 'Mumbai']"
      ]
     },
     "execution_count": 11,
     "metadata": {},
     "output_type": "execute_result"
    }
   ],
   "source": [
    "l=['hyd','chennai','mumbai']\n",
    "list(map(lambda i:i.capitalize(),l))"
   ]
  },
  {
   "cell_type": "markdown",
   "id": "6ca66566-0a65-434b-8758-dedb0255f0f1",
   "metadata": {},
   "source": [
    "<!-- step-1: write normal expression\n",
    "     lambda <var>:<op>===>lambda i:i.cpatalize()\n",
    " step-2: add the iterator\n",
    "     lambda <var>:<op>===>lambda i:i.cpatalize(),list1\n",
    " step-3: map the both\n",
    "     lambda <var>:<op>===>map(lambda i:i.cpatalize()list1)\n",
    " step-4: save the value in list\n",
    "     lambda <var>:<op>===>list(map(lambda i:i.cpatalize()list1))\n",
    " Note: Those who are getting list object not callable use tuple -->"
   ]
  },
  {
   "cell_type": "markdown",
   "id": "601c1321-8d0b-454c-aa0f-2b27b4778f37",
   "metadata": {},
   "source": [
    "- Case-1: Function call with one argument\n",
    "    - lambda arguments : Expression\n",
    "    - lambda varible : return output\n",
    "- Case-2: Function call with Two argumetns\n",
    "    - lambda args1, args2 : Expression\n",
    "    - lambda va1, var2 : return output\n",
    "- Case-3: Function call with Default arguments\n",
    "    - lambda args1, args2 = 500 : Expression\n",
    "    - lambda va1, var2 = 500 : return output\n",
    "- Case-4: Function call with two arguments and if else statement\n",
    "    -  lambda args1, args2 : Expression\n",
    "    - lambda va1, var2 : if_output if_con else els_op forloop\n",
    "- Case-5: lambda operations using list\n",
    "    - lambda arg: Expression,iterator\n",
    "    - map(lambda var: operation,list)\n",
    "    - list(map(lambda var: operation,list))"
   ]
  },
  {
   "cell_type": "code",
   "execution_count": 8,
   "id": "54f8c978-6e6b-4821-9979-e2d6fc166d2d",
   "metadata": {},
   "outputs": [
    {
     "data": {
      "text/plain": [
       "['HYD', 'CHENNAI', 'MUMBAI']"
      ]
     },
     "execution_count": 8,
     "metadata": {},
     "output_type": "execute_result"
    }
   ],
   "source": [
    "l = ['hyd','chennai','mumbai']\n",
    "# op =['HYD','CHENNAI','MUMBAI']\n",
    "# for i in l:\n",
    "#     print(i.upper())\n",
    "\n",
    "list(map(lambda i:i.upper(),l))"
   ]
  },
  {
   "cell_type": "markdown",
   "id": "b3b8ebde-f487-4147-9a75-4f4fe2069b0e",
   "metadata": {},
   "source": [
    "**Filter**\n",
    "\n",
    "- when ever if conditions are there use filter "
   ]
  },
  {
   "cell_type": "code",
   "execution_count": 15,
   "id": "d50d9a48-1a32-41d4-a78d-f299ecc3b06c",
   "metadata": {},
   "outputs": [
    {
     "data": {
      "text/plain": [
       "[False, True, True, False]"
      ]
     },
     "execution_count": 15,
     "metadata": {},
     "output_type": "execute_result"
    }
   ],
   "source": [
    "l=['hyd','che#nnai','mum#bai','blr']\n",
    "# op=['che#nnai','mum#bai']\n",
    "# for i in l:\n",
    "#     if '#' in i:\n",
    "#         print(i)\n",
    "\n",
    "# mistake-1 list(map(lambda i: if '#' in i,l))\n",
    "#            do not write if\n",
    "\n",
    "list(map(lambda i: '#' in i,l))\n"
   ]
  },
  {
   "cell_type": "code",
   "execution_count": 16,
   "id": "20e8d2cc-8424-4298-960e-cc3aec15f318",
   "metadata": {},
   "outputs": [
    {
     "data": {
      "text/plain": [
       "['che#nnai', 'mum#bai']"
      ]
     },
     "execution_count": 16,
     "metadata": {},
     "output_type": "execute_result"
    }
   ],
   "source": [
    "list(filter(lambda i: '#' in i,l))"
   ]
  },
  {
   "cell_type": "code",
   "execution_count": 21,
   "id": "36c93803-c6a2-4114-b3c8-0a2a9e933ce8",
   "metadata": {},
   "outputs": [
    {
     "data": {
      "text/plain": [
       "[2, 6]"
      ]
     },
     "execution_count": 21,
     "metadata": {},
     "output_type": "execute_result"
    }
   ],
   "source": [
    "# numbers = [1,3,2,7,6]\n",
    "# op=[2,6]\n",
    "\n",
    "# numbers = [1,3,2,7,6]\n",
    "# for i in numbers:\n",
    "#     if i%2==0:\n",
    "#         print(i)\n",
    "\n",
    "list(filter(lambda i: i%2==0 ,numbers))"
   ]
  },
  {
   "cell_type": "code",
   "execution_count": 28,
   "id": "111ae964-61e1-4ae6-bc68-9e75faf60d83",
   "metadata": {},
   "outputs": [
    {
     "name": "stdout",
     "output_type": "stream",
     "text": [
      "15\n"
     ]
    }
   ],
   "source": [
    "l1=[1,2,3,4,5]\n",
    "# I want sum of the elements in list\n",
    "\n",
    "# Method-1: sum\n",
    "sum(l1)\n",
    "\n",
    "# Method-2: with out summ\n",
    "summ=0\n",
    "for i in l1:\n",
    "    summ=summ+i\n",
    "print(summ)"
   ]
  },
  {
   "cell_type": "markdown",
   "id": "8d6cc283-7520-47ed-b39b-f1620239d4d8",
   "metadata": {},
   "source": [
    "**Reduce**\n",
    "\n",
    "- All inbuild functions can achieve by Reduce\n",
    "- Reduce is available from functools package\n",
    "- level-1: reduce(lambda summ,i:summ+i,l1)\n",
    "- level-2: filter(lambda summ,i:summ+i,l1,initial_value)\n",
    "- For example we want intialize summ=0 then we choose level-1\n",
    "- For example we want start with other than zero then we choose level-2"
   ]
  },
  {
   "cell_type": "code",
   "execution_count": 41,
   "id": "d3707081-92bb-42be-abda-acde8f8db89f",
   "metadata": {},
   "outputs": [
    {
     "data": {
      "text/plain": [
       "['GenericAlias',\n",
       " 'RLock',\n",
       " 'WRAPPER_ASSIGNMENTS',\n",
       " 'WRAPPER_UPDATES',\n",
       " '_CacheInfo',\n",
       " '_HashedSeq',\n",
       " '_NOT_FOUND',\n",
       " '__all__',\n",
       " '__builtins__',\n",
       " '__cached__',\n",
       " '__doc__',\n",
       " '__file__',\n",
       " '__loader__',\n",
       " '__name__',\n",
       " '__package__',\n",
       " '__spec__',\n",
       " '_c3_merge',\n",
       " '_c3_mro',\n",
       " '_compose_mro',\n",
       " '_convert',\n",
       " '_find_impl',\n",
       " '_ge_from_gt',\n",
       " '_ge_from_le',\n",
       " '_ge_from_lt',\n",
       " '_gt_from_ge',\n",
       " '_gt_from_le',\n",
       " '_gt_from_lt',\n",
       " '_initial_missing',\n",
       " '_le_from_ge',\n",
       " '_le_from_gt',\n",
       " '_le_from_lt',\n",
       " '_lru_cache_wrapper',\n",
       " '_lt_from_ge',\n",
       " '_lt_from_gt',\n",
       " '_lt_from_le',\n",
       " '_make_key',\n",
       " '_unwrap_partial',\n",
       " 'cache',\n",
       " 'cached_property',\n",
       " 'cmp_to_key',\n",
       " 'get_cache_token',\n",
       " 'lru_cache',\n",
       " 'namedtuple',\n",
       " 'partial',\n",
       " 'partialmethod',\n",
       " 'recursive_repr',\n",
       " 'reduce',\n",
       " 'singledispatch',\n",
       " 'singledispatchmethod',\n",
       " 'total_ordering',\n",
       " 'update_wrapper',\n",
       " 'wraps']"
      ]
     },
     "execution_count": 41,
     "metadata": {},
     "output_type": "execute_result"
    }
   ],
   "source": [
    "import functools\n",
    "dir(functools)"
   ]
  },
  {
   "cell_type": "code",
   "execution_count": 43,
   "id": "3e81e9b4-8b0f-4afc-b90f-7080b5d7d7a3",
   "metadata": {},
   "outputs": [
    {
     "data": {
      "text/plain": [
       "15"
      ]
     },
     "execution_count": 43,
     "metadata": {},
     "output_type": "execute_result"
    }
   ],
   "source": [
    "import functools\n",
    "l1=[1,2,3,4,5]\n",
    "functools.reduce(lambda summ,i:summ+i,l1)"
   ]
  },
  {
   "cell_type": "code",
   "execution_count": 44,
   "id": "f5e92c03-cb0f-4d5e-bcc7-73eae9a661e7",
   "metadata": {},
   "outputs": [
    {
     "data": {
      "text/plain": [
       "15"
      ]
     },
     "execution_count": 44,
     "metadata": {},
     "output_type": "execute_result"
    }
   ],
   "source": [
    "# import functools\n",
    "# functools.reduce\n",
    "\n",
    "from functools import reduce\n",
    "l1=[1,2,3,4,5]\n",
    "reduce(lambda summ,i:summ+i,l1)"
   ]
  },
  {
   "cell_type": "code",
   "execution_count": 45,
   "id": "cd21b382-5ce0-465e-9c80-494e65766d7c",
   "metadata": {},
   "outputs": [
    {
     "data": {
      "text/plain": [
       "15"
      ]
     },
     "execution_count": 45,
     "metadata": {},
     "output_type": "execute_result"
    }
   ],
   "source": [
    "import functools as ft\n",
    "ft.reduce(lambda summ,i:summ+i,l1)"
   ]
  },
  {
   "cell_type": "code",
   "execution_count": 54,
   "id": "60f6dc53-9caa-42a9-8841-47fd609b3862",
   "metadata": {},
   "outputs": [
    {
     "data": {
      "text/plain": [
       "120"
      ]
     },
     "execution_count": 54,
     "metadata": {},
     "output_type": "execute_result"
    }
   ],
   "source": [
    "import functools\n",
    "l1=[1,2,3,4,5]\n",
    "functools.reduce(lambda mul,i:mul*i,l1)"
   ]
  },
  {
   "cell_type": "code",
   "execution_count": 55,
   "id": "e6878c54-93c8-4c50-bb83-43e5c6f9ffee",
   "metadata": {},
   "outputs": [
    {
     "data": {
      "text/plain": [
       "<module 'functools' from 'C:\\\\Users\\\\Admin\\\\anaconda3\\\\Lib\\\\functools.py'>"
      ]
     },
     "execution_count": 55,
     "metadata": {},
     "output_type": "execute_result"
    }
   ],
   "source": [
    "functools"
   ]
  },
  {
   "cell_type": "code",
   "execution_count": null,
   "id": "fd8d1569-0ea9-4503-9d2a-e71fcf019f0b",
   "metadata": {},
   "outputs": [],
   "source": [
    "# maximun value using reduce\n",
    "\n",
    "# map: direct attack\n",
    "# filter : if condition\n",
    "# reduce : inbuild functions some intialization\n",
    "\n",
    "# detailed word document with example"
   ]
  }
 ],
 "metadata": {
  "kernelspec": {
   "display_name": "Python 3 (ipykernel)",
   "language": "python",
   "name": "python3"
  },
  "language_info": {
   "codemirror_mode": {
    "name": "ipython",
    "version": 3
   },
   "file_extension": ".py",
   "mimetype": "text/x-python",
   "name": "python",
   "nbconvert_exporter": "python",
   "pygments_lexer": "ipython3",
   "version": "3.11.7"
  }
 },
 "nbformat": 4,
 "nbformat_minor": 5
}
