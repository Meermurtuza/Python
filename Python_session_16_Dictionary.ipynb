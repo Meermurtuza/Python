{
 "cells": [
  {
   "cell_type": "markdown",
   "id": "c4b3dc0e-41af-460a-9851-8ecf7122a80d",
   "metadata": {},
   "source": [
    "**Dictionary**\n",
    "\n",
    "- We aready seen many data types\n",
    "- String\n",
    "- List\n",
    "- Tuple\n",
    "- Set\n",
    "- Dictionary\n",
    "- int\n",
    "- float\n",
    "- bool\n",
    "- complex\n",
    "- range\n",
    "- bytes"
   ]
  },
  {
   "cell_type": "code",
   "execution_count": null,
   "id": "c31e2497-2403-47ec-be30-40d20afc37a2",
   "metadata": {},
   "outputs": [],
   "source": [
    "string=''\n",
    "list=[]\n",
    "tuple=()\n",
    "set={}\n",
    "dictionary={key:value}"
   ]
  },
  {
   "cell_type": "code",
   "execution_count": 1,
   "id": "4d685de4-a3fc-4245-977e-a3eab18ea4dd",
   "metadata": {},
   "outputs": [
    {
     "name": "stdout",
     "output_type": "stream",
     "text": [
      "Ramesh\n",
      "suresh\n",
      "satish\n"
     ]
    }
   ],
   "source": [
    "names=['Ramesh','suresh','satish']\n",
    "age=[20,25,30]\n",
    "\n",
    "for i in names:\n",
    "    print(i)"
   ]
  },
  {
   "cell_type": "code",
   "execution_count": 2,
   "id": "0cc3fe4c-ba17-485c-bc8e-234006dfd373",
   "metadata": {},
   "outputs": [
    {
     "name": "stdout",
     "output_type": "stream",
     "text": [
      "20\n",
      "25\n",
      "30\n"
     ]
    }
   ],
   "source": [
    "for i in age:\n",
    "    print(i)"
   ]
  },
  {
   "cell_type": "markdown",
   "id": "73d71196-c57c-4ae8-bb2b-e082928e344b",
   "metadata": {},
   "source": [
    "**Zip**"
   ]
  },
  {
   "cell_type": "code",
   "execution_count": 7,
   "id": "f296f65c-c69b-452d-8e9a-afce604c52a6",
   "metadata": {},
   "outputs": [
    {
     "name": "stdout",
     "output_type": "stream",
     "text": [
      "Ramesh 20\n",
      "suresh 25\n",
      "satish 30\n"
     ]
    }
   ],
   "source": [
    "names=['Ramesh','suresh','satish']\n",
    "age=[20,25,30]\n",
    "for i,j in zip(names,age):\n",
    "    print(i,j)"
   ]
  },
  {
   "cell_type": "code",
   "execution_count": 8,
   "id": "b8c18995-3c27-4824-850a-629a84e887ac",
   "metadata": {},
   "outputs": [
    {
     "data": {
      "text/plain": [
       "[('Ramesh', 20), ('suresh', 25), ('satish', 30)]"
      ]
     },
     "execution_count": 8,
     "metadata": {},
     "output_type": "execute_result"
    }
   ],
   "source": [
    "list(zip(names,age))"
   ]
  },
  {
   "cell_type": "code",
   "execution_count": null,
   "id": "9776a504-9a7c-44e1-a3b2-b62de2c061d2",
   "metadata": {},
   "outputs": [],
   "source": [
    "dict1={<key>:<value>}\n",
    "\n",
    "names=['Ramesh','suresh','satish']\n",
    "age=[20,25,30]\n",
    "'Ramesh' is the key ======== 20 its related value\n",
    "dict1={'Ramesh':20,'suresh':25,'satish':30}"
   ]
  },
  {
   "cell_type": "code",
   "execution_count": 9,
   "id": "ed520720-1116-4146-96ed-058c2a04e102",
   "metadata": {},
   "outputs": [
    {
     "data": {
      "text/plain": [
       "dict"
      ]
     },
     "execution_count": 9,
     "metadata": {},
     "output_type": "execute_result"
    }
   ],
   "source": [
    "dict1={'Ramesh':20,'suresh':25,'satish':30}\n",
    "type(dict1)"
   ]
  },
  {
   "cell_type": "code",
   "execution_count": null,
   "id": "490839f7-f91f-42b5-b19f-0065f95efefc",
   "metadata": {},
   "outputs": [],
   "source": [
    "# if the list are different length?\n",
    "# if both list are different length\n",
    "# zip will not work"
   ]
  },
  {
   "cell_type": "markdown",
   "id": "32f84ce6-5900-4e1c-865d-e979d4e8acdc",
   "metadata": {},
   "source": [
    "- initializaion\n",
    "- type\n",
    "- max\n",
    "- min\n",
    "- len\n",
    "- reversed\n",
    "- sorted\n",
    "- in\n",
    "- index\n",
    "- mutable\n",
    "- concate\n",
    "- slicing\n",
    "- methods"
   ]
  },
  {
   "cell_type": "markdown",
   "id": "e9885dea-2940-4737-a7c1-bdfd50e9143d",
   "metadata": {},
   "source": [
    "**Create all type of dictionaries**"
   ]
  },
  {
   "cell_type": "code",
   "execution_count": null,
   "id": "5d96aa3b-f3a2-49b2-a5d6-c607c750d7b2",
   "metadata": {},
   "outputs": [],
   "source": [
    "d1={'Manish':25,'subham':20,'govind':15}\n",
    "d2={'Manish':'25','subham':'20','govind':'15'}\n",
    "d3={25:'Manish',20:'subham',15:'govind'}\n",
    "d4={25:15}\n",
    "d5={'Fruits':['apple','cherry']}\n",
    "d6={['apple','cherry']:'Fruits'}\n",
    "d7={('apple','cherry'):'Fruits'}\n",
    "d8={'Ajay':25,'Ajay':30}\n",
    "d9={25:'ajay',30:'ajay'}\n",
    "d10={'Fruits':{'Mango':25}}"
   ]
  },
  {
   "cell_type": "code",
   "execution_count": 16,
   "id": "b9f96489-0cd8-467f-81d3-f489cf2930b0",
   "metadata": {},
   "outputs": [
    {
     "data": {
      "text/plain": [
       "{'Manish': 25, 'subham': 20, 'govind': 15}"
      ]
     },
     "execution_count": 16,
     "metadata": {},
     "output_type": "execute_result"
    }
   ],
   "source": [
    "d1={'Manish':25,'subham':20,'govind':15}\n",
    "d1"
   ]
  },
  {
   "cell_type": "code",
   "execution_count": 17,
   "id": "87fa0df7-2edf-4af1-a3dd-5bfd93e35363",
   "metadata": {},
   "outputs": [
    {
     "data": {
      "text/plain": [
       "{'Manish': '25', 'subham': '20', 'govind': '15'}"
      ]
     },
     "execution_count": 17,
     "metadata": {},
     "output_type": "execute_result"
    }
   ],
   "source": [
    "d2={'Manish':'25','subham':'20','govind':'15'}\n",
    "d2"
   ]
  },
  {
   "cell_type": "code",
   "execution_count": 20,
   "id": "65933101-1e30-415a-8196-e186b797c4e3",
   "metadata": {},
   "outputs": [
    {
     "data": {
      "text/plain": [
       "{25: 'Manish', 20: 'subham', 15: 'govind'}"
      ]
     },
     "execution_count": 20,
     "metadata": {},
     "output_type": "execute_result"
    }
   ],
   "source": [
    "d3={25:'Manish',20:'subham',15:'govind'}\n",
    "d3"
   ]
  },
  {
   "cell_type": "code",
   "execution_count": 22,
   "id": "a58ec2af-ba95-4992-a6e7-e1c443b413ae",
   "metadata": {},
   "outputs": [
    {
     "data": {
      "text/plain": [
       "{25: 15}"
      ]
     },
     "execution_count": 22,
     "metadata": {},
     "output_type": "execute_result"
    }
   ],
   "source": [
    "d4={25:15}\n",
    "d4"
   ]
  },
  {
   "cell_type": "code",
   "execution_count": 23,
   "id": "4e5b8c4c-d7db-4f1f-81d2-348bba3bf170",
   "metadata": {},
   "outputs": [
    {
     "data": {
      "text/plain": [
       "{'Fruits': ['apple', 'cherry']}"
      ]
     },
     "execution_count": 23,
     "metadata": {},
     "output_type": "execute_result"
    }
   ],
   "source": [
    "d5={'Fruits':['apple','cherry']}\n",
    "d5"
   ]
  },
  {
   "cell_type": "code",
   "execution_count": 24,
   "id": "dcee16d3-4d0d-4096-94ad-f337a43339af",
   "metadata": {},
   "outputs": [
    {
     "ename": "TypeError",
     "evalue": "unhashable type: 'list'",
     "output_type": "error",
     "traceback": [
      "\u001b[1;31m---------------------------------------------------------------------------\u001b[0m",
      "\u001b[1;31mTypeError\u001b[0m                                 Traceback (most recent call last)",
      "Cell \u001b[1;32mIn[24], line 1\u001b[0m\n\u001b[1;32m----> 1\u001b[0m d5\u001b[38;5;241m=\u001b[39m{[\u001b[38;5;124m'\u001b[39m\u001b[38;5;124mapple\u001b[39m\u001b[38;5;124m'\u001b[39m,\u001b[38;5;124m'\u001b[39m\u001b[38;5;124mcherry\u001b[39m\u001b[38;5;124m'\u001b[39m]:\u001b[38;5;124m'\u001b[39m\u001b[38;5;124mFruits\u001b[39m\u001b[38;5;124m'\u001b[39m}\n",
      "\u001b[1;31mTypeError\u001b[0m: unhashable type: 'list'"
     ]
    }
   ],
   "source": [
    "d6={['apple','cherry']:'Fruits'}"
   ]
  },
  {
   "cell_type": "code",
   "execution_count": 26,
   "id": "67868580-2a11-45a7-b57a-9cb501c83462",
   "metadata": {},
   "outputs": [
    {
     "data": {
      "text/plain": [
       "{('apple', 'cherry'): 'Fruits'}"
      ]
     },
     "execution_count": 26,
     "metadata": {},
     "output_type": "execute_result"
    }
   ],
   "source": [
    "d7={('apple','cherry'):'Fruits'}\n",
    "d7"
   ]
  },
  {
   "cell_type": "code",
   "execution_count": 27,
   "id": "5d81b4b3-36c0-44b3-b099-4350e207938d",
   "metadata": {},
   "outputs": [
    {
     "data": {
      "text/plain": [
       "{'Ajay': 30}"
      ]
     },
     "execution_count": 27,
     "metadata": {},
     "output_type": "execute_result"
    }
   ],
   "source": [
    "d8={'Ajay':25,'Ajay':30}\n",
    "d8"
   ]
  },
  {
   "cell_type": "code",
   "execution_count": 29,
   "id": "98d3ab4d-c41c-4210-9780-34dd54d56793",
   "metadata": {},
   "outputs": [
    {
     "data": {
      "text/plain": [
       "{25: 'ajay', 30: 'ajay'}"
      ]
     },
     "execution_count": 29,
     "metadata": {},
     "output_type": "execute_result"
    }
   ],
   "source": [
    "d9={25:'ajay',30:'ajay'}\n",
    "d9"
   ]
  },
  {
   "cell_type": "code",
   "execution_count": 30,
   "id": "b0f02710-cbfb-4778-868f-8ea4d6904275",
   "metadata": {},
   "outputs": [
    {
     "data": {
      "text/plain": [
       "{'Fruits': {'Mango': 25}}"
      ]
     },
     "execution_count": 30,
     "metadata": {},
     "output_type": "execute_result"
    }
   ],
   "source": [
    "d10={'Fruits':{'Mango':25}}\n",
    "d10"
   ]
  },
  {
   "cell_type": "markdown",
   "id": "f2b28afa-dcb2-486d-823f-a3b8dc39bb18",
   "metadata": {},
   "source": [
    "**keys are important**\n",
    "- keys have only latest value\n",
    "- no duplicate keys\n",
    "- keys should be only one\n",
    "- values can be duplicate\n",
    "- which means different keys can have same value\n",
    "- list can be a key, because lists are mutable\n",
    "- tuple can be a key, because tuples are immutable"
   ]
  },
  {
   "cell_type": "markdown",
   "id": "7f8bc26d-a22f-4c12-933f-3266865a47ad",
   "metadata": {},
   "source": [
    "**Max**"
   ]
  },
  {
   "cell_type": "code",
   "execution_count": null,
   "id": "617d882e-586c-4486-b371-b227461f74ef",
   "metadata": {},
   "outputs": [],
   "source": [
    "d1={'Manish':25,'subham':20,'govind':15}\n",
    "d2={'Manish':'25','subham':'20','govind':'15'}\n",
    "d3={25:'Manish',20:'subham',15:'govind'}\n",
    "d4={'Manish':25,'subham':'20','govind':15}\n",
    "d5={25:'manish','20':'subham',15:'govind'}\n",
    "d6={'manish':20,'subham':20,'govind':20}\n",
    "d7={20:'manish',20:'subham',20:'govind'}"
   ]
  },
  {
   "cell_type": "code",
   "execution_count": 31,
   "id": "d806094a-c9ee-45bc-87c9-45c12e0089ce",
   "metadata": {},
   "outputs": [
    {
     "data": {
      "text/plain": [
       "'subham'"
      ]
     },
     "execution_count": 31,
     "metadata": {},
     "output_type": "execute_result"
    }
   ],
   "source": [
    "d1={'Manish':25,'subham':20,'govind':15}\n",
    "max(d1)\n",
    "\n",
    "# operations apply on keys\n",
    "# keys are important "
   ]
  },
  {
   "cell_type": "code",
   "execution_count": 32,
   "id": "38064982-e81e-492f-8922-a6481bc50c82",
   "metadata": {},
   "outputs": [
    {
     "data": {
      "text/plain": [
       "'subham'"
      ]
     },
     "execution_count": 32,
     "metadata": {},
     "output_type": "execute_result"
    }
   ],
   "source": [
    "d2={'Manish':'25','subham':'20','govind':'15'}\n",
    "max(d2)"
   ]
  },
  {
   "cell_type": "code",
   "execution_count": 33,
   "id": "d1bedef7-9c15-4cc3-a14e-14a1490f7136",
   "metadata": {},
   "outputs": [
    {
     "data": {
      "text/plain": [
       "25"
      ]
     },
     "execution_count": 33,
     "metadata": {},
     "output_type": "execute_result"
    }
   ],
   "source": [
    "d3={25:'Manish',20:'subham',15:'govind'}\n",
    "max(d3)"
   ]
  },
  {
   "cell_type": "code",
   "execution_count": 35,
   "id": "8ffa5807-1afc-4796-a2b9-aa4b8bac883f",
   "metadata": {},
   "outputs": [
    {
     "data": {
      "text/plain": [
       "'subham'"
      ]
     },
     "execution_count": 35,
     "metadata": {},
     "output_type": "execute_result"
    }
   ],
   "source": [
    "d4={'Manish':25,'subham':'20','govind':15}\n",
    "max(d4)"
   ]
  },
  {
   "cell_type": "code",
   "execution_count": 36,
   "id": "4edb88eb-2fd8-4923-982b-4c831a82d17d",
   "metadata": {},
   "outputs": [
    {
     "data": {
      "text/plain": [
       "'subham'"
      ]
     },
     "execution_count": 36,
     "metadata": {},
     "output_type": "execute_result"
    }
   ],
   "source": [
    "d4={'Manish':25,'subham':'20','govind':15}\n",
    "max(d4)"
   ]
  },
  {
   "cell_type": "code",
   "execution_count": 37,
   "id": "eed05633-953a-48ab-9bcc-ba857d2c14bc",
   "metadata": {},
   "outputs": [
    {
     "ename": "TypeError",
     "evalue": "'>' not supported between instances of 'str' and 'int'",
     "output_type": "error",
     "traceback": [
      "\u001b[1;31m---------------------------------------------------------------------------\u001b[0m",
      "\u001b[1;31mTypeError\u001b[0m                                 Traceback (most recent call last)",
      "Cell \u001b[1;32mIn[37], line 2\u001b[0m\n\u001b[0;32m      1\u001b[0m d5\u001b[38;5;241m=\u001b[39m{\u001b[38;5;241m25\u001b[39m:\u001b[38;5;124m'\u001b[39m\u001b[38;5;124mmanish\u001b[39m\u001b[38;5;124m'\u001b[39m,\u001b[38;5;124m'\u001b[39m\u001b[38;5;124m20\u001b[39m\u001b[38;5;124m'\u001b[39m:\u001b[38;5;124m'\u001b[39m\u001b[38;5;124msubham\u001b[39m\u001b[38;5;124m'\u001b[39m,\u001b[38;5;241m15\u001b[39m:\u001b[38;5;124m'\u001b[39m\u001b[38;5;124mgovind\u001b[39m\u001b[38;5;124m'\u001b[39m}\n\u001b[1;32m----> 2\u001b[0m \u001b[38;5;28mmax\u001b[39m(d5)\n",
      "\u001b[1;31mTypeError\u001b[0m: '>' not supported between instances of 'str' and 'int'"
     ]
    }
   ],
   "source": [
    "d5={25:'manish','20':'subham',15:'govind'}\n",
    "max(d5)"
   ]
  },
  {
   "cell_type": "code",
   "execution_count": 38,
   "id": "31b2ffe6-ed43-4d26-808d-63030edf4c2c",
   "metadata": {},
   "outputs": [
    {
     "data": {
      "text/plain": [
       "'subham'"
      ]
     },
     "execution_count": 38,
     "metadata": {},
     "output_type": "execute_result"
    }
   ],
   "source": [
    "d6={'manish':20,'subham':20,'govind':20}\n",
    "max(d6)"
   ]
  },
  {
   "cell_type": "code",
   "execution_count": 39,
   "id": "ac682605-1b9a-4436-a5ae-29016db79eb0",
   "metadata": {},
   "outputs": [
    {
     "data": {
      "text/plain": [
       "20"
      ]
     },
     "execution_count": 39,
     "metadata": {},
     "output_type": "execute_result"
    }
   ],
   "source": [
    "d7={20:'manish',20:'subham',20:'govind'}\n",
    "max(d7)"
   ]
  },
  {
   "cell_type": "markdown",
   "id": "27674dd2-f700-4988-ad35-96a82e795ac1",
   "metadata": {},
   "source": [
    "**Min**"
   ]
  },
  {
   "cell_type": "code",
   "execution_count": 40,
   "id": "833bc6c9-2915-4670-a540-ecfbb3cd5de1",
   "metadata": {},
   "outputs": [],
   "source": [
    "d1={'Manish':25,'subham':20,'govind':15}\n",
    "d2={'Manish':'25','subham':'20','govind':'15'}\n",
    "d3={25:'Manish',20:'subham',15:'govind'}\n",
    "d4={'Manish':25,'subham':'20','govind':15}\n",
    "d5={25:'manish','20':'subham',15:'govind'}\n",
    "d6={'manish':20,'subham':20,'govind':20}\n",
    "d7={20:'manish',20:'subham',20:'govind'}"
   ]
  },
  {
   "cell_type": "code",
   "execution_count": 41,
   "id": "398cbc77-b3f9-4ddf-8d09-4ce59286c63d",
   "metadata": {},
   "outputs": [
    {
     "data": {
      "text/plain": [
       "'Manish'"
      ]
     },
     "execution_count": 41,
     "metadata": {},
     "output_type": "execute_result"
    }
   ],
   "source": [
    "min(d1)"
   ]
  },
  {
   "cell_type": "code",
   "execution_count": 42,
   "id": "d73cedad-355b-4b1f-83e4-f371d6ebf542",
   "metadata": {},
   "outputs": [
    {
     "data": {
      "text/plain": [
       "'Manish'"
      ]
     },
     "execution_count": 42,
     "metadata": {},
     "output_type": "execute_result"
    }
   ],
   "source": [
    "min(d2)"
   ]
  },
  {
   "cell_type": "code",
   "execution_count": 43,
   "id": "df16741c-3f21-411d-80a8-fef81ad24cf6",
   "metadata": {},
   "outputs": [
    {
     "data": {
      "text/plain": [
       "15"
      ]
     },
     "execution_count": 43,
     "metadata": {},
     "output_type": "execute_result"
    }
   ],
   "source": [
    "min(d3)"
   ]
  },
  {
   "cell_type": "code",
   "execution_count": 44,
   "id": "b4e1cb18-528a-41eb-beff-7664f41fc41f",
   "metadata": {},
   "outputs": [
    {
     "data": {
      "text/plain": [
       "'Manish'"
      ]
     },
     "execution_count": 44,
     "metadata": {},
     "output_type": "execute_result"
    }
   ],
   "source": [
    "min(d4)"
   ]
  },
  {
   "cell_type": "code",
   "execution_count": 45,
   "id": "23a1a2f3-3db8-41b0-bc1c-e48f46ef6d42",
   "metadata": {},
   "outputs": [
    {
     "ename": "TypeError",
     "evalue": "'<' not supported between instances of 'str' and 'int'",
     "output_type": "error",
     "traceback": [
      "\u001b[1;31m---------------------------------------------------------------------------\u001b[0m",
      "\u001b[1;31mTypeError\u001b[0m                                 Traceback (most recent call last)",
      "Cell \u001b[1;32mIn[45], line 1\u001b[0m\n\u001b[1;32m----> 1\u001b[0m \u001b[38;5;28mmin\u001b[39m(d5)\n",
      "\u001b[1;31mTypeError\u001b[0m: '<' not supported between instances of 'str' and 'int'"
     ]
    }
   ],
   "source": [
    "min(d5)"
   ]
  },
  {
   "cell_type": "code",
   "execution_count": 46,
   "id": "bd827b13-2719-42f3-bb21-0ec4861fcbc9",
   "metadata": {},
   "outputs": [
    {
     "data": {
      "text/plain": [
       "'govind'"
      ]
     },
     "execution_count": 46,
     "metadata": {},
     "output_type": "execute_result"
    }
   ],
   "source": [
    "min(d6)"
   ]
  },
  {
   "cell_type": "code",
   "execution_count": 47,
   "id": "aa7c1233-e29c-4b08-93c8-866721460b34",
   "metadata": {},
   "outputs": [
    {
     "data": {
      "text/plain": [
       "20"
      ]
     },
     "execution_count": 47,
     "metadata": {},
     "output_type": "execute_result"
    }
   ],
   "source": [
    "min(d7)"
   ]
  },
  {
   "cell_type": "markdown",
   "id": "9fc587b9-0b0d-4c4e-8975-d4c3056345b6",
   "metadata": {},
   "source": [
    "**len**"
   ]
  },
  {
   "cell_type": "code",
   "execution_count": 48,
   "id": "9e692bf3-865e-405a-a4b2-6f0ad6a33865",
   "metadata": {},
   "outputs": [],
   "source": [
    "d1={'Manish':25,'subham':20,'govind':15}\n",
    "d2={'Manish':'25','subham':'20','govind':'15'}\n",
    "d3={25:'Manish',20:'subham',15:'govind'}\n",
    "d4={'Manish':25,'subham':'20','govind':15}\n",
    "d5={25:'manish','20':'subham',15:'govind'}\n",
    "d6={'manish':20,'subham':20,'govind':20}\n",
    "d7={20:'manish',20:'subham',20:'govind'}"
   ]
  },
  {
   "cell_type": "code",
   "execution_count": 49,
   "id": "2b1807e4-9334-4820-9f7f-a5af62782540",
   "metadata": {},
   "outputs": [
    {
     "data": {
      "text/plain": [
       "3"
      ]
     },
     "execution_count": 49,
     "metadata": {},
     "output_type": "execute_result"
    }
   ],
   "source": [
    "len(d1)"
   ]
  },
  {
   "cell_type": "code",
   "execution_count": 50,
   "id": "541d4d52-12fb-41f2-9cb4-10170d13930e",
   "metadata": {},
   "outputs": [
    {
     "data": {
      "text/plain": [
       "3"
      ]
     },
     "execution_count": 50,
     "metadata": {},
     "output_type": "execute_result"
    }
   ],
   "source": [
    "len(d2)"
   ]
  },
  {
   "cell_type": "code",
   "execution_count": 51,
   "id": "ebf3cea8-84e4-4c55-bc35-b63677d04a37",
   "metadata": {},
   "outputs": [
    {
     "data": {
      "text/plain": [
       "3"
      ]
     },
     "execution_count": 51,
     "metadata": {},
     "output_type": "execute_result"
    }
   ],
   "source": [
    "len(d3)"
   ]
  },
  {
   "cell_type": "code",
   "execution_count": 52,
   "id": "806454a7-7818-4d12-a104-df61c4d69e4a",
   "metadata": {},
   "outputs": [
    {
     "data": {
      "text/plain": [
       "3"
      ]
     },
     "execution_count": 52,
     "metadata": {},
     "output_type": "execute_result"
    }
   ],
   "source": [
    "len(d4)"
   ]
  },
  {
   "cell_type": "code",
   "execution_count": 53,
   "id": "3ac187bf-25b0-45f0-9702-1d74158899a2",
   "metadata": {},
   "outputs": [
    {
     "data": {
      "text/plain": [
       "3"
      ]
     },
     "execution_count": 53,
     "metadata": {},
     "output_type": "execute_result"
    }
   ],
   "source": [
    "len(d5)"
   ]
  },
  {
   "cell_type": "code",
   "execution_count": 54,
   "id": "e230a2e7-e9f8-41bd-a6d7-d891d7fd99b8",
   "metadata": {},
   "outputs": [
    {
     "data": {
      "text/plain": [
       "3"
      ]
     },
     "execution_count": 54,
     "metadata": {},
     "output_type": "execute_result"
    }
   ],
   "source": [
    "len(d6)"
   ]
  },
  {
   "cell_type": "code",
   "execution_count": 55,
   "id": "d8754059-c95f-4e31-a4ee-4c34b8b080f7",
   "metadata": {},
   "outputs": [
    {
     "data": {
      "text/plain": [
       "1"
      ]
     },
     "execution_count": 55,
     "metadata": {},
     "output_type": "execute_result"
    }
   ],
   "source": [
    "len(d7)"
   ]
  },
  {
   "cell_type": "markdown",
   "id": "d55d08e2-abb1-403f-a88d-a26fa724977d",
   "metadata": {},
   "source": [
    "**Reversed**\n",
    "- you might have thing dictionary will reverse\n",
    "- when you apply reversed, then you got to know\n",
    "- only keys will come in reverse"
   ]
  },
  {
   "cell_type": "code",
   "execution_count": 56,
   "id": "2ee7dafc-f228-4d67-9294-ca70aabae92d",
   "metadata": {},
   "outputs": [],
   "source": [
    "d1={'Manish':25,'subham':20,'govind':15}\n",
    "d2={'Manish':'25','subham':'20','govind':'15'}\n",
    "d3={25:'Manish',20:'subham',15:'govind'}\n",
    "d4={'Manish':25,'subham':'20','govind':15}\n",
    "d5={25:'manish','20':'subham',15:'govind'}\n",
    "d6={'manish':20,'subham':20,'govind':20}\n",
    "d7={20:'manish',20:'subham',20:'govind'}"
   ]
  },
  {
   "cell_type": "code",
   "execution_count": 59,
   "id": "d73db5cb-4fe6-48c5-8086-0ecf6f2fa876",
   "metadata": {},
   "outputs": [
    {
     "data": {
      "text/plain": [
       "['govind', 'subham', 'Manish']"
      ]
     },
     "execution_count": 59,
     "metadata": {},
     "output_type": "execute_result"
    }
   ],
   "source": [
    "list(reversed(d1))"
   ]
  },
  {
   "cell_type": "markdown",
   "id": "d53fef16-bc14-49c4-9b57-0e63553894ac",
   "metadata": {},
   "source": [
    "**sorted**\n"
   ]
  },
  {
   "cell_type": "code",
   "execution_count": 60,
   "id": "85b09bec-9f00-456c-8a3a-e06209e199bf",
   "metadata": {},
   "outputs": [
    {
     "data": {
      "text/plain": [
       "['Manish', 'govind', 'subham']"
      ]
     },
     "execution_count": 60,
     "metadata": {},
     "output_type": "execute_result"
    }
   ],
   "source": [
    "list(sorted(d1))"
   ]
  },
  {
   "cell_type": "code",
   "execution_count": 61,
   "id": "f004dcb8-8da2-41a5-89a8-e08705228752",
   "metadata": {},
   "outputs": [
    {
     "data": {
      "text/plain": [
       "['Manish', 'govind', 'subham']"
      ]
     },
     "execution_count": 61,
     "metadata": {},
     "output_type": "execute_result"
    }
   ],
   "source": [
    "list(sorted(reversed(d1)))"
   ]
  },
  {
   "cell_type": "code",
   "execution_count": 62,
   "id": "7315fac8-6146-44bf-ba80-76957303e0c4",
   "metadata": {},
   "outputs": [
    {
     "name": "stdout",
     "output_type": "stream",
     "text": [
      "Manish\n",
      "subham\n",
      "govind\n"
     ]
    }
   ],
   "source": [
    "d1={'Manish':25,'subham':20,'govind':15}\n",
    "for i in d1:\n",
    "    print(i)"
   ]
  },
  {
   "cell_type": "markdown",
   "id": "05ec1609-b462-4e47-8083-d1fb1df65f06",
   "metadata": {},
   "source": [
    "**index**\n"
   ]
  },
  {
   "cell_type": "code",
   "execution_count": 66,
   "id": "f291c93f-e7e9-48cc-855f-5a158733fb4b",
   "metadata": {},
   "outputs": [],
   "source": [
    "d1={'Manish':25,'subham':20,'govind':15}\n",
    "\n",
    "# if you want to retrive the values\n",
    "# python will never give 'Manish':25"
   ]
  },
  {
   "cell_type": "code",
   "execution_count": 1,
   "id": "39da1dc5-6cf6-4a49-b8e7-3dc217a7cad7",
   "metadata": {},
   "outputs": [
    {
     "data": {
      "text/plain": [
       "25"
      ]
     },
     "execution_count": 1,
     "metadata": {},
     "output_type": "execute_result"
    }
   ],
   "source": [
    "d1={'Manish':25,'subham':20,'govind':15}\n",
    "# Dictinory is a key value pair\n",
    "# We can not use index number directly\n",
    "# Whenever you want to call a value, we will use key\n",
    "d1['Manish']"
   ]
  },
  {
   "cell_type": "code",
   "execution_count": 4,
   "id": "f10ed04a-b9e1-40cc-954e-b1fa01d1a331",
   "metadata": {},
   "outputs": [
    {
     "name": "stdout",
     "output_type": "stream",
     "text": [
      "Manish has age 25\n",
      "subham has age 20\n",
      "govind has age 15\n"
     ]
    }
   ],
   "source": [
    "for i in d1:\n",
    "    print(f\"{i} has age {d1[i]}\")"
   ]
  },
  {
   "cell_type": "code",
   "execution_count": 6,
   "id": "0c9a97d1-fa32-41d9-b878-16eed199faab",
   "metadata": {},
   "outputs": [
    {
     "name": "stdout",
     "output_type": "stream",
     "text": [
      "Vignesh has age 20\n",
      "Mohit has age 25\n",
      "Nagesh has age 30\n"
     ]
    }
   ],
   "source": [
    "names=['Vignesh','Mohit','Nagesh']\n",
    "age=[20,25,30]\n",
    "\n",
    "for i,j in zip(names,age):\n",
    "    print(f\"{i} has age {j}\")\n"
   ]
  },
  {
   "cell_type": "markdown",
   "id": "c75b0e2c-9e03-4364-b8fb-603b39633ea1",
   "metadata": {},
   "source": [
    "**Dictionary to list**"
   ]
  },
  {
   "cell_type": "code",
   "execution_count": 9,
   "id": "fe684957-79fd-4bd9-84c1-2450dbbf695b",
   "metadata": {},
   "outputs": [
    {
     "name": "stdout",
     "output_type": "stream",
     "text": [
      "['Manish', 'subham', 'govind']\n",
      "[25, 20, 15]\n"
     ]
    }
   ],
   "source": [
    "d1={'Manish':25,'subham':20,'govind':15}\n",
    "names=[]\n",
    "age=[]\n",
    "for i in d1:\n",
    "    names.append(i)\n",
    "    age.append(d1[i])\n",
    "print(names)\n",
    "print(age)"
   ]
  },
  {
   "cell_type": "code",
   "execution_count": 11,
   "id": "2aec19a2-6df5-4fb7-b26b-32c753dcc6cb",
   "metadata": {},
   "outputs": [],
   "source": [
    "keys=[i for i in d1]\n",
    "values=[d1[i] for i in d1]"
   ]
  },
  {
   "cell_type": "markdown",
   "id": "c9dbd18c-5c0f-45f6-8e5a-1618ea80a974",
   "metadata": {},
   "source": [
    "**How to create a empty list**"
   ]
  },
  {
   "cell_type": "code",
   "execution_count": 12,
   "id": "3fc2b4c0-b191-42b3-9117-7644ddc76fc4",
   "metadata": {},
   "outputs": [
    {
     "data": {
      "text/plain": [
       "[20]"
      ]
     },
     "execution_count": 12,
     "metadata": {},
     "output_type": "execute_result"
    }
   ],
   "source": [
    "l=[]\n",
    "l.append(20)\n",
    "l"
   ]
  },
  {
   "cell_type": "markdown",
   "id": "bbf77ba3-5ebc-44a7-bf73-0c95622e78cc",
   "metadata": {},
   "source": [
    "**empty string**"
   ]
  },
  {
   "cell_type": "code",
   "execution_count": 14,
   "id": "e0feaf09-b692-471c-9759-d669114e5079",
   "metadata": {},
   "outputs": [
    {
     "data": {
      "text/plain": [
       "'a'"
      ]
     },
     "execution_count": 14,
     "metadata": {},
     "output_type": "execute_result"
    }
   ],
   "source": [
    "s=''\n",
    "s=s+'a'\n",
    "s"
   ]
  },
  {
   "cell_type": "markdown",
   "id": "638f21d2-e8de-49ac-bb29-e5114e34399b",
   "metadata": {},
   "source": [
    "**empty dictionary**"
   ]
  },
  {
   "cell_type": "code",
   "execution_count": null,
   "id": "8a997ae7-a2f6-44c9-b716-9aa45c9672f1",
   "metadata": {},
   "outputs": [],
   "source": [
    "d={}\n",
    "d[<key>]=<value>"
   ]
  },
  {
   "cell_type": "code",
   "execution_count": 17,
   "id": "caea7438-e8ef-45be-ab73-8d737597dac8",
   "metadata": {},
   "outputs": [
    {
     "data": {
      "text/plain": [
       "{'meer': 22}"
      ]
     },
     "execution_count": 17,
     "metadata": {},
     "output_type": "execute_result"
    }
   ],
   "source": [
    "d={}\n",
    "d['meer']=22\n",
    "d"
   ]
  },
  {
   "cell_type": "markdown",
   "id": "c1615dd5-98f5-4311-9e0e-23816e6b0703",
   "metadata": {},
   "source": [
    "**List to dictionary**"
   ]
  },
  {
   "cell_type": "code",
   "execution_count": 23,
   "id": "30e75813-7975-421d-8d85-53b96906400a",
   "metadata": {},
   "outputs": [
    {
     "data": {
      "text/plain": [
       "{'Vignesh': 20, 'Mohit': 25, 'Nagesh': 30}"
      ]
     },
     "execution_count": 23,
     "metadata": {},
     "output_type": "execute_result"
    }
   ],
   "source": [
    "names=['Vignesh','Mohit','Nagesh']\n",
    "age=[20,25,30]\n",
    "d={}\n",
    "for i,j in zip(names,age):\n",
    "    d[i]=j\n",
    "d"
   ]
  },
  {
   "cell_type": "markdown",
   "id": "eeb5f6f3-e487-4dd0-803b-44b959e62b9d",
   "metadata": {},
   "source": [
    "**String to list**"
   ]
  },
  {
   "cell_type": "code",
   "execution_count": 28,
   "id": "5044977d-5b3e-4b99-b1da-2ac3516924fc",
   "metadata": {},
   "outputs": [
    {
     "data": {
      "text/plain": [
       "['hello', 'hai', 'hai', 'how', 'how', 'are', 'you', 'you']"
      ]
     },
     "execution_count": 28,
     "metadata": {},
     "output_type": "execute_result"
    }
   ],
   "source": [
    "s='hello hai hai how  how are you you'\n",
    "s.split()"
   ]
  },
  {
   "cell_type": "code",
   "execution_count": 27,
   "id": "61823b13-30e1-477b-9d29-3b9d242d4a08",
   "metadata": {},
   "outputs": [
    {
     "data": {
      "text/plain": [
       "2"
      ]
     },
     "execution_count": 27,
     "metadata": {},
     "output_type": "execute_result"
    }
   ],
   "source": [
    "s.count('how')"
   ]
  },
  {
   "cell_type": "markdown",
   "id": "9b847bb4-c48f-41c4-b228-c02483098998",
   "metadata": {},
   "source": [
    "**Word frequency program**"
   ]
  },
  {
   "cell_type": "code",
   "execution_count": 48,
   "id": "40f0e4ee-d8b7-4d99-93c5-a5efb02770c7",
   "metadata": {},
   "outputs": [
    {
     "data": {
      "text/plain": [
       "{'hello': 1, 'hai': 2, 'how': 2, 'are': 1, 'you': 2}"
      ]
     },
     "execution_count": 48,
     "metadata": {},
     "output_type": "execute_result"
    }
   ],
   "source": [
    "s='hello hai hai how  how are you you'\n",
    "list=s.split()\n",
    "d={}\n",
    "for word in list:\n",
    "    d[word]=s.count(word)\n",
    "d"
   ]
  },
  {
   "cell_type": "markdown",
   "id": "6d372b4f-953b-4fbc-8238-b620df9e74f7",
   "metadata": {},
   "source": [
    "**Mutable - immutable**\n",
    "- change the element using index\n",
    "- but in dictionary there is no index\n",
    "- in dictionary we will change the value based on key\n",
    "- instead of using the index,  change the values using key\n",
    "- if it is change it is mutable\n",
    "- if it is not change it is immutable"
   ]
  },
  {
   "cell_type": "code",
   "execution_count": 49,
   "id": "d752ec96-2f98-4684-a786-06f1ba207755",
   "metadata": {},
   "outputs": [
    {
     "data": {
      "text/plain": [
       "{'Vignesh': 20, 'Mohit': 25, 'Nagesh': 22}"
      ]
     },
     "execution_count": 49,
     "metadata": {},
     "output_type": "execute_result"
    }
   ],
   "source": [
    "d={'Vignesh': 20, 'Mohit': 25, 'Nagesh': 30}\n",
    "d['Nagesh']=22\n",
    "d"
   ]
  },
  {
   "cell_type": "markdown",
   "id": "cf424da3-9c88-4ebf-94a7-c9797923dd53",
   "metadata": {},
   "source": [
    "- List and dictionary are mutable\n",
    "- tuple and strings are immutable\n",
    "- Difference between list and tuple"
   ]
  },
  {
   "cell_type": "code",
   "execution_count": 54,
   "id": "e020eee3-48e1-4044-ae18-eb06e1f99c09",
   "metadata": {},
   "outputs": [
    {
     "data": {
      "text/plain": [
       "'Mango'"
      ]
     },
     "execution_count": 54,
     "metadata": {},
     "output_type": "execute_result"
    }
   ],
   "source": [
    "d={'Fruits':['Mango']}\n",
    "d['Fruits'][0]"
   ]
  },
  {
   "cell_type": "code",
   "execution_count": 74,
   "id": "fd415ccd-1dd2-4997-ac9a-6719af6d276e",
   "metadata": {},
   "outputs": [
    {
     "data": {
      "text/plain": [
       "'kashmir'"
      ]
     },
     "execution_count": 74,
     "metadata": {},
     "output_type": "execute_result"
    }
   ],
   "source": [
    "d={'Fruits':[{'Apple':['kashmir']}]}\n",
    "d['Fruits'][0]['Apple'][0]"
   ]
  },
  {
   "cell_type": "code",
   "execution_count": 76,
   "id": "66212659-d0f2-499a-9f23-6b103375483d",
   "metadata": {},
   "outputs": [
    {
     "data": {
      "text/plain": [
       "'India'"
      ]
     },
     "execution_count": 76,
     "metadata": {},
     "output_type": "execute_result"
    }
   ],
   "source": [
    "d={'Fruits':[{'Apple':{'kashmir':['India']}}]}\n",
    "d['Fruits'][0]['Apple']['kashmir'][0]"
   ]
  },
  {
   "cell_type": "code",
   "execution_count": 91,
   "id": "75074e91-f1f8-43fa-955e-823141a9f6de",
   "metadata": {},
   "outputs": [
    {
     "data": {
      "text/plain": [
       "{'Shambaji'}"
      ]
     },
     "execution_count": 91,
     "metadata": {},
     "output_type": "execute_result"
    }
   ],
   "source": [
    "d={'Fruits':{'Benganapalli':{'Mango':{'Nagpur':{'MH':{'Shivaji':{'Shambaji'}}}}}}}\n",
    "d['Fruits']['Benganapalli']['Mango']['Nagpur']['MH']['Shivaji']"
   ]
  },
  {
   "cell_type": "markdown",
   "id": "a4c040ac-be3e-4f95-b33a-6ee4170fa67f",
   "metadata": {},
   "source": [
    "**Dictionary Methods**"
   ]
  },
  {
   "cell_type": "code",
   "execution_count": 1,
   "id": "102457a3-72fe-4958-b78f-2e7fcf657514",
   "metadata": {},
   "outputs": [
    {
     "data": {
      "text/plain": [
       "['__class__',\n",
       " '__class_getitem__',\n",
       " '__contains__',\n",
       " '__delattr__',\n",
       " '__delitem__',\n",
       " '__dir__',\n",
       " '__doc__',\n",
       " '__eq__',\n",
       " '__format__',\n",
       " '__ge__',\n",
       " '__getattribute__',\n",
       " '__getitem__',\n",
       " '__getstate__',\n",
       " '__gt__',\n",
       " '__hash__',\n",
       " '__init__',\n",
       " '__init_subclass__',\n",
       " '__ior__',\n",
       " '__iter__',\n",
       " '__le__',\n",
       " '__len__',\n",
       " '__lt__',\n",
       " '__ne__',\n",
       " '__new__',\n",
       " '__or__',\n",
       " '__reduce__',\n",
       " '__reduce_ex__',\n",
       " '__repr__',\n",
       " '__reversed__',\n",
       " '__ror__',\n",
       " '__setattr__',\n",
       " '__setitem__',\n",
       " '__sizeof__',\n",
       " '__str__',\n",
       " '__subclasshook__',\n",
       " 'clear',\n",
       " 'copy',\n",
       " 'fromkeys',\n",
       " 'get',\n",
       " 'items',\n",
       " 'keys',\n",
       " 'pop',\n",
       " 'popitem',\n",
       " 'setdefault',\n",
       " 'update',\n",
       " 'values']"
      ]
     },
     "execution_count": 1,
     "metadata": {},
     "output_type": "execute_result"
    }
   ],
   "source": [
    "dir(dict)"
   ]
  },
  {
   "cell_type": "markdown",
   "id": "2441b915-1e9c-47ee-9646-19b9ba4dd331",
   "metadata": {},
   "source": [
    "**items-keys-values**"
   ]
  },
  {
   "cell_type": "code",
   "execution_count": 2,
   "id": "699fcafb-acd2-4454-8ba0-5586a9cdb988",
   "metadata": {},
   "outputs": [],
   "source": [
    "d={'Vignesh':20,'Mohit':25,'Nagesh':30}"
   ]
  },
  {
   "cell_type": "code",
   "execution_count": 3,
   "id": "32931498-aaef-49a5-8333-1950eddae759",
   "metadata": {},
   "outputs": [
    {
     "data": {
      "text/plain": [
       "dict_items([('Vignesh', 20), ('Mohit', 25), ('Nagesh', 30)])"
      ]
     },
     "execution_count": 3,
     "metadata": {},
     "output_type": "execute_result"
    }
   ],
   "source": [
    "d.items()"
   ]
  },
  {
   "cell_type": "code",
   "execution_count": 4,
   "id": "6c075b10-1416-4ca0-a169-143a695c39cf",
   "metadata": {},
   "outputs": [
    {
     "data": {
      "text/plain": [
       "dict_keys(['Vignesh', 'Mohit', 'Nagesh'])"
      ]
     },
     "execution_count": 4,
     "metadata": {},
     "output_type": "execute_result"
    }
   ],
   "source": [
    "d.keys()"
   ]
  },
  {
   "cell_type": "code",
   "execution_count": 5,
   "id": "4fec3880-09cd-4e25-bcf1-d4fec413fe86",
   "metadata": {},
   "outputs": [
    {
     "data": {
      "text/plain": [
       "dict_values([20, 25, 30])"
      ]
     },
     "execution_count": 5,
     "metadata": {},
     "output_type": "execute_result"
    }
   ],
   "source": [
    "d.values()"
   ]
  },
  {
   "cell_type": "code",
   "execution_count": 11,
   "id": "c3b3c3da-de00-4224-81b1-c00c8f9a7324",
   "metadata": {},
   "outputs": [
    {
     "data": {
      "text/plain": [
       "(['Vignesh', 'Mohit', 'Nagesh'], [20, 25, 30])"
      ]
     },
     "execution_count": 11,
     "metadata": {},
     "output_type": "execute_result"
    }
   ],
   "source": [
    "# we already learn how to make a list from dictionary\n",
    "d={'Vignesh':20,'Mohit':25,'Nagesh':30}\n",
    "keys,values=[],[]\n",
    "for i in d:\n",
    "    keys.append(i)\n",
    "    values.append(d[i])\n",
    "keys,values"
   ]
  },
  {
   "cell_type": "code",
   "execution_count": 13,
   "id": "b3310af9-b46f-4271-8f03-0cfffbd58a42",
   "metadata": {},
   "outputs": [
    {
     "data": {
      "text/plain": [
       "dict_keys(['Vignesh', 'Mohit', 'Nagesh'])"
      ]
     },
     "execution_count": 13,
     "metadata": {},
     "output_type": "execute_result"
    }
   ],
   "source": [
    "d.keys()"
   ]
  },
  {
   "cell_type": "code",
   "execution_count": 16,
   "id": "b00a99e0-f0ea-4fcd-8d19-eb1fbfff95f6",
   "metadata": {},
   "outputs": [
    {
     "data": {
      "text/plain": [
       "(['Vignesh', 'Mohit', 'Nagesh'], [20, 25, 30])"
      ]
     },
     "execution_count": 16,
     "metadata": {},
     "output_type": "execute_result"
    }
   ],
   "source": [
    "d={'Vignesh':20,'Mohit':25,'Nagesh':30}\n",
    "list(d.keys()),list(d.values())"
   ]
  },
  {
   "cell_type": "markdown",
   "id": "fb514951-7038-4581-b579-a6d335d18f56",
   "metadata": {},
   "source": [
    "- Dictionary keys will give dictionary keys items in a list\n",
    "- it looks like a list,  but it is not a list\n",
    "- which means we can not apply list methods\n",
    "- so we need to convert into list type, by using list type casting"
   ]
  },
  {
   "cell_type": "code",
   "execution_count": 17,
   "id": "0af90292-5b82-45ee-bfe6-ac4442b502ca",
   "metadata": {},
   "outputs": [
    {
     "data": {
      "text/plain": [
       "['Vignesh', 'Mohit', 'Nagesh']"
      ]
     },
     "execution_count": 17,
     "metadata": {},
     "output_type": "execute_result"
    }
   ],
   "source": [
    "list(d.keys())"
   ]
  },
  {
   "cell_type": "code",
   "execution_count": 18,
   "id": "8c46c71f-b8a0-4a89-b090-7395e4146ecd",
   "metadata": {},
   "outputs": [
    {
     "data": {
      "text/plain": [
       "'Vignesh'"
      ]
     },
     "execution_count": 18,
     "metadata": {},
     "output_type": "execute_result"
    }
   ],
   "source": [
    "list(d.keys())[0]"
   ]
  },
  {
   "cell_type": "code",
   "execution_count": 19,
   "id": "ca012c0b-65f9-4622-bc84-7947cdbcd0d3",
   "metadata": {},
   "outputs": [
    {
     "data": {
      "text/plain": [
       "list[dict_keys(['Vignesh', 'Mohit', 'Nagesh'])]"
      ]
     },
     "execution_count": 19,
     "metadata": {},
     "output_type": "execute_result"
    }
   ],
   "source": [
    "list[d.keys()]"
   ]
  },
  {
   "cell_type": "code",
   "execution_count": 20,
   "id": "c59048b4-75e1-41a5-99b0-e71ecf08ae4e",
   "metadata": {},
   "outputs": [
    {
     "name": "stdout",
     "output_type": "stream",
     "text": [
      "*list[dict_keys(['Vignesh', 'Mohit', 'Nagesh'])]\n"
     ]
    }
   ],
   "source": [
    "for i in list[d.keys()]:\n",
    "    print(i)"
   ]
  },
  {
   "cell_type": "code",
   "execution_count": 22,
   "id": "cb08881a-d4db-4d9b-82fc-dab22c0e2f56",
   "metadata": {},
   "outputs": [
    {
     "data": {
      "text/plain": [
       "types.GenericAlias"
      ]
     },
     "execution_count": 22,
     "metadata": {},
     "output_type": "execute_result"
    }
   ],
   "source": [
    "type(list[d.keys()])"
   ]
  },
  {
   "cell_type": "markdown",
   "id": "82920d69-20fd-494c-a846-2d03d5f0ff52",
   "metadata": {},
   "source": [
    "**Method-1**"
   ]
  },
  {
   "cell_type": "code",
   "execution_count": 23,
   "id": "b1ec9914-9405-429b-9a18-98317539f0ab",
   "metadata": {},
   "outputs": [
    {
     "data": {
      "text/plain": [
       "(['Vignesh', 'Mohit', 'Nagesh'], [20, 25, 30])"
      ]
     },
     "execution_count": 23,
     "metadata": {},
     "output_type": "execute_result"
    }
   ],
   "source": [
    "d={'Vignesh':20,'Mohit':25,'Nagesh':30}\n",
    "keys,values=[],[]\n",
    "for i in d:\n",
    "    keys.append(i)\n",
    "    values.append(d[i])\n",
    "keys,values"
   ]
  },
  {
   "cell_type": "markdown",
   "id": "24e2b0a0-da2b-430e-ae0f-9b8c29a95bfe",
   "metadata": {},
   "source": [
    "**Method-2**"
   ]
  },
  {
   "cell_type": "code",
   "execution_count": 24,
   "id": "07d2511f-c713-4267-92bc-d9d22216dc9a",
   "metadata": {},
   "outputs": [
    {
     "data": {
      "text/plain": [
       "(['Vignesh', 'Mohit', 'Nagesh'], [20, 25, 30])"
      ]
     },
     "execution_count": 24,
     "metadata": {},
     "output_type": "execute_result"
    }
   ],
   "source": [
    "d={'Vignesh':20,'Mohit':25,'Nagesh':30}\n",
    "keys=list(d.keys())\n",
    "values=list(d.values())\n",
    "keys,values"
   ]
  },
  {
   "cell_type": "code",
   "execution_count": 25,
   "id": "5ffcf4c0-f6dc-4102-96bf-1642f9bd4d76",
   "metadata": {},
   "outputs": [
    {
     "data": {
      "text/plain": [
       "dict_items([('Vignesh', 20), ('Mohit', 25), ('Nagesh', 30)])"
      ]
     },
     "execution_count": 25,
     "metadata": {},
     "output_type": "execute_result"
    }
   ],
   "source": [
    "d.items()"
   ]
  },
  {
   "cell_type": "markdown",
   "id": "81a63b46-09f8-4543-aa20-eb5ba9635caf",
   "metadata": {},
   "source": [
    "**Method-3**"
   ]
  },
  {
   "cell_type": "code",
   "execution_count": 30,
   "id": "7a0e6d7c-2cfb-41cd-8212-7dec1459b9d3",
   "metadata": {},
   "outputs": [
    {
     "name": "stdout",
     "output_type": "stream",
     "text": [
      "Vignesh 20\n",
      "Mohit 25\n",
      "Nagesh 30\n"
     ]
    },
    {
     "data": {
      "text/plain": [
       "(['Vignesh', 'Mohit', 'Nagesh'], [20, 25, 30])"
      ]
     },
     "execution_count": 30,
     "metadata": {},
     "output_type": "execute_result"
    }
   ],
   "source": [
    "keys,values=[],[]\n",
    "for i,j in d.items():\n",
    "    print(i,j)\n",
    "    keys.append(i)\n",
    "    values.append(j)\n",
    "keys,values"
   ]
  },
  {
   "cell_type": "code",
   "execution_count": null,
   "id": "9bfb3d1d-d81b-40f1-8a8b-9663d3abdf17",
   "metadata": {},
   "outputs": [],
   "source": [
    "a=10,20 #works\n",
    "a,b=10,20 #works\n",
    "a,b=10  #fails"
   ]
  },
  {
   "cell_type": "code",
   "execution_count": 31,
   "id": "abc74d7a-5fff-43b9-877c-ac1330f78903",
   "metadata": {},
   "outputs": [
    {
     "data": {
      "text/plain": [
       "['__class__',\n",
       " '__class_getitem__',\n",
       " '__contains__',\n",
       " '__delattr__',\n",
       " '__delitem__',\n",
       " '__dir__',\n",
       " '__doc__',\n",
       " '__eq__',\n",
       " '__format__',\n",
       " '__ge__',\n",
       " '__getattribute__',\n",
       " '__getitem__',\n",
       " '__getstate__',\n",
       " '__gt__',\n",
       " '__hash__',\n",
       " '__init__',\n",
       " '__init_subclass__',\n",
       " '__ior__',\n",
       " '__iter__',\n",
       " '__le__',\n",
       " '__len__',\n",
       " '__lt__',\n",
       " '__ne__',\n",
       " '__new__',\n",
       " '__or__',\n",
       " '__reduce__',\n",
       " '__reduce_ex__',\n",
       " '__repr__',\n",
       " '__reversed__',\n",
       " '__ror__',\n",
       " '__setattr__',\n",
       " '__setitem__',\n",
       " '__sizeof__',\n",
       " '__str__',\n",
       " '__subclasshook__',\n",
       " 'clear',\n",
       " 'copy',\n",
       " 'fromkeys',\n",
       " 'get',\n",
       " 'items',\n",
       " 'keys',\n",
       " 'pop',\n",
       " 'popitem',\n",
       " 'setdefault',\n",
       " 'update',\n",
       " 'values']"
      ]
     },
     "execution_count": 31,
     "metadata": {},
     "output_type": "execute_result"
    }
   ],
   "source": [
    "dir({})"
   ]
  },
  {
   "cell_type": "code",
   "execution_count": null,
   "id": "0c049530-762e-4841-a8ea-e2769ed0ef72",
   "metadata": {},
   "outputs": [],
   "source": [
    "# Assignment"
   ]
  }
 ],
 "metadata": {
  "kernelspec": {
   "display_name": "Python 3 (ipykernel)",
   "language": "python",
   "name": "python3"
  },
  "language_info": {
   "codemirror_mode": {
    "name": "ipython",
    "version": 3
   },
   "file_extension": ".py",
   "mimetype": "text/x-python",
   "name": "python",
   "nbconvert_exporter": "python",
   "pygments_lexer": "ipython3",
   "version": "3.11.7"
  }
 },
 "nbformat": 4,
 "nbformat_minor": 5
}
