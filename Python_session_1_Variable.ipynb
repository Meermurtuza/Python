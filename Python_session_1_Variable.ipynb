{
 "cells": [
  {
   "cell_type": "markdown",
   "id": "020d6965-a5e4-40d9-a2f6-687a8b50641f",
   "metadata": {},
   "source": [
    "**Variable** are use to store the values and the values can be change"
   ]
  },
  {
   "cell_type": "code",
   "execution_count": 2,
   "id": "4fe9f8ee-59cd-4faa-9f51-e0606817f84f",
   "metadata": {},
   "outputs": [
    {
     "data": {
      "text/plain": [
       "100"
      ]
     },
     "execution_count": 2,
     "metadata": {},
     "output_type": "execute_result"
    }
   ],
   "source": [
    "number = 100 #value 100 is store in variable 'numner'\n",
    "number #print"
   ]
  },
  {
   "cell_type": "code",
   "execution_count": 3,
   "id": "aae5f56c-312a-411c-bd7a-29914605b097",
   "metadata": {},
   "outputs": [
    {
     "data": {
      "text/plain": [
       "200"
      ]
     },
     "execution_count": 3,
     "metadata": {},
     "output_type": "execute_result"
    }
   ],
   "source": [
    "number = 200 #value 200 is store in variable 'numner'\n",
    "number"
   ]
  },
  {
   "cell_type": "markdown",
   "id": "dd7b6acc-6e89-4ac2-9a03-2a9c08ee65a8",
   "metadata": {},
   "source": [
    "**Note**\n",
    "- Python is step by step process\n",
    "- Python will take the last output as latest value\n",
    "- in above code we are using same variable number\n",
    "- but number value changed 2 times\n",
    "    - first time 100\n",
    "    - second time 200\n",
    "latest value 200"
   ]
  },
  {
   "cell_type": "code",
   "execution_count": 4,
   "id": "6962f6f5-0a44-4251-a8c5-37311152346d",
   "metadata": {},
   "outputs": [
    {
     "data": {
      "text/plain": [
       "200"
      ]
     },
     "execution_count": 4,
     "metadata": {},
     "output_type": "execute_result"
    }
   ],
   "source": [
    "NUMBER = 200\n",
    "NUMBER"
   ]
  },
  {
   "cell_type": "markdown",
   "id": "c1f76045-c254-4419-9c9a-454bec3179a7",
   "metadata": {},
   "source": [
    "**use tab to avoid mistakes**"
   ]
  },
  {
   "cell_type": "code",
   "execution_count": 5,
   "id": "aec2fa54-9f67-4718-8748-8ce91a8ff7fb",
   "metadata": {},
   "outputs": [
    {
     "data": {
      "text/plain": [
       "(200, 200)"
      ]
     },
     "execution_count": 5,
     "metadata": {},
     "output_type": "execute_result"
    }
   ],
   "source": [
    "number,NUMBER"
   ]
  },
  {
   "cell_type": "code",
   "execution_count": 6,
   "id": "b61a6087-1972-4173-b1ad-c3ac614f7644",
   "metadata": {},
   "outputs": [
    {
     "data": {
      "text/plain": [
       "300"
      ]
     },
     "execution_count": 6,
     "metadata": {},
     "output_type": "execute_result"
    }
   ],
   "source": [
    "NUMber =300\n",
    "NUMber"
   ]
  },
  {
   "cell_type": "code",
   "execution_count": 7,
   "id": "a313e314-aa5a-451c-bfe7-710536ed0058",
   "metadata": {},
   "outputs": [
    {
     "data": {
      "text/plain": [
       "400"
      ]
     },
     "execution_count": 7,
     "metadata": {},
     "output_type": "execute_result"
    }
   ],
   "source": [
    "number123 =400\n",
    "number123"
   ]
  },
  {
   "cell_type": "code",
   "execution_count": 8,
   "id": "087d6f73-38f8-4dfc-bde0-71bb835025b1",
   "metadata": {},
   "outputs": [
    {
     "ename": "SyntaxError",
     "evalue": "cannot assign to expression here. Maybe you meant '==' instead of '='? (3750452875.py, line 1)",
     "output_type": "error",
     "traceback": [
      "\u001b[1;36m  Cell \u001b[1;32mIn[8], line 1\u001b[1;36m\u001b[0m\n\u001b[1;33m    numb%er = 6004\u001b[0m\n\u001b[1;37m    ^\u001b[0m\n\u001b[1;31mSyntaxError\u001b[0m\u001b[1;31m:\u001b[0m cannot assign to expression here. Maybe you meant '==' instead of '='?\n"
     ]
    }
   ],
   "source": [
    "numb%er = 6004\n",
    "numb%er"
   ]
  },
  {
   "cell_type": "code",
   "execution_count": 9,
   "id": "d65dbbf6-2f60-4f16-b545-a812a73a3700",
   "metadata": {},
   "outputs": [
    {
     "ename": "SyntaxError",
     "evalue": "invalid syntax (2656576567.py, line 1)",
     "output_type": "error",
     "traceback": [
      "\u001b[1;36m  Cell \u001b[1;32mIn[9], line 1\u001b[1;36m\u001b[0m\n\u001b[1;33m    number one=800\u001b[0m\n\u001b[1;37m           ^\u001b[0m\n\u001b[1;31mSyntaxError\u001b[0m\u001b[1;31m:\u001b[0m invalid syntax\n"
     ]
    }
   ],
   "source": [
    "number one=800\n",
    "number one"
   ]
  },
  {
   "cell_type": "code",
   "execution_count": 10,
   "id": "7d2dc482-f47f-442e-976b-e84dacea97dd",
   "metadata": {},
   "outputs": [
    {
     "data": {
      "text/plain": [
       "900"
      ]
     },
     "execution_count": 10,
     "metadata": {},
     "output_type": "execute_result"
    }
   ],
   "source": [
    "number_one=900\n",
    "number_one"
   ]
  },
  {
   "cell_type": "code",
   "execution_count": 11,
   "id": "7439a579-339c-489c-bb9c-90fe04bd66c0",
   "metadata": {},
   "outputs": [
    {
     "data": {
      "text/plain": [
       "1000"
      ]
     },
     "execution_count": 11,
     "metadata": {},
     "output_type": "execute_result"
    }
   ],
   "source": [
    "_=1000\n",
    "_\n"
   ]
  },
  {
   "cell_type": "code",
   "execution_count": 14,
   "id": "f656eac1-305a-4ed6-8133-fbe45a87a437",
   "metadata": {},
   "outputs": [
    {
     "data": {
      "text/plain": [
       "(100, 200)"
      ]
     },
     "execution_count": 14,
     "metadata": {},
     "output_type": "execute_result"
    }
   ],
   "source": [
    "n1=100,200\n",
    "n1"
   ]
  },
  {
   "cell_type": "code",
   "execution_count": 15,
   "id": "ac782f12-ee6f-40ee-ac92-0cd9b26607d3",
   "metadata": {},
   "outputs": [
    {
     "ename": "TypeError",
     "evalue": "cannot unpack non-iterable int object",
     "output_type": "error",
     "traceback": [
      "\u001b[1;31m---------------------------------------------------------------------------\u001b[0m",
      "\u001b[1;31mTypeError\u001b[0m                                 Traceback (most recent call last)",
      "Cell \u001b[1;32mIn[15], line 1\u001b[0m\n\u001b[1;32m----> 1\u001b[0m n2,n3 \u001b[38;5;241m=\u001b[39m\u001b[38;5;241m200\u001b[39m\n",
      "\u001b[1;31mTypeError\u001b[0m: cannot unpack non-iterable int object"
     ]
    }
   ],
   "source": [
    "n2,n3 =200"
   ]
  },
  {
   "cell_type": "code",
   "execution_count": 16,
   "id": "6bb4598b-d4f8-491d-96c2-068898dbe5c6",
   "metadata": {},
   "outputs": [],
   "source": [
    "n4,n5=100,200"
   ]
  },
  {
   "cell_type": "markdown",
   "id": "804e90e7-51e8-42e1-be26-eb7a6f92f726",
   "metadata": {},
   "source": [
    "- Python variables are case sensitive\n",
    "- Varable can be declared as Capital letters\n",
    "- Varable can be declared as small letters\n",
    "- variable can not start with number (prifix)\n",
    "- Number can be suffix of the variable\n",
    "- Varaible can not have character expect **underscore( _ )**\n",
    "- Variable can not have space between names\n",
    "- Key words can not use as variable\n",
    "- only underscore is possible\n",
    "- Two values can be assign to a single variable\n",
    "- one value can not assign to two variable"
   ]
  },
  {
   "cell_type": "markdown",
   "id": "d5977b27-879e-4565-b62f-cf118a3bf12a",
   "metadata": {},
   "source": [
    "**save as html then convert it to pdf using ctrl+p**"
   ]
  },
  {
   "cell_type": "code",
   "execution_count": null,
   "id": "ade61d8f-9a7a-4887-84a7-2411fc39501e",
   "metadata": {},
   "outputs": [],
   "source": []
  }
 ],
 "metadata": {
  "kernelspec": {
   "display_name": "Python 3 (ipykernel)",
   "language": "python",
   "name": "python3"
  },
  "language_info": {
   "codemirror_mode": {
    "name": "ipython",
    "version": 3
   },
   "file_extension": ".py",
   "mimetype": "text/x-python",
   "name": "python",
   "nbconvert_exporter": "python",
   "pygments_lexer": "ipython3",
   "version": "3.11.7"
  }
 },
 "nbformat": 4,
 "nbformat_minor": 5
}
