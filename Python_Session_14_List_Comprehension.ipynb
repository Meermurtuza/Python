{
 "cells": [
  {
   "cell_type": "markdown",
   "id": "09dd989c-656f-470c-aac1-158e3fa7702d",
   "metadata": {},
   "source": [
    "- We can store the output values by using append operations\n",
    "- we are taking empty list\n",
    "- we are iterating through elements from a given list\n",
    "- the result we are appending in a new list"
   ]
  },
  {
   "cell_type": "code",
   "execution_count": 2,
   "id": "53bf3aa2-ebab-4af3-b605-ec42c49d7262",
   "metadata": {},
   "outputs": [
    {
     "data": {
      "text/plain": [
       "[0, 1, 4, 9, 16, 25, 36, 49, 64, 81]"
      ]
     },
     "execution_count": 2,
     "metadata": {},
     "output_type": "execute_result"
    }
   ],
   "source": [
    "sq_list=[]\n",
    "for i in range(10):\n",
    "    sq_list.append(i*i)\n",
    "sq_list"
   ]
  },
  {
   "cell_type": "markdown",
   "id": "35d40d47-36ad-4778-bee6-81cffde9329b",
   "metadata": {},
   "source": [
    "- There are almost 3 lines are in the process\n",
    "- The three lines we can make into a single line\n",
    "- This is called as list comprehension"
   ]
  },
  {
   "cell_type": "markdown",
   "id": "717c300e-b134-4c0a-be58-f616539834ba",
   "metadata": {},
   "source": [
    "$Pattern-1$\n",
    "\n",
    "**Only for loop**"
   ]
  },
  {
   "cell_type": "code",
   "execution_count": 3,
   "id": "8889418e-f409-4eb5-82cf-e3710819de94",
   "metadata": {},
   "outputs": [],
   "source": [
    "# syntax\n",
    "# [<output> <for loop>]"
   ]
  },
  {
   "cell_type": "code",
   "execution_count": 8,
   "id": "c2e018a4-2699-4416-9bc0-a70c046f9e1b",
   "metadata": {},
   "outputs": [
    {
     "data": {
      "text/plain": [
       "[0, 1, 4, 9, 16, 25, 36, 49, 64, 81]"
      ]
     },
     "execution_count": 8,
     "metadata": {},
     "output_type": "execute_result"
    }
   ],
   "source": [
    "sq_list=[]\n",
    "for i in range(10):\n",
    "    sq_list.append(i*i)\n",
    "sq_list\n",
    "\n",
    "# Q1 What is the output? i*i\n",
    "# Q2 What is the output list name? sq_list\n",
    "# Q3 What is the for loop? for i in range(10)\n",
    "#   [<output> <for loop>]\n",
    "\n",
    "sq_list=[i*i for i in range(10)]\n",
    "sq_list"
   ]
  },
  {
   "cell_type": "code",
   "execution_count": 16,
   "id": "ae8db425-a31b-4e2d-b34b-c4d14b464e26",
   "metadata": {},
   "outputs": [
    {
     "data": {
      "text/plain": [
       "['HYD', 'MUMBAI', 'CHENNAI', 'BLR']"
      ]
     },
     "execution_count": 16,
     "metadata": {},
     "output_type": "execute_result"
    }
   ],
   "source": [
    "# Q2 l1=['hyd','mumbai','chennai','blr']\n",
    "#    ans=['Hyd','Mumbai','Chennai,'Blr']\n",
    "\n",
    "l1=['hyd','mumbai','chennai','blr']\n",
    "upper=[]\n",
    "for i in l1:\n",
    "    upper.append(i.upper())\n",
    "upper"
   ]
  },
  {
   "cell_type": "code",
   "execution_count": 18,
   "id": "95fbd870-95ce-4d03-a7a7-9d61b5e6f5de",
   "metadata": {},
   "outputs": [
    {
     "data": {
      "text/plain": [
       "['HYD', 'MUMBAI', 'CHENNAI', 'BLR']"
      ]
     },
     "execution_count": 18,
     "metadata": {},
     "output_type": "execute_result"
    }
   ],
   "source": [
    "# Q1 What is the output? i.upper\n",
    "# Q2 What is the output list name? upper\n",
    "# Q3 What is the for loop? for i in l1\n",
    "#   [<output> <for loop>\n",
    "l1=['hyd','mumbai','chennai','blr']\n",
    "upper=[i.upper() for i in l1]\n",
    "upper"
   ]
  },
  {
   "cell_type": "code",
   "execution_count": 20,
   "id": "2d7c1b53-1e95-4c7c-ad67-c47a6fa1d743",
   "metadata": {},
   "outputs": [
    {
     "name": "stdout",
     "output_type": "stream",
     "text": [
      "hyd\n",
      "mumbai\n",
      "chennai\n",
      "blr\n"
     ]
    },
    {
     "data": {
      "text/plain": [
       "['hyd', 'mumbai', 'chennai', 'blr']"
      ]
     },
     "execution_count": 20,
     "metadata": {},
     "output_type": "execute_result"
    }
   ],
   "source": [
    "l1=['HYD', 'MUMBAI', 'CHENNAI', 'BLR']\n",
    "lower=[]\n",
    "for i in l1:\n",
    "    print(i.lower())\n",
    "    lower.append(i.lower())\n",
    "\n",
    "lower"
   ]
  },
  {
   "cell_type": "code",
   "execution_count": 27,
   "id": "56b3362f-69d4-4b94-b35a-f4f1b4c5ad44",
   "metadata": {},
   "outputs": [
    {
     "data": {
      "text/plain": [
       "['hyd', 'mumbai', 'chennai', 'blr']"
      ]
     },
     "execution_count": 27,
     "metadata": {},
     "output_type": "execute_result"
    }
   ],
   "source": [
    "l1=['HYD', 'MUMBAI', 'CHENNAI', 'BLR']\n",
    "lower=[i.lower() for i in l1]\n",
    "lower"
   ]
  },
  {
   "cell_type": "code",
   "execution_count": 46,
   "id": "20f47328-1036-4b7f-9096-aaab78e80ef7",
   "metadata": {},
   "outputs": [
    {
     "name": "stdout",
     "output_type": "stream",
     "text": [
      "0\n",
      "1\n",
      "2\n",
      "3\n",
      "[0, 1, 2, 3]\n",
      "6\n"
     ]
    }
   ],
   "source": [
    "l1=['HYD', 'MUMBAI', 'CHENNAI', 'BLR']\n",
    "l2=[]\n",
    "# summ of all indexes\n",
    "for i in l1:\n",
    "    print(l1.index(i))\n",
    "    l2.append(l1.index(i))\n",
    "print(l2)\n",
    "print(sum(l2))"
   ]
  },
  {
   "cell_type": "code",
   "execution_count": 43,
   "id": "ed1d5cb7-ddac-44aa-97e9-f04f378bba57",
   "metadata": {},
   "outputs": [
    {
     "data": {
      "text/plain": [
       "6"
      ]
     },
     "execution_count": 43,
     "metadata": {},
     "output_type": "execute_result"
    }
   ],
   "source": [
    "l1=['HYD', 'MUMBAI', 'CHENNAI', 'BLR']\n",
    "l2=[l1.index(i) for i in l1]\n",
    "sum(l2)"
   ]
  },
  {
   "cell_type": "markdown",
   "id": "f49e01f4-6236-4a8d-ac24-d1456c041c78",
   "metadata": {},
   "source": [
    "- making empty list\n",
    "- initializations will not works in list comprehension\n",
    "- assignment operations also not works"
   ]
  },
  {
   "cell_type": "markdown",
   "id": "10e82efa-e5cf-447a-b57e-442f563da332",
   "metadata": {},
   "source": [
    "$Pattern-2$\n",
    "\n",
    "**for loop - if condition**"
   ]
  },
  {
   "cell_type": "code",
   "execution_count": 48,
   "id": "18b36c3f-1614-4e40-a3be-e05462de90b6",
   "metadata": {},
   "outputs": [],
   "source": [
    "# syntax\n",
    "# [<output> <for loop> <if condition>]"
   ]
  },
  {
   "cell_type": "code",
   "execution_count": 55,
   "id": "d534fc00-fb04-423c-8605-b5bc9845391a",
   "metadata": {},
   "outputs": [
    {
     "name": "stdout",
     "output_type": "stream",
     "text": [
      "Mumbai\n",
      "Chennai\n"
     ]
    },
    {
     "data": {
      "text/plain": [
       "['Mumbai', 'Chennai']"
      ]
     },
     "execution_count": 55,
     "metadata": {},
     "output_type": "execute_result"
    }
   ],
   "source": [
    "# Q5 print the city name greater than 4\n",
    "l1=['Hyd', 'Mumbai', 'Chennai', 'blr']\n",
    "l2=[]\n",
    "for i in l1:\n",
    "    if len(i) >4:\n",
    "        print(i)\n",
    "        l2.append(i)\n",
    "l2"
   ]
  },
  {
   "cell_type": "code",
   "execution_count": 57,
   "id": "ac09efd0-1afe-443a-8a8a-882e01901625",
   "metadata": {},
   "outputs": [
    {
     "data": {
      "text/plain": [
       "['Mumbai', 'Chennai']"
      ]
     },
     "execution_count": 57,
     "metadata": {},
     "output_type": "execute_result"
    }
   ],
   "source": [
    "l1=['Hyd', 'Mumbai', 'Chennai', 'blr']\n",
    "l2=[i for i in l1 if len(i) >4]\n",
    "l2"
   ]
  },
  {
   "cell_type": "code",
   "execution_count": 58,
   "id": "2e417fe9-960b-4a76-8638-4ba0d447ee11",
   "metadata": {},
   "outputs": [],
   "source": [
    "# Q6 l1=['Hyd', 'Mum#bai', 'Chen#nai', 'blr']\n",
    "# ans_#=['Mum#bai', 'Chen#nai']\n",
    "# ans_without=['Hyd','blr']\n",
    "# we want the element which are having '#' for loop if condition\n"
   ]
  },
  {
   "cell_type": "code",
   "execution_count": 76,
   "id": "c5b74879-5c0b-4a39-867d-5b006f95fd9f",
   "metadata": {},
   "outputs": [
    {
     "name": "stdout",
     "output_type": "stream",
     "text": [
      "Mum#bai\n",
      "Chen#nai\n"
     ]
    },
    {
     "data": {
      "text/plain": [
       "['Mum#bai', 'Chen#nai']"
      ]
     },
     "execution_count": 76,
     "metadata": {},
     "output_type": "execute_result"
    }
   ],
   "source": [
    "l1=['Hyd', 'Mum#bai', 'Chen#nai', 'blr']\n",
    "l2=[]\n",
    "for i in l1:\n",
    "    if \"#\" in i:\n",
    "        print(i)\n",
    "        l2.append(i)\n",
    "l2"
   ]
  },
  {
   "cell_type": "code",
   "execution_count": 77,
   "id": "a16a54c4-c74b-4b3c-ad70-961e757946d1",
   "metadata": {},
   "outputs": [
    {
     "name": "stdout",
     "output_type": "stream",
     "text": [
      "Hyd\n",
      "blr\n"
     ]
    },
    {
     "data": {
      "text/plain": [
       "['Hyd', 'blr']"
      ]
     },
     "execution_count": 77,
     "metadata": {},
     "output_type": "execute_result"
    }
   ],
   "source": [
    "l1=['Hyd', 'Mum#bai', 'Chen#nai', 'blr']\n",
    "l2=[]\n",
    "for i in l1:\n",
    "    if not \"#\" in i:\n",
    "        print(i)\n",
    "        l2.append(i)\n",
    "l2"
   ]
  },
  {
   "cell_type": "code",
   "execution_count": 69,
   "id": "fe09c5d1-a50d-4924-a3cc-67f04e6a9171",
   "metadata": {},
   "outputs": [
    {
     "data": {
      "text/plain": [
       "['Mum#bai', 'Chen#nai']"
      ]
     },
     "execution_count": 69,
     "metadata": {},
     "output_type": "execute_result"
    }
   ],
   "source": [
    "l1=['Hyd', 'Mum#bai', 'Chen#nai', 'blr']\n",
    "[i for i in l1 if \"#\" in i] "
   ]
  },
  {
   "cell_type": "code",
   "execution_count": 73,
   "id": "83364a5a-fff0-41ec-bcd9-cd0d63515b3c",
   "metadata": {},
   "outputs": [
    {
     "data": {
      "text/plain": [
       "['Hyd', 'blr']"
      ]
     },
     "execution_count": 73,
     "metadata": {},
     "output_type": "execute_result"
    }
   ],
   "source": [
    "[i for i in l1 if not \"#\" in i]"
   ]
  },
  {
   "cell_type": "code",
   "execution_count": 81,
   "id": "1289f162-fa3b-40c7-8878-47cd8d29680b",
   "metadata": {},
   "outputs": [
    {
     "data": {
      "text/plain": [
       "['Hyd', 'Mumbai', 'Chennai']"
      ]
     },
     "execution_count": 81,
     "metadata": {},
     "output_type": "execute_result"
    }
   ],
   "source": [
    "l1=['Hyd', 'Mumbai', 'Chennai', 'blr']\n",
    "[i for i in l1 if i.istitle()] "
   ]
  },
  {
   "cell_type": "code",
   "execution_count": 117,
   "id": "3de8e543-7301-4958-803c-8378dad890ae",
   "metadata": {},
   "outputs": [
    {
     "data": {
      "text/plain": [
       "['virat', 'Rohit', 'KL']"
      ]
     },
     "execution_count": 117,
     "metadata": {},
     "output_type": "execute_result"
    }
   ],
   "source": [
    "# Q9) str1='virat.kohli@rcb.com, Rohit.sharma@mi.co, KL.Rahul@lucknow.com'\n",
    "# Firstname=[]  second name=[]  cname =[]\n",
    "# append first name should be in first name list\n",
    "#        second name shoul be in second name list\n",
    "#        thirs name will be in thirs name list\n",
    "\n",
    "str1='virat.kohli@rcb.com,Rohit.sharma@mi.com,KL.Rahul@lucknow.com'\n",
    "list1=str1.split(',')\n",
    "# list1[0].index('.')\n",
    "# list1[0][:5]\n",
    "list1[0][:list1[0].index('.')]\n",
    "list1[1][:list1[1].index('.')]\n",
    "list1[2][:list1[2].index('.')]\n",
    "fname=[]\n",
    "for i in list1:\n",
    "    fname.append(i[:i.index('.')])\n",
    "    \n",
    "fname\n"
   ]
  },
  {
   "cell_type": "markdown",
   "id": "b819b354-11a9-4db0-a264-5d11794f26ba",
   "metadata": {},
   "source": [
    "**even-odd**"
   ]
  },
  {
   "cell_type": "code",
   "execution_count": 1,
   "id": "ac60dcbb-442f-4dfa-9a90-2301d9a3583d",
   "metadata": {},
   "outputs": [
    {
     "name": "stdout",
     "output_type": "stream",
     "text": [
      "[2, 4, 6, 8, 10, 12, 14, 16, 18]\n",
      "[1, 3, 5, 7, 9, 11, 13, 15, 17, 19]\n"
     ]
    }
   ],
   "source": [
    "even,odd=[],[]\n",
    "for i in range(1,20):\n",
    "    if i%2==0:\n",
    "        even.append(i)\n",
    "    else:\n",
    "        odd.append(i)\n",
    "\n",
    "print(even)\n",
    "print(odd)"
   ]
  },
  {
   "cell_type": "code",
   "execution_count": 4,
   "id": "f124804f-4518-43e2-8823-4b2546a63e29",
   "metadata": {},
   "outputs": [
    {
     "name": "stdout",
     "output_type": "stream",
     "text": [
      "['odd 1', 'even 2', 'odd 3', 'even 4', 'odd 5', 'even 6', 'odd 7', 'even 8', 'odd 9', 'even 10', 'odd 11', 'even 12', 'odd 13', 'even 14', 'odd 15', 'even 16', 'odd 17', 'even 18', 'odd 19']\n"
     ]
    }
   ],
   "source": [
    "op=[]\n",
    "for i in range(1,20):\n",
    "    if i%2==0:\n",
    "        op.append(f\"even {i}\")\n",
    "    else:\n",
    "        op.append(f\"odd {i}\")\n",
    "print(op)"
   ]
  },
  {
   "cell_type": "code",
   "execution_count": null,
   "id": "020d8b2c-1396-48cb-ab0c-13e864f76e8d",
   "metadata": {},
   "outputs": [],
   "source": []
  }
 ],
 "metadata": {
  "kernelspec": {
   "display_name": "Python 3 (ipykernel)",
   "language": "python",
   "name": "python3"
  },
  "language_info": {
   "codemirror_mode": {
    "name": "ipython",
    "version": 3
   },
   "file_extension": ".py",
   "mimetype": "text/x-python",
   "name": "python",
   "nbconvert_exporter": "python",
   "pygments_lexer": "ipython3",
   "version": "3.11.7"
  }
 },
 "nbformat": 4,
 "nbformat_minor": 5
}
