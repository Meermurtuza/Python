{
 "cells": [
  {
   "cell_type": "markdown",
   "id": "99ae39f4-ac45-46dd-9b06-ea0d39d23aef",
   "metadata": {},
   "source": [
    "**Python devide into 3 parts**\n",
    "\n",
    "- Basics\n",
    "\n",
    "1) Variables\n",
    "2) Data Types\n",
    "3) Type Conversions\n",
    "4) Eval Input\n",
    "5) packages\n",
    "6) Conditional statements\n",
    "7) Try-expect\n",
    "8) Functions\n",
    "9) for\n",
    "10) While\n",
    "\n",
    "- Intermediate part\n",
    "\n",
    "11) Strings\n",
    "12) Lists\n",
    "13) Dictionary\n",
    "14) Tuples(you will do this)\n",
    "15) Sets\n",
    "16) Lambda function\n",
    "17) File handling session\n",
    "\n",
    "- Advance\n",
    "\n",
    "18)  OOPS"
   ]
  },
  {
   "cell_type": "markdown",
   "id": "5142af58-68b4-4a8b-ad87-9fd3b57c4fc2",
   "metadata": {},
   "source": [
    "**Part 1**\n",
    "- Intialization\n",
    "- type\n",
    "- len\n",
    "- max\n",
    "- min\n",
    "- sorted\n",
    "- reversed\n",
    "- in\n",
    "- for loop using in\n",
    "- index\n",
    "- for loop using index\n",
    "- mutable\n",
    "- concatination\n",
    "- Slicing\n",
    "\n",
    "**Part 2**\n",
    "- Methods"
   ]
  },
  {
   "cell_type": "markdown",
   "id": "351b82ae-b47f-4218-98fd-d52eddc12b5d",
   "metadata": {},
   "source": [
    "**Intialization**"
   ]
  },
  {
   "cell_type": "code",
   "execution_count": 2,
   "id": "9ed6dcf2-c20f-4e14-b084-c6916ddeee8d",
   "metadata": {},
   "outputs": [
    {
     "data": {
      "text/plain": [
       "'python'"
      ]
     },
     "execution_count": 2,
     "metadata": {},
     "output_type": "execute_result"
    }
   ],
   "source": [
    "str1='python'\n",
    "str1"
   ]
  },
  {
   "cell_type": "code",
   "execution_count": 3,
   "id": "d46f6fdc-bb04-43c2-b922-ace96324f1ce",
   "metadata": {},
   "outputs": [
    {
     "data": {
      "text/plain": [
       "'python'"
      ]
     },
     "execution_count": 3,
     "metadata": {},
     "output_type": "execute_result"
    }
   ],
   "source": [
    "str2=\"python\"\n",
    "str2"
   ]
  },
  {
   "cell_type": "code",
   "execution_count": null,
   "id": "a40f6f08-7a48-4261-b829-ca0ae5a30827",
   "metadata": {},
   "outputs": [],
   "source": [
    "print(str1) # don't confuse im not seeing the quotes"
   ]
  },
  {
   "cell_type": "markdown",
   "id": "8a654000-486f-4ca8-a372-19d7d4f33fce",
   "metadata": {},
   "source": [
    "**Triple quotes**\n"
   ]
  },
  {
   "cell_type": "code",
   "execution_count": 7,
   "id": "1cc7a895-5a14-4946-a0cd-c77d11f2582b",
   "metadata": {},
   "outputs": [
    {
     "name": "stdout",
     "output_type": "stream",
     "text": [
      "Hi how are you\n",
      "        im good\n"
     ]
    }
   ],
   "source": [
    "str3=\"\"\"Hi how are you\n",
    "        im good\"\"\"\n",
    "print(str3)"
   ]
  },
  {
   "cell_type": "markdown",
   "id": "17c1026f-e736-464c-b328-fe09cacb25ad",
   "metadata": {},
   "source": [
    "**Note**\n",
    "- if you mentioned single quotes or double by default python provides in single quotes only\n",
    "- if we print the strings, we will answer with out quotes\n",
    "- Triple quotes are using for doc string\n",
    "- in order to convey the information about coding part we will use doc string\n",
    "- Anything inside single and double quotes is consider as string in python"
   ]
  },
  {
   "cell_type": "markdown",
   "id": "1ca96c9b-6f84-45c0-b699-19ccd3dc50ab",
   "metadata": {},
   "source": [
    "**type**"
   ]
  },
  {
   "cell_type": "code",
   "execution_count": 9,
   "id": "d56a51b3-9238-43e8-9626-c7c378648785",
   "metadata": {},
   "outputs": [
    {
     "data": {
      "text/plain": [
       "str"
      ]
     },
     "execution_count": 9,
     "metadata": {},
     "output_type": "execute_result"
    }
   ],
   "source": [
    "type(str1)"
   ]
  },
  {
   "cell_type": "code",
   "execution_count": 10,
   "id": "f3ef4dd5-c8be-4811-ada8-6968b9eeadfa",
   "metadata": {},
   "outputs": [],
   "source": [
    "str4='10'  #integer value in the form of string\n",
    "str5='10.5'  #float value in the form of string\n",
    "str6='123abc' #alpha numeric value in the form of string\n",
    "str7=\"True\"  # boolean value in the form of string\n",
    "str8='sinx' \n",
    "# Anything inside single and double quotes is consider as string in python"
   ]
  },
  {
   "cell_type": "markdown",
   "id": "042897d3-3fbb-44a7-8fe4-9abd03ae6735",
   "metadata": {},
   "source": [
    "**len**"
   ]
  },
  {
   "cell_type": "code",
   "execution_count": 11,
   "id": "b878d63a-8664-4090-bcc6-25a9feef1837",
   "metadata": {},
   "outputs": [
    {
     "data": {
      "text/plain": [
       "6"
      ]
     },
     "execution_count": 11,
     "metadata": {},
     "output_type": "execute_result"
    }
   ],
   "source": [
    "str1='python'\n",
    "len(str1)"
   ]
  },
  {
   "cell_type": "code",
   "execution_count": 12,
   "id": "9bc68aca-e491-4a81-b5f8-3d796808fc6f",
   "metadata": {},
   "outputs": [
    {
     "data": {
      "text/plain": [
       "6"
      ]
     },
     "execution_count": 12,
     "metadata": {},
     "output_type": "execute_result"
    }
   ],
   "source": [
    "len(str6)"
   ]
  },
  {
   "cell_type": "code",
   "execution_count": 13,
   "id": "b2511c14-c90c-4277-bc2a-6140091c8ec1",
   "metadata": {},
   "outputs": [
    {
     "data": {
      "text/plain": [
       "4"
      ]
     },
     "execution_count": 13,
     "metadata": {},
     "output_type": "execute_result"
    }
   ],
   "source": [
    "len(str5)"
   ]
  },
  {
   "cell_type": "code",
   "execution_count": 14,
   "id": "801b1bbb-d6e2-483f-9453-b3ac173f40c5",
   "metadata": {},
   "outputs": [
    {
     "data": {
      "text/plain": [
       "4"
      ]
     },
     "execution_count": 14,
     "metadata": {},
     "output_type": "execute_result"
    }
   ],
   "source": [
    "len(str8)"
   ]
  },
  {
   "cell_type": "markdown",
   "id": "c48ae862-0875-42b5-976a-01364a83ea06",
   "metadata": {},
   "source": [
    "**max and min**"
   ]
  },
  {
   "cell_type": "code",
   "execution_count": 16,
   "id": "787faf2a-ca3f-48a5-beec-0357454c7a72",
   "metadata": {},
   "outputs": [
    {
     "data": {
      "text/plain": [
       "'y'"
      ]
     },
     "execution_count": 16,
     "metadata": {},
     "output_type": "execute_result"
    }
   ],
   "source": [
    "str1='python'\n",
    "max(str1)"
   ]
  },
  {
   "cell_type": "code",
   "execution_count": 17,
   "id": "0c7115fe-5e11-48c0-add5-5775920c622f",
   "metadata": {},
   "outputs": [
    {
     "data": {
      "text/plain": [
       "(112, 121, 116, 104, 111, 110)"
      ]
     },
     "execution_count": 17,
     "metadata": {},
     "output_type": "execute_result"
    }
   ],
   "source": [
    "ord('p'),ord('y'),ord('t'),ord('h'),ord('o'),ord('n')"
   ]
  },
  {
   "cell_type": "code",
   "execution_count": 18,
   "id": "9f2fbdc3-ff4a-4416-b743-ea501e09a1f1",
   "metadata": {},
   "outputs": [
    {
     "data": {
      "text/plain": [
       "'h'"
      ]
     },
     "execution_count": 18,
     "metadata": {},
     "output_type": "execute_result"
    }
   ],
   "source": [
    "min(str1)"
   ]
  },
  {
   "cell_type": "code",
   "execution_count": 19,
   "id": "aee0eed3-3a97-4459-b735-8492c45e48ec",
   "metadata": {},
   "outputs": [
    {
     "data": {
      "text/plain": [
       "'c'"
      ]
     },
     "execution_count": 19,
     "metadata": {},
     "output_type": "execute_result"
    }
   ],
   "source": [
    "max(str6)"
   ]
  },
  {
   "cell_type": "code",
   "execution_count": 20,
   "id": "d9f91483-fa23-4f32-a0f5-187ccb15d87e",
   "metadata": {},
   "outputs": [
    {
     "data": {
      "text/plain": [
       "(49, 50, 51, 97, 98, 99)"
      ]
     },
     "execution_count": 20,
     "metadata": {},
     "output_type": "execute_result"
    }
   ],
   "source": [
    "ord('1'),ord('2'),ord('3'),ord('a'),ord('b'),ord('c'),"
   ]
  },
  {
   "cell_type": "markdown",
   "id": "0bd4c769-b389-45f2-9700-c0c5c2282a53",
   "metadata": {},
   "source": [
    "**Keywords va Methods**"
   ]
  },
  {
   "cell_type": "markdown",
   "id": "fc027601-ebd6-4223-ba9c-b5eff1f0b9c2",
   "metadata": {},
   "source": [
    "- type(<>)\n",
    "- print(<>)\n",
    "- len(<>)\n",
    "- max(<>)\n",
    "- min(<>)\n",
    "- eval(<>)\n",
    "- input(<>)\n",
    "- sum(<>)"
   ]
  },
  {
   "cell_type": "markdown",
   "id": "fcf670f1-f328-46c9-a96f-63d237384098",
   "metadata": {},
   "source": [
    "- inorder to use methods we need to call package\n",
    "\n",
    "- import random\n",
    "- random.randint\n",
    "\n",
    "- import math\n",
    "- math.sqrt()\n",
    "\n",
    "- import time\n",
    "- time.sleep()"
   ]
  },
  {
   "cell_type": "code",
   "execution_count": 22,
   "id": "430b632f-68bd-4e94-90c5-bd4856c28e57",
   "metadata": {},
   "outputs": [
    {
     "data": {
      "text/plain": [
       "'y'"
      ]
     },
     "execution_count": 22,
     "metadata": {},
     "output_type": "execute_result"
    }
   ],
   "source": [
    "str1='python123'\n",
    "max(str1)"
   ]
  },
  {
   "cell_type": "markdown",
   "id": "d4f13fc7-c637-4eb8-922d-d588b24c988f",
   "metadata": {},
   "source": [
    "**Sum**"
   ]
  },
  {
   "cell_type": "code",
   "execution_count": 23,
   "id": "4cfc72bc-7314-4654-9154-796fc612c1a8",
   "metadata": {},
   "outputs": [
    {
     "ename": "TypeError",
     "evalue": "unsupported operand type(s) for +: 'int' and 'str'",
     "output_type": "error",
     "traceback": [
      "\u001b[1;31m---------------------------------------------------------------------------\u001b[0m",
      "\u001b[1;31mTypeError\u001b[0m                                 Traceback (most recent call last)",
      "Cell \u001b[1;32mIn[23], line 2\u001b[0m\n\u001b[0;32m      1\u001b[0m str1\u001b[38;5;241m=\u001b[39m\u001b[38;5;124m'\u001b[39m\u001b[38;5;124mpython\u001b[39m\u001b[38;5;124m'\u001b[39m\n\u001b[1;32m----> 2\u001b[0m \u001b[38;5;28msum\u001b[39m(str1)\n",
      "\u001b[1;31mTypeError\u001b[0m: unsupported operand type(s) for +: 'int' and 'str'"
     ]
    }
   ],
   "source": [
    "str1='python'\n",
    "sum(str1)"
   ]
  },
  {
   "cell_type": "code",
   "execution_count": 24,
   "id": "c58f8c84-0666-44b3-b373-da96ce7f165a",
   "metadata": {},
   "outputs": [
    {
     "data": {
      "text/plain": [
       "'py'"
      ]
     },
     "execution_count": 24,
     "metadata": {},
     "output_type": "execute_result"
    }
   ],
   "source": [
    "'p'+'y'"
   ]
  },
  {
   "cell_type": "code",
   "execution_count": 25,
   "id": "a640d0cd-66e6-4b03-824d-bcd4457feb10",
   "metadata": {},
   "outputs": [
    {
     "data": {
      "text/plain": [
       "6"
      ]
     },
     "execution_count": 25,
     "metadata": {},
     "output_type": "execute_result"
    }
   ],
   "source": [
    "sum([1,2,3])\n"
   ]
  },
  {
   "cell_type": "markdown",
   "id": "5a3d5c25-9284-4497-9f8f-253599eb88b6",
   "metadata": {},
   "source": [
    "**sorted**"
   ]
  },
  {
   "cell_type": "code",
   "execution_count": null,
   "id": "45183545-2206-4445-920c-ee7a7f9ddc92",
   "metadata": {},
   "outputs": [],
   "source": [
    "len('python')\n",
    "max('python')\n",
    "print('python')\n",
    "min('python')"
   ]
  },
  {
   "cell_type": "code",
   "execution_count": 27,
   "id": "21fd696c-d080-490e-9ed4-7f3fcdee5643",
   "metadata": {},
   "outputs": [
    {
     "data": {
      "text/plain": [
       "['h', 'n', 'o', 'p', 't', 'y']"
      ]
     },
     "execution_count": 27,
     "metadata": {},
     "output_type": "execute_result"
    }
   ],
   "source": [
    "sorted('python')"
   ]
  },
  {
   "cell_type": "markdown",
   "id": "1ac01ca1-4a2f-48da-ae5a-d467e392d669",
   "metadata": {},
   "source": [
    "- sorted gives asending order based on ASCII numbers\n",
    "- sorted is kind of function\n",
    "- Every function we have arguments\n",
    "- In that one argument is **reverse = False**\n",
    "- By defualt sorted out put gives **ascending order**\n",
    "- we can change the order, by providing **reverse = True**\n",
    "- **if we donot mention, it will give the defualt answer**"
   ]
  },
  {
   "cell_type": "code",
   "execution_count": 30,
   "id": "a6ab12f1-1be5-4834-ba26-59b4e08569e2",
   "metadata": {},
   "outputs": [
    {
     "data": {
      "text/plain": [
       "['y', 't', 'p', 'o', 'n', 'h']"
      ]
     },
     "execution_count": 30,
     "metadata": {},
     "output_type": "execute_result"
    }
   ],
   "source": [
    "sorted('python',reverse=True)"
   ]
  },
  {
   "cell_type": "code",
   "execution_count": 31,
   "id": "e2e4554b-3c4c-4ef5-ba2f-4ea450d7ea3d",
   "metadata": {},
   "outputs": [
    {
     "data": {
      "text/plain": [
       "0j"
      ]
     },
     "execution_count": 31,
     "metadata": {},
     "output_type": "execute_result"
    }
   ],
   "source": [
    "complex() #0+0j"
   ]
  },
  {
   "cell_type": "code",
   "execution_count": 32,
   "id": "3adb3658-55b1-4cbd-8b26-11c939767051",
   "metadata": {},
   "outputs": [
    {
     "data": {
      "text/plain": [
       "(10+20j)"
      ]
     },
     "execution_count": 32,
     "metadata": {},
     "output_type": "execute_result"
    }
   ],
   "source": [
    "complex(10,20)"
   ]
  },
  {
   "cell_type": "code",
   "execution_count": 33,
   "id": "6bec505d-7530-4da4-9ee7-a55b6745fb98",
   "metadata": {},
   "outputs": [
    {
     "data": {
      "text/plain": [
       "(10+30j)"
      ]
     },
     "execution_count": 33,
     "metadata": {},
     "output_type": "execute_result"
    }
   ],
   "source": [
    "complex(real=10,imag=30)"
   ]
  },
  {
   "cell_type": "code",
   "execution_count": 34,
   "id": "40bcf671-ad4d-4c6a-abfe-541bc1de01f2",
   "metadata": {},
   "outputs": [
    {
     "ename": "TypeError",
     "evalue": "Random.randint() missing 2 required positional arguments: 'a' and 'b'",
     "output_type": "error",
     "traceback": [
      "\u001b[1;31m---------------------------------------------------------------------------\u001b[0m",
      "\u001b[1;31mTypeError\u001b[0m                                 Traceback (most recent call last)",
      "Cell \u001b[1;32mIn[34], line 2\u001b[0m\n\u001b[0;32m      1\u001b[0m \u001b[38;5;28;01mimport\u001b[39;00m \u001b[38;5;21;01mrandom\u001b[39;00m\n\u001b[1;32m----> 2\u001b[0m random\u001b[38;5;241m.\u001b[39mrandint()\n",
      "\u001b[1;31mTypeError\u001b[0m: Random.randint() missing 2 required positional arguments: 'a' and 'b'"
     ]
    }
   ],
   "source": [
    "import random\n",
    "random.randint()"
   ]
  },
  {
   "cell_type": "code",
   "execution_count": null,
   "id": "0a7e5182-dae2-4ce1-91ca-5d4b8bedf2ff",
   "metadata": {},
   "outputs": [],
   "source": [
    "function() #answer\n",
    "function(a,b) # this might return error,  if we don't give the values of a,b\n",
    "function(a=10,b=10) #answer"
   ]
  },
  {
   "cell_type": "code",
   "execution_count": null,
   "id": "4d6f38b2-e138-44ad-99f5-0c163d1c6618",
   "metadata": {},
   "outputs": [],
   "source": [
    "function()\n",
    "function(a,b)\n",
    "function(a=10,b=10)"
   ]
  },
  {
   "cell_type": "code",
   "execution_count": 35,
   "id": "5d8589af-de51-4fe7-aa89-6b3c62107454",
   "metadata": {},
   "outputs": [
    {
     "data": {
      "text/plain": [
       "0.4116608265746913"
      ]
     },
     "execution_count": 35,
     "metadata": {},
     "output_type": "execute_result"
    }
   ],
   "source": [
    "import random\n",
    "random.random() #we will get he answer but answer is not in our hand"
   ]
  },
  {
   "cell_type": "code",
   "execution_count": 36,
   "id": "1806da98-1e07-4e9f-a229-78094cca25e0",
   "metadata": {},
   "outputs": [
    {
     "data": {
      "text/plain": [
       "17"
      ]
     },
     "execution_count": 36,
     "metadata": {},
     "output_type": "execute_result"
    }
   ],
   "source": [
    "import random\n",
    "random.randint(10,20)"
   ]
  },
  {
   "cell_type": "code",
   "execution_count": 37,
   "id": "eb48b1b3-260f-42b1-bf5a-b18dd6544f55",
   "metadata": {},
   "outputs": [
    {
     "data": {
      "text/plain": [
       "0j"
      ]
     },
     "execution_count": 37,
     "metadata": {},
     "output_type": "execute_result"
    }
   ],
   "source": [
    "complex() #By defualt 0,0"
   ]
  },
  {
   "cell_type": "code",
   "execution_count": 38,
   "id": "2d2b840b-f82e-4b06-8a33-ad5a736cd9a2",
   "metadata": {},
   "outputs": [
    {
     "data": {
      "text/plain": [
       "(10+20j)"
      ]
     },
     "execution_count": 38,
     "metadata": {},
     "output_type": "execute_result"
    }
   ],
   "source": [
    "complex(10,20)"
   ]
  },
  {
   "cell_type": "code",
   "execution_count": 39,
   "id": "31e989aa-71ac-4116-9489-2c83c7e69d69",
   "metadata": {},
   "outputs": [
    {
     "ename": "TypeError",
     "evalue": "sorted expected 1 argument, got 0",
     "output_type": "error",
     "traceback": [
      "\u001b[1;31m---------------------------------------------------------------------------\u001b[0m",
      "\u001b[1;31mTypeError\u001b[0m                                 Traceback (most recent call last)",
      "Cell \u001b[1;32mIn[39], line 1\u001b[0m\n\u001b[1;32m----> 1\u001b[0m \u001b[38;5;28msorted\u001b[39m(iterable\u001b[38;5;241m=\u001b[39m\u001b[38;5;124m'\u001b[39m\u001b[38;5;124mpython\u001b[39m\u001b[38;5;124m'\u001b[39m)\n\u001b[0;32m      2\u001b[0m random\u001b[38;5;241m.\u001b[39mrandint()\n",
      "\u001b[1;31mTypeError\u001b[0m: sorted expected 1 argument, got 0"
     ]
    }
   ],
   "source": [
    "sorted(iterable='python')#error\n",
    "random.randint()#answer"
   ]
  },
  {
   "cell_type": "markdown",
   "id": "f9acc4ee-c103-4d0b-8844-04ae9bbf6d89",
   "metadata": {},
   "source": [
    "**Note** \n",
    "- we have arguments before / and after slash\n",
    "- we can use the argument name after / only\n",
    "- For example sorted has two arguments one is iterable and another one is reverse\n",
    "- iterable is mentioned before / symbol\n",
    "- reverse is mentioned after / symbol\n",
    "- so we can use only reverse arguments name while we are doing the work\n",
    "- we can not use iterable arguments name\n",
    "- Instead of using iterable name, we can provide direct value at that position"
   ]
  },
  {
   "cell_type": "markdown",
   "id": "32b3aa44-2be2-4677-8ec7-a413b2779c2b",
   "metadata": {},
   "source": [
    "**reversed**"
   ]
  },
  {
   "cell_type": "code",
   "execution_count": null,
   "id": "c8588450-4f03-4c01-b19d-e6a1155f8be9",
   "metadata": {},
   "outputs": [],
   "source": [
    "type()\n",
    "len()\n",
    "max()\n",
    "min()\n",
    "print()\n",
    "sorted()"
   ]
  },
  {
   "cell_type": "code",
   "execution_count": 43,
   "id": "a0deb242-5eb6-4ee0-97d5-c3e858d0dcc7",
   "metadata": {},
   "outputs": [
    {
     "data": {
      "text/plain": [
       "<reversed at 0x251b83ff250>"
      ]
     },
     "execution_count": 43,
     "metadata": {},
     "output_type": "execute_result"
    }
   ],
   "source": [
    "reversed('python')"
   ]
  },
  {
   "cell_type": "markdown",
   "id": "10c40ca7-eb4a-42fe-b072-6362bed5ff21",
   "metadata": {},
   "source": [
    "- I already done my work\n",
    "- Your output is store in that memory location\n",
    "- Whenever you see this kind of answer less than and greater than symbol or memory\n",
    "- use for loop to see the answer\n",
    "\n"
   ]
  },
  {
   "cell_type": "code",
   "execution_count": 44,
   "id": "9cbddc36-2aaa-424a-9331-09a77183f3d6",
   "metadata": {},
   "outputs": [
    {
     "name": "stdout",
     "output_type": "stream",
     "text": [
      "n\n",
      "o\n",
      "h\n",
      "t\n",
      "y\n",
      "p\n"
     ]
    }
   ],
   "source": [
    "str1='python'\n",
    "output=reversed(str1)\n",
    "for i in output:\n",
    "    print(i)\n"
   ]
  },
  {
   "cell_type": "code",
   "execution_count": 45,
   "id": "5ee930c6-e880-41a6-8fe4-03f2ef034727",
   "metadata": {},
   "outputs": [
    {
     "data": {
      "text/plain": [
       "['a', 'c', 'd', 'y', 'z']"
      ]
     },
     "execution_count": 45,
     "metadata": {},
     "output_type": "execute_result"
    }
   ],
   "source": [
    "sorted('azycd')"
   ]
  },
  {
   "cell_type": "markdown",
   "id": "f108c343-ac54-4833-bb73-2a82eefad30b",
   "metadata": {},
   "source": [
    "- initialization\n",
    "- max\n",
    "- min\n",
    "- type\n",
    "- len\n",
    "- sum\n",
    "- sorted\n",
    "- reversed"
   ]
  },
  {
   "cell_type": "code",
   "execution_count": null,
   "id": "8333de1c-9530-4732-bd2e-4287932a0095",
   "metadata": {},
   "outputs": [],
   "source": [
    "type(<>)\n",
    "eval(<>)\n",
    "input(<>)\n",
    "math(<>)\n",
    "len(<>)\n",
    "sum(<>)\n",
    "sorting(<>)\n",
    "reversed(<>)"
   ]
  },
  {
   "cell_type": "code",
   "execution_count": 3,
   "id": "d4ab7b3c-feab-43e3-a3b9-1233683f34a9",
   "metadata": {},
   "outputs": [
    {
     "data": {
      "text/plain": [
       "['e', 'e', 'm', 'r']"
      ]
     },
     "execution_count": 3,
     "metadata": {},
     "output_type": "execute_result"
    }
   ],
   "source": [
    "# sorted \n",
    "# It will provide the values either ascending and descending\n",
    "sorted(\"meer\") # Ascending and descending\n",
    "# when I run directly it will give one number\n",
    "# the function has a default behaviour: ascending\n",
    "# how this default mentioned\n",
    "# we need to understand about arguments"
   ]
  },
  {
   "cell_type": "code",
   "execution_count": 6,
   "id": "f564c60c-5c14-43ea-a056-8ea5a758c0d7",
   "metadata": {},
   "outputs": [
    {
     "data": {
      "text/plain": [
       "['r', 'm', 'e', 'e']"
      ]
     },
     "execution_count": 6,
     "metadata": {},
     "output_type": "execute_result"
    }
   ],
   "source": [
    "sorted('meer',reverse=True)\n",
    "# iterable\n",
    "# key\n",
    "# reverse"
   ]
  },
  {
   "cell_type": "code",
   "execution_count": 9,
   "id": "031f059f-9063-49ee-aa44-566feaaa9792",
   "metadata": {},
   "outputs": [
    {
     "name": "stdout",
     "output_type": "stream",
     "text": [
      "20.0\n"
     ]
    }
   ],
   "source": [
    "def avg(a,b,c):\n",
    "    print((a+b+c)/3)\n",
    "avg(10,20,30)"
   ]
  },
  {
   "cell_type": "code",
   "execution_count": 17,
   "id": "901aaaa0-ee3d-45e5-959e-5879119d87c3",
   "metadata": {},
   "outputs": [
    {
     "name": "stdout",
     "output_type": "stream",
     "text": [
      "r e e m "
     ]
    }
   ],
   "source": [
    "\n",
    "for i in reversed('meer'):\n",
    "    print(i,end=' ')"
   ]
  },
  {
   "cell_type": "code",
   "execution_count": 24,
   "id": "ee1d0377-5ce3-4338-9c20-a0995d1e8da1",
   "metadata": {},
   "outputs": [
    {
     "data": {
      "text/plain": [
       "[1, 2, 10, 20, 30]"
      ]
     },
     "execution_count": 24,
     "metadata": {},
     "output_type": "execute_result"
    }
   ],
   "source": [
    "sorted([1,10,2,20,30])"
   ]
  },
  {
   "cell_type": "code",
   "execution_count": 25,
   "id": "5d0d88c7-01cd-4a3b-86df-f08724bc65e5",
   "metadata": {},
   "outputs": [
    {
     "data": {
      "text/plain": [
       "[30, 20, 10, 2, 1]"
      ]
     },
     "execution_count": 25,
     "metadata": {},
     "output_type": "execute_result"
    }
   ],
   "source": [
    "sorted([1,10,2,20,30],reverse=True)"
   ]
  },
  {
   "cell_type": "markdown",
   "id": "7b0772b5-ae12-4a4f-bd15-6818e17a4d24",
   "metadata": {},
   "source": [
    "**in**"
   ]
  },
  {
   "cell_type": "code",
   "execution_count": 27,
   "id": "8b77c0a2-6858-47fc-a549-73f1b3dcb1af",
   "metadata": {},
   "outputs": [
    {
     "data": {
      "text/plain": [
       "True"
      ]
     },
     "execution_count": 27,
     "metadata": {},
     "output_type": "execute_result"
    }
   ],
   "source": [
    "str1='naresh'\n",
    "'n' in str1"
   ]
  },
  {
   "cell_type": "code",
   "execution_count": 28,
   "id": "b49e99ba-4b4e-41dd-8088-0ea0027f7d63",
   "metadata": {},
   "outputs": [],
   "source": [
    "# string\n",
    "# list\n",
    "# tuples\n",
    "# sets\n",
    "# dictinory"
   ]
  },
  {
   "cell_type": "code",
   "execution_count": 29,
   "id": "0bea42f1-42ea-47ef-8d9f-afc4a121bf92",
   "metadata": {},
   "outputs": [
    {
     "data": {
      "text/plain": [
       "True"
      ]
     },
     "execution_count": 29,
     "metadata": {},
     "output_type": "execute_result"
    }
   ],
   "source": [
    "str1='naresh'\n",
    "'nn' not in str1"
   ]
  },
  {
   "cell_type": "code",
   "execution_count": 30,
   "id": "f8fc3691-e07b-45d9-a623-737108265373",
   "metadata": {},
   "outputs": [
    {
     "name": "stdout",
     "output_type": "stream",
     "text": [
      "n\n",
      "a\n",
      "r\n",
      "e\n",
      "s\n",
      "h\n"
     ]
    }
   ],
   "source": [
    "for i in str1:\n",
    "    print(i)"
   ]
  },
  {
   "cell_type": "markdown",
   "id": "794815d8-b9e4-4b2c-9375-303404216cb2",
   "metadata": {},
   "source": [
    "**Note**\n",
    "- in operator directly acces the letters"
   ]
  },
  {
   "cell_type": "code",
   "execution_count": 31,
   "id": "1a9d955b-e435-4621-a1cc-6acb92b56afb",
   "metadata": {},
   "outputs": [],
   "source": [
    "#Q1 wap ask the user count how many a are present in a given string\n",
    "# str1='hai naresh how are you'\n",
    "\n",
    "# Idea : count wrapper\n",
    "# step1: count=0\n",
    "# step2: using for loop in operator iterate through given string \n",
    "# step3: apply if condition, whenever the letter equal to 'a'\n",
    "# step4: count=count+1"
   ]
  },
  {
   "cell_type": "code",
   "execution_count": 40,
   "id": "4ebe2d58-2b1f-4760-abc7-b190f4f162ee",
   "metadata": {},
   "outputs": [
    {
     "data": {
      "text/plain": [
       "3"
      ]
     },
     "execution_count": 40,
     "metadata": {},
     "output_type": "execute_result"
    }
   ],
   "source": [
    "str1='hai naresh how are you'\n",
    "count=0\n",
    "for i in str1:\n",
    "    if i=='a':\n",
    "        count=count+1\n",
    "count\n",
    "\n",
    "# step1: i='h' if 'h'=='a' False\n",
    "# step2: i='a' if 'a'=='a' True count=0+1=1\n",
    "# step3: i='i' if 'i'=='a' False count=1\n"
   ]
  },
  {
   "cell_type": "code",
   "execution_count": 41,
   "id": "ceea548b-79c4-4808-be33-b04b1126a1cd",
   "metadata": {},
   "outputs": [],
   "source": [
    "#Q2 wap ask find how many vowels are ther in a given string"
   ]
  },
  {
   "cell_type": "code",
   "execution_count": 58,
   "id": "5cc12a9c-e82f-4582-8193-ab859d8b0808",
   "metadata": {},
   "outputs": [
    {
     "name": "stdout",
     "output_type": "stream",
     "text": [
      "The count is: 9\n"
     ]
    }
   ],
   "source": [
    "count=0\n",
    "str1='hai naresh how are you'\n",
    "for i in str1:\n",
    "    if i=='a' or i=='e' or i=='i' or i=='o' or i=='u' :\n",
    "        count=count+1\n",
    "print(\"The count is:\",count)"
   ]
  },
  {
   "cell_type": "code",
   "execution_count": 61,
   "id": "f08da9dd-8fe1-468e-80b6-eff806f7a7f7",
   "metadata": {},
   "outputs": [
    {
     "name": "stdout",
     "output_type": "stream",
     "text": [
      "The count is: 9\n"
     ]
    }
   ],
   "source": [
    "count=0\n",
    "str1='hai naresh how are you'\n",
    "s2='aeiou'\n",
    "for i in str1:\n",
    "    if i in s2 :\n",
    "        count=count+1\n",
    "print(\"The count is:\",count)"
   ]
  },
  {
   "cell_type": "code",
   "execution_count": 62,
   "id": "170b7675-4586-40e3-9a41-ba0a5ae85aa5",
   "metadata": {},
   "outputs": [],
   "source": [
    "#Q3 homework\n",
    "# str1='hai naresh how are you'\n",
    "# repeated vowels are there\n",
    "# we don't want repeated vowels\n",
    "# count the vowels avoid the repeatition: unique vowels\n",
    "\n",
    "# step1: count=0\n",
    "# step2: take one more empty string: ex= s2=''\n",
    "# step3: using for loop in operator iterate through given string\n",
    "# step4: condition-1: That letter should not avaialable in s2\n",
    "# step5:      condtion-2: vowel check condition\n",
    "# step6:                 count=count+1\n",
    "# step7:                 update the s2=s2=s3"
   ]
  },
  {
   "cell_type": "code",
   "execution_count": null,
   "id": "0573631b-b257-440f-b60a-bd19d3f23b09",
   "metadata": {},
   "outputs": [],
   "source": [
    "count=0\n",
    "str1='hai naresh how are you'\n",
    "s2=''\n",
    "s3='aeiou'"
   ]
  },
  {
   "cell_type": "markdown",
   "id": "a8ced1ed-3cf9-42b9-8572-0098c20ecf5d",
   "metadata": {},
   "source": [
    "**How to update the empty string**"
   ]
  },
  {
   "cell_type": "code",
   "execution_count": 63,
   "id": "90eaf16d-16dd-451e-b180-e93d54247542",
   "metadata": {},
   "outputs": [
    {
     "data": {
      "text/plain": [
       "'python'"
      ]
     },
     "execution_count": 63,
     "metadata": {},
     "output_type": "execute_result"
    }
   ],
   "source": [
    "s1='python'\n",
    "s2=''\n",
    "for i in s1:\n",
    "    s2=s2+i  #concatination\n",
    "s2"
   ]
  },
  {
   "cell_type": "markdown",
   "id": "86ddc021-ff6c-4d0b-a7d1-1babad1ca203",
   "metadata": {},
   "source": [
    "**Concatination**"
   ]
  },
  {
   "cell_type": "code",
   "execution_count": 70,
   "id": "675f1ca6-b043-45cd-92f0-e4e3ff27e813",
   "metadata": {},
   "outputs": [
    {
     "data": {
      "text/plain": [
       "'hellobye'"
      ]
     },
     "execution_count": 70,
     "metadata": {},
     "output_type": "execute_result"
    }
   ],
   "source": [
    "s1='hello'\n",
    "s2='bye'\n",
    "s1+s2"
   ]
  },
  {
   "cell_type": "code",
   "execution_count": 69,
   "id": "c16b1bf7-6248-4777-9ec1-bf1c84315d69",
   "metadata": {},
   "outputs": [
    {
     "data": {
      "text/plain": [
       "'hello bye'"
      ]
     },
     "execution_count": 69,
     "metadata": {},
     "output_type": "execute_result"
    }
   ],
   "source": [
    "s1='hello '\n",
    "s2='bye'\n",
    "s1+s2"
   ]
  },
  {
   "cell_type": "code",
   "execution_count": 71,
   "id": "7c72957f-8fb9-4bb0-b32d-c53e1400e132",
   "metadata": {},
   "outputs": [
    {
     "data": {
      "text/plain": [
       "'hello bye'"
      ]
     },
     "execution_count": 71,
     "metadata": {},
     "output_type": "execute_result"
    }
   ],
   "source": [
    "s1='hello'\n",
    "s2=' bye'\n",
    "s1+s2"
   ]
  },
  {
   "cell_type": "code",
   "execution_count": 68,
   "id": "810a0a78-3692-4416-8c8c-7addbc890022",
   "metadata": {},
   "outputs": [
    {
     "data": {
      "text/plain": [
       "'hello bye'"
      ]
     },
     "execution_count": 68,
     "metadata": {},
     "output_type": "execute_result"
    }
   ],
   "source": [
    "s1='hello'\n",
    "s2=' '\n",
    "s3='bye'\n",
    "s1+s2+s3"
   ]
  },
  {
   "cell_type": "code",
   "execution_count": 72,
   "id": "9241f706-8c6d-4a0a-a6ed-decf65d3be96",
   "metadata": {},
   "outputs": [
    {
     "data": {
      "text/plain": [
       "'hello bye'"
      ]
     },
     "execution_count": 72,
     "metadata": {},
     "output_type": "execute_result"
    }
   ],
   "source": [
    "s1='hello'\n",
    "s2=' '\n",
    "s3='bye'\n",
    "s4=s1+s2+s3\n",
    "s4"
   ]
  },
  {
   "cell_type": "code",
   "execution_count": 73,
   "id": "563be3ba-fe4d-4445-b476-d45482925df0",
   "metadata": {},
   "outputs": [
    {
     "ename": "TypeError",
     "evalue": "can't multiply sequence by non-int of type 'str'",
     "output_type": "error",
     "traceback": [
      "\u001b[1;31m---------------------------------------------------------------------------\u001b[0m",
      "\u001b[1;31mTypeError\u001b[0m                                 Traceback (most recent call last)",
      "Cell \u001b[1;32mIn[73], line 3\u001b[0m\n\u001b[0;32m      1\u001b[0m s1\u001b[38;5;241m=\u001b[39m\u001b[38;5;124m'\u001b[39m\u001b[38;5;124mhello\u001b[39m\u001b[38;5;124m'\u001b[39m\n\u001b[0;32m      2\u001b[0m s2\u001b[38;5;241m=\u001b[39m\u001b[38;5;124m'\u001b[39m\u001b[38;5;124mbye\u001b[39m\u001b[38;5;124m'\u001b[39m\n\u001b[1;32m----> 3\u001b[0m s1\u001b[38;5;241m*\u001b[39ms2\n",
      "\u001b[1;31mTypeError\u001b[0m: can't multiply sequence by non-int of type 'str'"
     ]
    }
   ],
   "source": [
    "s1='hello'\n",
    "s2='bye'\n",
    "s1*s2"
   ]
  },
  {
   "cell_type": "code",
   "execution_count": 74,
   "id": "b6a249e8-5227-4aab-843b-04658484d855",
   "metadata": {},
   "outputs": [
    {
     "ename": "TypeError",
     "evalue": "unsupported operand type(s) for /: 'str' and 'str'",
     "output_type": "error",
     "traceback": [
      "\u001b[1;31m---------------------------------------------------------------------------\u001b[0m",
      "\u001b[1;31mTypeError\u001b[0m                                 Traceback (most recent call last)",
      "Cell \u001b[1;32mIn[74], line 3\u001b[0m\n\u001b[0;32m      1\u001b[0m s1\u001b[38;5;241m=\u001b[39m\u001b[38;5;124m'\u001b[39m\u001b[38;5;124mhello\u001b[39m\u001b[38;5;124m'\u001b[39m\n\u001b[0;32m      2\u001b[0m s2\u001b[38;5;241m=\u001b[39m\u001b[38;5;124m'\u001b[39m\u001b[38;5;124mbye\u001b[39m\u001b[38;5;124m'\u001b[39m\n\u001b[1;32m----> 3\u001b[0m s1\u001b[38;5;241m/\u001b[39ms2\n",
      "\u001b[1;31mTypeError\u001b[0m: unsupported operand type(s) for /: 'str' and 'str'"
     ]
    }
   ],
   "source": [
    "s1='hello'\n",
    "s2='bye'\n",
    "s1/s2"
   ]
  },
  {
   "cell_type": "code",
   "execution_count": 75,
   "id": "07de972d-4c4e-4a4b-9ff7-a3c60c0650fb",
   "metadata": {},
   "outputs": [
    {
     "ename": "TypeError",
     "evalue": "unsupported operand type(s) for -: 'str' and 'str'",
     "output_type": "error",
     "traceback": [
      "\u001b[1;31m---------------------------------------------------------------------------\u001b[0m",
      "\u001b[1;31mTypeError\u001b[0m                                 Traceback (most recent call last)",
      "Cell \u001b[1;32mIn[75], line 3\u001b[0m\n\u001b[0;32m      1\u001b[0m s1\u001b[38;5;241m=\u001b[39m\u001b[38;5;124m'\u001b[39m\u001b[38;5;124mhello\u001b[39m\u001b[38;5;124m'\u001b[39m\n\u001b[0;32m      2\u001b[0m s2\u001b[38;5;241m=\u001b[39m\u001b[38;5;124m'\u001b[39m\u001b[38;5;124mbye\u001b[39m\u001b[38;5;124m'\u001b[39m\n\u001b[1;32m----> 3\u001b[0m s1\u001b[38;5;241m-\u001b[39ms2\n",
      "\u001b[1;31mTypeError\u001b[0m: unsupported operand type(s) for -: 'str' and 'str'"
     ]
    }
   ],
   "source": [
    "s1='hello'\n",
    "s2='bye'\n",
    "s1-s2"
   ]
  },
  {
   "cell_type": "code",
   "execution_count": 76,
   "id": "492962b8-01c1-45c0-99bb-b0cd3c21af64",
   "metadata": {},
   "outputs": [
    {
     "data": {
      "text/plain": [
       "'hellohello'"
      ]
     },
     "execution_count": 76,
     "metadata": {},
     "output_type": "execute_result"
    }
   ],
   "source": [
    "s1='hello'\n",
    "s2=2\n",
    "s1*s2"
   ]
  },
  {
   "cell_type": "code",
   "execution_count": 77,
   "id": "e22eb84c-f208-40a8-ad40-5352894887f8",
   "metadata": {},
   "outputs": [
    {
     "data": {
      "text/plain": [
       "'hellohello'"
      ]
     },
     "execution_count": 77,
     "metadata": {},
     "output_type": "execute_result"
    }
   ],
   "source": [
    "s1='hello'\n",
    "s1*2"
   ]
  },
  {
   "cell_type": "markdown",
   "id": "489259c3-d5d6-4cc5-8f32-7a170d0da5fc",
   "metadata": {},
   "source": [
    "**Index**\n",
    "- Index meaning a number attach to a letter\n",
    "- In python index start with zero\n",
    "- We have two directions\n",
    "    - positive direction\n",
    "        - positive numbers start with 0\n",
    "    - negative direction\n",
    "        - negative number starts with-1, applicable to last letter"
   ]
  },
  {
   "cell_type": "code",
   "execution_count": null,
   "id": "470a5331-002d-44a3-a3e6-8ce0f6d3cab8",
   "metadata": {},
   "outputs": [],
   "source": [
    "s1='python'\n",
    "\n",
    "-6   -5   -4   -3   -2   -1   ===>neagtive\n",
    " p    y    t    h    o    n\n",
    " 0    1    2    3    4    5   ===>positive"
   ]
  },
  {
   "cell_type": "code",
   "execution_count": 79,
   "id": "71f01889-8e96-4fbe-b115-6f65e87764ce",
   "metadata": {},
   "outputs": [
    {
     "data": {
      "text/plain": [
       "('p', 'y', 't', 'h', 'o', 'n')"
      ]
     },
     "execution_count": 79,
     "metadata": {},
     "output_type": "execute_result"
    }
   ],
   "source": [
    "s1='python'\n",
    "s1[0],s1[1],s1[2],s1[3],s1[4],s1[5]"
   ]
  },
  {
   "cell_type": "code",
   "execution_count": 80,
   "id": "51e82dba-a84c-4ef4-b487-3d058f471cc4",
   "metadata": {},
   "outputs": [
    {
     "data": {
      "text/plain": [
       "('n', 'o', 'h', 't', 'y', 'p')"
      ]
     },
     "execution_count": 80,
     "metadata": {},
     "output_type": "execute_result"
    }
   ],
   "source": [
    "s1='python'\n",
    "s1[-1],s1[-2],s1[-3],s1[-4],s1[-5],s1[-6]"
   ]
  },
  {
   "cell_type": "code",
   "execution_count": 13,
   "id": "8a40ab4e-c59c-49f5-8d3b-1d516a027474",
   "metadata": {},
   "outputs": [
    {
     "name": "stdout",
     "output_type": "stream",
     "text": [
      "5\n"
     ]
    }
   ],
   "source": [
    "count=0\n",
    "str1='hai naresh how are you'\n",
    "s2=''\n",
    "for i in str1:\n",
    "    if i not in s2:\n",
    "        if i in 'aeiou':\n",
    "            count=count+1\n",
    "            s2=s2+i\n",
    "print(count)"
   ]
  },
  {
   "cell_type": "code",
   "execution_count": 16,
   "id": "df94fbb2-6732-4af4-8f11-509b053e9c46",
   "metadata": {},
   "outputs": [
    {
     "name": "stdout",
     "output_type": "stream",
     "text": [
      "5\n"
     ]
    }
   ],
   "source": [
    "count=0\n",
    "s1='hai naresh how are you'\n",
    "s2=''\n",
    "for i in s1:\n",
    "    if i not in s2:\n",
    "        if i in 'aeiou':\n",
    "            count=count+1\n",
    "            s2=s2+i\n",
    "print(count)"
   ]
  },
  {
   "cell_type": "markdown",
   "id": "7bab55f0-6bd2-4764-968c-b300e26e410f",
   "metadata": {},
   "source": [
    "**Mutable-Immutable**\n",
    "- mutable: it can cahnge\n",
    "    - we can change using indexing\n",
    "- immutable: it can not change\n",
    "    - we can not change using indexing"
   ]
  },
  {
   "cell_type": "code",
   "execution_count": 31,
   "id": "eb5fd5bc-deda-49f4-9aa5-4ba53acde515",
   "metadata": {},
   "outputs": [
    {
     "ename": "TypeError",
     "evalue": "'str' object does not support item assignment",
     "output_type": "error",
     "traceback": [
      "\u001b[1;31m---------------------------------------------------------------------------\u001b[0m",
      "\u001b[1;31mTypeError\u001b[0m                                 Traceback (most recent call last)",
      "Cell \u001b[1;32mIn[31], line 6\u001b[0m\n\u001b[0;32m      2\u001b[0m s\u001b[38;5;241m=\u001b[39m\u001b[38;5;124m'\u001b[39m\u001b[38;5;124mwelcome\u001b[39m\u001b[38;5;124m'\u001b[39m\n\u001b[0;32m      3\u001b[0m \u001b[38;5;66;03m# i want to replace 'l' to 'L'\u001b[39;00m\n\u001b[0;32m      4\u001b[0m \u001b[38;5;66;03m# posible \u001b[39;00m\n\u001b[0;32m      5\u001b[0m \u001b[38;5;66;03m# not possbile\u001b[39;00m\n\u001b[1;32m----> 6\u001b[0m s[\u001b[38;5;241m2\u001b[39m]\u001b[38;5;241m=\u001b[39m\u001b[38;5;124m'\u001b[39m\u001b[38;5;124mL\u001b[39m\u001b[38;5;124m'\u001b[39m\n",
      "\u001b[1;31mTypeError\u001b[0m: 'str' object does not support item assignment"
     ]
    }
   ],
   "source": [
    "#Strings are immutable \n",
    "s='welcome'\n",
    "# i want to replace 'l' to 'L'\n",
    "# posible \n",
    "# not possbile\n",
    "s[2]='L'"
   ]
  },
  {
   "cell_type": "markdown",
   "id": "06f7b0c2-1866-41c5-8275-b10968f38b63",
   "metadata": {},
   "source": [
    "**Strings are immutable**"
   ]
  },
  {
   "cell_type": "code",
   "execution_count": 34,
   "id": "7c3f54a4-a2fe-41bd-b162-e3cdcb86bc61",
   "metadata": {},
   "outputs": [
    {
     "data": {
      "text/plain": [
       "[1, 200, 3, 4]"
      ]
     },
     "execution_count": 34,
     "metadata": {},
     "output_type": "execute_result"
    }
   ],
   "source": [
    "# list are mutable\n",
    "l=[1,2,3,4]\n",
    "l[1]=200\n",
    "l"
   ]
  },
  {
   "cell_type": "code",
   "execution_count": null,
   "id": "02762685-5077-4b8f-bd86-55b04b9507b5",
   "metadata": {},
   "outputs": [],
   "source": [
    "s='welcome'\n",
    "s[2]='L'\n",
    "####################################3\n",
    "l=[1,2,3,4]\n",
    "l[1]=200\n",
    "l"
   ]
  },
  {
   "cell_type": "markdown",
   "id": "2ffe682d-3dbe-4cfb-8755-b733936d9399",
   "metadata": {},
   "source": [
    "- range belongs to which family\n",
    "    - math family\n",
    "- inside range bracket what we need to provide\n",
    "    - number\n",
    "- How many numbers we need to provide\n",
    "    - Number of letter: len(string)\n",
    "- How to access the letter using string\n",
    "    - by using index"
   ]
  },
  {
   "cell_type": "code",
   "execution_count": 54,
   "id": "f1b56a28-47ef-431e-adb1-2daf371d203a",
   "metadata": {},
   "outputs": [
    {
     "name": "stdout",
     "output_type": "stream",
     "text": [
      "welcome"
     ]
    }
   ],
   "source": [
    "#Q4 print each letter using for loop range\n",
    "s='welcome'\n",
    "#range belong to which family \n",
    "# inside brackets we need to provide a number\n",
    "# how many numbers we need to provide\n",
    "#      number of letter=7\n",
    "# how to acces the a letter using number:\n",
    "for i in range(7):\n",
    "    print(s[i],end='')"
   ]
  },
  {
   "cell_type": "code",
   "execution_count": 55,
   "id": "e1fbd806-bbdd-4d6c-8bdd-126fd4c2e87e",
   "metadata": {},
   "outputs": [
    {
     "name": "stdout",
     "output_type": "stream",
     "text": [
      "w\n",
      "e\n",
      "l\n",
      "c\n",
      "o\n",
      "m\n",
      "e\n"
     ]
    }
   ],
   "source": [
    "for i in range(len(s)):\n",
    "    print(s[i])"
   ]
  },
  {
   "cell_type": "markdown",
   "id": "f75638a7-fbf5-4ac8-8700-b42a287de7c7",
   "metadata": {},
   "source": [
    "- **for-in** direcrtly access the letter\n",
    "- **for-range** will access usnig index"
   ]
  },
  {
   "cell_type": "code",
   "execution_count": 58,
   "id": "4ea0986c-c584-481c-9067-d8f7fbb6a476",
   "metadata": {},
   "outputs": [
    {
     "name": "stdout",
     "output_type": "stream",
     "text": [
      "h\n",
      "i\n",
      " \n",
      "h\n",
      "o\n",
      "w\n",
      " \n",
      "a\n",
      "r\n",
      "e\n",
      " \n",
      "u\n"
     ]
    }
   ],
   "source": [
    "str1='hi how are u'\n",
    "\n",
    "for i in range(len(str1)):\n",
    "    print(str1[i])"
   ]
  },
  {
   "cell_type": "code",
   "execution_count": 59,
   "id": "13f40d8b-0a78-4517-9707-0b7d9cd0ec5f",
   "metadata": {},
   "outputs": [],
   "source": [
    "#Q5 wap ask the user iterate using a string\n",
    "# string ='welcome'\n",
    "# print the positive index of w is 0\n",
    "# print the positive index of e is 1\n",
    "# print the positive index of l is 2\n",
    "\n",
    "#Q6 wap ask the user iterate using a string\n",
    "#string='welcome'\n",
    "# print the negative index of w is-7\n",
    "# print the negative index of e is-6\n",
    "# print the negative index of l is-5"
   ]
  },
  {
   "cell_type": "code",
   "execution_count": 76,
   "id": "e9371de2-9185-4d3e-8257-884ed77dcaa5",
   "metadata": {},
   "outputs": [
    {
     "name": "stdout",
     "output_type": "stream",
     "text": [
      "0 w\n",
      "The positive index of w is 0\n",
      "1 e\n",
      "The positive index of e is 1\n",
      "2 l\n",
      "The positive index of l is 2\n",
      "3 c\n",
      "The positive index of c is 3\n",
      "4 o\n",
      "The positive index of o is 4\n",
      "5 m\n",
      "The positive index of m is 5\n",
      "6 e\n",
      "The positive index of e is 6\n"
     ]
    }
   ],
   "source": [
    "string ='welcome'\n",
    "s=len(string)\n",
    "for i in range(s):\n",
    "    print(i,string[i])\n",
    "    print(f\"The positive index of {string[i]} is {i}\")"
   ]
  },
  {
   "cell_type": "code",
   "execution_count": 74,
   "id": "0b201a70-9ab3-43e9-b17e-9329f9d5d9ec",
   "metadata": {},
   "outputs": [
    {
     "name": "stdout",
     "output_type": "stream",
     "text": [
      "-7 w\n",
      "The negative index of w is -7\n",
      "-6 e\n",
      "The negative index of e is -6\n",
      "-5 l\n",
      "The negative index of l is -5\n",
      "-4 c\n",
      "The negative index of c is -4\n",
      "-3 o\n",
      "The negative index of o is -3\n",
      "-2 m\n",
      "The negative index of m is -2\n",
      "-1 e\n",
      "The negative index of e is -1\n"
     ]
    }
   ],
   "source": [
    "string ='welcome'\n",
    "s=len(string)\n",
    "for i in range(s):\n",
    "    print(i-s,string[i])\n",
    "    print(f\"The negative index of {string[i]} is {i-s}\")"
   ]
  },
  {
   "cell_type": "code",
   "execution_count": 78,
   "id": "b3467ffa-3b60-454f-96cc-dc0ac8297806",
   "metadata": {},
   "outputs": [
    {
     "name": "stdout",
     "output_type": "stream",
     "text": [
      "The positive index of w the negative index of w is -7 and is 0\n",
      "The positive index of e the negative index of e is -6 and is 1\n",
      "The positive index of l the negative index of l is -5 and is 2\n",
      "The positive index of c the negative index of c is -4 and is 3\n",
      "The positive index of o the negative index of o is -3 and is 4\n",
      "The positive index of m the negative index of m is -2 and is 5\n",
      "The positive index of e the negative index of e is -1 and is 6\n"
     ]
    }
   ],
   "source": [
    "#Q7 wap ask the user itterate using a string\n",
    "# string='welcomr'\n",
    "# the positive index is 0 and negative index -7 for w\n",
    "s='welcome'\n",
    "for i in range(len(s)):\n",
    "    print(f\"The positive index of {string[i]} the negative index of {string[i]} is {i-len(s)} and is {i}\")"
   ]
  },
  {
   "cell_type": "code",
   "execution_count": null,
   "id": "57bf9c14-1ea8-462a-abac-14b8cd75ed48",
   "metadata": {},
   "outputs": [],
   "source": [
    "#Q8 wap ask the user get the index of each 'a' in a given string\n",
    "# s='hai how are you i am good'\n",
    "\n",
    "\n",
    "#Q9 wap ask the user to get count of number of 'a' in a given string\n",
    "# using for-range\n",
    "\n",
    "#10 wap ask the user to get the sum of all index number os'a'\n",
    "\n",
    "#Q11 wap ask the user get the vowels from the given string"
   ]
  },
  {
   "cell_type": "code",
   "execution_count": 93,
   "id": "028ffba8-040c-4183-8752-a8b3df43d1ab",
   "metadata": {},
   "outputs": [
    {
     "name": "stdout",
     "output_type": "stream",
     "text": [
      "1\n",
      "8\n",
      "18\n"
     ]
    }
   ],
   "source": [
    "#Q8\n",
    "s='hai how are you i am good'\n",
    "for i in range(len(s)):\n",
    "    if s[i]=='a':\n",
    "        print(i)"
   ]
  },
  {
   "cell_type": "code",
   "execution_count": 96,
   "id": "a58abd30-ea5d-4f84-a67a-edb1489eb545",
   "metadata": {},
   "outputs": [
    {
     "name": "stdout",
     "output_type": "stream",
     "text": [
      "3\n"
     ]
    }
   ],
   "source": [
    "#Q9\n",
    "count=0\n",
    "s='hai how are you i am good'\n",
    "for i in range(len(s)):\n",
    "    if s[i]=='a':\n",
    "        count=count+1\n",
    "print(count)"
   ]
  },
  {
   "cell_type": "code",
   "execution_count": 97,
   "id": "edb04482-364b-40bb-98db-017f57240555",
   "metadata": {},
   "outputs": [
    {
     "name": "stdout",
     "output_type": "stream",
     "text": [
      "27\n"
     ]
    }
   ],
   "source": [
    "#Q10\n",
    "summ=0\n",
    "s='hai how are you i am good'\n",
    "for i in range(len(s)):\n",
    "    if s[i]=='a':\n",
    "        summ=summ+i\n",
    "print(summ)"
   ]
  },
  {
   "cell_type": "code",
   "execution_count": 101,
   "id": "7b45bd99-582b-4154-8f85-1ce6ec5ea7ef",
   "metadata": {},
   "outputs": [
    {
     "name": "stdout",
     "output_type": "stream",
     "text": [
      "a\n",
      "i\n",
      "o\n",
      "a\n",
      "e\n",
      "o\n",
      "u\n",
      "i\n",
      "a\n",
      "o\n",
      "o\n",
      "11\n"
     ]
    }
   ],
   "source": [
    "#Q11\n",
    "s='hai how are you i am good'\n",
    "count=0\n",
    "for i in range(len(s)):\n",
    "    if s[i] in 'aeiou':\n",
    "        print(s[i])\n",
    "        count=count+1\n",
    "\n",
    "print(count)"
   ]
  },
  {
   "cell_type": "code",
   "execution_count": 108,
   "id": "444c9da4-5745-4cc5-80e5-7f0641f236c0",
   "metadata": {},
   "outputs": [
    {
     "name": "stdout",
     "output_type": "stream",
     "text": [
      "a\n",
      "i\n",
      "o\n",
      "e\n",
      "u\n",
      "5\n"
     ]
    }
   ],
   "source": [
    "#Q12\n",
    "count=0\n",
    "s1='hai how are you i am good'\n",
    "s2=''\n",
    "for i in range(len(s1)):\n",
    "    if s[i] not in s2:  # we are checking the letter is avilbale in s1(it should not)\n",
    "        if s[i] in 'aeiou':  # we are checking vowels comdition\n",
    "            print(s[i])\n",
    "            count=count+1\n",
    "            s2=s2+s[i]     # we need to update the s1\n",
    "print(count)"
   ]
  },
  {
   "cell_type": "code",
   "execution_count": 114,
   "id": "6dad3c0f-229d-46d2-9475-6f29e11f6d36",
   "metadata": {},
   "outputs": [
    {
     "name": "stdout",
     "output_type": "stream",
     "text": [
      "a\n",
      "i\n",
      "o\n",
      "e\n",
      "u\n",
      "5\n"
     ]
    }
   ],
   "source": [
    "#Q12\n",
    "count=0\n",
    "s1='hai how are you i am good'\n",
    "s2=''\n",
    "for i in range(len(s1)):\n",
    "    if s1[i] not in s2 and s1[i] in 'aeiou':   # we are checking the letter is avilbale in s1(it should not)  # we are checking vowels comdition\n",
    "        print(s1[i])\n",
    "        count=count+1\n",
    "        s2=s2+s[i]     # we need to update the s1\n",
    "print(count)"
   ]
  },
  {
   "cell_type": "code",
   "execution_count": 16,
   "id": "771c7c51-23a4-47f4-bdef-aa0c52b37ece",
   "metadata": {},
   "outputs": [
    {
     "data": {
      "text/plain": [
       "3"
      ]
     },
     "execution_count": 16,
     "metadata": {},
     "output_type": "execute_result"
    }
   ],
   "source": [
    "#Q14 string='ola ola ola'\n",
    "# number of ola = 3\n",
    "string='ola ola ola '\n",
    "string.count('ola')\n",
    "\n"
   ]
  },
  {
   "cell_type": "code",
   "execution_count": 15,
   "id": "fa35577d-1424-4070-9bae-7f80c1b65e66",
   "metadata": {},
   "outputs": [
    {
     "data": {
      "text/plain": [
       "4"
      ]
     },
     "execution_count": 15,
     "metadata": {},
     "output_type": "execute_result"
    }
   ],
   "source": [
    "#Q15 string1='hello hello hello how how how how are you'\n",
    "# what is the most repeated wors: how\n",
    "string1='hello hello hello how how how how are you'\n",
    "string1.count('how')"
   ]
  },
  {
   "cell_type": "code",
   "execution_count": 3,
   "id": "5fe5d9eb-db8e-4ce2-bab2-26c9aab6bd4e",
   "metadata": {},
   "outputs": [
    {
     "ename": "AttributeError",
     "evalue": "'str' object has no attribute 'max'",
     "output_type": "error",
     "traceback": [
      "\u001b[1;31m---------------------------------------------------------------------------\u001b[0m",
      "\u001b[1;31mAttributeError\u001b[0m                            Traceback (most recent call last)",
      "Cell \u001b[1;32mIn[3], line 5\u001b[0m\n\u001b[0;32m      1\u001b[0m \u001b[38;5;66;03m#Q16 string1= 'hellooooo how aree u'\u001b[39;00m\n\u001b[0;32m      2\u001b[0m \u001b[38;5;66;03m#what is the maximun length of the word: helloooo\u001b[39;00m\n\u001b[0;32m      3\u001b[0m \u001b[38;5;66;03m# what is the minimun length of word: u\u001b[39;00m\n\u001b[0;32m      4\u001b[0m string1\u001b[38;5;241m=\u001b[39m\u001b[38;5;124m'\u001b[39m\u001b[38;5;124mhellooooo how aree u\u001b[39m\u001b[38;5;124m'\u001b[39m\n\u001b[1;32m----> 5\u001b[0m string1\u001b[38;5;241m.\u001b[39mmax\n",
      "\u001b[1;31mAttributeError\u001b[0m: 'str' object has no attribute 'max'"
     ]
    }
   ],
   "source": [
    "#Q16 string1= 'hellooooo how aree u'\n",
    "#what is the maximun length of the word: helloooo\n",
    "# what is the minimun length of word: u\n",
    "string1='hellooooo how aree u'\n",
    "word=''\n",
    "\n",
    "\n",
    "#Q17 with out using sorted the sort the letters"
   ]
  },
  {
   "cell_type": "code",
   "execution_count": 2,
   "id": "d7663ecd-6b85-4cae-b672-dfac9378127d",
   "metadata": {},
   "outputs": [
    {
     "data": {
      "text/plain": [
       "3"
      ]
     },
     "execution_count": 2,
     "metadata": {},
     "output_type": "execute_result"
    }
   ],
   "source": [
    "count=0\n",
    "string='ola ola ola '\n",
    "string2=''\n",
    "for i in string:\n",
    "    if i not in string2:\n",
    "        if i in 'ola':\n",
    "            string2=string2+i\n",
    "            count=count+1\n",
    "count"
   ]
  },
  {
   "cell_type": "markdown",
   "id": "8164d80d-5e43-4b6f-96e3-a031e01e9ac6",
   "metadata": {},
   "source": [
    "**Slice**"
   ]
  },
  {
   "cell_type": "markdown",
   "id": "fc88d113-df85-40ca-b18a-5a3b238701b6",
   "metadata": {},
   "source": [
    "- we can cut into pieces\n",
    "- similar to range concept\n",
    "- start, stop, here also"
   ]
  },
  {
   "cell_type": "code",
   "execution_count": 13,
   "id": "6f685b8e-979f-4bde-9a33-08fef1d3259d",
   "metadata": {},
   "outputs": [],
   "source": [
    "str1='hai how are you'"
   ]
  },
  {
   "cell_type": "code",
   "execution_count": null,
   "id": "423f4da2-1035-4bf3-a32a-f9d4de32f1a2",
   "metadata": {},
   "outputs": [],
   "source": [
    "-15  -14   -13   -12   -11   -10   -9   -8   -7   -6   -5   -4   -3   -2    -1\n",
    "h      a     i           h     o     w        a    r    e         y    o     u\n",
    "0      1     2     3     4     5     6   7    8    9   10    11   12   13    14"
   ]
  },
  {
   "cell_type": "code",
   "execution_count": null,
   "id": "57fb2f81-bd34-4c70-aa1e-636fce0d54db",
   "metadata": {},
   "outputs": [],
   "source": [
    "str1[start:stop:step]"
   ]
  },
  {
   "cell_type": "markdown",
   "id": "7f0dbf29-69b1-49cd-97f0-ff7c4f37c4a2",
   "metadata": {},
   "source": [
    "$pattern-1$\n",
    "**str1[start:]**\n",
    "- By default start value = start only\n",
    "- Last value = last value\n",
    "- step nothing mentioned means, It is positive direction and increment by 1"
   ]
  },
  {
   "cell_type": "code",
   "execution_count": 14,
   "id": "03caf7f8-9f3e-4e9c-83ef-f3a6abe7ae07",
   "metadata": {},
   "outputs": [
    {
     "data": {
      "text/plain": [
       "'ow are you'"
      ]
     },
     "execution_count": 14,
     "metadata": {},
     "output_type": "execute_result"
    }
   ],
   "source": [
    "str1='hai how are you'\n",
    "str1[5:]"
   ]
  },
  {
   "cell_type": "code",
   "execution_count": 17,
   "id": "da61c62b-1a49-4b30-a54d-bcecccce92d9",
   "metadata": {},
   "outputs": [
    {
     "data": {
      "text/plain": [
       "'i how are yo'"
      ]
     },
     "execution_count": 17,
     "metadata": {},
     "output_type": "execute_result"
    }
   ],
   "source": [
    "str1[2:14]"
   ]
  },
  {
   "cell_type": "code",
   "execution_count": 19,
   "id": "3baa842a-bd94-458c-8d76-b26ed6f5ddb6",
   "metadata": {},
   "outputs": [
    {
     "data": {
      "text/plain": [
       "'hai how are '"
      ]
     },
     "execution_count": 19,
     "metadata": {},
     "output_type": "execute_result"
    }
   ],
   "source": [
    "str1[-15:-3]"
   ]
  },
  {
   "cell_type": "code",
   "execution_count": 21,
   "id": "48fb8955-1b50-46f8-b71d-f3fca60b88e7",
   "metadata": {},
   "outputs": [
    {
     "data": {
      "text/plain": [
       "'hai how '"
      ]
     },
     "execution_count": 21,
     "metadata": {},
     "output_type": "execute_result"
    }
   ],
   "source": [
    "str1[-15:8]"
   ]
  },
  {
   "cell_type": "code",
   "execution_count": 22,
   "id": "a0c40be8-ef69-49f3-8bbc-3feee33ed463",
   "metadata": {},
   "outputs": [
    {
     "data": {
      "text/plain": [
       "'hai ho'"
      ]
     },
     "execution_count": 22,
     "metadata": {},
     "output_type": "execute_result"
    }
   ],
   "source": [
    "str1[:6]"
   ]
  },
  {
   "cell_type": "code",
   "execution_count": 24,
   "id": "22bda5cb-9da1-4a93-b058-2e15200cb321",
   "metadata": {},
   "outputs": [
    {
     "data": {
      "text/plain": [
       "('ow are you', 'ow are you')"
      ]
     },
     "execution_count": 24,
     "metadata": {},
     "output_type": "execute_result"
    }
   ],
   "source": [
    "str1[5:],str1[-10:]"
   ]
  },
  {
   "cell_type": "markdown",
   "id": "92d2510d-0ad5-4ffb-a4ed-5a9a1a6f7804",
   "metadata": {},
   "source": [
    "$pattern-2$\n",
    "**str1[start:stop]**\n",
    "- start value means by default start only\n",
    "- step is not mentioned positive direction\n",
    "- last = stop-1"
   ]
  },
  {
   "cell_type": "code",
   "execution_count": 25,
   "id": "7489195d-18ae-4089-8f83-884c4202b57a",
   "metadata": {},
   "outputs": [
    {
     "data": {
      "text/plain": [
       "'e yo'"
      ]
     },
     "execution_count": 25,
     "metadata": {},
     "output_type": "execute_result"
    }
   ],
   "source": [
    "#-15  -14   -13   -12   -11   -10   -9   -8   -7   -6   -5   -4   -3   -2    -1\n",
    "#h      a     i           h     o     w        a    r    e         y    o     u\n",
    "#0      1     2     3     4     5     6   7    8    9   10    11   12   13    14\n",
    "\n",
    "str1='hai how are you'\n",
    "str1[-5:14]"
   ]
  },
  {
   "cell_type": "code",
   "execution_count": 31,
   "id": "73ed1bc5-3e7b-4699-b6ee-0022d43ae86f",
   "metadata": {},
   "outputs": [
    {
     "data": {
      "text/plain": [
       "''"
      ]
     },
     "execution_count": 31,
     "metadata": {},
     "output_type": "execute_result"
    }
   ],
   "source": [
    "str1[5:-14]"
   ]
  },
  {
   "cell_type": "code",
   "execution_count": 32,
   "id": "5743bcc0-b3fb-4d55-89cc-0c473521fa40",
   "metadata": {},
   "outputs": [
    {
     "data": {
      "text/plain": [
       "'how are'"
      ]
     },
     "execution_count": 32,
     "metadata": {},
     "output_type": "execute_result"
    }
   ],
   "source": [
    "str1[4:-4]"
   ]
  },
  {
   "cell_type": "code",
   "execution_count": 33,
   "id": "6afc379f-9c85-4f8f-b8cc-8016d0b23b30",
   "metadata": {},
   "outputs": [
    {
     "data": {
      "text/plain": [
       "''"
      ]
     },
     "execution_count": 33,
     "metadata": {},
     "output_type": "execute_result"
    }
   ],
   "source": [
    "str1[-5:-14]"
   ]
  },
  {
   "cell_type": "code",
   "execution_count": 37,
   "id": "dab887ad-bde0-4a29-8cc6-1400b81d163f",
   "metadata": {},
   "outputs": [
    {
     "name": "stdout",
     "output_type": "stream",
     "text": [
      "'ow are yo'\n",
      "'e yo'\n",
      "''\n",
      "''\n"
     ]
    }
   ],
   "source": [
    "str1='hai how are you'\n",
    "print(f\"'{str1[5:14]}'\"),\n",
    "print(f\"'{str1[-5:14]}'\"),\n",
    "print(f\"'{str1[5:-14]}'\"),\n",
    "print(f\"'{str1[-5:-14]}'\")"
   ]
  },
  {
   "cell_type": "markdown",
   "id": "d96cc442-2820-4d33-b546-14218cf26ae2",
   "metadata": {},
   "source": [
    "**Truncation behaviour**\n",
    "- when ever string range is limited,  but we provided unlimited number\n",
    "- string will consider till the range we have\n",
    "- In the above example our range only 15 letters\n",
    "- we provided 500, then 500 will truncate to till 15 letter only"
   ]
  },
  {
   "cell_type": "code",
   "execution_count": 43,
   "id": "c9facaa2-9a60-4761-b6e2-7a37af0aacae",
   "metadata": {},
   "outputs": [],
   "source": [
    "#-15  -14   -13   -12   -11   -10   -9   -8   -7   -6   -5   -4   -3   -2    -1\n",
    "#h      a     i           h     o     w        a    r    e         y    o     u\n",
    "#0      1     2     3     4     5     6   7    8    9   10    11   12   13    14"
   ]
  },
  {
   "cell_type": "code",
   "execution_count": 44,
   "id": "5362b60a-50c8-4d2e-9a03-997f8a5cf3ff",
   "metadata": {},
   "outputs": [
    {
     "data": {
      "text/plain": [
       "'ow are you'"
      ]
     },
     "execution_count": 44,
     "metadata": {},
     "output_type": "execute_result"
    }
   ],
   "source": [
    "str1[5:500]"
   ]
  },
  {
   "cell_type": "code",
   "execution_count": 45,
   "id": "99be0e94-73c7-4dae-a78e-42395bf62baa",
   "metadata": {},
   "outputs": [
    {
     "data": {
      "text/plain": [
       "'hai how are you'"
      ]
     },
     "execution_count": 45,
     "metadata": {},
     "output_type": "execute_result"
    }
   ],
   "source": [
    "str1[-500:500]"
   ]
  },
  {
   "cell_type": "code",
   "execution_count": 46,
   "id": "dcde0f10-23c8-42f4-b314-bf4c70433ebb",
   "metadata": {},
   "outputs": [
    {
     "data": {
      "text/plain": [
       "'u'"
      ]
     },
     "execution_count": 46,
     "metadata": {},
     "output_type": "execute_result"
    }
   ],
   "source": [
    "str1[-1:500]"
   ]
  },
  {
   "cell_type": "code",
   "execution_count": 47,
   "id": "2612460a-53f9-42cd-981a-7d57b665d280",
   "metadata": {},
   "outputs": [
    {
     "data": {
      "text/plain": [
       "''"
      ]
     },
     "execution_count": 47,
     "metadata": {},
     "output_type": "execute_result"
    }
   ],
   "source": [
    "str1[500:]"
   ]
  },
  {
   "cell_type": "code",
   "execution_count": 49,
   "id": "d40f0f75-4b59-481d-84c0-3b08fce48ea8",
   "metadata": {},
   "outputs": [
    {
     "data": {
      "text/plain": [
       "''"
      ]
     },
     "execution_count": 49,
     "metadata": {},
     "output_type": "execute_result"
    }
   ],
   "source": [
    "str1[-500:-100]"
   ]
  },
  {
   "attachments": {},
   "cell_type": "markdown",
   "id": "2f471fed-918e-430a-9640-eb8b61f3b220",
   "metadata": {},
   "source": [
    "$patten-3$\n",
    "**str1[start:stop:step]**\n",
    "- start value means start only \n",
    "- if step value positive\n",
    "    - last value = stop-1\n",
    "- is step value negative\n",
    "    - last value = stop+1"
   ]
  },
  {
   "cell_type": "code",
   "execution_count": 50,
   "id": "20897da7-546e-4e0c-95a6-3bcd0e8ca3d6",
   "metadata": {},
   "outputs": [
    {
     "data": {
      "text/plain": [
       "'ihwaey'"
      ]
     },
     "execution_count": 50,
     "metadata": {},
     "output_type": "execute_result"
    }
   ],
   "source": [
    "#-15  -14   -13   -12   -11   -10   -9   -8   -7   -6   -5   -4   -3   -2    -1\n",
    "#h      a     i           h     o     w        a    r    e         y    o     u\n",
    "#0      1     2     3     4     5     6   7    8    9   10    11   12   13    14\n",
    "\n",
    "str1[2:13:2]"
   ]
  },
  {
   "cell_type": "code",
   "execution_count": 52,
   "id": "1f587341-fefb-4d1e-a292-f4dd2556d15f",
   "metadata": {},
   "outputs": [
    {
     "data": {
      "text/plain": [
       "''"
      ]
     },
     "execution_count": 52,
     "metadata": {},
     "output_type": "execute_result"
    }
   ],
   "source": [
    "str1[2:13:-2]"
   ]
  },
  {
   "cell_type": "code",
   "execution_count": 53,
   "id": "f91dbc70-7a7a-4e23-bb42-4f9053203411",
   "metadata": {},
   "outputs": [
    {
     "data": {
      "text/plain": [
       "''"
      ]
     },
     "execution_count": 53,
     "metadata": {},
     "output_type": "execute_result"
    }
   ],
   "source": [
    "str1[2:-13:2]"
   ]
  },
  {
   "cell_type": "code",
   "execution_count": 55,
   "id": "14482441-0063-45ad-8f80-8c4f13c03e61",
   "metadata": {},
   "outputs": [
    {
     "data": {
      "text/plain": [
       "''"
      ]
     },
     "execution_count": 55,
     "metadata": {},
     "output_type": "execute_result"
    }
   ],
   "source": [
    "str1[2:-13:-2]"
   ]
  },
  {
   "cell_type": "code",
   "execution_count": 56,
   "id": "8e867b72-7b84-4934-9692-69e6f79e77cf",
   "metadata": {},
   "outputs": [
    {
     "data": {
      "text/plain": [
       "''"
      ]
     },
     "execution_count": 56,
     "metadata": {},
     "output_type": "execute_result"
    }
   ],
   "source": [
    "str1[-2:13:2]"
   ]
  },
  {
   "cell_type": "code",
   "execution_count": 57,
   "id": "9fc085d3-4e1d-4291-b813-b3e82abd7308",
   "metadata": {},
   "outputs": [
    {
     "data": {
      "text/plain": [
       "''"
      ]
     },
     "execution_count": 57,
     "metadata": {},
     "output_type": "execute_result"
    }
   ],
   "source": [
    "str1[-2:-13:2]"
   ]
  },
  {
   "cell_type": "code",
   "execution_count": 58,
   "id": "5d31a878-f138-4bee-9115-48506c64726c",
   "metadata": {},
   "outputs": [
    {
     "data": {
      "text/plain": [
       "'o r o '"
      ]
     },
     "execution_count": 58,
     "metadata": {},
     "output_type": "execute_result"
    }
   ],
   "source": [
    "str1[-2:-13:-2]"
   ]
  },
  {
   "cell_type": "code",
   "execution_count": 59,
   "id": "61a9df43-ff58-4858-9c73-b8e63ddc25f5",
   "metadata": {},
   "outputs": [
    {
     "data": {
      "text/plain": [
       "''"
      ]
     },
     "execution_count": 59,
     "metadata": {},
     "output_type": "execute_result"
    }
   ],
   "source": [
    "str1[13:2:2]"
   ]
  },
  {
   "cell_type": "code",
   "execution_count": 60,
   "id": "60f75cca-04a2-4a21-8944-f9543cc91bf5",
   "metadata": {},
   "outputs": [
    {
     "data": {
      "text/plain": [
       "''"
      ]
     },
     "execution_count": 60,
     "metadata": {},
     "output_type": "execute_result"
    }
   ],
   "source": [
    "str1[-13:2:2]"
   ]
  },
  {
   "cell_type": "code",
   "execution_count": 62,
   "id": "b5e25651-30ae-4bca-bb73-44fd5511d878",
   "metadata": {},
   "outputs": [
    {
     "data": {
      "text/plain": [
       "'ihwaey'"
      ]
     },
     "execution_count": 62,
     "metadata": {},
     "output_type": "execute_result"
    }
   ],
   "source": [
    "str1[-13:-2:2]"
   ]
  },
  {
   "cell_type": "code",
   "execution_count": 63,
   "id": "daac223c-72ac-481f-bac8-fe4a4aa450cf",
   "metadata": {},
   "outputs": [
    {
     "data": {
      "text/plain": [
       "''"
      ]
     },
     "execution_count": 63,
     "metadata": {},
     "output_type": "execute_result"
    }
   ],
   "source": [
    "str1[-13:-2:-2]"
   ]
  },
  {
   "cell_type": "code",
   "execution_count": 64,
   "id": "19f3a613-1e71-4609-9604-72b8c117de4b",
   "metadata": {},
   "outputs": [
    {
     "data": {
      "text/plain": [
       "'o r o '"
      ]
     },
     "execution_count": 64,
     "metadata": {},
     "output_type": "execute_result"
    }
   ],
   "source": [
    "str1[13:2:-2]"
   ]
  },
  {
   "cell_type": "code",
   "execution_count": 66,
   "id": "cac54ad1-d79f-492b-8e83-0842de6fdd7b",
   "metadata": {},
   "outputs": [
    {
     "data": {
      "text/plain": [
       "''"
      ]
     },
     "execution_count": 66,
     "metadata": {},
     "output_type": "execute_result"
    }
   ],
   "source": [
    "str1[2:2]"
   ]
  },
  {
   "cell_type": "code",
   "execution_count": 67,
   "id": "ab439e12-1b30-4902-bafe-e8a2345e33d5",
   "metadata": {},
   "outputs": [
    {
     "data": {
      "text/plain": [
       "''"
      ]
     },
     "execution_count": 67,
     "metadata": {},
     "output_type": "execute_result"
    }
   ],
   "source": [
    "str1[-2:13]"
   ]
  },
  {
   "cell_type": "code",
   "execution_count": 68,
   "id": "be9d5c2c-6a9a-4e3e-8c9b-30ba5a71badf",
   "metadata": {},
   "outputs": [
    {
     "data": {
      "text/plain": [
       "''"
      ]
     },
     "execution_count": 68,
     "metadata": {},
     "output_type": "execute_result"
    }
   ],
   "source": [
    "str1[2:-13]"
   ]
  },
  {
   "cell_type": "markdown",
   "id": "4d637caa-6ef4-44b1-94a6-bd5017015a3f",
   "metadata": {},
   "source": [
    "**Part 1**\n",
    "- Intialization\n",
    "- type\n",
    "- len\n",
    "- max\n",
    "- min\n",
    "- sorted\n",
    "- reversed\n",
    "- in\n",
    "- for loop using in\n",
    "- index\n",
    "- for loop using index\n",
    "- mutable\n",
    "- concatination\n",
    "- Slicing\n",
    "\n",
    "**Part 2**\n",
    "- Methods"
   ]
  },
  {
   "cell_type": "code",
   "execution_count": 74,
   "id": "2532ba1c-ac43-4a8b-8d83-20c306bdd7a9",
   "metadata": {},
   "outputs": [
    {
     "data": {
      "text/plain": [
       "'hai how are you'"
      ]
     },
     "execution_count": 74,
     "metadata": {},
     "output_type": "execute_result"
    }
   ],
   "source": [
    "str1[:]"
   ]
  },
  {
   "cell_type": "code",
   "execution_count": 73,
   "id": "6610adfa-ac73-4548-bc5c-13d88d498996",
   "metadata": {},
   "outputs": [
    {
     "data": {
      "text/plain": [
       "'hai how are you'"
      ]
     },
     "execution_count": 73,
     "metadata": {},
     "output_type": "execute_result"
    }
   ],
   "source": [
    "str1[::]"
   ]
  },
  {
   "cell_type": "code",
   "execution_count": 71,
   "id": "52057ea2-5089-479e-8722-f79549865eb2",
   "metadata": {},
   "outputs": [
    {
     "data": {
      "text/plain": [
       "'uoy era woh iah'"
      ]
     },
     "execution_count": 71,
     "metadata": {},
     "output_type": "execute_result"
    }
   ],
   "source": [
    "str1[::-1]"
   ]
  },
  {
   "cell_type": "markdown",
   "id": "94adc0fa-fcd2-4195-b950-6e7b76b0ebfb",
   "metadata": {},
   "source": [
    "**Methods**\n",
    "- String lists tuple dictionary every type has its own methods\n",
    "- we already seen that package has different method\n",
    "- for example random package : random.randint\n",
    "- math package : sqrt\n",
    "- In the same way string also have methods for the packages\n",
    "- In order to see mthods for the packages\n",
    "    - we are importing the package\n",
    "    - we are applying dir\n",
    "- In the similar way in order to see the methods of string, we need to apply dir only"
   ]
  },
  {
   "cell_type": "code",
   "execution_count": 77,
   "id": "f6757b32-8eda-48b9-b07e-c7acc8c70ab8",
   "metadata": {},
   "outputs": [
    {
     "data": {
      "text/plain": [
       "['__add__',\n",
       " '__class__',\n",
       " '__contains__',\n",
       " '__delattr__',\n",
       " '__dir__',\n",
       " '__doc__',\n",
       " '__eq__',\n",
       " '__format__',\n",
       " '__ge__',\n",
       " '__getattribute__',\n",
       " '__getitem__',\n",
       " '__getnewargs__',\n",
       " '__getstate__',\n",
       " '__gt__',\n",
       " '__hash__',\n",
       " '__init__',\n",
       " '__init_subclass__',\n",
       " '__iter__',\n",
       " '__le__',\n",
       " '__len__',\n",
       " '__lt__',\n",
       " '__mod__',\n",
       " '__mul__',\n",
       " '__ne__',\n",
       " '__new__',\n",
       " '__reduce__',\n",
       " '__reduce_ex__',\n",
       " '__repr__',\n",
       " '__rmod__',\n",
       " '__rmul__',\n",
       " '__setattr__',\n",
       " '__sizeof__',\n",
       " '__str__',\n",
       " '__subclasshook__',\n",
       " 'capitalize',\n",
       " 'casefold',\n",
       " 'center',\n",
       " 'count',\n",
       " 'encode',\n",
       " 'endswith',\n",
       " 'expandtabs',\n",
       " 'find',\n",
       " 'format',\n",
       " 'format_map',\n",
       " 'index',\n",
       " 'isalnum',\n",
       " 'isalpha',\n",
       " 'isascii',\n",
       " 'isdecimal',\n",
       " 'isdigit',\n",
       " 'isidentifier',\n",
       " 'islower',\n",
       " 'isnumeric',\n",
       " 'isprintable',\n",
       " 'isspace',\n",
       " 'istitle',\n",
       " 'isupper',\n",
       " 'join',\n",
       " 'ljust',\n",
       " 'lower',\n",
       " 'lstrip',\n",
       " 'maketrans',\n",
       " 'partition',\n",
       " 'removeprefix',\n",
       " 'removesuffix',\n",
       " 'replace',\n",
       " 'rfind',\n",
       " 'rindex',\n",
       " 'rjust',\n",
       " 'rpartition',\n",
       " 'rsplit',\n",
       " 'rstrip',\n",
       " 'split',\n",
       " 'splitlines',\n",
       " 'startswith',\n",
       " 'strip',\n",
       " 'swapcase',\n",
       " 'title',\n",
       " 'translate',\n",
       " 'upper',\n",
       " 'zfill']"
      ]
     },
     "execution_count": 77,
     "metadata": {},
     "output_type": "execute_result"
    }
   ],
   "source": [
    "dir('')\n",
    "#dir('hai')\n",
    "#str1='apple'\n",
    "#dir(str1)"
   ]
  },
  {
   "cell_type": "markdown",
   "id": "4872a101-69c7-4661-b947-c98d3ad47d16",
   "metadata": {},
   "source": [
    "- lower\n",
    "- upper\n",
    "- capitalize\n",
    "- casefold\n",
    "- title\n",
    "- center"
   ]
  },
  {
   "cell_type": "markdown",
   "id": "63e92396-fe70-4c28-98a8-761c16921213",
   "metadata": {},
   "source": [
    "**Upper**"
   ]
  },
  {
   "cell_type": "code",
   "execution_count": 78,
   "id": "fad5917c-c8d1-4edb-b815-46b166e5addb",
   "metadata": {},
   "outputs": [],
   "source": [
    "str1='hai how are you'"
   ]
  },
  {
   "cell_type": "code",
   "execution_count": 79,
   "id": "87664bda-646f-4b9f-a22e-9a811dddc7e2",
   "metadata": {},
   "outputs": [
    {
     "name": "stdout",
     "output_type": "stream",
     "text": [
      "Help on built-in function upper:\n",
      "\n",
      "upper() method of builtins.str instance\n",
      "    Return a copy of the string converted to uppercase.\n",
      "\n"
     ]
    }
   ],
   "source": [
    "type(str1)\n",
    "help(str1.upper)"
   ]
  },
  {
   "cell_type": "code",
   "execution_count": 80,
   "id": "8f946fb8-a731-4efe-baf0-ceb5b53cb62b",
   "metadata": {},
   "outputs": [
    {
     "data": {
      "text/plain": [
       "'HAI HOW ARE YOU'"
      ]
     },
     "execution_count": 80,
     "metadata": {},
     "output_type": "execute_result"
    }
   ],
   "source": [
    "str1.upper()"
   ]
  },
  {
   "cell_type": "markdown",
   "id": "722c3046-1a84-422b-8d08-72f32e246856",
   "metadata": {},
   "source": [
    "**lower**"
   ]
  },
  {
   "cell_type": "code",
   "execution_count": 82,
   "id": "fb455e8d-5ef6-4553-9cc6-a469439b1f39",
   "metadata": {},
   "outputs": [
    {
     "data": {
      "text/plain": [
       "'hai how are you'"
      ]
     },
     "execution_count": 82,
     "metadata": {},
     "output_type": "execute_result"
    }
   ],
   "source": [
    "str2='HAI HOW ARE YOU'\n",
    "str2.lower()"
   ]
  },
  {
   "cell_type": "markdown",
   "id": "0fb96ed6-64ed-4a4e-9044-03c2be5941cc",
   "metadata": {},
   "source": [
    "**Capatilaze**"
   ]
  },
  {
   "cell_type": "code",
   "execution_count": 83,
   "id": "7df8cd6c-4a92-4b10-a9de-3d2104ed3d98",
   "metadata": {},
   "outputs": [
    {
     "data": {
      "text/plain": [
       "'Hai how are you'"
      ]
     },
     "execution_count": 83,
     "metadata": {},
     "output_type": "execute_result"
    }
   ],
   "source": [
    "str2.capitalize()"
   ]
  },
  {
   "cell_type": "markdown",
   "id": "d51297e8-b910-409a-990c-3e295c867cd1",
   "metadata": {},
   "source": [
    "**casefold**"
   ]
  },
  {
   "cell_type": "code",
   "execution_count": 84,
   "id": "1d017c6f-e71f-4e1a-98b8-6406a226e702",
   "metadata": {},
   "outputs": [
    {
     "data": {
      "text/plain": [
       "'hai how are you'"
      ]
     },
     "execution_count": 84,
     "metadata": {},
     "output_type": "execute_result"
    }
   ],
   "source": [
    "str1.casefold()"
   ]
  },
  {
   "cell_type": "markdown",
   "id": "33823e5e-3e0c-4f6c-ad5f-e47c3ca3ff2c",
   "metadata": {},
   "source": [
    "**Title**"
   ]
  },
  {
   "cell_type": "code",
   "execution_count": 85,
   "id": "206cd46b-c31b-4dca-990f-2603e9e9c954",
   "metadata": {},
   "outputs": [
    {
     "data": {
      "text/plain": [
       "'Hai How Are You'"
      ]
     },
     "execution_count": 85,
     "metadata": {},
     "output_type": "execute_result"
    }
   ],
   "source": [
    "str1.title()"
   ]
  },
  {
   "cell_type": "code",
   "execution_count": 86,
   "id": "879d9979-b315-434b-aa73-588bdc5a22b8",
   "metadata": {},
   "outputs": [],
   "source": [
    "# str1='hai how are you'\n",
    "# o/p= 'Hai How Are You'\n",
    "# without using any method\n",
    "# one more level : iterate each letter apply capitalize\n",
    "# scratch : ord char"
   ]
  },
  {
   "cell_type": "markdown",
   "id": "51ccd403-b1b5-447b-8529-9f5a1c4eba25",
   "metadata": {},
   "source": [
    "**Center**"
   ]
  },
  {
   "cell_type": "code",
   "execution_count": 93,
   "id": "3c79c596-735a-4e81-9790-bab34522f004",
   "metadata": {},
   "outputs": [
    {
     "data": {
      "text/plain": [
       "'  hai how are you   '"
      ]
     },
     "execution_count": 93,
     "metadata": {},
     "output_type": "execute_result"
    }
   ],
   "source": [
    "str1.center(20)"
   ]
  },
  {
   "cell_type": "markdown",
   "id": "d8d96eec-81d7-46c8-a892-78a2e1e8c925",
   "metadata": {},
   "source": [
    "- center has two arguments\n",
    "    - width\n",
    "    - fill char\n",
    "- original string already : 15 letters\n",
    "- we want to create a new string with 20 letters\n",
    "- Remaining 5 letters by default empty\n",
    "- we can fill with charcters also"
   ]
  },
  {
   "cell_type": "code",
   "execution_count": 95,
   "id": "13987cbf-daa8-4365-915c-05f6a3be30e5",
   "metadata": {},
   "outputs": [
    {
     "data": {
      "text/plain": [
       "'******hai how are you******'"
      ]
     },
     "execution_count": 95,
     "metadata": {},
     "output_type": "execute_result"
    }
   ],
   "source": [
    "str1.center(27,'*')"
   ]
  },
  {
   "cell_type": "markdown",
   "id": "05b952f9-ee2f-49ea-a81b-87a96916e675",
   "metadata": {},
   "source": [
    "- upper\n",
    "- lower\n",
    "- casefold\n",
    "- title\n",
    "- captitalize\n",
    "- center"
   ]
  },
  {
   "cell_type": "markdown",
   "id": "fef0fac5-dbdc-4a14-aea9-198f4ecb4f18",
   "metadata": {},
   "source": [
    "**count**"
   ]
  },
  {
   "cell_type": "code",
   "execution_count": 1,
   "id": "a94c2ae6-b650-4e70-a520-d49ae5806d89",
   "metadata": {},
   "outputs": [],
   "source": [
    "str1='hai how are you'\n",
    "# how many 'a's are in str1"
   ]
  },
  {
   "cell_type": "code",
   "execution_count": 6,
   "id": "771e7a34-1ebf-49dd-88fe-623e88adae95",
   "metadata": {},
   "outputs": [],
   "source": [
    "count=0\n",
    "for i in str1:\n",
    "    if i=='a':\n",
    "        count=count+1\n",
    "count=0"
   ]
  },
  {
   "cell_type": "code",
   "execution_count": 10,
   "id": "d0b8d7bd-4753-4a8d-a7a9-81a16f96993f",
   "metadata": {},
   "outputs": [
    {
     "data": {
      "text/plain": [
       "2"
      ]
     },
     "execution_count": 10,
     "metadata": {},
     "output_type": "execute_result"
    }
   ],
   "source": [
    "str1.count('a')"
   ]
  },
  {
   "cell_type": "code",
   "execution_count": 18,
   "id": "bae1cda8-488d-4412-b313-e70dc928eeb1",
   "metadata": {},
   "outputs": [
    {
     "data": {
      "text/plain": [
       "3"
      ]
     },
     "execution_count": 18,
     "metadata": {},
     "output_type": "execute_result"
    }
   ],
   "source": [
    "str1='hai hai hai'\n",
    "str1.count('hai')"
   ]
  },
  {
   "cell_type": "markdown",
   "id": "f425a485-9510-4510-b6ad-7576159295a0",
   "metadata": {},
   "source": [
    "- we want number of a from a specific index\n",
    "- we want numbeer of a between two indexs"
   ]
  },
  {
   "cell_type": "code",
   "execution_count": 20,
   "id": "9e943987-9c82-4fdd-b737-afeac40ebcd7",
   "metadata": {},
   "outputs": [
    {
     "data": {
      "text/plain": [
       "2"
      ]
     },
     "execution_count": 20,
     "metadata": {},
     "output_type": "execute_result"
    }
   ],
   "source": [
    "# h  a  i     h  a  i     h  a  i\n",
    "# 0  1  2  3  4  5  6  7  8  9  10\n",
    "str.count('a',5)"
   ]
  },
  {
   "cell_type": "code",
   "execution_count": 22,
   "id": "2a8dcbc3-22f1-4b70-a969-a55823a60337",
   "metadata": {},
   "outputs": [
    {
     "data": {
      "text/plain": [
       "2"
      ]
     },
     "execution_count": 22,
     "metadata": {},
     "output_type": "execute_result"
    }
   ],
   "source": [
    "str.count('a',0,6)"
   ]
  },
  {
   "cell_type": "code",
   "execution_count": 27,
   "id": "4c24b9ae-39e7-461a-8758-80114353c53e",
   "metadata": {},
   "outputs": [
    {
     "data": {
      "text/plain": [
       "1"
      ]
     },
     "execution_count": 27,
     "metadata": {},
     "output_type": "execute_result"
    }
   ],
   "source": [
    "str.count('a',-11,-6)"
   ]
  },
  {
   "cell_type": "code",
   "execution_count": 35,
   "id": "b207c3fc-4782-4334-b126-7adf39983e4d",
   "metadata": {},
   "outputs": [],
   "source": [
    "count=0\n",
    "str1='ola ola ola'\n",
    "for i in str1:\n",
    "    if i == 'ola':\n",
    "        print(i)\n"
   ]
  },
  {
   "cell_type": "markdown",
   "id": "8ef85141-72d7-4be0-aa38-0ddc5212aaac",
   "metadata": {},
   "source": [
    "**Window meathod**"
   ]
  },
  {
   "cell_type": "code",
   "execution_count": null,
   "id": "96c6b9ea-ea6c-46b1-8156-fab52869cdae",
   "metadata": {},
   "outputs": [],
   "source": [
    "str1[i:i+3]\n",
    "i=0   str1[0:3] === > ola\n",
    "i=1   str1[1:4] === > la \n",
    "i=2"
   ]
  },
  {
   "cell_type": "code",
   "execution_count": 38,
   "id": "9884202d-45a8-4e9b-9b63-aa96cd10911e",
   "metadata": {},
   "outputs": [
    {
     "data": {
      "text/plain": [
       "3"
      ]
     },
     "execution_count": 38,
     "metadata": {},
     "output_type": "execute_result"
    }
   ],
   "source": [
    "count=0\n",
    "str1='ola ola ola'\n",
    "for i in range(len(str1)):\n",
    "    if str1[i:i+3] == 'ola':\n",
    "        count=count+1\n",
    "count"
   ]
  },
  {
   "cell_type": "code",
   "execution_count": 43,
   "id": "945caaf5-7b19-4a38-871f-55079065b338",
   "metadata": {},
   "outputs": [
    {
     "data": {
      "text/plain": [
       "3"
      ]
     },
     "execution_count": 43,
     "metadata": {},
     "output_type": "execute_result"
    }
   ],
   "source": [
    "str1='ola ola ola'\n",
    "str1.count('ola')"
   ]
  },
  {
   "cell_type": "code",
   "execution_count": 44,
   "id": "63968a86-2fd3-43b2-bc81-f6467a787d42",
   "metadata": {},
   "outputs": [
    {
     "data": {
      "text/plain": [
       "0"
      ]
     },
     "execution_count": 44,
     "metadata": {},
     "output_type": "execute_result"
    }
   ],
   "source": [
    "str1.count('z')"
   ]
  },
  {
   "cell_type": "markdown",
   "id": "14410fdd-5e27-49ae-8ff2-0721145525ba",
   "metadata": {},
   "source": [
    "**Replace**"
   ]
  },
  {
   "cell_type": "code",
   "execution_count": 46,
   "id": "3295505b-f2fb-4b81-8014-1f4b9a0fce8e",
   "metadata": {},
   "outputs": [],
   "source": [
    "str1='welcome'\n",
    "# I want to replace 'l' with 'L'"
   ]
  },
  {
   "cell_type": "code",
   "execution_count": null,
   "id": "61f15e0e-b144-48ea-a202-fce3c3f38e8d",
   "metadata": {},
   "outputs": [],
   "source": [
    "# we know that strings are immutable \n",
    "# we can not use index operations also\n",
    "# slice and concatination\n",
    "# Divide welcome : we come\n",
    "# s1='we'\n",
    "# s2='come'\n",
    "# s1+'L'+s2"
   ]
  },
  {
   "cell_type": "code",
   "execution_count": 50,
   "id": "95226883-740e-4e10-8856-af9dbd2a39f3",
   "metadata": {},
   "outputs": [
    {
     "data": {
      "text/plain": [
       "'weLcome'"
      ]
     },
     "execution_count": 50,
     "metadata": {},
     "output_type": "execute_result"
    }
   ],
   "source": [
    "str1='welcome'\n",
    "s1=str1[0:2]\n",
    "s2=str1[3:]\n",
    "s1+\"L\"+s2"
   ]
  },
  {
   "cell_type": "code",
   "execution_count": 51,
   "id": "696c0a1b-b1a1-40c2-8051-e08bebc26a64",
   "metadata": {},
   "outputs": [
    {
     "data": {
      "text/plain": [
       "'weLcome'"
      ]
     },
     "execution_count": 51,
     "metadata": {},
     "output_type": "execute_result"
    }
   ],
   "source": [
    "str1='welcome'\n",
    "str1.replace('l',\"L\")"
   ]
  },
  {
   "cell_type": "code",
   "execution_count": 52,
   "id": "fa1a25ab-acfa-4ce8-9d4b-ff73b554bb94",
   "metadata": {},
   "outputs": [
    {
     "data": {
      "text/plain": [
       "'weLLcome'"
      ]
     },
     "execution_count": 52,
     "metadata": {},
     "output_type": "execute_result"
    }
   ],
   "source": [
    "str1='wellcome'\n",
    "str1.replace('l','L')"
   ]
  },
  {
   "cell_type": "markdown",
   "id": "396b2812-6a15-40fc-ab8e-eaef62f888d7",
   "metadata": {},
   "source": [
    "- By default replace will change all the occurences\n",
    "- count = -1 is responsible for that\n",
    "- which means we can provide some count also, which how many i want to change\n",
    "- Give welllcome and change count = 1 and count = 2 explore it"
   ]
  },
  {
   "cell_type": "code",
   "execution_count": 58,
   "id": "310aaff4-60c4-421b-a79d-8891df614540",
   "metadata": {},
   "outputs": [
    {
     "data": {
      "text/plain": [
       "'weLllcome'"
      ]
     },
     "execution_count": 58,
     "metadata": {},
     "output_type": "execute_result"
    }
   ],
   "source": [
    "str1='welllcome'\n",
    "str1.replace('l','L',1)"
   ]
  },
  {
   "cell_type": "code",
   "execution_count": 59,
   "id": "485f179a-fcb4-4b95-a393-c9eaeab458bc",
   "metadata": {},
   "outputs": [
    {
     "data": {
      "text/plain": [
       "'weLLlcome'"
      ]
     },
     "execution_count": 59,
     "metadata": {},
     "output_type": "execute_result"
    }
   ],
   "source": [
    "str1='welllcome'\n",
    "str1.replace('l','L',2)"
   ]
  },
  {
   "cell_type": "code",
   "execution_count": 60,
   "id": "0a4f2f7c-f253-4ee9-81f4-9b2e9c1e1428",
   "metadata": {},
   "outputs": [],
   "source": [
    "# Str1='restart'\n",
    "# i/p='resta$t'"
   ]
  },
  {
   "cell_type": "code",
   "execution_count": 71,
   "id": "06557232-ceeb-4c33-94c7-3137710e38e5",
   "metadata": {},
   "outputs": [
    {
     "data": {
      "text/plain": [
       "'resta$t'"
      ]
     },
     "execution_count": 71,
     "metadata": {},
     "output_type": "execute_result"
    }
   ],
   "source": [
    "str1='restart'\n",
    "s1=str1[:1]\n",
    "s2=str1[1:]\n",
    "s3=s2.replace('r','$')\n",
    "s1+s3"
   ]
  },
  {
   "cell_type": "code",
   "execution_count": 75,
   "id": "9d4d4647-3855-481f-9421-e40909eef4e8",
   "metadata": {},
   "outputs": [
    {
     "data": {
      "text/plain": [
       "'resta$t'"
      ]
     },
     "execution_count": 75,
     "metadata": {},
     "output_type": "execute_result"
    }
   ],
   "source": [
    "str1='restart'\n",
    "str1[::-1].replace('r','$',1)[::-1]"
   ]
  },
  {
   "cell_type": "markdown",
   "id": "c8936995-fc32-4573-9902-97d987d5979a",
   "metadata": {},
   "source": [
    "**index-find**"
   ]
  },
  {
   "cell_type": "markdown",
   "id": "edba0d54-eb08-45b4-a118-9f61aa014015",
   "metadata": {},
   "source": [
    "- upper\n",
    "- lower\n",
    "- casefold\n",
    "- title\n",
    "- capitalize\n",
    "- count\n",
    "- replace\n",
    "- index-find\n",
    "- split\n",
    "- strip\n",
    "- startswith"
   ]
  },
  {
   "cell_type": "code",
   "execution_count": 77,
   "id": "739c2efd-0331-4e5c-8578-ab6f13a3edfe",
   "metadata": {},
   "outputs": [
    {
     "data": {
      "text/plain": [
       "['__add__',\n",
       " '__class__',\n",
       " '__contains__',\n",
       " '__delattr__',\n",
       " '__dir__',\n",
       " '__doc__',\n",
       " '__eq__',\n",
       " '__format__',\n",
       " '__ge__',\n",
       " '__getattribute__',\n",
       " '__getitem__',\n",
       " '__getnewargs__',\n",
       " '__getstate__',\n",
       " '__gt__',\n",
       " '__hash__',\n",
       " '__init__',\n",
       " '__init_subclass__',\n",
       " '__iter__',\n",
       " '__le__',\n",
       " '__len__',\n",
       " '__lt__',\n",
       " '__mod__',\n",
       " '__mul__',\n",
       " '__ne__',\n",
       " '__new__',\n",
       " '__reduce__',\n",
       " '__reduce_ex__',\n",
       " '__repr__',\n",
       " '__rmod__',\n",
       " '__rmul__',\n",
       " '__setattr__',\n",
       " '__sizeof__',\n",
       " '__str__',\n",
       " '__subclasshook__',\n",
       " 'capitalize',\n",
       " 'casefold',\n",
       " 'center',\n",
       " 'count',\n",
       " 'encode',\n",
       " 'endswith',\n",
       " 'expandtabs',\n",
       " 'find',\n",
       " 'format',\n",
       " 'format_map',\n",
       " 'index',\n",
       " 'isalnum',\n",
       " 'isalpha',\n",
       " 'isascii',\n",
       " 'isdecimal',\n",
       " 'isdigit',\n",
       " 'isidentifier',\n",
       " 'islower',\n",
       " 'isnumeric',\n",
       " 'isprintable',\n",
       " 'isspace',\n",
       " 'istitle',\n",
       " 'isupper',\n",
       " 'join',\n",
       " 'ljust',\n",
       " 'lower',\n",
       " 'lstrip',\n",
       " 'maketrans',\n",
       " 'partition',\n",
       " 'removeprefix',\n",
       " 'removesuffix',\n",
       " 'replace',\n",
       " 'rfind',\n",
       " 'rindex',\n",
       " 'rjust',\n",
       " 'rpartition',\n",
       " 'rsplit',\n",
       " 'rstrip',\n",
       " 'split',\n",
       " 'splitlines',\n",
       " 'startswith',\n",
       " 'strip',\n",
       " 'swapcase',\n",
       " 'title',\n",
       " 'translate',\n",
       " 'upper',\n",
       " 'zfill']"
      ]
     },
     "execution_count": 77,
     "metadata": {},
     "output_type": "execute_result"
    }
   ],
   "source": [
    "dir('')"
   ]
  },
  {
   "cell_type": "markdown",
   "id": "3fa5dc3c-80bf-47a1-9ced-787f6fc95e65",
   "metadata": {},
   "source": [
    "'isalnum',\n",
    " 'isalpha',\n",
    " 'isascii',\n",
    " 'isdecimal',\n",
    " 'isdigit',\n",
    " 'isidentifier',\n",
    " 'islower',\n",
    " 'isnumeric',\n",
    " 'isprintable',\n",
    " 'isspace',\n",
    " 'istitle',\n",
    " 'isupper',"
   ]
  },
  {
   "cell_type": "code",
   "execution_count": 82,
   "id": "c837a372-a205-4dca-bbcd-5dc5d99eebdf",
   "metadata": {},
   "outputs": [
    {
     "data": {
      "text/plain": [
       "True"
      ]
     },
     "execution_count": 82,
     "metadata": {},
     "output_type": "execute_result"
    }
   ],
   "source": [
    "str1='HELLO'\n",
    "str1.isupper()"
   ]
  },
  {
   "cell_type": "code",
   "execution_count": null,
   "id": "e59031e2-fa23-4853-aaca-40412b34bdfd",
   "metadata": {},
   "outputs": [],
   "source": []
  }
 ],
 "metadata": {
  "kernelspec": {
   "display_name": "Python 3 (ipykernel)",
   "language": "python",
   "name": "python3"
  },
  "language_info": {
   "codemirror_mode": {
    "name": "ipython",
    "version": 3
   },
   "file_extension": ".py",
   "mimetype": "text/x-python",
   "name": "python",
   "nbconvert_exporter": "python",
   "pygments_lexer": "ipython3",
   "version": "3.11.7"
  }
 },
 "nbformat": 4,
 "nbformat_minor": 5
}
