{
 "cells": [
  {
   "cell_type": "markdown",
   "id": "3d49eb9a-5382-4a07-8216-4732d66982ea",
   "metadata": {},
   "source": [
    "**Conditional_Statements**"
   ]
  },
  {
   "cell_type": "markdown",
   "id": "9032d973-508d-4c8c-a678-669c9f504660",
   "metadata": {},
   "source": [
    "- Conditional Statement means we want to learn the code lines based on the condition\n",
    "- if rain comes I will not go to school other wise I will go to movie\n",
    "- Rain is there will effect one process\n",
    "- Rain is not there will effect another process\n",
    "\n",
    "- if\n",
    "- elif\n",
    "- else"
   ]
  },
  {
   "cell_type": "markdown",
   "id": "0577a7c5-a877-45fa-afc7-7fbab81bc695",
   "metadata": {},
   "source": [
    "**if**"
   ]
  },
  {
   "cell_type": "code",
   "execution_count": 3,
   "id": "712425ff-fab9-4222-bc8f-4e566afe889b",
   "metadata": {},
   "outputs": [
    {
     "data": {
      "text/plain": [
       "'if <condition>:\\n    <codeline1>\\n    <codeline2>'"
      ]
     },
     "execution_count": 3,
     "metadata": {},
     "output_type": "execute_result"
    }
   ],
   "source": [
    "#syntax \n",
    "#when ever any thing start with green color (keyword) , end with colon (:)\n",
    "if <condition>:\n",
    "    <codeline1>\n",
    "    <codeline2>"
   ]
  },
  {
   "cell_type": "markdown",
   "id": "e2d10b81-ea95-467b-bcea-60ec13d379f4",
   "metadata": {},
   "source": [
    "- when ever any thing start with **green color (keyword)** , end with colon (:)\n",
    "- whenever we have a colon):) the next lines start with some gap\n",
    "- and this gap is called **Indentation**\n",
    "- how many lines we are maintaining gap (indentation) that all are under one area"
   ]
  },
  {
   "cell_type": "markdown",
   "id": "6a4b1b00-a60f-4d3d-a1b2-0e520c212a7f",
   "metadata": {},
   "source": [
    "- if is a condition statement , it will check the condition is True or False\n",
    "- if that condition will true then only it will enter inside the if area\n",
    "- and execute those code lines\n",
    "- if that condition will False ,  then it will not enter inside the if area\n",
    "- and it will not execute those code lines"
   ]
  },
  {
   "cell_type": "code",
   "execution_count": 4,
   "id": "89835ea2-7e08-4280-842b-cce3a660bec6",
   "metadata": {},
   "outputs": [
    {
     "data": {
      "text/plain": [
       "True"
      ]
     },
     "execution_count": 4,
     "metadata": {},
     "output_type": "execute_result"
    }
   ],
   "source": [
    "100>10"
   ]
  },
  {
   "cell_type": "code",
   "execution_count": 6,
   "id": "2cff9421-1140-45c0-ad69-c24546e55802",
   "metadata": {},
   "outputs": [
    {
     "name": "stdout",
     "output_type": "stream",
     "text": [
      "hello\n"
     ]
    }
   ],
   "source": [
    "if 100>10:       #if True:\n",
    "    print(\"hello\")"
   ]
  },
  {
   "cell_type": "markdown",
   "id": "4ca7ebd3-2d0a-40ed-b2be-9d2f85f15cee",
   "metadata": {},
   "source": [
    "**mistake 1**\n",
    "- Indentation error"
   ]
  },
  {
   "cell_type": "code",
   "execution_count": 9,
   "id": "7e4214aa-eb45-45e0-8a19-c7503458a85a",
   "metadata": {},
   "outputs": [
    {
     "ename": "IndentationError",
     "evalue": "expected an indented block after 'if' statement on line 1 (3663483495.py, line 2)",
     "output_type": "error",
     "traceback": [
      "\u001b[1;36m  Cell \u001b[1;32mIn[9], line 2\u001b[1;36m\u001b[0m\n\u001b[1;33m    print(\"hello\")\u001b[0m\n\u001b[1;37m    ^\u001b[0m\n\u001b[1;31mIndentationError\u001b[0m\u001b[1;31m:\u001b[0m expected an indented block after 'if' statement on line 1\n"
     ]
    }
   ],
   "source": [
    "if 100>10:\n",
    "print(\"hello\")"
   ]
  },
  {
   "cell_type": "code",
   "execution_count": 10,
   "id": "11542eee-83e4-4213-87e6-71b7fd5cb24a",
   "metadata": {},
   "outputs": [
    {
     "name": "stdout",
     "output_type": "stream",
     "text": [
      "hello\n"
     ]
    }
   ],
   "source": [
    "if 100>10:\n",
    "    print(\"hello\")"
   ]
  },
  {
   "cell_type": "code",
   "execution_count": 11,
   "id": "23adba1e-204b-486e-8a28-67275fefd911",
   "metadata": {},
   "outputs": [
    {
     "name": "stdout",
     "output_type": "stream",
     "text": [
      "hello\n"
     ]
    }
   ],
   "source": [
    "if 100>10:\n",
    "    print(\"hello\")\n",
    "#Indentation requires 4 spaces"
   ]
  },
  {
   "cell_type": "code",
   "execution_count": 12,
   "id": "6dc8db6c-7313-4118-b491-f44e33f6e7ea",
   "metadata": {},
   "outputs": [
    {
     "name": "stdout",
     "output_type": "stream",
     "text": [
      "hello\n"
     ]
    }
   ],
   "source": [
    "if 100>10:print(\"hello\")"
   ]
  },
  {
   "cell_type": "markdown",
   "id": "db23c96c-0734-432b-99cb-2b185f1b69b0",
   "metadata": {},
   "source": [
    "**mistake 2**\n",
    "- colon(:) missing"
   ]
  },
  {
   "cell_type": "code",
   "execution_count": 15,
   "id": "0c934da0-af04-4e47-b4e3-6e5f2e4f46aa",
   "metadata": {},
   "outputs": [
    {
     "ename": "SyntaxError",
     "evalue": "expected ':' (4173596931.py, line 1)",
     "output_type": "error",
     "traceback": [
      "\u001b[1;36m  Cell \u001b[1;32mIn[15], line 1\u001b[1;36m\u001b[0m\n\u001b[1;33m    if 100>10\u001b[0m\n\u001b[1;37m             ^\u001b[0m\n\u001b[1;31mSyntaxError\u001b[0m\u001b[1;31m:\u001b[0m expected ':'\n"
     ]
    }
   ],
   "source": [
    "if 100>10\n",
    "    print(\"hello\")"
   ]
  },
  {
   "cell_type": "markdown",
   "id": "237a1f5b-1f5c-48d1-9612-1ee2e913edf7",
   "metadata": {},
   "source": [
    "**mistake 3**\n",
    "- if will expecting condition"
   ]
  },
  {
   "cell_type": "code",
   "execution_count": 16,
   "id": "89443c72-0864-4c4a-b252-5b57dfa2c646",
   "metadata": {},
   "outputs": [
    {
     "ename": "SyntaxError",
     "evalue": "invalid syntax (3604022329.py, line 1)",
     "output_type": "error",
     "traceback": [
      "\u001b[1;36m  Cell \u001b[1;32mIn[16], line 1\u001b[1;36m\u001b[0m\n\u001b[1;33m    if :\u001b[0m\n\u001b[1;37m       ^\u001b[0m\n\u001b[1;31mSyntaxError\u001b[0m\u001b[1;31m:\u001b[0m invalid syntax\n"
     ]
    }
   ],
   "source": [
    "if:\n",
    "   print(\"hello\")"
   ]
  },
  {
   "cell_type": "markdown",
   "id": "995971bc-1672-4c12-b7b6-fd4555721f9e",
   "metadata": {},
   "source": [
    "**mistake 4**\n",
    "- missing brackets"
   ]
  },
  {
   "cell_type": "code",
   "execution_count": 18,
   "id": "52116566-221e-4dbb-8471-b1451012c4f1",
   "metadata": {},
   "outputs": [
    {
     "ename": "SyntaxError",
     "evalue": "Missing parentheses in call to 'print'. Did you mean print(...)? (3193104350.py, line 2)",
     "output_type": "error",
     "traceback": [
      "\u001b[1;36m  Cell \u001b[1;32mIn[18], line 2\u001b[1;36m\u001b[0m\n\u001b[1;33m    print\"hello\"\u001b[0m\n\u001b[1;37m    ^\u001b[0m\n\u001b[1;31mSyntaxError\u001b[0m\u001b[1;31m:\u001b[0m Missing parentheses in call to 'print'. Did you mean print(...)?\n"
     ]
    }
   ],
   "source": [
    "if 100>10:\n",
    "    print\"hello\""
   ]
  },
  {
   "cell_type": "markdown",
   "id": "295389b7-9b64-47c6-b47d-fe1efcf74f97",
   "metadata": {},
   "source": [
    "**mistake 5**\n",
    "- never assign the variable to print statement \n",
    "- print we are using for to see the answer"
   ]
  },
  {
   "cell_type": "code",
   "execution_count": 19,
   "id": "92e33bd9-5d7b-4500-9384-fe34185589e9",
   "metadata": {},
   "outputs": [
    {
     "name": "stdout",
     "output_type": "stream",
     "text": [
      "hello\n"
     ]
    }
   ],
   "source": [
    "if 100>10:\n",
    "    name=print(\"hello\")"
   ]
  },
  {
   "cell_type": "markdown",
   "id": "53220231-4bf5-47f8-aad6-e334c07de00b",
   "metadata": {},
   "source": [
    "**mistake 6**\n",
    "- all types of syntax errors\n",
    "- spelling mistake "
   ]
  },
  {
   "cell_type": "code",
   "execution_count": 21,
   "id": "ab34a033-5cf6-4683-90bd-b0e2e130699a",
   "metadata": {},
   "outputs": [
    {
     "ename": "SyntaxError",
     "evalue": "invalid syntax (1200531076.py, line 1)",
     "output_type": "error",
     "traceback": [
      "\u001b[1;36m  Cell \u001b[1;32mIn[21], line 1\u001b[1;36m\u001b[0m\n\u001b[1;33m    if100>10:\u001b[0m\n\u001b[1;37m            ^\u001b[0m\n\u001b[1;31mSyntaxError\u001b[0m\u001b[1;31m:\u001b[0m invalid syntax\n"
     ]
    }
   ],
   "source": [
    "if100>10:\n",
    "print(\"hello\")"
   ]
  },
  {
   "cell_type": "code",
   "execution_count": 22,
   "id": "15e532ef-eb39-4fbd-85c7-6ab1452bc50c",
   "metadata": {},
   "outputs": [
    {
     "name": "stdout",
     "output_type": "stream",
     "text": [
      "hello\n",
      "goog mrng\n"
     ]
    }
   ],
   "source": [
    "if 100>10:\n",
    "    print(\"hello\")\n",
    "    print(\"goog mrng\")"
   ]
  },
  {
   "cell_type": "code",
   "execution_count": 24,
   "id": "77349ae9-df4d-413a-8dbc-b3ead2b464e6",
   "metadata": {},
   "outputs": [
    {
     "name": "stdout",
     "output_type": "stream",
     "text": [
      "hello\n",
      "good morning\n",
      "okay\n",
      "bye\n"
     ]
    }
   ],
   "source": [
    "if 100>10:\n",
    "    print(\"hello\")\n",
    "    print(\"good morning\")\n",
    "############################################\n",
    "print(\"okay\")\n",
    "print(\"bye\")\n",
    "#step 1: if 100>10 if True\n",
    "#step 2: hello\n",
    "#step 3: good morning\n",
    "#step 4: exit from if statement and print okay\n",
    "#step 5: print bye"
   ]
  },
  {
   "cell_type": "code",
   "execution_count": 29,
   "id": "901d312a-d1eb-43e3-9aef-dd67bdf1b809",
   "metadata": {},
   "outputs": [
    {
     "name": "stdout",
     "output_type": "stream",
     "text": [
      "10\n",
      "20\n",
      "hello\n",
      "good morning\n",
      "okay\n",
      "bye\n"
     ]
    }
   ],
   "source": [
    "print(10)\n",
    "print(20)\n",
    "###########################################\n",
    "if 100>10:\n",
    "    print(\"hello\")\n",
    "    print(\"good morning\")\n",
    "############################################\n",
    "print(\"okay\")\n",
    "print(\"bye\")"
   ]
  },
  {
   "cell_type": "code",
   "execution_count": 30,
   "id": "5cd0ba44-e4d8-4f4a-bfc3-ee5006b47ca3",
   "metadata": {},
   "outputs": [
    {
     "name": "stdout",
     "output_type": "stream",
     "text": [
      "10\n",
      "hello\n",
      "good morning\n",
      "okay\n",
      "bye\n"
     ]
    }
   ],
   "source": [
    "print(10)\n",
    "\n",
    "if True:\n",
    "    print(\"hello\")\n",
    "    print(\"good morning\")\n",
    "\n",
    "print(\"okay\")\n",
    "print(\"bye\")"
   ]
  },
  {
   "cell_type": "code",
   "execution_count": 31,
   "id": "45a3d918-6609-47a9-bac6-e31f6505efb9",
   "metadata": {},
   "outputs": [
    {
     "name": "stdout",
     "output_type": "stream",
     "text": [
      "10\n",
      "okay\n",
      "bye\n"
     ]
    }
   ],
   "source": [
    "print(10)\n",
    "\n",
    "if 100<10:\n",
    "    print(\"hello\")\n",
    "    print(\"good morning\")\n",
    "\n",
    "print(\"okay\")\n",
    "print(\"bye\")"
   ]
  },
  {
   "cell_type": "code",
   "execution_count": 32,
   "id": "27e6f175-5dec-4b68-9dd8-2719c98b20a5",
   "metadata": {},
   "outputs": [
    {
     "name": "stdout",
     "output_type": "stream",
     "text": [
      "10\n",
      "okay\n",
      "bye\n"
     ]
    }
   ],
   "source": [
    "print(10)\n",
    "\n",
    "if False:\n",
    "    print(\"hello\")\n",
    "    print(\"good morning\")\n",
    "\n",
    "print(\"okay\")\n",
    "print(\"bye\")"
   ]
  },
  {
   "cell_type": "code",
   "execution_count": 33,
   "id": "61a06a20-477c-4f0b-bb34-880d94d60a19",
   "metadata": {},
   "outputs": [
    {
     "name": "stdout",
     "output_type": "stream",
     "text": [
      "10\n",
      "hello\n",
      "good morning\n",
      "okay\n",
      "bye\n"
     ]
    }
   ],
   "source": [
    "print(10)\n",
    "\n",
    "if 100:\n",
    "    print(\"hello\")\n",
    "    print(\"good morning\")\n",
    "\n",
    "print(\"okay\")\n",
    "print(\"bye\")"
   ]
  },
  {
   "cell_type": "code",
   "execution_count": 34,
   "id": "25530595-f62f-4765-b12b-fa86de7c0bbf",
   "metadata": {},
   "outputs": [
    {
     "data": {
      "text/plain": [
       "True"
      ]
     },
     "execution_count": 34,
     "metadata": {},
     "output_type": "execute_result"
    }
   ],
   "source": [
    "bool (100)"
   ]
  },
  {
   "cell_type": "code",
   "execution_count": 35,
   "id": "3e00d6f5-fa14-411a-8b2a-efd4fb4874a2",
   "metadata": {},
   "outputs": [
    {
     "name": "stdout",
     "output_type": "stream",
     "text": [
      "10\n",
      "okay\n",
      "bye\n"
     ]
    }
   ],
   "source": [
    "print(10)\n",
    "\n",
    "if 0:\n",
    "    print(\"hello\")\n",
    "    print(\"good morning\")\n",
    "\n",
    "print(\"okay\")\n",
    "print(\"bye\")"
   ]
  },
  {
   "cell_type": "code",
   "execution_count": 36,
   "id": "9c6b73db-db6a-4fa2-8c1d-7b36cf0f710c",
   "metadata": {},
   "outputs": [
    {
     "data": {
      "text/plain": [
       "False"
      ]
     },
     "execution_count": 36,
     "metadata": {},
     "output_type": "execute_result"
    }
   ],
   "source": [
    "bool(0)"
   ]
  },
  {
   "cell_type": "code",
   "execution_count": 37,
   "id": "d223e989-d07d-48f0-b3fd-cd05c4456dd8",
   "metadata": {},
   "outputs": [
    {
     "name": "stdout",
     "output_type": "stream",
     "text": [
      "10\n",
      "hello\n",
      "good morning\n",
      "okay\n",
      "bye\n"
     ]
    }
   ],
   "source": [
    "print(10)\n",
    "\n",
    "if 'hello':\n",
    "    print(\"hello\")\n",
    "    print(\"good morning\")\n",
    "\n",
    "print(\"okay\")\n",
    "print(\"bye\")"
   ]
  },
  {
   "cell_type": "code",
   "execution_count": 38,
   "id": "ca9cd84a-ebf9-47f0-9f62-31d4a23bdac9",
   "metadata": {},
   "outputs": [
    {
     "data": {
      "text/plain": [
       "True"
      ]
     },
     "execution_count": 38,
     "metadata": {},
     "output_type": "execute_result"
    }
   ],
   "source": [
    "bool(\"hello\")"
   ]
  },
  {
   "cell_type": "code",
   "execution_count": 40,
   "id": "e252f150-db80-40ea-956f-bdcc54e71424",
   "metadata": {},
   "outputs": [
    {
     "name": "stdout",
     "output_type": "stream",
     "text": [
      "10\n",
      "okay\n",
      "bye\n"
     ]
    }
   ],
   "source": [
    "print(10)\n",
    "\n",
    "if '':\n",
    "    print(\"hello\")\n",
    "    print(\"good morning\")\n",
    "\n",
    "print(\"okay\")\n",
    "print(\"bye\")"
   ]
  },
  {
   "cell_type": "code",
   "execution_count": 42,
   "id": "ec04371e-8b5c-4770-a2ba-a25717594178",
   "metadata": {},
   "outputs": [
    {
     "data": {
      "text/plain": [
       "False"
      ]
     },
     "execution_count": 42,
     "metadata": {},
     "output_type": "execute_result"
    }
   ],
   "source": [
    "bool('')"
   ]
  },
  {
   "cell_type": "code",
   "execution_count": 44,
   "id": "97e4b1b9-7b6e-40f2-91fa-cb38ec214ccf",
   "metadata": {},
   "outputs": [
    {
     "name": "stdout",
     "output_type": "stream",
     "text": [
      "10\n",
      "hello\n",
      "good morning\n",
      "okay\n",
      "bye\n"
     ]
    }
   ],
   "source": [
    "print(10)\n",
    "\n",
    "if ' ':\n",
    "    print(\"hello\")\n",
    "    print(\"good morning\")\n",
    "\n",
    "print(\"okay\")\n",
    "print(\"bye\")"
   ]
  },
  {
   "cell_type": "code",
   "execution_count": 43,
   "id": "d959e867-45d2-4156-8fdc-9f22d307ff1d",
   "metadata": {},
   "outputs": [
    {
     "data": {
      "text/plain": [
       "True"
      ]
     },
     "execution_count": 43,
     "metadata": {},
     "output_type": "execute_result"
    }
   ],
   "source": [
    "bool(' ')"
   ]
  },
  {
   "cell_type": "markdown",
   "id": "fd6ea18e-776b-4ce9-b646-4e0961370643",
   "metadata": {},
   "source": [
    "** if -- else**"
   ]
  },
  {
   "cell_type": "markdown",
   "id": "c1d606a4-ea05-450e-8153-48f2c6b8b23f",
   "metadata": {},
   "source": [
    "- if required condition\n",
    "- if the condition is true it will execute if block\n",
    "- otherwise it can directly goes to else block\n",
    "- so else block does not required any condition"
   ]
  },
  {
   "cell_type": "code",
   "execution_count": null,
   "id": "8de8ffc5-5b0a-46fe-b14d-a5d8261c31ae",
   "metadata": {},
   "outputs": [],
   "source": [
    "#syntax\n",
    "if <condition>:\n",
    "    <code line>\n",
    "else:\n",
    "    <code line>"
   ]
  },
  {
   "cell_type": "code",
   "execution_count": 45,
   "id": "9e3719c8-ebb1-4bb9-b093-1e0bc0b39857",
   "metadata": {},
   "outputs": [
    {
     "name": "stdout",
     "output_type": "stream",
     "text": [
      "hi\n"
     ]
    }
   ],
   "source": [
    "if 100>10:\n",
    "    print(\"hi\")\n",
    "else:\n",
    "    print(\"bye\")"
   ]
  },
  {
   "cell_type": "code",
   "execution_count": 46,
   "id": "275d0a6e-050b-4f74-aff7-2cd4ae73d17c",
   "metadata": {},
   "outputs": [
    {
     "name": "stdout",
     "output_type": "stream",
     "text": [
      "bye\n"
     ]
    }
   ],
   "source": [
    "if 100<10:\n",
    "    print(\"hi\")\n",
    "else:\n",
    "    print(\"bye\")"
   ]
  },
  {
   "cell_type": "code",
   "execution_count": 47,
   "id": "4112cb0f-f3be-4458-a337-08f771783917",
   "metadata": {},
   "outputs": [
    {
     "ename": "SyntaxError",
     "evalue": "invalid syntax (1316841692.py, line 4)",
     "output_type": "error",
     "traceback": [
      "\u001b[1;36m  Cell \u001b[1;32mIn[47], line 4\u001b[1;36m\u001b[0m\n\u001b[1;33m    else:\u001b[0m\n\u001b[1;37m    ^\u001b[0m\n\u001b[1;31mSyntaxError\u001b[0m\u001b[1;31m:\u001b[0m invalid syntax\n"
     ]
    }
   ],
   "source": [
    " if 100>10:\n",
    "    print(\"hi\")\n",
    "print(\"why are you in middle\")\n",
    "else:\n",
    "    print(\"bye\")"
   ]
  },
  {
   "cell_type": "code",
   "execution_count": 50,
   "id": "7563c794-7006-4e68-88b5-abb9fe9ebe0a",
   "metadata": {},
   "outputs": [
    {
     "name": "stdout",
     "output_type": "stream",
     "text": [
      "10\n",
      "0\n",
      "10\n",
      "0.0\n"
     ]
    },
    {
     "ename": "ZeroDivisionError",
     "evalue": "division by zero",
     "output_type": "error",
     "traceback": [
      "\u001b[1;31m---------------------------------------------------------------------------\u001b[0m",
      "\u001b[1;31mZeroDivisionError\u001b[0m                         Traceback (most recent call last)",
      "Cell \u001b[1;32mIn[50], line 10\u001b[0m\n\u001b[0;32m      8\u001b[0m d \u001b[38;5;241m=\u001b[39m b\u001b[38;5;241m/\u001b[39ma\n\u001b[0;32m      9\u001b[0m \u001b[38;5;28mprint\u001b[39m(d)      \u001b[38;5;66;03m#0\u001b[39;00m\n\u001b[1;32m---> 10\u001b[0m e\u001b[38;5;241m=\u001b[39ma\u001b[38;5;241m/\u001b[39mb\n\u001b[0;32m     11\u001b[0m \u001b[38;5;28mprint\u001b[39m(e)\n",
      "\u001b[1;31mZeroDivisionError\u001b[0m: division by zero"
     ]
    }
   ],
   "source": [
    "if True:\n",
    "    a=10\n",
    "    b=0\n",
    "    print(a)      #10\n",
    "    print(b)      #0\n",
    "    c=a+b\n",
    "    print(c)      #10\n",
    "    d = b/a\n",
    "    print(d)      #0\n",
    "    e=a/b\n",
    "    print(e)      #10/0"
   ]
  },
  {
   "cell_type": "code",
   "execution_count": 51,
   "id": "8bc69298-befa-4358-a382-abb3dbd50e44",
   "metadata": {},
   "outputs": [
    {
     "data": {
      "text/plain": [
       "1.25"
      ]
     },
     "execution_count": 51,
     "metadata": {},
     "output_type": "execute_result"
    }
   ],
   "source": [
    "5/4  #normal division  "
   ]
  },
  {
   "cell_type": "code",
   "execution_count": 52,
   "id": "fa0e0f8e-7cec-40cd-aafd-b47f86e46fa8",
   "metadata": {},
   "outputs": [
    {
     "data": {
      "text/plain": [
       "1"
      ]
     },
     "execution_count": 52,
     "metadata": {},
     "output_type": "execute_result"
    }
   ],
   "source": [
    "5//4 #floor division  questiont"
   ]
  },
  {
   "cell_type": "code",
   "execution_count": 53,
   "id": "0a1d5676-abc9-45a1-9afc-c82a6f706009",
   "metadata": {},
   "outputs": [
    {
     "data": {
      "text/plain": [
       "1"
      ]
     },
     "execution_count": 53,
     "metadata": {},
     "output_type": "execute_result"
    }
   ],
   "source": [
    "5%4 #reminder"
   ]
  },
  {
   "cell_type": "code",
   "execution_count": 54,
   "id": "d59f9918-484b-49f5-beee-8419267ad0fb",
   "metadata": {},
   "outputs": [],
   "source": [
    "#write a program for the user enter a number\n",
    "#find it its even or odd\n",
    "#step 1: num=eval(input())\n",
    "#step 2: if <condition>:\n",
    "#step 3: print()\n",
    "#step 4: else:\n",
    "#step 5: print()"
   ]
  },
  {
   "cell_type": "code",
   "execution_count": 58,
   "id": "57dbadc1-39ec-461b-ac96-e8699dcb01b8",
   "metadata": {},
   "outputs": [
    {
     "name": "stdin",
     "output_type": "stream",
     "text": [
      "enter the number 5\n"
     ]
    },
    {
     "name": "stdout",
     "output_type": "stream",
     "text": [
      "odd\n"
     ]
    }
   ],
   "source": [
    "num = eval(input(\"enter the number\"))\n",
    "\n",
    "if num%2==0:\n",
    "    print(\"even\")\n",
    "else:\n",
    "    print(\"odd\")"
   ]
  },
  {
   "cell_type": "code",
   "execution_count": 9,
   "id": "db339b3d-eee7-4ee8-856e-231208df4bf5",
   "metadata": {},
   "outputs": [
    {
     "name": "stdout",
     "output_type": "stream",
     "text": [
      "86\n",
      "even\n"
     ]
    }
   ],
   "source": [
    "import random\n",
    "num = random.randint(1,100)\n",
    "print(num)\n",
    "if num%2==0:\n",
    "    print(\"even\")\n",
    "else:\n",
    "    print(\"odd\")"
   ]
  },
  {
   "cell_type": "code",
   "execution_count": 10,
   "id": "b98181aa-da7f-4fb1-ba12-1b2c0b21905f",
   "metadata": {},
   "outputs": [
    {
     "name": "stdin",
     "output_type": "stream",
     "text": [
      "Enter the start value 10\n",
      "Enter the end value 20\n"
     ]
    },
    {
     "name": "stdout",
     "output_type": "stream",
     "text": [
      "the 11 is odd\n"
     ]
    }
   ],
   "source": [
    "start = eval(input(\"Enter the start value\"))\n",
    "end = eval (input(\"Enter the end value\"))\n",
    "num=random.randint(start, end)\n",
    "if num%2==0:\n",
    "    print(f\"the {num} is even\")\n",
    "\n",
    "else:\n",
    "    print(f\"the {num} is odd\")"
   ]
  },
  {
   "cell_type": "markdown",
   "id": "71e1f007-2fc1-418d-a2d5-cd17400e563c",
   "metadata": {},
   "source": [
    "- we are providing values means it is hard coded\n",
    "- code should be always generic, with out hard coding"
   ]
  },
  {
   "cell_type": "code",
   "execution_count": 11,
   "id": "ef215ff5-6838-4bc5-8470-2b90369aa7c4",
   "metadata": {},
   "outputs": [],
   "source": [
    "# wap ask the user enter the distance \n",
    "# if distance greater than 25\n",
    "# then enter the charge\n",
    "# print the total charge\n",
    "#other wise \n",
    "#print free ride"
   ]
  },
  {
   "cell_type": "code",
   "execution_count": 21,
   "id": "315848a7-e034-4bf1-935e-d57f1f552157",
   "metadata": {},
   "outputs": [
    {
     "name": "stdin",
     "output_type": "stream",
     "text": [
      "Enter the distance of travel in kms 50\n",
      "Enter the charge in rupees 5\n"
     ]
    },
    {
     "name": "stdout",
     "output_type": "stream",
     "text": [
      "your total charge is 250\n"
     ]
    }
   ],
   "source": [
    "km= eval(input(\"Enter the distance of travel in kms\"))\n",
    "charge=eval(input(\"Enter the charge in rupees\"))\n",
    "cost = km*5\n",
    "if km>25:\n",
    "    print(f\"your total charge is {cost}\")\n",
    "\n",
    "else:\n",
    "    print(\"your ride is free\")\n",
    "    "
   ]
  },
  {
   "cell_type": "code",
   "execution_count": 14,
   "id": "3499074b-69df-43e7-8fb3-204e9a343fff",
   "metadata": {},
   "outputs": [],
   "source": [
    "# wap ask the user enter the distance\n",
    "#cutoff distance enter 25\n",
    "# if distance greater than 25\n",
    "# print(\"good news your charge is applicable for only remaning of 25\")\n",
    "# chargeble distance  = distance-cutoff\n",
    "# then enter the charge\n",
    "# then enter the charge\n",
    "# print the total charge\n",
    "#other wise \n",
    "#print free ride\n"
   ]
  },
  {
   "cell_type": "code",
   "execution_count": 1,
   "id": "fba7d25b-df53-45ab-a797-80afb33ce5d0",
   "metadata": {},
   "outputs": [
    {
     "name": "stdin",
     "output_type": "stream",
     "text": [
      "Enter the distance of travel in kms 50\n",
      "Enter the cutoff in kms 25\n",
      "Enter the charge in rupees 2\n"
     ]
    },
    {
     "name": "stdout",
     "output_type": "stream",
     "text": [
      "your total charge is 50\n"
     ]
    }
   ],
   "source": [
    "km= eval(input(\"Enter the distance of travel in kms\"))\n",
    "cutoff= eval(input(\"Enter the cutoff in kms\"))\n",
    "if km>=25:\n",
    "    chargeble= km-cutoff\n",
    "    charge = eval(input(\"Enter the charge in rupees\"))\n",
    "    cost = chargeble*charge\n",
    "    print(f\"your total charge is {cost}\")\n",
    "\n",
    "else:\n",
    "    print(\"your ride is free\")"
   ]
  },
  {
   "cell_type": "code",
   "execution_count": 24,
   "id": "83b4f3b6-ef08-446a-aed5-8b984c733150",
   "metadata": {},
   "outputs": [],
   "source": [
    "# ask the user enter the course\n",
    "# ask the user enter the institute\n",
    "#if the course equl to data science and intitute equal to naresh it\n",
    "# other wise\n",
    "# your are bad"
   ]
  },
  {
   "cell_type": "code",
   "execution_count": 29,
   "id": "a3c2b2c4-381e-4255-b18d-978bed384dab",
   "metadata": {},
   "outputs": [
    {
     "name": "stdin",
     "output_type": "stream",
     "text": [
      "Enter the course name data science\n",
      "Enter the institute name jntu\n"
     ]
    },
    {
     "name": "stdout",
     "output_type": "stream",
     "text": [
      "good\n"
     ]
    }
   ],
   "source": [
    "course = input(\"Enter the course name\")\n",
    "institute = input(\"Enter the institute name\")\n",
    "\n",
    "if course == \"data science\" or institute == \"naresh it\":\n",
    "    print(\"good\")\n",
    "\n",
    "else:\n",
    "    print(\"bad\")"
   ]
  },
  {
   "cell_type": "code",
   "execution_count": 30,
   "id": "11c89e92-da14-4e2b-8b97-7c7cd85649f9",
   "metadata": {},
   "outputs": [
    {
     "name": "stdin",
     "output_type": "stream",
     "text": [
      "Enter the course name data science\n",
      "Enter the institute name jntu\n"
     ]
    },
    {
     "name": "stdout",
     "output_type": "stream",
     "text": [
      "bad\n"
     ]
    }
   ],
   "source": [
    "course = input(\"Enter the course name\")\n",
    "institute = input(\"Enter the institute name\")\n",
    "\n",
    "if course == \"data science\" and institute == \"naresh it\":\n",
    "    print(\"good\")\n",
    "\n",
    "else:\n",
    "    print(\"bad\")"
   ]
  },
  {
   "cell_type": "markdown",
   "id": "96b4e3ec-49e5-4cd0-abcf-d8ded274eb1d",
   "metadata": {},
   "source": [
    "- and means 2 conditions needs to satisfy\n",
    "- or means any one condition enough to satisfy"
   ]
  },
  {
   "cell_type": "code",
   "execution_count": 31,
   "id": "52b65759-a99f-4559-8bcc-c3c477b309b9",
   "metadata": {},
   "outputs": [],
   "source": [
    "# ask the user enter your random number b/w 1 to 10, treat this as num1\n",
    "# ask the user enter another from keyboard, treat this as num2\n",
    "# if num1 is equal to num2\n",
    "# print won\n",
    "# other wise \n",
    "# print lost"
   ]
  },
  {
   "cell_type": "code",
   "execution_count": 41,
   "id": "da847df6-f78b-4378-b7b9-767a1a1d56eb",
   "metadata": {},
   "outputs": [
    {
     "name": "stdout",
     "output_type": "stream",
     "text": [
      "8\n"
     ]
    },
    {
     "name": "stdin",
     "output_type": "stream",
     "text": [
      "enter the number b/w 1-10 8\n"
     ]
    },
    {
     "name": "stdout",
     "output_type": "stream",
     "text": [
      "won\n"
     ]
    }
   ],
   "source": [
    "num1 = random.randint(1,10)\n",
    "print(num1)\n",
    "num2 = eval(input(\"enter the number b/w 1-10\"))\n",
    "\n",
    "if num2==num1:\n",
    "    print(\"won\")\n",
    "\n",
    "else:\n",
    "    print(\"lost\")\n"
   ]
  },
  {
   "cell_type": "markdown",
   "id": "5006b710-0abb-4eef-b29d-adf09b8b0777",
   "metadata": {},
   "source": [
    "- till now we have seen one condition problem\n",
    "- which means if that condition is true will get one ans\n",
    "- if that condition false then will get another ans\n",
    "- how about if we have more than 2 conditions\n",
    "- if - elif- else\n",
    "- two conditions means 3 results\n",
    "- if has one condition\n",
    "- elif has second condition\n",
    "- if both are false then result in else"
   ]
  },
  {
   "cell_type": "code",
   "execution_count": null,
   "id": "3c38d39e-b7bd-4087-bf7b-ce4e24f21adb",
   "metadata": {},
   "outputs": [],
   "source": [
    "if <condition>:\n",
    "    <statements>\n",
    "\n",
    "elif <comdition>:\n",
    "    <statement>\n",
    "\n",
    "else:\n",
    "    <statement>\n",
    "\n",
    "if-else(1)\n",
    "if-elif-else(2)\n",
    "if-elif-elif-else(3)"
   ]
  },
  {
   "cell_type": "code",
   "execution_count": 42,
   "id": "4f021e43-9fc4-4100-948c-05f0ac81ae56",
   "metadata": {},
   "outputs": [],
   "source": [
    "# ask the user enter number\n",
    "# if num equal to 1 then print one \n",
    "# if num equal to 2 then print two\n",
    "# if num equal to 3 then print three \n",
    "# otherwise print enter a valid number"
   ]
  },
  {
   "cell_type": "code",
   "execution_count": 46,
   "id": "80fb822e-97f4-4260-add7-b6812dc9b630",
   "metadata": {},
   "outputs": [
    {
     "name": "stdin",
     "output_type": "stream",
     "text": [
      "Enter the num 5\n"
     ]
    },
    {
     "name": "stdout",
     "output_type": "stream",
     "text": [
      "Enter the valid number\n"
     ]
    }
   ],
   "source": [
    "num= eval(input(\"Enter the num\"))\n",
    "\n",
    "if num==1:\n",
    "    print(\"one\")\n",
    "\n",
    "elif num==2:\n",
    "    print(\"Two\")\n",
    "\n",
    "elif num==3:\n",
    "    print(\"Three\")\n",
    "\n",
    "else:\n",
    "    print(\"Enter the valid number\")"
   ]
  },
  {
   "cell_type": "code",
   "execution_count": 50,
   "id": "b78d9118-2d3f-4315-ae6f-ca1e8fa81417",
   "metadata": {},
   "outputs": [
    {
     "name": "stdin",
     "output_type": "stream",
     "text": [
      "Enter the num 5\n"
     ]
    },
    {
     "name": "stdout",
     "output_type": "stream",
     "text": [
      "Enter the valid number\n"
     ]
    }
   ],
   "source": [
    "num= eval(input(\"Enter the num\"))\n",
    "\n",
    "if num==1:print(\"one\")\n",
    "\n",
    "elif num==2:print(\"Two\")\n",
    "\n",
    "elif num==3:print(\"Three\")\n",
    "\n",
    "else:print(\"Enter the valid number\")"
   ]
  },
  {
   "cell_type": "code",
   "execution_count": 51,
   "id": "efc5488c-5a5d-4fac-89d4-53bdd9a5e72e",
   "metadata": {},
   "outputs": [],
   "source": [
    "# wap ask the user enter a number \n",
    "# if that number greater than zero print positive\n",
    "# if that number less than zero print negative\n",
    "# other wise print zero"
   ]
  },
  {
   "cell_type": "code",
   "execution_count": 54,
   "id": "8a3809e9-127b-4769-9455-9be7f208675d",
   "metadata": {},
   "outputs": [
    {
     "name": "stdin",
     "output_type": "stream",
     "text": [
      "enter the number 0\n"
     ]
    },
    {
     "name": "stdout",
     "output_type": "stream",
     "text": [
      "zero\n"
     ]
    }
   ],
   "source": [
    "num1= eval(input(\"enter the number\"))\n",
    "\n",
    "if num1>0:\n",
    "    print(\"Positive\")\n",
    "\n",
    "elif num1<0:\n",
    "    print(\"negative\")\n",
    "\n",
    "else:\n",
    "    print(\"zero\")"
   ]
  },
  {
   "cell_type": "code",
   "execution_count": 55,
   "id": "403eb123-dbe5-440a-b959-09062ed40d4e",
   "metadata": {},
   "outputs": [],
   "source": [
    "# wap ask the percentage of marks\n",
    "# if % is grater than 90 print A grade\n",
    "# if % is b/w 75 to 90 print B grade\n",
    "# if % is b/w 50 to 75 print c grade\n",
    "# if % is b/w 35 to 50 print d grade\n",
    "# otherwise print fail"
   ]
  },
  {
   "cell_type": "code",
   "execution_count": 63,
   "id": "773e39ef-4749-4585-9679-bfdbc33bad05",
   "metadata": {},
   "outputs": [
    {
     "name": "stdin",
     "output_type": "stream",
     "text": [
      "Enter your percentage of marks 33\n"
     ]
    },
    {
     "name": "stdout",
     "output_type": "stream",
     "text": [
      "Fail\n"
     ]
    }
   ],
   "source": [
    "marks = eval(input(\"Enter your percentage of marks\"))\n",
    "if marks >=90:\n",
    "    print(\"A Grade\")\n",
    "\n",
    "elif marks >=75:\n",
    "    print(\"B Grade\")\n",
    "\n",
    "elif marks >= 50:\n",
    "    print(\"C Grade\")\n",
    "\n",
    "elif marks >= 35:\n",
    "    print(\"D Grade\")\n",
    "\n",
    "else:  \n",
    "    print(\"Fail\")"
   ]
  },
  {
   "cell_type": "code",
   "execution_count": 64,
   "id": "6be45cd7-f4fe-40e3-805b-8172d77f0315",
   "metadata": {},
   "outputs": [],
   "source": [
    "# wap ask the user enter the age\n",
    "# if age is greater than 100 lucky\n",
    "# if age is greater than 75 to 100 print old age\n",
    "# if age b/w 50 to 75 print ss\n",
    "# if age b/w 30 to 50 print ma\n",
    "# if the age b/w 15 to 30 print young\n",
    "# other wise print kid"
   ]
  },
  {
   "cell_type": "code",
   "execution_count": 71,
   "id": "5fb495eb-7039-48ac-809d-5b2c0cda861f",
   "metadata": {},
   "outputs": [
    {
     "name": "stdin",
     "output_type": "stream",
     "text": [
      "Enter your age 50\n"
     ]
    },
    {
     "name": "stdout",
     "output_type": "stream",
     "text": [
      "middle age\n"
     ]
    }
   ],
   "source": [
    "age = eval(input(\"Enter your age\"))\n",
    "if age>100:\n",
    "    print(\"lucky\")\n",
    "\n",
    "elif age>75:\n",
    "    print(\"old age\")\n",
    "\n",
    "elif age>50:\n",
    "    print(\"senior cetizen\")\n",
    "\n",
    "elif age>30:\n",
    "    print(\"middle age\")\n",
    "\n",
    "elif age>15:\n",
    "    print(\"young\")\n",
    "\n",
    "else:\n",
    "    print(\"kid\")"
   ]
  },
  {
   "cell_type": "code",
   "execution_count": 2,
   "id": "33858385-99bf-4b8e-912e-f0317abdc663",
   "metadata": {},
   "outputs": [],
   "source": [
    "# wap ask the user to enter number \n",
    "#num , num2\n",
    "# you need to print\n",
    "# enter the opration 1 for addition\n",
    "# enter the opration 2 for multiply\n",
    "# enter the opration 3 for subtraction\n",
    "# enter the opration 4 for divide\n",
    "\n",
    "#enter the operation b/w 1 to 4\n",
    "# if operation equal to 1 then do add\n",
    "# if operation equal to 2 then do multiply\n",
    "# if operation equal to 3 then do subtract\n",
    "# if operation equal to 4 then do divide\n",
    "#otherwise print a valid number"
   ]
  },
  {
   "cell_type": "code",
   "execution_count": 12,
   "id": "b1077c26-d15c-4a2f-b7c7-db2fa53bcfee",
   "metadata": {},
   "outputs": [
    {
     "name": "stdin",
     "output_type": "stream",
     "text": [
      "Enter the number 1:  10\n",
      "Enter the number 2:  50\n"
     ]
    },
    {
     "name": "stdout",
     "output_type": "stream",
     "text": [
      "enter the opration 1 for addition\n",
      "enter the opration 2 for multiply\n",
      "enter the opration 3 for subtraction\n",
      "enter the opration 4 for divide\n"
     ]
    },
    {
     "name": "stdin",
     "output_type": "stream",
     "text": [
      "Enter the operation number 1\n"
     ]
    },
    {
     "name": "stdout",
     "output_type": "stream",
     "text": [
      "The addition of 10 and 50: 60\n"
     ]
    }
   ],
   "source": [
    "num1=eval(input(\"Enter the number 1: \"))\n",
    "num2=eval(input(\"Enter the number 2: \"))\n",
    "print(\"enter the opration 1 for addition\")\n",
    "print(\"enter the opration 2 for multiply\")\n",
    "print(\"enter the opration 3 for subtraction\")\n",
    "print(\"enter the opration 4 for divide\")\n",
    "operator=eval(input(\"Enter the operation number\"))\n",
    "\n",
    "add=num1+num2\n",
    "multi=num1*num2\n",
    "sub=num1-num2\n",
    "div=num1/num2\n",
    "\n",
    "if operator == 1:\n",
    "    print(f\"The addition of {num1} and {num2}: {add}\")\n",
    "\n",
    "elif operator == 2:\n",
    "    print(f\"The multiplication of {num1} and {num2}: {multi}\")\n",
    "\n",
    "elif operator == 3:\n",
    "    print(f\"The subtraction of {num1} and {num2}: {sub}\")\n",
    "\n",
    "elif operator == 4:\n",
    "    print(f\"The division of {num1} and {num2}: {div}\")\n",
    "\n",
    "else:\n",
    "    print(\"enter the valid number\")\n",
    "\n"
   ]
  },
  {
   "cell_type": "code",
   "execution_count": 13,
   "id": "da94b626-0289-4ad0-9e02-c69b830f4585",
   "metadata": {},
   "outputs": [],
   "source": [
    "#wap ask the user enter the gender \n",
    "# if gender = male\n",
    "# the ask for age\n",
    "# if age greater than 60 print sc man\n",
    "# if the age b/w 30 to 60 ma man\n",
    "# if the age b/w 15 to 30 young man\n",
    "# other wise print boy\n",
    "\n",
    "#if gender = female\n",
    "# the ask for age\n",
    "# if age greater than 60 print sc woman\n",
    "# if the age b/w 30 to 60 ma woman\n",
    "# if the age b/w 15 to 30 young woman\n",
    "# other wise print girl\n",
    "\n",
    "#otherwise enter valid gender"
   ]
  },
  {
   "cell_type": "code",
   "execution_count": 29,
   "id": "ae0a5c9e-368e-4372-ae0e-9ede6f922ad0",
   "metadata": {},
   "outputs": [
    {
     "name": "stdin",
     "output_type": "stream",
     "text": [
      "Enter your gender male\n",
      "Enter your age: 20\n"
     ]
    },
    {
     "name": "stdout",
     "output_type": "stream",
     "text": [
      "Young man\n"
     ]
    }
   ],
   "source": [
    "gender=input(\"Enter your gender\")\n",
    "\n",
    "if gender == \"male\":\n",
    "    age= eval(input(\"Enter your age:\"))\n",
    "    if age >= 60:\n",
    "        print(\"senior citizen man\")\n",
    "    elif age>= 30:\n",
    "        print(\"Middle age man\")\n",
    "    elif age>=15:\n",
    "        print(\"Young man\")\n",
    "    else:\n",
    "        print(\"Boy\")\n",
    "\n",
    "elif gender == \"female\":\n",
    "    age= eval(input(\"Enter your age:\"))\n",
    "    if age >= 60:\n",
    "        print(\"senior citizen woman\")\n",
    "    elif age>= 30:\n",
    "        print(\"Middle age woman\")\n",
    "    elif age>=15:\n",
    "        print(\"Young woman\")\n",
    "    else:\n",
    "        print(\"girl\")\n",
    "\n",
    "else:\n",
    "    print(\"enter valid gender\")"
   ]
  },
  {
   "cell_type": "code",
   "execution_count": 30,
   "id": "bc6a885b-ed6e-4b1a-8557-7a0168278dc0",
   "metadata": {},
   "outputs": [],
   "source": [
    "# wap ask the user enter a number \n",
    "# if number greater than = zero\n",
    "#  if num=0 print 0\n",
    "#  else print positive\n",
    "#else\n",
    "#  print negative"
   ]
  },
  {
   "cell_type": "code",
   "execution_count": 37,
   "id": "09f943bf-893c-4131-ad9c-35d48ef5c17b",
   "metadata": {},
   "outputs": [
    {
     "name": "stdin",
     "output_type": "stream",
     "text": [
      "Enter the number:  -1\n"
     ]
    },
    {
     "name": "stdout",
     "output_type": "stream",
     "text": [
      "Negative\n"
     ]
    }
   ],
   "source": [
    "num = eval (input(\"Enter the number: \"))\n",
    "if num >=0:\n",
    "    if num==0:\n",
    "        print(\"zero\")\n",
    "    else:\n",
    "        print(\"Positive\")\n",
    "\n",
    "else:\n",
    "    print(\"Negative\")"
   ]
  },
  {
   "cell_type": "code",
   "execution_count": 38,
   "id": "09ea1f2b-7a06-477a-bfd5-6a49c4a94f73",
   "metadata": {},
   "outputs": [],
   "source": [
    "# take 3 number \n",
    "# num1 num2 num3 \n",
    "# find max value"
   ]
  },
  {
   "cell_type": "code",
   "execution_count": null,
   "id": "b2c3cc59-0f96-41a1-b254-d732ead2da19",
   "metadata": {},
   "outputs": [],
   "source": [
    "num1= eval(input(\"Enter the num1: \")"
   ]
  }
 ],
 "metadata": {
  "kernelspec": {
   "display_name": "Python 3 (ipykernel)",
   "language": "python",
   "name": "python3"
  },
  "language_info": {
   "codemirror_mode": {
    "name": "ipython",
    "version": 3
   },
   "file_extension": ".py",
   "mimetype": "text/x-python",
   "name": "python",
   "nbconvert_exporter": "python",
   "pygments_lexer": "ipython3",
   "version": "3.11.7"
  }
 },
 "nbformat": 4,
 "nbformat_minor": 5
}
