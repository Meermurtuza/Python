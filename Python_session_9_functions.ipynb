{
 "cells": [
  {
   "cell_type": "markdown",
   "id": "9c7285c5-cfa8-4da4-9a45-dcc74513ffd7",
   "metadata": {},
   "source": [
    "**Functions**\n",
    "- A block of code which we can use many times"
   ]
  },
  {
   "cell_type": "code",
   "execution_count": null,
   "id": "675c6ada-a1f4-4308-b956-738a363bcc31",
   "metadata": {},
   "outputs": [],
   "source": [
    "def <function_name>():\n",
    "    code lines"
   ]
  },
  {
   "cell_type": "markdown",
   "id": "85fda3d9-1947-466a-83f3-864084e3b18c",
   "metadata": {},
   "source": [
    "**funtion without arguments**"
   ]
  },
  {
   "cell_type": "code",
   "execution_count": 2,
   "id": "74b94492-fc58-4af8-acf5-1f5a06892a13",
   "metadata": {},
   "outputs": [],
   "source": [
    "def addition():\n",
    "    num1=10\n",
    "    num2=20\n",
    "    add=num1+num2\n",
    "    print(add)"
   ]
  },
  {
   "cell_type": "code",
   "execution_count": 4,
   "id": "992ab9de-3a55-4521-bdc4-fcd7bd11ae21",
   "metadata": {},
   "outputs": [],
   "source": [
    "# function name: addition \n",
    "# inorder to execute code lines \n",
    "# we need to call the function"
   ]
  },
  {
   "cell_type": "code",
   "execution_count": 6,
   "id": "883671b4-5092-4fd9-a97b-ade173d69335",
   "metadata": {},
   "outputs": [
    {
     "name": "stdout",
     "output_type": "stream",
     "text": [
      "30\n"
     ]
    }
   ],
   "source": [
    "addition()"
   ]
  },
  {
   "cell_type": "code",
   "execution_count": 9,
   "id": "f47dfd3c-cd54-4904-a66e-60a6aa890a23",
   "metadata": {},
   "outputs": [
    {
     "name": "stdout",
     "output_type": "stream",
     "text": [
      "num1 is: 10\n",
      "num2 is: 20\n",
      "the addition of 10 and 20 is: 30\n"
     ]
    }
   ],
   "source": [
    "def addition():\n",
    "    num1=10\n",
    "    print(\"num1 is:\", num1)\n",
    "    num2=20\n",
    "    print(\"num2 is:\",num2)\n",
    "    add=num1+num2\n",
    "    print(f\"the addition of {num1} and {num2} is: {add}\")\n",
    "\n",
    "addition()"
   ]
  },
  {
   "cell_type": "markdown",
   "id": "d44eabcc-845c-47ba-b9a8-8642f1cd126b",
   "metadata": {},
   "source": [
    "**note**\n",
    "- function names can be anything\n",
    "- same rules applicable as variable rules\n",
    "- whenever you create the function make sure the indentation correctly\n",
    "- starting with keywords, ending with colon the code lines start with indentation\n",
    "- brackets means functions\n",
    "- never missed the brackets whenever you call the function\n",
    "- if you want to execute the code we need to call the function\n",
    "- while you are calling the function if you see function or bound method\n",
    "- which means you miss the brackets"
   ]
  },
  {
   "cell_type": "code",
   "execution_count": 13,
   "id": "2ce75d64-e506-44c3-97e4-745fa8c8bb2b",
   "metadata": {},
   "outputs": [
    {
     "name": "stdout",
     "output_type": "stream",
     "text": [
      "num1 is: 10\n",
      "num2 is: 20\n"
     ]
    },
    {
     "ename": "NameError",
     "evalue": "name 'num11' is not defined",
     "output_type": "error",
     "traceback": [
      "\u001b[1;31m---------------------------------------------------------------------------\u001b[0m",
      "\u001b[1;31mNameError\u001b[0m                                 Traceback (most recent call last)",
      "Cell \u001b[1;32mIn[13], line 9\u001b[0m\n\u001b[0;32m      6\u001b[0m     add\u001b[38;5;241m=\u001b[39mnum11\u001b[38;5;241m+\u001b[39mnum2\n\u001b[0;32m      7\u001b[0m     \u001b[38;5;28mprint\u001b[39m(\u001b[38;5;124mf\u001b[39m\u001b[38;5;124m\"\u001b[39m\u001b[38;5;124mthe addition of \u001b[39m\u001b[38;5;132;01m{\u001b[39;00mnum1\u001b[38;5;132;01m}\u001b[39;00m\u001b[38;5;124m and \u001b[39m\u001b[38;5;132;01m{\u001b[39;00mnum2\u001b[38;5;132;01m}\u001b[39;00m\u001b[38;5;124m is: \u001b[39m\u001b[38;5;132;01m{\u001b[39;00madd\u001b[38;5;132;01m}\u001b[39;00m\u001b[38;5;124m\"\u001b[39m)\n\u001b[1;32m----> 9\u001b[0m addition1()\n",
      "Cell \u001b[1;32mIn[13], line 6\u001b[0m, in \u001b[0;36maddition1\u001b[1;34m()\u001b[0m\n\u001b[0;32m      4\u001b[0m num2\u001b[38;5;241m=\u001b[39m\u001b[38;5;241m20\u001b[39m\n\u001b[0;32m      5\u001b[0m \u001b[38;5;28mprint\u001b[39m(\u001b[38;5;124m\"\u001b[39m\u001b[38;5;124mnum2 is:\u001b[39m\u001b[38;5;124m\"\u001b[39m,num2)\n\u001b[1;32m----> 6\u001b[0m add\u001b[38;5;241m=\u001b[39mnum11\u001b[38;5;241m+\u001b[39mnum2\n\u001b[0;32m      7\u001b[0m \u001b[38;5;28mprint\u001b[39m(\u001b[38;5;124mf\u001b[39m\u001b[38;5;124m\"\u001b[39m\u001b[38;5;124mthe addition of \u001b[39m\u001b[38;5;132;01m{\u001b[39;00mnum1\u001b[38;5;132;01m}\u001b[39;00m\u001b[38;5;124m and \u001b[39m\u001b[38;5;132;01m{\u001b[39;00mnum2\u001b[38;5;132;01m}\u001b[39;00m\u001b[38;5;124m is: \u001b[39m\u001b[38;5;132;01m{\u001b[39;00madd\u001b[38;5;132;01m}\u001b[39;00m\u001b[38;5;124m\"\u001b[39m)\n",
      "\u001b[1;31mNameError\u001b[0m: name 'num11' is not defined"
     ]
    }
   ],
   "source": [
    "def addition1():\n",
    "    num1=10\n",
    "    print(\"num1 is:\", num1)\n",
    "    num2=20\n",
    "    print(\"num2 is:\",num2)\n",
    "    add=num11+num2\n",
    "    print(f\"the addition of {num1} and {num2} is: {add}\")\n",
    "\n",
    "addition1()"
   ]
  },
  {
   "cell_type": "markdown",
   "id": "e8fbce01-4701-4091-b020-6ff748917111",
   "metadata": {},
   "source": [
    "### whenever we define the function it doesn't throw any error untill unless we call the function"
   ]
  },
  {
   "cell_type": "code",
   "execution_count": 14,
   "id": "fcdea542-e957-4a67-b128-f4a76d829761",
   "metadata": {},
   "outputs": [],
   "source": [
    "#wap to crate the function for avg \n",
    "#write normal avg code"
   ]
  },
  {
   "cell_type": "code",
   "execution_count": 18,
   "id": "57816d84-5c10-4d25-9b46-4d59a239012d",
   "metadata": {},
   "outputs": [
    {
     "name": "stdin",
     "output_type": "stream",
     "text": [
      "Enter num1 96\n",
      "Enter num2 78\n",
      "Enter num3 79\n",
      "Enter num4 99\n",
      "Enter num5 49\n"
     ]
    },
    {
     "name": "stdout",
     "output_type": "stream",
     "text": [
      "80.2\n"
     ]
    }
   ],
   "source": [
    "#function and varable name not be a same\n",
    "def avgerage():\n",
    "    \n",
    "    a=eval(input(\"Enter num1\"))\n",
    "    b=eval(input(\"Enter num2\"))\n",
    "    c=eval(input(\"Enter num3\"))\n",
    "    d=eval(input(\"Enter num4\"))\n",
    "    e=eval(input(\"Enter num5\"))\n",
    "    avg=(a+b+c+d+e)/5\n",
    "    avg1=round(avg, 2)\n",
    "    print(avg1)\n",
    "\n",
    "avgerage()"
   ]
  },
  {
   "cell_type": "code",
   "execution_count": null,
   "id": "eaf7ff22-d684-4ca7-b38a-0eef59723f06",
   "metadata": {},
   "outputs": [],
   "source": [
    "# wap ask the user enter the radius and find the area of the circle"
   ]
  },
  {
   "cell_type": "code",
   "execution_count": 20,
   "id": "f562d9ae-4e57-4a0d-82f7-6b2f588b2621",
   "metadata": {},
   "outputs": [
    {
     "name": "stdin",
     "output_type": "stream",
     "text": [
      "Enter the area of circle 10\n"
     ]
    },
    {
     "name": "stdout",
     "output_type": "stream",
     "text": [
      "The area of the circle is: 314.0\n"
     ]
    }
   ],
   "source": [
    "def circle_area():\n",
    "    radius=eval(input(\"Enter the area of circle\"))\n",
    "    pi=3.14\n",
    "    area= pi*radius*radius\n",
    "    print(f\"The area of the circle is: {area}\")\n",
    "\n",
    "circle_area()"
   ]
  },
  {
   "cell_type": "code",
   "execution_count": 21,
   "id": "e6eb9037-5057-4964-ab74-b329f9da1fb3",
   "metadata": {},
   "outputs": [],
   "source": [
    "# wap ask the user to enter the bill \n",
    "#    ask the user how much tip he want to pay in %\n",
    "#    calculate total bill"
   ]
  },
  {
   "cell_type": "code",
   "execution_count": 25,
   "id": "9fbfc1ea-7a2b-4343-aa68-ba2659a28e1d",
   "metadata": {},
   "outputs": [
    {
     "name": "stdin",
     "output_type": "stream",
     "text": [
      "Enter the bill amount:  100\n",
      "Enter the tip percentage 20\n"
     ]
    },
    {
     "name": "stdout",
     "output_type": "stream",
     "text": [
      "120.0\n"
     ]
    }
   ],
   "source": [
    "def bill_amount():\n",
    "    b=eval(input(\"Enter the bill amount: \"))\n",
    "    tip= eval(input(\"Enter the tip percentage\"))\n",
    "    total = (b*tip)/100\n",
    "    total_bill=total+b\n",
    "    print(total_bill)\n",
    "\n",
    "bill_amount()\n",
    "    "
   ]
  },
  {
   "cell_type": "markdown",
   "id": "73ad0c4f-34fc-4a52-b79a-b7751c931f98",
   "metadata": {},
   "source": [
    "- while we are defining function if nothing mentioned means\n",
    "- it is called as function without arguments"
   ]
  },
  {
   "cell_type": "markdown",
   "id": "8f31b8fc-0c17-4f3d-8127-75e77d7b1c44",
   "metadata": {},
   "source": [
    "**Function with arguments**\n",
    "- First look at how many arguments or variable are there\n",
    "- in that how many input variable are there\n",
    "- how many output variable are there\n",
    "- input variable means user can define\n",
    "- output variable means python gives the output\n",
    "- we can use only variable as arguments inside the function"
   ]
  },
  {
   "cell_type": "code",
   "execution_count": 27,
   "id": "6f439783-e2a0-486f-8095-ceb7eca49d08",
   "metadata": {},
   "outputs": [
    {
     "name": "stdout",
     "output_type": "stream",
     "text": [
      "the addition of 10 and 20 is: 30\n"
     ]
    }
   ],
   "source": [
    "def addition2(num1, num2):\n",
    "    add=num1+num2\n",
    "    print(f\"the addition of {num1} and {num2} is: {add}\")\n",
    "\n",
    "addition2(10, 20)"
   ]
  },
  {
   "cell_type": "code",
   "execution_count": 34,
   "id": "0e6b1702-b116-42dd-8415-a842827819ff",
   "metadata": {},
   "outputs": [
    {
     "name": "stdout",
     "output_type": "stream",
     "text": [
      "88.0\n"
     ]
    }
   ],
   "source": [
    "def avgerage1(a, b, c):\n",
    "    avg=(a+b+c)/3\n",
    "    avg1=round(avg, 2)\n",
    "    print(avg1)\n",
    "\n",
    "avgerage1(90, 90, 84)"
   ]
  },
  {
   "cell_type": "code",
   "execution_count": 35,
   "id": "bfb666a2-1848-4f9b-b00b-0dddd85babf4",
   "metadata": {},
   "outputs": [
    {
     "name": "stdout",
     "output_type": "stream",
     "text": [
      "area of triangle is: 100.0\n"
     ]
    }
   ],
   "source": [
    "# area of triangle\n",
    "def triangle_area(height, base):\n",
    "    area=0.5*height*base\n",
    "    print(f\"area of triangle is: {area}\")\n",
    "\n",
    "triangle_area(10,20)"
   ]
  },
  {
   "cell_type": "code",
   "execution_count": 1,
   "id": "0b687905-25f5-417c-8209-38eba88c8abc",
   "metadata": {},
   "outputs": [
    {
     "name": "stdin",
     "output_type": "stream",
     "text": [
      "Enter number1:  5\n",
      "Enter number2:  6\n"
     ]
    },
    {
     "name": "stdout",
     "output_type": "stream",
     "text": [
      "-1\n"
     ]
    }
   ],
   "source": [
    "def sub():\n",
    "    n1=eval(input(\"Enter number1: \"))\n",
    "    n2=eval(input(\"Enter number2: \"))\n",
    "    subtraction=n1-n2\n",
    "    print(subtraction)\n",
    "\n",
    "sub()\n",
    "\n",
    "# donot provide func name and variable name should be same"
   ]
  },
  {
   "cell_type": "code",
   "execution_count": 2,
   "id": "310d026a-78f8-4448-8fac-990301d24fe2",
   "metadata": {},
   "outputs": [
    {
     "name": "stdout",
     "output_type": "stream",
     "text": [
      "-10\n"
     ]
    }
   ],
   "source": [
    "def sub(n1, n2):\n",
    "    subtraction=n1-n2\n",
    "    print(subtraction)\n",
    "\n",
    "sub(10,20)\n"
   ]
  },
  {
   "cell_type": "markdown",
   "id": "973e16fc-893e-42a4-94b4-c8e2a7ea1afc",
   "metadata": {},
   "source": [
    "**Default arguments**"
   ]
  },
  {
   "cell_type": "code",
   "execution_count": 3,
   "id": "a431dc3d-2419-45ea-8cfb-e84bfdfbc91f",
   "metadata": {},
   "outputs": [
    {
     "name": "stdin",
     "output_type": "stream",
     "text": [
      "Enter the bill:  1000\n",
      "Enter the tip %:  10\n"
     ]
    },
    {
     "name": "stdout",
     "output_type": "stream",
     "text": [
      "The total bill is:  1100.0\n"
     ]
    }
   ],
   "source": [
    "# Bill amount problem\n",
    "bill=eval(input(\"Enter the bill: \"))\n",
    "tip_per=eval(input(\"Enter the tip %: \"))\n",
    "tip_amount=bill*tip_per/100\n",
    "total_bill=bill+tip_amount\n",
    "print(\"The total bill is: \",total_bill)"
   ]
  },
  {
   "cell_type": "code",
   "execution_count": 4,
   "id": "48c11a86-4231-4c0f-9e6b-b869dd8af42b",
   "metadata": {},
   "outputs": [
    {
     "name": "stdin",
     "output_type": "stream",
     "text": [
      "Enter the bill:  1000\n",
      "Enter the tip %:  10\n"
     ]
    },
    {
     "name": "stdout",
     "output_type": "stream",
     "text": [
      "The total bill is:  1100.0\n"
     ]
    }
   ],
   "source": [
    "# With out arguments\n",
    "def bill_pay():\n",
    "    bill=eval(input(\"Enter the bill: \"))\n",
    "    tip_per=eval(input(\"Enter the tip %: \"))\n",
    "    tip_amount=bill*tip_per/100\n",
    "    total_bill=bill+tip_amount\n",
    "    print(\"The total bill is: \",total_bill)\n",
    "\n",
    "bill_pay()"
   ]
  },
  {
   "cell_type": "code",
   "execution_count": 5,
   "id": "174e2302-c56d-4011-84db-8e74999349da",
   "metadata": {},
   "outputs": [
    {
     "name": "stdout",
     "output_type": "stream",
     "text": [
      "The total bill is:  1100.0\n"
     ]
    }
   ],
   "source": [
    "# With arguments\n",
    "# when you provide the arguments\n",
    "# these provided arguments are using inside the code or not\n",
    "def bill_pay(bill, tip_per):\n",
    "    tip_amount=bill*tip_per/100\n",
    "    total_bill=bill+tip_amount\n",
    "    print(\"The total bill is: \",total_bill)\n",
    "\n",
    "bill_pay(1000, 10)"
   ]
  },
  {
   "cell_type": "code",
   "execution_count": 6,
   "id": "12a70f2e-5100-4168-af3f-ebd2125e2dbf",
   "metadata": {},
   "outputs": [
    {
     "name": "stdin",
     "output_type": "stream",
     "text": [
      "Enter the bill:  1000\n",
      "Enter the tip %:  10\n"
     ]
    },
    {
     "name": "stdout",
     "output_type": "stream",
     "text": [
      "The total bill is:  1100.0\n"
     ]
    },
    {
     "name": "stdin",
     "output_type": "stream",
     "text": [
      "Enter the bill:  200\n",
      "Enter the tip %:  8\n"
     ]
    },
    {
     "name": "stdout",
     "output_type": "stream",
     "text": [
      "The total bill is:  216.0\n",
      "The total bill is:  1100.0\n"
     ]
    }
   ],
   "source": [
    "# Bill amount problem\n",
    "bill=eval(input(\"Enter the bill: \"))\n",
    "tip_per=eval(input(\"Enter the tip %: \"))\n",
    "tip_amount=bill*tip_per/100\n",
    "total_bill=bill+tip_amount\n",
    "print(\"The total bill is: \",total_bill)\n",
    "\n",
    "##########################################################################\n",
    "\n",
    "# With out arguments\n",
    "def bill_pay():\n",
    "    bill=eval(input(\"Enter the bill: \"))\n",
    "    tip_per=eval(input(\"Enter the tip %: \"))\n",
    "    tip_amount=bill*tip_per/100\n",
    "    total_bill=bill+tip_amount\n",
    "    print(\"The total bill is: \",total_bill)\n",
    "\n",
    "bill_pay()\n",
    "\n",
    "###########################################################################\n",
    "\n",
    "# With arguments\n",
    "# when you provide the arguments\n",
    "# these provided arguments are using inside the code or not\n",
    "def bill_pay(bill, tip_per):\n",
    "    tip_amount=bill*tip_per/100\n",
    "    total_bill=bill+tip_amount\n",
    "    print(\"The total bill is: \",total_bill)\n",
    "\n",
    "bill_pay(1000, 10)"
   ]
  },
  {
   "cell_type": "code",
   "execution_count": 7,
   "id": "71ba0773-aa57-44a9-923b-0746b5238a93",
   "metadata": {},
   "outputs": [
    {
     "name": "stdout",
     "output_type": "stream",
     "text": [
      "bill is:  2000\n",
      "Tip %:  20\n",
      "The total bill is:  2400.0\n"
     ]
    }
   ],
   "source": [
    "def bill_pay(bill, tip_per=20):\n",
    "    print(\"bill is: \",bill)\n",
    "    print(\"Tip %: \",tip_per)\n",
    "    tip_amount=bill*tip_per/100\n",
    "    total_bill=bill+tip_amount\n",
    "    print(\"The total bill is: \",total_bill)\n",
    "\n",
    "bill_pay(2000)\n",
    "\n",
    "# Here the tip_per= default value\n",
    "# whenever we provided default value to a arguments\n",
    "# Then it is called default value"
   ]
  },
  {
   "cell_type": "code",
   "execution_count": 15,
   "id": "a15d0059-4a24-4037-b1df-810cc5993d13",
   "metadata": {},
   "outputs": [
    {
     "name": "stdout",
     "output_type": "stream",
     "text": [
      "num1: 30\n",
      "num2: 40\n",
      "num3: 50\n",
      "The avrage of 30, 40 and 50: 40.0\n"
     ]
    }
   ],
   "source": [
    "def avgerage1(a, b, c=50):\n",
    "    print(\"num1:\",a)\n",
    "    print(\"num2:\",b)\n",
    "    print(\"num3:\",c)\n",
    "    avg=(a+b+c)/3\n",
    "    avg1=round(avg, 2)\n",
    "    print(f\"The avrage of {a}, {b} and {c}: {avg1}\")\n",
    "\n",
    "avgerage1(30,40)\n",
    "# num1 and num2 is positional arguments\n",
    "# num2 is default argument\n",
    "# default argument always at last"
   ]
  },
  {
   "cell_type": "markdown",
   "id": "8c36e981-113b-49bd-a36f-6870f4f30952",
   "metadata": {},
   "source": [
    "**Note**\n",
    "- default argument always at last"
   ]
  },
  {
   "cell_type": "code",
   "execution_count": 16,
   "id": "ba425f5f-49ed-443f-83bb-f690a648bf3b",
   "metadata": {},
   "outputs": [
    {
     "name": "stdout",
     "output_type": "stream",
     "text": [
      "num1: 30\n",
      "num2: 40\n",
      "num3: 50\n",
      "The avrage of 30, 40 and 50: 40.0\n"
     ]
    }
   ],
   "source": [
    "def avgerage1(a, b=40, c=50):\n",
    "    print(\"num1:\",a)\n",
    "    print(\"num2:\",b)\n",
    "    print(\"num3:\",c)\n",
    "    avg=(a+b+c)/3\n",
    "    avg1=round(avg, 2)\n",
    "    print(f\"The avrage of {a}, {b} and {c}: {avg1}\")\n",
    "\n",
    "avgerage1(30)"
   ]
  },
  {
   "cell_type": "code",
   "execution_count": 17,
   "id": "fb9faf94-81c1-47ec-866b-c6b0f41c0555",
   "metadata": {},
   "outputs": [
    {
     "name": "stdout",
     "output_type": "stream",
     "text": [
      "num1: 30\n",
      "num2: 40\n",
      "num3: 50\n",
      "The avrage of 30, 40 and 50: 40.0\n"
     ]
    }
   ],
   "source": [
    "def avgerage1(a=30, b=40, c=50):\n",
    "    print(\"num1:\",a)\n",
    "    print(\"num2:\",b)\n",
    "    print(\"num3:\",c)\n",
    "    avg=(a+b+c)/3\n",
    "    avg1=round(avg, 2)\n",
    "    print(f\"The avrage of {a}, {b} and {c}: {avg1}\")\n",
    "\n",
    "avgerage1()"
   ]
  },
  {
   "cell_type": "code",
   "execution_count": 20,
   "id": "3444a277-38fb-4a0a-ac6b-20789fd3b8aa",
   "metadata": {},
   "outputs": [
    {
     "name": "stdout",
     "output_type": "stream",
     "text": [
      "1100\n"
     ]
    }
   ],
   "source": [
    "# Case 1\n",
    "def addition(n1,n2=600):\n",
    "    add=n1+n2\n",
    "    print(add)\n",
    "    \n",
    "addition(500)"
   ]
  },
  {
   "cell_type": "code",
   "execution_count": 22,
   "id": "f0c114d7-df7e-40aa-b043-15c6b11214b9",
   "metadata": {},
   "outputs": [
    {
     "name": "stdout",
     "output_type": "stream",
     "text": [
      "1500\n"
     ]
    }
   ],
   "source": [
    "# Case 2\n",
    "def addition(n1,n2=600):\n",
    "    add=n1+n2\n",
    "    print(add)\n",
    "    \n",
    "addition(500,1000)\n",
    "\n",
    "# first we are defining function\n",
    "# While define the function we given n2=600\n",
    "# now we are calling the function,\n",
    "# while we are calling n2=1000\n",
    "# So values will be over write\n",
    "# python always take the latest value"
   ]
  },
  {
   "cell_type": "code",
   "execution_count": 24,
   "id": "7a485322-9936-46f1-b384-c4bd9fc9f5d0",
   "metadata": {},
   "outputs": [
    {
     "name": "stdout",
     "output_type": "stream",
     "text": [
      "2500\n"
     ]
    }
   ],
   "source": [
    "# Case 3\n",
    "def addition(n1,n2=600):\n",
    "    n2=2000\n",
    "    add=n1+n2\n",
    "    print(add)\n",
    "addition(500,1000)\n",
    "\n",
    "#step 1: Define func n2=600\n",
    "#step 2: Calling the function n2=1000\n",
    "#step 3: Running the func n2=2000"
   ]
  },
  {
   "cell_type": "code",
   "execution_count": 25,
   "id": "bcb25edf-b205-46cf-849f-f4cdc2f10980",
   "metadata": {},
   "outputs": [
    {
     "name": "stdout",
     "output_type": "stream",
     "text": [
      "2500\n"
     ]
    }
   ],
   "source": [
    "# Case 4\n",
    "def addition(n1,n2=600):\n",
    "    n2=2000\n",
    "    add=n1+n2\n",
    "    print(add)\n",
    "n2=3000\n",
    "addition(500,1000)\n",
    "#n2==600---> 3000 ---> 1000---> 2500"
   ]
  },
  {
   "cell_type": "markdown",
   "id": "047e0024-d7fa-4e95-a1fc-46d8a11ed5d4",
   "metadata": {},
   "source": [
    "**Local Variable and Global Variable**\n",
    "- Local Variable means: the variables inside the function call\n",
    "- Global Variable means: the variable inside the function call\n",
    "- once you define the varible outside means, you can use those variables anywhere\n",
    "- you can use global variable inside the func also\n",
    "- But you can not use local variable outside the function"
   ]
  },
  {
   "cell_type": "code",
   "execution_count": 29,
   "id": "8d9a71fd-56cb-4ec5-a7d4-f9fd1a9f60df",
   "metadata": {},
   "outputs": [
    {
     "name": "stdout",
     "output_type": "stream",
     "text": [
      "200\n"
     ]
    }
   ],
   "source": [
    "def multiplication():\n",
    "    a=10\n",
    "    b=20\n",
    "    mul=a*b\n",
    "    print(mul)\n",
    "\n",
    "multiplication()\n",
    "# a, b, mul are local variable\n",
    "# these values we can not use outside the func\n",
    "# local variable"
   ]
  },
  {
   "cell_type": "code",
   "execution_count": 30,
   "id": "dc66f1f7-aa6d-45e0-8eca-5016be66ba06",
   "metadata": {},
   "outputs": [
    {
     "name": "stdout",
     "output_type": "stream",
     "text": [
      "20000\n"
     ]
    }
   ],
   "source": [
    "a1=100\n",
    "b1=200\n",
    "def multiplication1():\n",
    "    mul=a1*b1\n",
    "    print(mul)\n",
    "\n",
    "multiplication1()"
   ]
  },
  {
   "cell_type": "code",
   "execution_count": 31,
   "id": "f672ccc7-a92d-40e8-a3b9-fc3ee237f0d1",
   "metadata": {},
   "outputs": [
    {
     "data": {
      "text/plain": [
       "100"
      ]
     },
     "execution_count": 31,
     "metadata": {},
     "output_type": "execute_result"
    }
   ],
   "source": [
    "a1"
   ]
  },
  {
   "cell_type": "code",
   "execution_count": 32,
   "id": "1eb47d29-ad7f-4684-a92e-160d3af8e916",
   "metadata": {},
   "outputs": [
    {
     "name": "stdout",
     "output_type": "stream",
     "text": [
      "1200\n"
     ]
    }
   ],
   "source": [
    "#case 5\n",
    "a1=100\n",
    "b1=200\n",
    "def add11(a1=1000):\n",
    "    add1=a1+b1\n",
    "    print(add1)\n",
    "\n",
    "add11()\n",
    "# Step 1: Global variable initialization ---a1=100\n",
    "# Step 2: Define the func ------------------a1=1000\n",
    "# Step 3: Call the func --------------------a1=1000\n",
    "# Step 4: Running the func -----------------a1=1000"
   ]
  },
  {
   "cell_type": "code",
   "execution_count": 33,
   "id": "ec181236-5b80-48a2-a7b5-f14fc4b5f009",
   "metadata": {},
   "outputs": [
    {
     "ename": "TypeError",
     "evalue": "add11() got an unexpected keyword argument 'b1'",
     "output_type": "error",
     "traceback": [
      "\u001b[1;31m---------------------------------------------------------------------------\u001b[0m",
      "\u001b[1;31mTypeError\u001b[0m                                 Traceback (most recent call last)",
      "Cell \u001b[1;32mIn[33], line 8\u001b[0m\n\u001b[0;32m      5\u001b[0m     add1\u001b[38;5;241m=\u001b[39ma1\u001b[38;5;241m+\u001b[39mb1\n\u001b[0;32m      6\u001b[0m     \u001b[38;5;28mprint\u001b[39m(add1)\n\u001b[1;32m----> 8\u001b[0m add11(a1\u001b[38;5;241m=\u001b[39m\u001b[38;5;241m2000\u001b[39m,b1\u001b[38;5;241m=\u001b[39m\u001b[38;5;241m3000\u001b[39m)\n",
      "\u001b[1;31mTypeError\u001b[0m: add11() got an unexpected keyword argument 'b1'"
     ]
    }
   ],
   "source": [
    "#case 6\n",
    "a1=100\n",
    "b1=200\n",
    "def add11(a1=1000):\n",
    "    add1=a1+b1\n",
    "    print(add1)\n",
    "\n",
    "add11(a1=2000,b1=3000)\n",
    "# While defining func only one arguments is there\n",
    "# while calling we are providing two arguments\n",
    "# it is not possible"
   ]
  },
  {
   "cell_type": "code",
   "execution_count": 34,
   "id": "b8b243af-2c93-49f3-b3d6-2040d4250153",
   "metadata": {},
   "outputs": [
    {
     "name": "stdout",
     "output_type": "stream",
     "text": [
      "2200\n"
     ]
    }
   ],
   "source": [
    "#case 7\n",
    "a1=100\n",
    "b1=200\n",
    "def add11(a1=1000):\n",
    "    add1=a1+b1\n",
    "    print(add1)\n",
    "\n",
    "add11(a1=2000)"
   ]
  },
  {
   "cell_type": "code",
   "execution_count": 35,
   "id": "32fa9148-dae9-4798-828a-22a33bdf0470",
   "metadata": {},
   "outputs": [
    {
     "name": "stdout",
     "output_type": "stream",
     "text": [
      "5200\n"
     ]
    }
   ],
   "source": [
    "#case 8\n",
    "a1=100\n",
    "b1=200\n",
    "def add11(a1=1000):\n",
    "    a1=5000\n",
    "    add1=a1+b1\n",
    "    print(add1)\n",
    "\n",
    "add11(a1=2000)"
   ]
  },
  {
   "cell_type": "code",
   "execution_count": 36,
   "id": "1a6d85e6-1980-4b1b-a50d-614546b163c8",
   "metadata": {},
   "outputs": [
    {
     "data": {
      "text/plain": [
       "100"
      ]
     },
     "execution_count": 36,
     "metadata": {},
     "output_type": "execute_result"
    }
   ],
   "source": [
    "a1"
   ]
  },
  {
   "cell_type": "code",
   "execution_count": 41,
   "id": "5eb412b3-5a93-4675-8c37-0a1c2dfaa295",
   "metadata": {},
   "outputs": [
    {
     "name": "stdout",
     "output_type": "stream",
     "text": [
      "5200\n"
     ]
    }
   ],
   "source": [
    "#case 9\n",
    "a1=100\n",
    "b1=200\n",
    "def add11(a1=1000):\n",
    "    a1=5000\n",
    "    add1=a1+b1\n",
    "    print(add1)\n",
    "a1=6000\n",
    "add11(a1=2000)\n",
    "# a1=100 b1=200\n",
    "# define the func a1=1000\n",
    "# a1=6000\n",
    "# calling the func a1=2000\n",
    "# running the func a1=5000"
   ]
  },
  {
   "cell_type": "code",
   "execution_count": 38,
   "id": "bb6fdbc7-6ae3-4486-8808-b42cbe56dddf",
   "metadata": {},
   "outputs": [
    {
     "data": {
      "text/plain": [
       "6000"
      ]
     },
     "execution_count": 38,
     "metadata": {},
     "output_type": "execute_result"
    }
   ],
   "source": [
    "a1"
   ]
  },
  {
   "cell_type": "code",
   "execution_count": 40,
   "id": "910fccd1-116e-4afc-bad3-a3c8566111fa",
   "metadata": {},
   "outputs": [
    {
     "name": "stdout",
     "output_type": "stream",
     "text": [
      "6200\n"
     ]
    }
   ],
   "source": [
    "#case 10\n",
    "b1=200\n",
    "def add11():\n",
    "    add1=a1+b1\n",
    "    print(add1)\n",
    "a1=6000\n",
    "add11()\n",
    "# b1= 200\n",
    "# define the func\n",
    "# a1=6000\n",
    "# calling the func\n",
    "# running the func"
   ]
  },
  {
   "cell_type": "code",
   "execution_count": 42,
   "id": "66ce2c82-7e05-4e3d-b35a-c470782700de",
   "metadata": {},
   "outputs": [
    {
     "name": "stdout",
     "output_type": "stream",
     "text": [
      "6200\n"
     ]
    }
   ],
   "source": [
    "#case 11\n",
    "b1=200\n",
    "def add11():\n",
    "    add1=a1+b1\n",
    "    print(add1)\n",
    "a1=6000\n",
    "add11()"
   ]
  },
  {
   "cell_type": "code",
   "execution_count": 43,
   "id": "d4b5e2a7-73d2-4653-8071-c10e8dd3fd2b",
   "metadata": {},
   "outputs": [],
   "source": [
    "# step 1: variable intilised\n",
    "# step 2: Define func\n",
    "# step 3: calling the func\n",
    "# step 4: running the func"
   ]
  },
  {
   "cell_type": "code",
   "execution_count": 47,
   "id": "495acda0-e446-486f-ad48-30e2dcfa30be",
   "metadata": {},
   "outputs": [
    {
     "name": "stdout",
     "output_type": "stream",
     "text": [
      "300\n"
     ]
    }
   ],
   "source": [
    "#case 12\n",
    "b21=200\n",
    "def add21():\n",
    "    add21=a21+b21\n",
    "    print(add21)\n",
    "add21()\n",
    "a1=100"
   ]
  },
  {
   "cell_type": "code",
   "execution_count": 6,
   "id": "83793246-63c9-4bdf-aca9-692c0eb99b88",
   "metadata": {},
   "outputs": [
    {
     "ename": "UnboundLocalError",
     "evalue": "cannot access local variable 's' where it is not associated with a value",
     "output_type": "error",
     "traceback": [
      "\u001b[1;31m---------------------------------------------------------------------------\u001b[0m",
      "\u001b[1;31mUnboundLocalError\u001b[0m                         Traceback (most recent call last)",
      "Cell \u001b[1;32mIn[6], line 6\u001b[0m\n\u001b[0;32m      3\u001b[0m     s\u001b[38;5;241m=\u001b[39ms\u001b[38;5;241m+\u001b[39m\u001b[38;5;241m10\u001b[39m\n\u001b[0;32m      4\u001b[0m     \u001b[38;5;28mprint\u001b[39m(s)\n\u001b[1;32m----> 6\u001b[0m add()\n",
      "Cell \u001b[1;32mIn[6], line 3\u001b[0m, in \u001b[0;36madd\u001b[1;34m()\u001b[0m\n\u001b[0;32m      2\u001b[0m \u001b[38;5;28;01mdef\u001b[39;00m \u001b[38;5;21madd\u001b[39m():\n\u001b[1;32m----> 3\u001b[0m     s\u001b[38;5;241m=\u001b[39ms\u001b[38;5;241m+\u001b[39m\u001b[38;5;241m10\u001b[39m\n\u001b[0;32m      4\u001b[0m     \u001b[38;5;28mprint\u001b[39m(s)\n",
      "\u001b[1;31mUnboundLocalError\u001b[0m: cannot access local variable 's' where it is not associated with a value"
     ]
    }
   ],
   "source": [
    "s=0\n",
    "def add():\n",
    "    s=s+10\n",
    "    print(s)\n",
    "\n",
    "add()"
   ]
  },
  {
   "cell_type": "code",
   "execution_count": 7,
   "id": "41a34721-c918-4f99-9518-87703e62dbe5",
   "metadata": {},
   "outputs": [
    {
     "name": "stdout",
     "output_type": "stream",
     "text": [
      "10\n"
     ]
    }
   ],
   "source": [
    "a=0\n",
    "def add():\n",
    "    s=a+10\n",
    "    print(s)\n",
    "\n",
    "add()"
   ]
  },
  {
   "cell_type": "code",
   "execution_count": 8,
   "id": "fe0dee14-fa9c-4a45-9fbb-c89fddddcc7d",
   "metadata": {},
   "outputs": [
    {
     "name": "stdout",
     "output_type": "stream",
     "text": [
      "10\n"
     ]
    }
   ],
   "source": [
    "s=0\n",
    "def add():\n",
    "    a=s+10\n",
    "    print(a)\n",
    "\n",
    "add()"
   ]
  },
  {
   "cell_type": "code",
   "execution_count": 9,
   "id": "0074fb91-756a-403f-b526-66fa9902cba3",
   "metadata": {},
   "outputs": [
    {
     "ename": "UnboundLocalError",
     "evalue": "cannot access local variable 's' where it is not associated with a value",
     "output_type": "error",
     "traceback": [
      "\u001b[1;31m---------------------------------------------------------------------------\u001b[0m",
      "\u001b[1;31mUnboundLocalError\u001b[0m                         Traceback (most recent call last)",
      "Cell \u001b[1;32mIn[9], line 7\u001b[0m\n\u001b[0;32m      4\u001b[0m     s\u001b[38;5;241m=\u001b[39mc\n\u001b[0;32m      5\u001b[0m     \u001b[38;5;28mprint\u001b[39m(s)\n\u001b[1;32m----> 7\u001b[0m add()\n",
      "Cell \u001b[1;32mIn[9], line 3\u001b[0m, in \u001b[0;36madd\u001b[1;34m()\u001b[0m\n\u001b[0;32m      2\u001b[0m \u001b[38;5;28;01mdef\u001b[39;00m \u001b[38;5;21madd\u001b[39m():\n\u001b[1;32m----> 3\u001b[0m     c\u001b[38;5;241m=\u001b[39ms\u001b[38;5;241m+\u001b[39m\u001b[38;5;241m10\u001b[39m\n\u001b[0;32m      4\u001b[0m     s\u001b[38;5;241m=\u001b[39mc\n\u001b[0;32m      5\u001b[0m     \u001b[38;5;28mprint\u001b[39m(s)\n",
      "\u001b[1;31mUnboundLocalError\u001b[0m: cannot access local variable 's' where it is not associated with a value"
     ]
    }
   ],
   "source": [
    "s=0 #GV\n",
    "def add():\n",
    "    c=s+10\n",
    "    s=c\n",
    "    print(s)\n",
    "\n",
    "add()"
   ]
  },
  {
   "cell_type": "code",
   "execution_count": 11,
   "id": "97a90432-eb51-4d16-af17-fb08913bc45f",
   "metadata": {},
   "outputs": [
    {
     "name": "stdout",
     "output_type": "stream",
     "text": [
      "100 200 300\n"
     ]
    }
   ],
   "source": [
    "n1=10\n",
    "def addition():\n",
    "    n1=100\n",
    "    n2=200\n",
    "    n3=n1+n2\n",
    "    print(n1,n2,n3)\n",
    "\n",
    "addition()"
   ]
  },
  {
   "cell_type": "markdown",
   "id": "de4d8530-2e20-4d16-add3-4d85db357f21",
   "metadata": {},
   "source": [
    "**Note**\n",
    "- if you give same variable as global and local\n",
    "- make sure that variable should not use as value inside the function "
   ]
  },
  {
   "cell_type": "code",
   "execution_count": 13,
   "id": "e453c0c1-addc-4842-9ad2-914abc73d911",
   "metadata": {},
   "outputs": [
    {
     "name": "stdout",
     "output_type": "stream",
     "text": [
      "10 210 220\n"
     ]
    }
   ],
   "source": [
    "n11=10\n",
    "def addition():\n",
    "    n22=200+n11\n",
    "    n33=n1+n22\n",
    "    print(n11,n22,n33)\n",
    "\n",
    "addition()\n",
    "\n",
    "# step 1 n11=10\n",
    "# step 2 define the function\n",
    "# step 3 call the function\n",
    "# step 4 run the function\n",
    "# n11 is global vatiable passing inside the function (yes)\n",
    "# n22=200+n11=200+10=210\n",
    "# n33=10+210=220\n",
    "# print(n11,n22,n33)"
   ]
  },
  {
   "cell_type": "code",
   "execution_count": 14,
   "id": "c3a9b47e-3fb5-4a6f-b7f7-a9d75ab463d3",
   "metadata": {},
   "outputs": [
    {
     "ename": "UnboundLocalError",
     "evalue": "cannot access local variable 's' where it is not associated with a value",
     "output_type": "error",
     "traceback": [
      "\u001b[1;31m---------------------------------------------------------------------------\u001b[0m",
      "\u001b[1;31mUnboundLocalError\u001b[0m                         Traceback (most recent call last)",
      "Cell \u001b[1;32mIn[14], line 7\u001b[0m\n\u001b[0;32m      4\u001b[0m     s\u001b[38;5;241m=\u001b[39mc\n\u001b[0;32m      5\u001b[0m     \u001b[38;5;28mprint\u001b[39m(s)\n\u001b[1;32m----> 7\u001b[0m add()\n",
      "Cell \u001b[1;32mIn[14], line 3\u001b[0m, in \u001b[0;36madd\u001b[1;34m()\u001b[0m\n\u001b[0;32m      2\u001b[0m \u001b[38;5;28;01mdef\u001b[39;00m \u001b[38;5;21madd\u001b[39m():\n\u001b[1;32m----> 3\u001b[0m     c\u001b[38;5;241m=\u001b[39ms\u001b[38;5;241m+\u001b[39m\u001b[38;5;241m10\u001b[39m\n\u001b[0;32m      4\u001b[0m     s\u001b[38;5;241m=\u001b[39mc\n\u001b[0;32m      5\u001b[0m     \u001b[38;5;28mprint\u001b[39m(s)\n",
      "\u001b[1;31mUnboundLocalError\u001b[0m: cannot access local variable 's' where it is not associated with a value"
     ]
    }
   ],
   "source": [
    "s=0 #GV\n",
    "def add():\n",
    "    c=s+10\n",
    "    s=c\n",
    "    print(s)\n",
    "\n",
    "add() \n",
    "\n",
    "# step 1: s=0 gv\n",
    "# step 2: define the function\n",
    "# step 3: call the function\n",
    "# step 4: run the function\n",
    "#     c is lv : c=s+10=c=10\n",
    "#     we are creating a new variable same like as global s"
   ]
  },
  {
   "cell_type": "code",
   "execution_count": 17,
   "id": "ad7af800-d261-497c-8c6e-30566101bfe7",
   "metadata": {},
   "outputs": [
    {
     "name": "stdout",
     "output_type": "stream",
     "text": [
      "hello\n"
     ]
    }
   ],
   "source": [
    "value=100\n",
    "def greet():\n",
    "    value=200\n",
    "    print(\"hello\")\n",
    "\n",
    "greet()"
   ]
  },
  {
   "cell_type": "code",
   "execution_count": 18,
   "id": "c7e7ee3f-fab3-4b73-ab48-19612c9b9342",
   "metadata": {},
   "outputs": [
    {
     "data": {
      "text/plain": [
       "100"
      ]
     },
     "execution_count": 18,
     "metadata": {},
     "output_type": "execute_result"
    }
   ],
   "source": [
    "value"
   ]
  },
  {
   "cell_type": "markdown",
   "id": "83a47435-3e45-4f52-8fbb-edd803f1632c",
   "metadata": {},
   "source": [
    "**Global**\n",
    "- global keyword is used to take the local variable value outside the function "
   ]
  },
  {
   "cell_type": "code",
   "execution_count": 21,
   "id": "6448c23c-a950-46f7-ad5e-72d2b8fa6a3f",
   "metadata": {},
   "outputs": [
    {
     "name": "stdout",
     "output_type": "stream",
     "text": [
      "hello\n",
      "Value: 200\n"
     ]
    }
   ],
   "source": [
    "value=100\n",
    "def greet():\n",
    "    global value\n",
    "    value=200\n",
    "    print(\"hello\")\n",
    "\n",
    "greet()\n",
    "print(\"Value:\",value)"
   ]
  },
  {
   "cell_type": "code",
   "execution_count": 20,
   "id": "8e101d3a-b345-4f69-ac6a-2dda9f1fc542",
   "metadata": {},
   "outputs": [
    {
     "data": {
      "text/plain": [
       "200"
      ]
     },
     "execution_count": 20,
     "metadata": {},
     "output_type": "execute_result"
    }
   ],
   "source": [
    "value"
   ]
  },
  {
   "cell_type": "code",
   "execution_count": 36,
   "id": "999e69bd-95ee-4b0a-84a6-01cb2facf7d6",
   "metadata": {},
   "outputs": [
    {
     "name": "stdout",
     "output_type": "stream",
     "text": [
      "10 210 220\n",
      "n33: 220\n",
      "n22: 210\n",
      "n11: 10\n"
     ]
    }
   ],
   "source": [
    "n11=10\n",
    "def addition():\n",
    "    global n33, n22\n",
    "    n22=200+n11\n",
    "    n33=n1+n22\n",
    "    print(n11,n22,n33)\n",
    "\n",
    "addition()\n",
    "print(\"n33:\",n33)\n",
    "print(\"n22:\",n22)\n",
    "print(\"n11:\",n11)"
   ]
  },
  {
   "cell_type": "code",
   "execution_count": 31,
   "id": "c4230d52-3f1d-4533-9b54-36f887c8a1a2",
   "metadata": {},
   "outputs": [
    {
     "name": "stdout",
     "output_type": "stream",
     "text": [
      "210\n",
      "220\n"
     ]
    }
   ],
   "source": [
    "print(n22)\n",
    "print(n33)"
   ]
  },
  {
   "cell_type": "markdown",
   "id": "f686f211-a6fb-4bc6-81cc-f3b341aa7af0",
   "metadata": {},
   "source": [
    "- outside the function is called global variables\n",
    "- Inside the function is called local variable\n",
    "- local variable can be used outside the function\n",
    "- if you want to use outside the function use global keyword"
   ]
  },
  {
   "cell_type": "code",
   "execution_count": 39,
   "id": "bc2ec844-b287-4fd5-b273-423598fda4ec",
   "metadata": {},
   "outputs": [
    {
     "name": "stdin",
     "output_type": "stream",
     "text": [
      " 20\n",
      " 30\n"
     ]
    },
    {
     "name": "stdout",
     "output_type": "stream",
     "text": [
      "600\n"
     ]
    }
   ],
   "source": [
    "def mul(a,b):\n",
    "    print(a*b)\n",
    "\n",
    "mul(eval(input()),\n",
    "    eval(input()))"
   ]
  },
  {
   "cell_type": "markdown",
   "id": "67dba16d-6a2e-4605-8641-67a51c14d64f",
   "metadata": {},
   "source": [
    "**Return**"
   ]
  },
  {
   "cell_type": "markdown",
   "id": "3b70a5d3-72dd-44d0-86aa-ee27c0f99212",
   "metadata": {},
   "source": [
    "- we can use the local variable values or function outputs outside the function using return\n",
    "\n",
    "- print is different\n",
    "\n",
    "- return is different\n",
    "\n",
    "- print is used to only to print the values\n",
    "\n",
    "- that values you can only see, but you can not use\n",
    "\n",
    "- if you want to use outside we will use return(it is also possible by the using global keyword)"
   ]
  },
  {
   "cell_type": "code",
   "execution_count": 40,
   "id": "62831f41-5f1d-4800-ad2e-59952eebafbd",
   "metadata": {},
   "outputs": [
    {
     "name": "stdout",
     "output_type": "stream",
     "text": [
      "20.0\n"
     ]
    }
   ],
   "source": [
    "def average():\n",
    "    n1=10\n",
    "    n2=20\n",
    "    n3=30\n",
    "    avg=(n1+n2+n3)/3\n",
    "    print(avg)\n",
    "\n",
    "average()"
   ]
  },
  {
   "cell_type": "code",
   "execution_count": 49,
   "id": "03424997-292f-4344-9218-8834abe59533",
   "metadata": {},
   "outputs": [],
   "source": [
    "def average():\n",
    "    n1=10\n",
    "    n2=20\n",
    "    n3=30\n",
    "    avg=(n1+n2+n3)/3\n",
    "    return(avg)\n",
    "\n",
    "avg=average()\n",
    "\n",
    "# function is ready to return value to me\n",
    "# so i need to store the value in different vaiable\n",
    "# because two values are differnt\n",
    "# if you use only variable to store : tuple value"
   ]
  },
  {
   "cell_type": "code",
   "execution_count": 50,
   "id": "9963d2d7-ae42-4fa0-af10-8bd3a7af7508",
   "metadata": {},
   "outputs": [
    {
     "data": {
      "text/plain": [
       "20.0"
      ]
     },
     "execution_count": 50,
     "metadata": {},
     "output_type": "execute_result"
    }
   ],
   "source": [
    "avg"
   ]
  },
  {
   "cell_type": "code",
   "execution_count": 53,
   "id": "4cf79a7e-6044-40d3-951d-289cc71b1dd0",
   "metadata": {},
   "outputs": [],
   "source": [
    "def average():\n",
    "    n1=10\n",
    "    n2=20\n",
    "    n3=30\n",
    "    avg=(n1+n2+n3)/3\n",
    "    return(avg,n3)\n",
    "\n",
    "avg,n3=average()\n"
   ]
  },
  {
   "cell_type": "code",
   "execution_count": 54,
   "id": "151eeba2-0aa9-483e-b7b7-38d639062699",
   "metadata": {},
   "outputs": [
    {
     "name": "stdout",
     "output_type": "stream",
     "text": [
      "20.0\n",
      "30\n"
     ]
    }
   ],
   "source": [
    "print(avg)\n",
    "print(n3)"
   ]
  },
  {
   "cell_type": "code",
   "execution_count": 60,
   "id": "9f363e85-2671-47d1-aedb-789a0fdb3492",
   "metadata": {},
   "outputs": [
    {
     "data": {
      "text/plain": [
       "10"
      ]
     },
     "execution_count": 60,
     "metadata": {},
     "output_type": "execute_result"
    }
   ],
   "source": [
    "def sub():\n",
    "    a=10\n",
    "    b=20\n",
    "    subb=b-a\n",
    "    return(subb)\n",
    "\n",
    "subb=sub()\n",
    "subb"
   ]
  },
  {
   "cell_type": "code",
   "execution_count": null,
   "id": "6b33606e-2483-4c93-be7f-584a7ebd6c26",
   "metadata": {},
   "outputs": [],
   "source": [
    "# return always at last line of function\n",
    "# not in middle lines"
   ]
  },
  {
   "cell_type": "code",
   "execution_count": 63,
   "id": "aed97f6a-59f9-4942-a5e0-e6ff7c8ed477",
   "metadata": {},
   "outputs": [
    {
     "name": "stdout",
     "output_type": "stream",
     "text": [
      "20\n",
      "10\n",
      "10\n"
     ]
    }
   ],
   "source": [
    "def sub():\n",
    "    a=10\n",
    "    b=20\n",
    "    subb=b-a\n",
    "    return(a,b,subb)\n",
    "\n",
    "subb,a,b=sub()\n",
    "print(a)\n",
    "print(b)\n",
    "print(subb)"
   ]
  },
  {
   "cell_type": "markdown",
   "id": "016ba32d-8496-4cd7-b612-be59631d34f0",
   "metadata": {},
   "source": [
    "- with out arguments\n",
    "- with arguments\n",
    "- default arguments\n",
    "- local vs global\n",
    "- global keywords\n",
    "- return\n",
    "- function in function\n",
    "- *kwargs: keyword arguments"
   ]
  },
  {
   "cell_type": "markdown",
   "id": "583ffd32-f7e3-4661-8001-422bdb5de611",
   "metadata": {},
   "source": [
    "**Unbound local error**"
   ]
  },
  {
   "cell_type": "code",
   "execution_count": 11,
   "id": "090c8ef4-99c1-485d-9cc5-0117091aab97",
   "metadata": {},
   "outputs": [
    {
     "name": "stdout",
     "output_type": "stream",
     "text": [
      "Inside function: 100\n",
      "Outside function: 10\n"
     ]
    }
   ],
   "source": [
    "num1=10  #gv \n",
    "def func1():\n",
    "    num1=100  #lv\n",
    "    print(\"Inside function:\",num1)  #print(100)\n",
    "\n",
    "func1()\n",
    "print(\"Outside function:\",num1)"
   ]
  },
  {
   "cell_type": "code",
   "execution_count": 9,
   "id": "d335819b-cd1d-4027-889b-5aae95109855",
   "metadata": {},
   "outputs": [
    {
     "ename": "UnboundLocalError",
     "evalue": "cannot access local variable 'num2' where it is not associated with a value",
     "output_type": "error",
     "traceback": [
      "\u001b[1;31m---------------------------------------------------------------------------\u001b[0m",
      "\u001b[1;31mUnboundLocalError\u001b[0m                         Traceback (most recent call last)",
      "Cell \u001b[1;32mIn[9], line 6\u001b[0m\n\u001b[0;32m      3\u001b[0m     \u001b[38;5;28mprint\u001b[39m(num2)\n\u001b[0;32m      4\u001b[0m     num2\u001b[38;5;241m=\u001b[39m\u001b[38;5;241m100\u001b[39m\n\u001b[1;32m----> 6\u001b[0m func2()\n",
      "Cell \u001b[1;32mIn[9], line 3\u001b[0m, in \u001b[0;36mfunc2\u001b[1;34m()\u001b[0m\n\u001b[0;32m      2\u001b[0m \u001b[38;5;28;01mdef\u001b[39;00m \u001b[38;5;21mfunc2\u001b[39m():\n\u001b[1;32m----> 3\u001b[0m     \u001b[38;5;28mprint\u001b[39m(num2)\n\u001b[0;32m      4\u001b[0m     num2\u001b[38;5;241m=\u001b[39m\u001b[38;5;241m100\u001b[39m\n",
      "\u001b[1;31mUnboundLocalError\u001b[0m: cannot access local variable 'num2' where it is not associated with a value"
     ]
    }
   ],
   "source": [
    "num2=10  #gv\n",
    "def func2():\n",
    "    print(num2) #\n",
    "    num2=100  #lv\n",
    "\n",
    "func2()\n",
    "# Name error will come\n",
    "# local vaiable and global variable both names are same\n",
    "# you are try to access local variable before assign"
   ]
  },
  {
   "cell_type": "code",
   "execution_count": 15,
   "id": "9e573e75-9c5f-4f14-a72a-b4729eb8ca77",
   "metadata": {},
   "outputs": [
    {
     "ename": "UnboundLocalError",
     "evalue": "cannot access local variable 's' where it is not associated with a value",
     "output_type": "error",
     "traceback": [
      "\u001b[1;31m---------------------------------------------------------------------------\u001b[0m",
      "\u001b[1;31mUnboundLocalError\u001b[0m                         Traceback (most recent call last)",
      "Cell \u001b[1;32mIn[15], line 6\u001b[0m\n\u001b[0;32m      3\u001b[0m     s\u001b[38;5;241m=\u001b[39mc\n\u001b[0;32m      4\u001b[0m     \u001b[38;5;28mprint\u001b[39m(s)\n\u001b[1;32m----> 6\u001b[0m add()\n",
      "Cell \u001b[1;32mIn[15], line 2\u001b[0m, in \u001b[0;36madd\u001b[1;34m()\u001b[0m\n\u001b[0;32m      1\u001b[0m \u001b[38;5;28;01mdef\u001b[39;00m \u001b[38;5;21madd\u001b[39m():\n\u001b[1;32m----> 2\u001b[0m     c\u001b[38;5;241m=\u001b[39ms\u001b[38;5;241m+\u001b[39m\u001b[38;5;241m10\u001b[39m\n\u001b[0;32m      3\u001b[0m     s\u001b[38;5;241m=\u001b[39mc\n\u001b[0;32m      4\u001b[0m     \u001b[38;5;28mprint\u001b[39m(s)\n",
      "\u001b[1;31mUnboundLocalError\u001b[0m: cannot access local variable 's' where it is not associated with a value"
     ]
    }
   ],
   "source": [
    "s=0\n",
    "def add():\n",
    "    c=s+10\n",
    "    s=c\n",
    "    print(s)\n",
    "\n",
    "add()"
   ]
  },
  {
   "cell_type": "code",
   "execution_count": 16,
   "id": "5371071f-273b-48b1-a9ad-6bea02be0381",
   "metadata": {},
   "outputs": [],
   "source": [
    "num2=10  #gv\n",
    "def func2():\n",
    "    global num2\n",
    "    num2=100  #lv\n",
    "\n",
    "func2()"
   ]
  },
  {
   "cell_type": "code",
   "execution_count": 17,
   "id": "da17088f-72e6-4afb-a080-9795fb406a43",
   "metadata": {},
   "outputs": [
    {
     "data": {
      "text/plain": [
       "100"
      ]
     },
     "execution_count": 17,
     "metadata": {},
     "output_type": "execute_result"
    }
   ],
   "source": [
    "num2"
   ]
  },
  {
   "cell_type": "code",
   "execution_count": 23,
   "id": "7729bde3-ff80-4028-b903-4483f7fc7feb",
   "metadata": {},
   "outputs": [
    {
     "name": "stdout",
     "output_type": "stream",
     "text": [
      "300\n"
     ]
    }
   ],
   "source": [
    "a1=100\n",
    "b1=200\n",
    "def add11():\n",
    "    add1=a1+b1\n",
    "    print(add1)\n",
    "\n",
    "add11()\n",
    "\n",
    "# here no local variable as same name as global variable"
   ]
  },
  {
   "cell_type": "code",
   "execution_count": 21,
   "id": "aaa6deda-5057-4973-9c2f-4a731e7a0d47",
   "metadata": {},
   "outputs": [
    {
     "name": "stdout",
     "output_type": "stream",
     "text": [
      "1500\n"
     ]
    }
   ],
   "source": [
    "a1=100\n",
    "b1=200\n",
    "def add12():\n",
    "    a1=700\n",
    "    b1=800\n",
    "    add1=a1+b1\n",
    "    print(add1)\n",
    "\n",
    "add12()\n",
    "\n",
    "# we are initialising lv same as gv\n",
    "# we are lv after initialization"
   ]
  },
  {
   "cell_type": "code",
   "execution_count": 22,
   "id": "8ca66927-74e6-4737-a4a5-6787c2e84265",
   "metadata": {},
   "outputs": [
    {
     "ename": "UnboundLocalError",
     "evalue": "cannot access local variable 'a1' where it is not associated with a value",
     "output_type": "error",
     "traceback": [
      "\u001b[1;31m---------------------------------------------------------------------------\u001b[0m",
      "\u001b[1;31mUnboundLocalError\u001b[0m                         Traceback (most recent call last)",
      "Cell \u001b[1;32mIn[22], line 10\u001b[0m\n\u001b[0;32m      6\u001b[0m     b1\u001b[38;5;241m=\u001b[39m\u001b[38;5;241m800\u001b[39m\n\u001b[0;32m      8\u001b[0m     \u001b[38;5;28mprint\u001b[39m(add1)\n\u001b[1;32m---> 10\u001b[0m add13()\n",
      "Cell \u001b[1;32mIn[22], line 4\u001b[0m, in \u001b[0;36madd13\u001b[1;34m()\u001b[0m\n\u001b[0;32m      3\u001b[0m \u001b[38;5;28;01mdef\u001b[39;00m \u001b[38;5;21madd13\u001b[39m():\n\u001b[1;32m----> 4\u001b[0m     add1\u001b[38;5;241m=\u001b[39ma1\u001b[38;5;241m+\u001b[39mb1 \n\u001b[0;32m      5\u001b[0m     a1\u001b[38;5;241m=\u001b[39m\u001b[38;5;241m700\u001b[39m\n\u001b[0;32m      6\u001b[0m     b1\u001b[38;5;241m=\u001b[39m\u001b[38;5;241m800\u001b[39m\n",
      "\u001b[1;31mUnboundLocalError\u001b[0m: cannot access local variable 'a1' where it is not associated with a value"
     ]
    }
   ],
   "source": [
    "a1=100\n",
    "b1=200\n",
    "def add13():\n",
    "    add1=a1+b1 \n",
    "    a1=700\n",
    "    b1=800\n",
    "   \n",
    "    print(add1)\n",
    "\n",
    "add13()\n",
    "\n",
    "# we are initialising lv same as gv\n",
    "# we are lv before initialization\n",
    "\n",
    "\n",
    "\n",
    "# we are not intialising local variables\n",
    "# with same name global variables "
   ]
  },
  {
   "cell_type": "markdown",
   "id": "5b0d32d8-1009-4418-8d1c-30a9fa88442a",
   "metadata": {},
   "source": [
    "**No Error**\n",
    "- here no local variable as same name as global variable\n",
    "-  we are initialising lv same as gv\n",
    "    - we are lv after initialization\n",
    " \n",
    "**Error**\n",
    "- we are initialising lv same as gv\n",
    "    - we are lv before initialization"
   ]
  },
  {
   "cell_type": "code",
   "execution_count": 25,
   "id": "435a5ceb-85c1-41b9-bbe4-0673a47435ca",
   "metadata": {},
   "outputs": [
    {
     "ename": "NameError",
     "evalue": "name 'a21' is not defined",
     "output_type": "error",
     "traceback": [
      "\u001b[1;31m---------------------------------------------------------------------------\u001b[0m",
      "\u001b[1;31mNameError\u001b[0m                                 Traceback (most recent call last)",
      "Cell \u001b[1;32mIn[25], line 5\u001b[0m\n\u001b[0;32m      3\u001b[0m     add21\u001b[38;5;241m=\u001b[39ma21\u001b[38;5;241m+\u001b[39mb21\n\u001b[0;32m      4\u001b[0m     \u001b[38;5;28mprint\u001b[39m(add21)\n\u001b[1;32m----> 5\u001b[0m add21()\n\u001b[0;32m      6\u001b[0m a21\u001b[38;5;241m=\u001b[39m\u001b[38;5;241m100\u001b[39m\n",
      "Cell \u001b[1;32mIn[25], line 3\u001b[0m, in \u001b[0;36madd21\u001b[1;34m()\u001b[0m\n\u001b[0;32m      2\u001b[0m \u001b[38;5;28;01mdef\u001b[39;00m \u001b[38;5;21madd21\u001b[39m():\n\u001b[1;32m----> 3\u001b[0m     add21\u001b[38;5;241m=\u001b[39ma21\u001b[38;5;241m+\u001b[39mb21\n\u001b[0;32m      4\u001b[0m     \u001b[38;5;28mprint\u001b[39m(add21)\n",
      "\u001b[1;31mNameError\u001b[0m: name 'a21' is not defined"
     ]
    }
   ],
   "source": [
    "b21=200\n",
    "def add21():\n",
    "    add21=a21+b21\n",
    "    print(add21)\n",
    "add21()\n",
    "a21=100"
   ]
  },
  {
   "cell_type": "markdown",
   "id": "819f641b-eb27-48fe-90db-0132531f676f",
   "metadata": {},
   "source": [
    "- Global variable\n",
    "- define the function\n",
    "- call the function\n",
    "- run the function"
   ]
  },
  {
   "cell_type": "markdown",
   "id": "afb55be5-5c18-45c6-a2d0-c88a21ed8d13",
   "metadata": {},
   "source": [
    "**Functions in functions**"
   ]
  },
  {
   "cell_type": "code",
   "execution_count": 27,
   "id": "7b2c6c08-4305-49bc-8e1f-3b7fcd942736",
   "metadata": {},
   "outputs": [
    {
     "name": "stdout",
     "output_type": "stream",
     "text": [
      "hello good morning\n",
      "Good night!\n"
     ]
    }
   ],
   "source": [
    "def greet1():\n",
    "    print(\"hello good morning\")\n",
    "\n",
    "def greet2():\n",
    "    print(\"Good night!\")\n",
    "\n",
    "greet1()\n",
    "greet2()"
   ]
  },
  {
   "cell_type": "code",
   "execution_count": 33,
   "id": "fef7f47d-1741-4e3a-b5d6-be7f2433eed9",
   "metadata": {},
   "outputs": [
    {
     "name": "stdout",
     "output_type": "stream",
     "text": [
      "hello good morning\n",
      "Good night!\n"
     ]
    }
   ],
   "source": [
    "def greet11():\n",
    "    print(\"hello good morning\")\n",
    "    greet12()\n",
    "    \n",
    "def greet12():\n",
    "    print(\"Good night!\")\n",
    "\n",
    "greet11()\n"
   ]
  },
  {
   "cell_type": "code",
   "execution_count": 34,
   "id": "c9c56e20-b554-46be-a7a6-cf7f7c2b359f",
   "metadata": {},
   "outputs": [
    {
     "name": "stdout",
     "output_type": "stream",
     "text": [
      "hello good morning\n",
      "Good night!\n"
     ]
    }
   ],
   "source": [
    "def greet2():\n",
    "    print(\"Good night!\")\n",
    "    \n",
    "def greet1():\n",
    "    print(\"hello good morning\")\n",
    "    greet2()\n",
    "greet1()"
   ]
  },
  {
   "cell_type": "markdown",
   "id": "20e29cd4-f94d-4556-8fc0-fb65cc9abb4c",
   "metadata": {},
   "source": [
    "- Functions with out arguments\n",
    "- Functions with arguments\n",
    "- Functions default arguments\n",
    "- Global variables vs local variables\n",
    "- Global keywords\n",
    "- Return\n",
    "- unbound local error\n",
    "- Function is Function"
   ]
  },
  {
   "cell_type": "code",
   "execution_count": 36,
   "id": "56a6a854-2287-4726-b42d-84ad7c936608",
   "metadata": {},
   "outputs": [
    {
     "name": "stdin",
     "output_type": "stream",
     "text": [
      "Enter the distance of travel in kms 62\n",
      "Enter the cutoff in kms 25\n"
     ]
    },
    {
     "name": "stdout",
     "output_type": "stream",
     "text": [
      "You only charge for 37\n"
     ]
    },
    {
     "name": "stdin",
     "output_type": "stream",
     "text": [
      "Enter the charge in rupees 2\n"
     ]
    },
    {
     "name": "stdout",
     "output_type": "stream",
     "text": [
      "your total charge is 74\n"
     ]
    }
   ],
   "source": [
    "def ride():\n",
    "    km= eval(input(\"Enter the distance of travel in kms\"))\n",
    "    cutoff= eval(input(\"Enter the cutoff in kms\"))\n",
    "    if km>=25:\n",
    "        chargeble= km-cutoff\n",
    "        print(f\"You only charge for {chargeble}\")\n",
    "        charge = eval(input(\"Enter the charge in rupees\"))\n",
    "        cost = chargeble*charge\n",
    "        print(f\"your total charge is {cost}\")\n",
    "\n",
    "    else:\n",
    "        print(\"your ride is free\")\n",
    "\n",
    "ride()"
   ]
  },
  {
   "cell_type": "code",
   "execution_count": 39,
   "id": "63fd9727-cd32-4301-a031-49addf7e3e4b",
   "metadata": {},
   "outputs": [
    {
     "name": "stdout",
     "output_type": "stream",
     "text": [
      "You only charge for 37\n",
      "your total charge is 74\n"
     ]
    }
   ],
   "source": [
    "def ride1(km,cutoff,charge):\n",
    "\n",
    "    if km>=25:\n",
    "        chargeble= km-cutoff\n",
    "        print(f\"You only charge for {chargeble}\")\n",
    "        cost = chargeble*charge\n",
    "        print(f\"your total charge is {cost}\")\n",
    "\n",
    "    else:\n",
    "        print(\"your ride is free\")\n",
    "\n",
    "ride1(62,25,2)"
   ]
  },
  {
   "cell_type": "code",
   "execution_count": 40,
   "id": "0253cb12-a017-41dd-b8dd-26d3a673236b",
   "metadata": {},
   "outputs": [
    {
     "name": "stdout",
     "output_type": "stream",
     "text": [
      "You only charge for 75\n",
      "your total charge is 375\n"
     ]
    }
   ],
   "source": [
    "def ride1(km,cutoff=25,charge=5):\n",
    "\n",
    "    if km>=25:\n",
    "        chargeble= km-cutoff\n",
    "        print(f\"You only charge for {chargeble}\")\n",
    "        cost = chargeble*charge\n",
    "        print(f\"your total charge is {cost}\")\n",
    "\n",
    "    else:\n",
    "        print(\"your ride is free\")\n",
    "\n",
    "ride1(100)"
   ]
  },
  {
   "cell_type": "code",
   "execution_count": 41,
   "id": "5b1295f5-0b8f-4fd3-aded-30f015d2d168",
   "metadata": {},
   "outputs": [
    {
     "name": "stdin",
     "output_type": "stream",
     "text": [
      "Enter the distance of travel in kms 520\n",
      "Enter the cutoff in kms 50\n"
     ]
    },
    {
     "name": "stdout",
     "output_type": "stream",
     "text": [
      "You only charge for 470\n"
     ]
    },
    {
     "name": "stdin",
     "output_type": "stream",
     "text": [
      "Enter the charge in rupees 2\n"
     ]
    },
    {
     "name": "stdout",
     "output_type": "stream",
     "text": [
      "your total charge is 940\n"
     ]
    }
   ],
   "source": [
    "km= eval(input(\"Enter the distance of travel in kms\"))\n",
    "cutoff= eval(input(\"Enter the cutoff in kms\"))\n",
    "def ride():\n",
    "    if km>=25:\n",
    "        chargeble= km-cutoff\n",
    "        print(f\"You only charge for {chargeble}\")\n",
    "        charge = eval(input(\"Enter the charge in rupees\"))\n",
    "        cost = chargeble*charge\n",
    "        print(f\"your total charge is {cost}\")\n",
    "\n",
    "    else:\n",
    "        print(\"your ride is free\")\n",
    "\n",
    "ride()"
   ]
  },
  {
   "cell_type": "code",
   "execution_count": 45,
   "id": "1adae4d3-9128-4fb7-b251-17ebb5fc99f0",
   "metadata": {},
   "outputs": [
    {
     "name": "stdin",
     "output_type": "stream",
     "text": [
      "Enter the distance of travel in kms 50\n",
      "Enter the cutoff in kms 25\n"
     ]
    },
    {
     "name": "stdout",
     "output_type": "stream",
     "text": [
      "You only charge for 25\n"
     ]
    },
    {
     "name": "stdin",
     "output_type": "stream",
     "text": [
      "Enter the charge in rupees 5\n"
     ]
    },
    {
     "name": "stdout",
     "output_type": "stream",
     "text": [
      "your total charge is 125\n",
      "out side func 125\n"
     ]
    }
   ],
   "source": [
    "km= eval(input(\"Enter the distance of travel in kms\"))\n",
    "cutoff= eval(input(\"Enter the cutoff in kms\"))\n",
    "def ride():\n",
    "    global  cost\n",
    "    if km>=25:\n",
    "        chargeble= km-cutoff\n",
    "        print(f\"You only charge for {chargeble}\")\n",
    "        charge = eval(input(\"Enter the charge in rupees\"))\n",
    "        cost = chargeble*charge\n",
    "        print(f\"your total charge is {cost}\")\n",
    "\n",
    "    else:\n",
    "        print(\"your ride is free\")\n",
    "\n",
    "ride()\n",
    "print(\"out side func\",cost)"
   ]
  },
  {
   "cell_type": "code",
   "execution_count": 49,
   "id": "cc04e71f-5c56-47f3-8112-2ca3d1be8194",
   "metadata": {},
   "outputs": [
    {
     "name": "stdin",
     "output_type": "stream",
     "text": [
      "Enter the distance of travel in kms 50\n",
      "Enter the cutoff in kms 25\n"
     ]
    },
    {
     "name": "stdout",
     "output_type": "stream",
     "text": [
      "You only charge for 25\n"
     ]
    },
    {
     "name": "stdin",
     "output_type": "stream",
     "text": [
      "Enter the charge in rupees 2\n"
     ]
    },
    {
     "name": "stdout",
     "output_type": "stream",
     "text": [
      "your total charge is 50\n",
      "out side func 50\n"
     ]
    }
   ],
   "source": [
    "km= eval(input(\"Enter the distance of travel in kms\"))\n",
    "cutoff= eval(input(\"Enter the cutoff in kms\"))\n",
    "def ride():\n",
    "    global  cost\n",
    "    if km>=cutoff:\n",
    "        chargeble= km-cutoff\n",
    "        print(f\"You only charge for {chargeble}\")\n",
    "        charge = eval(input(\"Enter the charge in rupees\"))\n",
    "        cost = chargeble*charge\n",
    "        print(f\"your total charge is {cost}\")\n",
    "\n",
    "    else:\n",
    "        print(\"your ride is free\")\n",
    "\n",
    "    return(cost)\n",
    "    \n",
    "cost=ride()\n",
    "print(\"out side func\",cost)"
   ]
  },
  {
   "cell_type": "code",
   "execution_count": 50,
   "id": "c5c7899c-dc36-4e8a-bc19-8fe2b509304c",
   "metadata": {},
   "outputs": [],
   "source": [
    "# first create 4 individual func\n",
    "# func 1 add\n",
    "# func 2 sub\n",
    "# func 3 mul\n",
    "# func 4 div\n",
    "\n",
    "# create a main function called calculator\n",
    "# inside main function\n",
    "# print some statements\n",
    "# option 1 add\n",
    "# option 2 sub\n",
    "# option 3 mul\n",
    "# option 4 div\n",
    "# option eval(input(1-4))\n",
    "# a value\n",
    "# b value\n",
    "# if option ==1:\n",
    "#   add func\n",
    "# elif option ==2:\n",
    "#   sub func\n",
    "# elif option ==3:\n",
    "#   mul func\n",
    "# elif option ==4:\n",
    "#   div func"
   ]
  },
  {
   "cell_type": "code",
   "execution_count": 51,
   "id": "5ed34dc1-daa2-4bc2-8cad-4bd2c5d47687",
   "metadata": {},
   "outputs": [
    {
     "name": "stdin",
     "output_type": "stream",
     "text": [
      "Enter the number 1: 5\n",
      "Enter the number 2: 10\n"
     ]
    },
    {
     "name": "stdout",
     "output_type": "stream",
     "text": [
      "15\n"
     ]
    }
   ],
   "source": [
    "def add():\n",
    "    num1=eval(input(\"Enter the number 1:\"))\n",
    "    num2=eval(input(\"Enter the number 2:\"))\n",
    "    add1=num1+num2\n",
    "    print(add1)\n",
    "\n",
    "add()\n"
   ]
  },
  {
   "cell_type": "code",
   "execution_count": 52,
   "id": "559a8955-d168-4cb6-9220-7563bac3d98c",
   "metadata": {},
   "outputs": [
    {
     "name": "stdin",
     "output_type": "stream",
     "text": [
      "Enter the number 1: 10\n",
      "Enter the number 2: 5\n"
     ]
    },
    {
     "name": "stdout",
     "output_type": "stream",
     "text": [
      "5\n"
     ]
    }
   ],
   "source": [
    "def sub():\n",
    "    num1=eval(input(\"Enter the number 1:\"))\n",
    "    num2=eval(input(\"Enter the number 2:\"))\n",
    "    sub1=num1-num2\n",
    "    print(sub1)\n",
    "\n",
    "sub()\n"
   ]
  },
  {
   "cell_type": "code",
   "execution_count": 53,
   "id": "2fd08343-a728-4771-a380-51ed68ff45a3",
   "metadata": {},
   "outputs": [
    {
     "name": "stdin",
     "output_type": "stream",
     "text": [
      "Enter the number 1: 5\n",
      "Enter the number 2: 5\n"
     ]
    },
    {
     "name": "stdout",
     "output_type": "stream",
     "text": [
      "25\n"
     ]
    }
   ],
   "source": [
    "def mul():\n",
    "    num1=eval(input(\"Enter the number 1:\"))\n",
    "    num2=eval(input(\"Enter the number 2:\"))\n",
    "    mul1=num1*num2\n",
    "    print(mul1)\n",
    "\n",
    "mul()\n"
   ]
  },
  {
   "cell_type": "code",
   "execution_count": 54,
   "id": "eaba69ab-b15a-4b07-a6cd-c3e689c35dd2",
   "metadata": {},
   "outputs": [
    {
     "name": "stdin",
     "output_type": "stream",
     "text": [
      "Enter the number 1: 10\n",
      "Enter the number 2: 5\n"
     ]
    },
    {
     "name": "stdout",
     "output_type": "stream",
     "text": [
      "2.0\n"
     ]
    }
   ],
   "source": [
    "def div():\n",
    "    num1=eval(input(\"Enter the number 1:\"))\n",
    "    num2=eval(input(\"Enter the number 2:\"))\n",
    "    div1=num1/num2\n",
    "    print(div1)\n",
    "\n",
    "div()\n",
    "    "
   ]
  },
  {
   "cell_type": "code",
   "execution_count": 63,
   "id": "53f639b4-c786-4587-92e7-8f0c6c041e93",
   "metadata": {},
   "outputs": [
    {
     "name": "stdin",
     "output_type": "stream",
     "text": [
      "Enter the number 1: 5\n",
      "Enter the number 2: 5\n"
     ]
    },
    {
     "name": "stdout",
     "output_type": "stream",
     "text": [
      "Select 1 for add\n",
      "Select 2 for sub\n",
      "Select 3 for mul\n",
      "Select 4 for div\n"
     ]
    },
    {
     "name": "stdin",
     "output_type": "stream",
     "text": [
      "Enter the option 4\n"
     ]
    },
    {
     "name": "stdout",
     "output_type": "stream",
     "text": [
      "1.0\n"
     ]
    }
   ],
   "source": [
    "num1=eval(input(\"Enter the number 1:\"))\n",
    "num2=eval(input(\"Enter the number 2:\"))\n",
    "def add():\n",
    "    add1=num1+num2\n",
    "    print(add1)\n",
    "\n",
    "def sub():\n",
    "    sub1=num1-num2\n",
    "    print(sub1)\n",
    "\n",
    "def mul():\n",
    "    mul1=num1*num2\n",
    "    print(mul1)\n",
    "\n",
    "def div():\n",
    "    div1=num1/num2\n",
    "    print(div1)\n",
    "    \n",
    "def calculator():\n",
    "    print(\"Select 1 for add\")\n",
    "    print(\"Select 2 for sub\")\n",
    "    print(\"Select 3 for mul\")\n",
    "    print(\"Select 4 for div\")\n",
    "    option=eval(input(\"Enter the option\"))\n",
    "    if option==1:\n",
    "        add()\n",
    "\n",
    "    elif option==2:\n",
    "        sub()\n",
    "\n",
    "    elif option==3:\n",
    "        mul()\n",
    "\n",
    "    elif option==4:\n",
    "        div()\n",
    "\n",
    "    else:\n",
    "        print(\"Enter a valid option\")\n",
    "                \n",
    "calculator()   "
   ]
  },
  {
   "cell_type": "code",
   "execution_count": 70,
   "id": "6af75c6a-3a46-4347-a8eb-df4704d6903f",
   "metadata": {},
   "outputs": [
    {
     "name": "stdin",
     "output_type": "stream",
     "text": [
      "Enter the number 1: 5\n",
      "Enter the number 2: 5\n"
     ]
    },
    {
     "name": "stdout",
     "output_type": "stream",
     "text": [
      "Select 1 for add\n",
      "Select 2 for sub\n",
      "Select 3 for mul\n",
      "Select 4 for div\n"
     ]
    },
    {
     "name": "stdin",
     "output_type": "stream",
     "text": [
      "Enter the option 2\n"
     ]
    },
    {
     "name": "stdout",
     "output_type": "stream",
     "text": [
      "0\n"
     ]
    }
   ],
   "source": [
    "\n",
    "def add(num1,num2):\n",
    "    add1=num1+num2\n",
    "    return add1\n",
    "\n",
    "def sub(num1,num2):\n",
    "    sub1=num1-num2\n",
    "    return sub1\n",
    "\n",
    "def mul(num1,num2):\n",
    "    mul1=num1*num2\n",
    "    return mul1\n",
    "\n",
    "def div(num1,num2):\n",
    "    div1=num1/num2\n",
    "    return div1\n",
    "    \n",
    "def calculator():\n",
    "    num1=eval(input(\"Enter the number 1:\"))\n",
    "    num2=eval(input(\"Enter the number 2:\"))\n",
    "    print(\"Select 1 for add\")\n",
    "    print(\"Select 2 for sub\")\n",
    "    print(\"Select 3 for mul\")\n",
    "    print(\"Select 4 for div\")\n",
    "    option=eval(input(\"Enter the option\"))\n",
    "    if option==1:\n",
    "        result=add(num1,num2)\n",
    "\n",
    "    elif option==2:\n",
    "        result=sub(num1,num2)\n",
    "\n",
    "    elif option==3:\n",
    "        result=mul(num1,num2)\n",
    "\n",
    "    elif option==4:\n",
    "        result=div(num1,num2)\n",
    "\n",
    "    else:\n",
    "        print(\"Enter a valid option\")\n",
    "\n",
    "    print(result)\n",
    "                \n",
    "calculator()   "
   ]
  },
  {
   "cell_type": "code",
   "execution_count": 74,
   "id": "e84484b1-57ca-48c2-a2c5-ea21515b8130",
   "metadata": {},
   "outputs": [
    {
     "name": "stdin",
     "output_type": "stream",
     "text": [
      "Enter the number 1: 5\n",
      "Enter the number 2: 5\n"
     ]
    },
    {
     "name": "stdout",
     "output_type": "stream",
     "text": [
      "Select 1 for add\n",
      "Select 2 for sub\n",
      "Select 3 for mul\n",
      "Select 4 for div\n"
     ]
    },
    {
     "name": "stdin",
     "output_type": "stream",
     "text": [
      "Enter the option 3\n"
     ]
    },
    {
     "data": {
      "text/plain": [
       "25"
      ]
     },
     "execution_count": 74,
     "metadata": {},
     "output_type": "execute_result"
    }
   ],
   "source": [
    "num1=eval(input(\"Enter the number 1:\"))\n",
    "num2=eval(input(\"Enter the number 2:\"))\n",
    "def add():\n",
    "    add1=num1+num2\n",
    "    return add1\n",
    "\n",
    "def sub():\n",
    "    sub1=num1-num2\n",
    "    return sub1\n",
    "\n",
    "def mul():\n",
    "    mul1=num1*num2\n",
    "    return mul1\n",
    "\n",
    "def div():\n",
    "    div1=num1/num2\n",
    "    return div1\n",
    "    \n",
    "def calculator():\n",
    "    print(\"Select 1 for add\")\n",
    "    print(\"Select 2 for sub\")\n",
    "    print(\"Select 3 for mul\")\n",
    "    print(\"Select 4 for div\")\n",
    "    option=eval(input(\"Enter the option\"))\n",
    "    if option==1:\n",
    "        a=add()\n",
    "\n",
    "    elif option==2:\n",
    "        a=sub()\n",
    "\n",
    "    elif option==3:\n",
    "        a=mul()\n",
    "\n",
    "    elif option==4:\n",
    "        a=div()\n",
    "\n",
    "    else:\n",
    "        print(\"Enter a valid option\")\n",
    "\n",
    "    return(a)\n",
    "calculator()   "
   ]
  },
  {
   "cell_type": "code",
   "execution_count": null,
   "id": "6ba7d6bc-f786-4704-b2a7-0b4aaebb7ea2",
   "metadata": {},
   "outputs": [],
   "source": []
  }
 ],
 "metadata": {
  "kernelspec": {
   "display_name": "Python 3 (ipykernel)",
   "language": "python",
   "name": "python3"
  },
  "language_info": {
   "codemirror_mode": {
    "name": "ipython",
    "version": 3
   },
   "file_extension": ".py",
   "mimetype": "text/x-python",
   "name": "python",
   "nbconvert_exporter": "python",
   "pygments_lexer": "ipython3",
   "version": "3.11.7"
  }
 },
 "nbformat": 4,
 "nbformat_minor": 5
}
