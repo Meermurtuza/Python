{
 "cells": [
  {
   "cell_type": "code",
   "execution_count": 1,
   "id": "4bf8ef49-2b55-47fa-a1a1-2c3ba676cf9d",
   "metadata": {},
   "outputs": [],
   "source": [
    "num1 = 100 \n",
    "num2= 200\n",
    "add = num1+num2"
   ]
  },
  {
   "cell_type": "markdown",
   "id": "c60ff43f-8b4c-47b4-ac60-5e0ab1f5d019",
   "metadata": {},
   "source": [
    "$input$\n",
    "- input keyword is used to take the values from user "
   ]
  },
  {
   "cell_type": "code",
   "execution_count": 6,
   "id": "a241195d-9ff8-4f8e-9b32-e06adedf98db",
   "metadata": {},
   "outputs": [
    {
     "name": "stdin",
     "output_type": "stream",
     "text": [
      " 12\n"
     ]
    },
    {
     "data": {
      "text/plain": [
       "'12'"
      ]
     },
     "execution_count": 6,
     "metadata": {},
     "output_type": "execute_result"
    }
   ],
   "source": [
    "input()"
   ]
  },
  {
   "cell_type": "code",
   "execution_count": 7,
   "id": "842d91f6-c840-43e7-8533-be88ec26c003",
   "metadata": {},
   "outputs": [
    {
     "name": "stdin",
     "output_type": "stream",
     "text": [
      "enter the  number: 100\n"
     ]
    },
    {
     "data": {
      "text/plain": [
       "'100'"
      ]
     },
     "execution_count": 7,
     "metadata": {},
     "output_type": "execute_result"
    }
   ],
   "source": [
    "input (\"enter the  number:\")"
   ]
  },
  {
   "cell_type": "code",
   "execution_count": 8,
   "id": "88bcc39c-50c4-4abc-a96f-bdf516dc763b",
   "metadata": {},
   "outputs": [
    {
     "name": "stdin",
     "output_type": "stream",
     "text": [
      " 100\n",
      " 200\n"
     ]
    },
    {
     "data": {
      "text/plain": [
       "'200'"
      ]
     },
     "execution_count": 8,
     "metadata": {},
     "output_type": "execute_result"
    }
   ],
   "source": [
    "input ()\n",
    "input()"
   ]
  },
  {
   "cell_type": "code",
   "execution_count": 9,
   "id": "201277cd-31d3-4d9c-b0a8-9e6be3329b72",
   "metadata": {},
   "outputs": [
    {
     "name": "stdin",
     "output_type": "stream",
     "text": [
      " 100\n",
      " 200\n",
      " 300\n"
     ]
    },
    {
     "data": {
      "text/plain": [
       "'300'"
      ]
     },
     "execution_count": 9,
     "metadata": {},
     "output_type": "execute_result"
    }
   ],
   "source": [
    "input()\n",
    "input()\n",
    "input()"
   ]
  },
  {
   "cell_type": "code",
   "execution_count": 11,
   "id": "8e6346ef-e954-4fdf-832c-e25b970dc477",
   "metadata": {},
   "outputs": [
    {
     "name": "stdin",
     "output_type": "stream",
     "text": [
      "enter the  number 1: 100\n",
      "enter the  number 2: 200\n",
      "enter the  number 3: 300\n"
     ]
    },
    {
     "data": {
      "text/plain": [
       "'300'"
      ]
     },
     "execution_count": 11,
     "metadata": {},
     "output_type": "execute_result"
    }
   ],
   "source": [
    "input (\"enter the  number 1:\")\n",
    "input (\"enter the  number 2:\")\n",
    "input (\"enter the  number 3:\")"
   ]
  },
  {
   "cell_type": "code",
   "execution_count": 12,
   "id": "7bd4a3f0-ea34-4e4c-a403-26d2ccd0bb62",
   "metadata": {},
   "outputs": [
    {
     "name": "stdin",
     "output_type": "stream",
     "text": [
      "enter the  number 1: 100\n",
      "enter the  number 2: 200\n"
     ]
    }
   ],
   "source": [
    "num1 = input (\"enter the  number 1:\")\n",
    "num2 = input (\"enter the  number 2:\")"
   ]
  },
  {
   "cell_type": "code",
   "execution_count": 13,
   "id": "c4b3cdcb-4746-4e37-b76c-7e9dcb6682d3",
   "metadata": {},
   "outputs": [
    {
     "data": {
      "text/plain": [
       "'100200'"
      ]
     },
     "execution_count": 13,
     "metadata": {},
     "output_type": "execute_result"
    }
   ],
   "source": [
    "num1+num2"
   ]
  },
  {
   "cell_type": "markdown",
   "id": "dbba6d4d-2062-4e3b-b163-4d80e260ef01",
   "metadata": {},
   "source": [
    "**note**\n",
    "- input always gives the string data type only\n",
    "\n",
    "- in order to perform math calculation we need to convenrt into numerical format i.e. int and float"
   ]
  },
  {
   "cell_type": "code",
   "execution_count": 14,
   "id": "6c5866c9-a2f1-4e52-ac67-28609c2d7dbf",
   "metadata": {},
   "outputs": [
    {
     "name": "stdin",
     "output_type": "stream",
     "text": [
      "enter the  number: 200\n"
     ]
    },
    {
     "data": {
      "text/plain": [
       "'200'"
      ]
     },
     "execution_count": 14,
     "metadata": {},
     "output_type": "execute_result"
    }
   ],
   "source": [
    "input (\"enter the  number:\")"
   ]
  },
  {
   "cell_type": "code",
   "execution_count": 15,
   "id": "fa3235f7-ca67-4cbb-b392-52e2abd9410e",
   "metadata": {},
   "outputs": [
    {
     "name": "stdin",
     "output_type": "stream",
     "text": [
      " 100\n",
      "enter the  number: 200\n",
      "enter the  number 1: 300\n"
     ]
    }
   ],
   "source": [
    "input()\n",
    "input (\"enter the  number:\")\n",
    "a =input (\"enter the  number 1:\")"
   ]
  },
  {
   "cell_type": "code",
   "execution_count": 16,
   "id": "01022a3d-ac91-4ccf-a1e2-9f8cdc7ab9d2",
   "metadata": {},
   "outputs": [
    {
     "name": "stdin",
     "output_type": "stream",
     "text": [
      "enter the  number 1: 100\n",
      "enter the  number 2: 200\n"
     ]
    },
    {
     "data": {
      "text/plain": [
       "'100200'"
      ]
     },
     "execution_count": 16,
     "metadata": {},
     "output_type": "execute_result"
    }
   ],
   "source": [
    "num1 = input (\"enter the  number 1:\") #num1='100'\n",
    "num2 =input (\"enter the  number 2:\")#num2='200'\n",
    "num1 + num2 #'100'+'200' = '100200'"
   ]
  },
  {
   "cell_type": "code",
   "execution_count": 18,
   "id": "8f1502eb-7046-4712-afda-c694d58f48c4",
   "metadata": {},
   "outputs": [
    {
     "name": "stdin",
     "output_type": "stream",
     "text": [
      "enter the  number 1: 100\n",
      "enter the  number 2: 200\n"
     ]
    },
    {
     "name": "stdout",
     "output_type": "stream",
     "text": [
      "The addition of 100 and 200 is 300\n"
     ]
    }
   ],
   "source": [
    "num1 = int(input (\"enter the  number 1:\")) #num1=100\n",
    "num2 =int(input (\"enter the  number 2:\"))#num2=200\n",
    "add=num1 + num2 #'100'+'200' = 100+200=300\n",
    "print(f\"The addition of {num1} and {num2} is {add}\") "
   ]
  },
  {
   "cell_type": "code",
   "execution_count": 19,
   "id": "4a460605-63e3-4298-8607-c3d55f08130b",
   "metadata": {},
   "outputs": [
    {
     "name": "stdin",
     "output_type": "stream",
     "text": [
      "enter the  number 1: 100\n",
      "enter the  number 2: 200\n"
     ]
    },
    {
     "name": "stdout",
     "output_type": "stream",
     "text": [
      "The addition of 100 and 200 is 300\n"
     ]
    }
   ],
   "source": [
    "num1 = input (\"enter the  number 1:\") #num1='100'\n",
    "num2 =input (\"enter the  number 2:\")#num2='200'\n",
    "add=int(num1) + int(num2) #100+200 = 300\n",
    "print(f\"The addition of {num1} and {num2} is {add}\") "
   ]
  },
  {
   "cell_type": "markdown",
   "id": "96a2990f-fee7-4323-8a82-e14e33e0a3d3",
   "metadata": {},
   "source": [
    "$eval$\n",
    "- eval means evaluate\n",
    "- eval will take what ever the number we enter, evel will convert to corresponding data type\n"
   ]
  },
  {
   "cell_type": "code",
   "execution_count": 20,
   "id": "8a52efac-f9ec-4b33-8801-0b71eb4f2726",
   "metadata": {},
   "outputs": [
    {
     "name": "stdin",
     "output_type": "stream",
     "text": [
      "enter the  number 1: 100\n",
      "enter the  number 2: 200.55\n"
     ]
    },
    {
     "name": "stdout",
     "output_type": "stream",
     "text": [
      "The addition of 100 and 200.55 is 300.55\n"
     ]
    }
   ],
   "source": [
    "num1 = eval(input (\"enter the  number 1:\")) #num1=100\n",
    "num2 = eval(input (\"enter the  number 2:\"))#num2=200\n",
    "add=num1 + num2 #100+200 = 300\n",
    "print(f\"The addition of {num1} and {num2} is {add}\") "
   ]
  },
  {
   "cell_type": "code",
   "execution_count": 21,
   "id": "384690a5-12e1-4e09-bb3c-a1dfc9f428aa",
   "metadata": {},
   "outputs": [
    {
     "name": "stdin",
     "output_type": "stream",
     "text": [
      "enter the  number 1: 100\n",
      "enter the  number 2: 100.5\n"
     ]
    },
    {
     "name": "stdout",
     "output_type": "stream",
     "text": [
      "The addition of 100 and 100.5 is 200.5\n"
     ]
    }
   ],
   "source": [
    "num1 = eval(input (\"enter the  number 1:\")) #num1=100\n",
    "num2 = eval(input (\"enter the  number 2:\"))#num2=200\n",
    "add=num1 + num2 #100+200 = 300\n",
    "print(f\"The addition of {num1} and {num2} is {add}\") "
   ]
  },
  {
   "cell_type": "code",
   "execution_count": null,
   "id": "14bb46ea-7fbc-43d3-829e-4d62e7d24880",
   "metadata": {},
   "outputs": [],
   "source": [
    "# wap ask the user 3 number calculate average \n",
    "# wap ask the user  enter the numbers find the subtraction, addition, multiplication     ?\n",
    "# wap ask the uset enter  radius values find the area of circle \n",
    "\n",
    "# wap ask the user bill amount \n",
    "# wap ask the user how much tip you want to pay in percentage\n",
    "# calculate  total bill\n",
    "# wap ask user bill amount in rupees '\n",
    "# ask the user ane dollor\n",
    "# print the bill amount in rupees'\n",
    "# wap ask the user enter base height calculate area of triangle\n",
    "# wp ask the user enter length and breath calvulate area of rectangle"
   ]
  },
  {
   "cell_type": "code",
   "execution_count": 25,
   "id": "0d198e8c-9675-423b-b5f1-e34ac6aec880",
   "metadata": {},
   "outputs": [
    {
     "name": "stdin",
     "output_type": "stream",
     "text": [
      "number1: 100\n",
      "number2: 200\n"
     ]
    },
    {
     "name": "stdout",
     "output_type": "stream",
     "text": [
      "The avg of 100 and 200 is 150.0\n"
     ]
    }
   ],
   "source": [
    "num1 = eval(input(\"number1:\"))\n",
    "num2 = eval (input(\"number2:\"))\n",
    "avg = (num1+num2)/2\n",
    "print (f\"The avg of {num1} and {num2} is {avg}\")"
   ]
  },
  {
   "cell_type": "code",
   "execution_count": 27,
   "id": "96d7e65f-1c5a-4e23-8413-3c0d8319704c",
   "metadata": {},
   "outputs": [
    {
     "name": "stdin",
     "output_type": "stream",
     "text": [
      "input radius : 10\n"
     ]
    },
    {
     "name": "stdout",
     "output_type": "stream",
     "text": [
      "The area of circle 314.0\n"
     ]
    }
   ],
   "source": [
    "radius = eval(input(\"input radius :\"))\n",
    "pi = 3.14\n",
    "area = pi*radius*radius\n",
    "print(f\"The area of circle {area}\")"
   ]
  },
  {
   "cell_type": "code",
   "execution_count": 31,
   "id": "e7932677-4576-4c0b-9110-3b1f60de484a",
   "metadata": {},
   "outputs": [
    {
     "name": "stdin",
     "output_type": "stream",
     "text": [
      "Enter the bill amount : 1000\n",
      "Enter the tip you want to pay : 10\n"
     ]
    },
    {
     "name": "stdout",
     "output_type": "stream",
     "text": [
      "The total bill is:1100.0\n"
     ]
    }
   ],
   "source": [
    "bill = eval(input(\"Enter the bill amount :\"))\n",
    "tip =  eval(input(\"Enter the tip you want to pay in per :\"))\n",
    "total_tip = bill * tip / 100\n",
    "total_bill = bill + total_tip\n",
    "print(f\"The total bill is:{total_bill}\")"
   ]
  },
  {
   "cell_type": "code",
   "execution_count": 32,
   "id": "1e83731c-45a7-40be-9fdf-3d95c44b3edc",
   "metadata": {},
   "outputs": [
    {
     "name": "stdin",
     "output_type": "stream",
     "text": [
      "base 10\n",
      "height 20\n"
     ]
    },
    {
     "name": "stdout",
     "output_type": "stream",
     "text": [
      "The area of tringle is:100.0\n"
     ]
    }
   ],
   "source": [
    "base = eval (input(\"base\"))\n",
    "height = eval (input(\"height\"))\n",
    "area = 0.5 * base * height\n",
    "print(f\"The area of tringle is:{area}\")# "
   ]
  },
  {
   "cell_type": "code",
   "execution_count": 34,
   "id": "5387d784-1755-4eb0-b4d5-743512e45ac5",
   "metadata": {},
   "outputs": [
    {
     "name": "stdin",
     "output_type": "stream",
     "text": [
      "breath 10\n",
      "height 10\n"
     ]
    },
    {
     "name": "stdout",
     "output_type": "stream",
     "text": [
      "The area of rectangle is:100\n"
     ]
    }
   ],
   "source": [
    "breath = eval (input(\"breath\"))\n",
    "height = eval (input(\"height\"))\n",
    "area = breath * height\n",
    "print(f\"The area of rectangle is:{area}\")# "
   ]
  },
  {
   "cell_type": "code",
   "execution_count": null,
   "id": "277b3e4e-a2fe-4433-b73c-5bde5491702e",
   "metadata": {},
   "outputs": [],
   "source": []
  }
 ],
 "metadata": {
  "kernelspec": {
   "display_name": "Python 3 (ipykernel)",
   "language": "python",
   "name": "python3"
  },
  "language_info": {
   "codemirror_mode": {
    "name": "ipython",
    "version": 3
   },
   "file_extension": ".py",
   "mimetype": "text/x-python",
   "name": "python",
   "nbconvert_exporter": "python",
   "pygments_lexer": "ipython3",
   "version": "3.11.7"
  }
 },
 "nbformat": 4,
 "nbformat_minor": 5
}
