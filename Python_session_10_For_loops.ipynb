{
 "cells": [
  {
   "cell_type": "markdown",
   "id": "5e980a0c-929a-4ea2-b2eb-8b6d18b0b849",
   "metadata": {},
   "source": [
    "**loops**\n",
    "- Iterate a peice of code untill the condition satisfy\n",
    "- we can run a code normally\n",
    "- we can run a code by using function wrapper(functions)\n",
    "- we can run a code multiple times (loops)\n",
    "- we can run a code using condition(conditions)"
   ]
  },
  {
   "cell_type": "code",
   "execution_count": 1,
   "id": "1da97d0f-871d-4816-94f6-6278338b3c2c",
   "metadata": {},
   "outputs": [
    {
     "name": "stdout",
     "output_type": "stream",
     "text": [
      "30\n"
     ]
    }
   ],
   "source": [
    "a=10\n",
    "b=20\n",
    "c=a+b\n",
    "print(c)"
   ]
  },
  {
   "cell_type": "code",
   "execution_count": 2,
   "id": "2f9b2b52-f1c1-4d11-b766-5b4015dd7730",
   "metadata": {},
   "outputs": [
    {
     "name": "stdout",
     "output_type": "stream",
     "text": [
      "30\n"
     ]
    }
   ],
   "source": [
    "if True:\n",
    "    a=10\n",
    "    b=20\n",
    "    c=a+b\n",
    "    print(c)"
   ]
  },
  {
   "cell_type": "code",
   "execution_count": 3,
   "id": "c6a2acb8-3c45-4615-8420-f5264daecfe0",
   "metadata": {},
   "outputs": [
    {
     "name": "stdout",
     "output_type": "stream",
     "text": [
      "30\n"
     ]
    }
   ],
   "source": [
    "def add():\n",
    "    a=10\n",
    "    b=20\n",
    "    c=a+b\n",
    "    print(c)\n",
    "\n",
    "add()"
   ]
  },
  {
   "cell_type": "code",
   "execution_count": 4,
   "id": "5660476f-ae97-4874-a387-2a0e155c0345",
   "metadata": {},
   "outputs": [
    {
     "name": "stdin",
     "output_type": "stream",
     "text": [
      "Enter the salary: 50000\n",
      "Enter the salary: 10\n"
     ]
    },
    {
     "name": "stdout",
     "output_type": "stream",
     "text": [
      "5000.0\n"
     ]
    }
   ],
   "source": [
    "salary=eval(input(\"Enter the salary:\"))\n",
    "tax_per=eval(input(\"Enter the salary:\"))\n",
    "tax_amount=salary*tax_per/100\n",
    "print(tax_amount)\n"
   ]
  },
  {
   "cell_type": "code",
   "execution_count": 5,
   "id": "5c2fffde-a296-4cfb-b6a2-d884c32b4485",
   "metadata": {},
   "outputs": [
    {
     "name": "stdin",
     "output_type": "stream",
     "text": [
      "Enter the salary: 5000\n",
      "Enter the salary: 10\n"
     ]
    },
    {
     "name": "stdout",
     "output_type": "stream",
     "text": [
      "500.0\n"
     ]
    }
   ],
   "source": [
    "def tax():\n",
    "    salary=eval(input(\"Enter the salary:\"))\n",
    "    tax_per=eval(input(\"Enter the salary:\"))\n",
    "    tax_amount=salary*tax_per/100\n",
    "    print(tax_amount)\n",
    "tax()"
   ]
  },
  {
   "cell_type": "markdown",
   "id": "5c44d072-e9b2-4c64-9f4b-059da27b3d4c",
   "metadata": {},
   "source": [
    "- for loop\n",
    "- while loop\n",
    "- any loop\n",
    "    - intial point start the loop\n",
    "    - increment or decrement\n",
    "    - condition to stop the loop"
   ]
  },
  {
   "cell_type": "markdown",
   "id": "fbbd470d-e3ae-4748-bfa8-317f5170bdb2",
   "metadata": {},
   "source": [
    "**For loop**"
   ]
  },
  {
   "cell_type": "markdown",
   "id": "6fc1de63-872a-4b1d-a9a1-8fbcfaf0a3e8",
   "metadata": {},
   "source": [
    "$Pattern-1$"
   ]
  },
  {
   "cell_type": "markdown",
   "id": "7a84cec2-2dea-4fe0-bc99-8ecd5b9fe235",
   "metadata": {},
   "source": [
    "range(stop)"
   ]
  },
  {
   "cell_type": "code",
   "execution_count": null,
   "id": "027319d2-3d3d-4e51-bbcf-b1f68d4f5242",
   "metadata": {},
   "outputs": [],
   "source": [
    "#syntax\n",
    "for i in range(<value>):\n",
    "    #start write your code"
   ]
  },
  {
   "cell_type": "markdown",
   "id": "45c1dc9d-fcfd-4cd7-a748-a43f432d2848",
   "metadata": {},
   "source": [
    "- when ever you see the word range it belongs to math family\n",
    "- inside range we need to provide one value ex: range(3)\n",
    "- if you provide only one value\n",
    "    - start value=0\n",
    "    - increment=+1\n",
    "    - last=stop-1\n",
    "- range(3)\n",
    "    - start value=0\n",
    "    - increment=1\n",
    "    - last=3-1=2\n",
    "    - answer are: 0 1 2\n",
    "\n",
    "**Note:** In python the index always start with zero"
   ]
  },
  {
   "cell_type": "code",
   "execution_count": 7,
   "id": "cc505c23-5894-4bbf-ac57-05caea08fed7",
   "metadata": {},
   "outputs": [
    {
     "name": "stdout",
     "output_type": "stream",
     "text": [
      "0\n",
      "1\n",
      "2\n"
     ]
    }
   ],
   "source": [
    "for i in range(3):\n",
    "    print(i)\n",
    "    "
   ]
  },
  {
   "cell_type": "code",
   "execution_count": null,
   "id": "ffecf5f9-59c1-4123-ac54-7281c12bd40c",
   "metadata": {},
   "outputs": [],
   "source": [
    "print(0)\n",
    "print(1)\n",
    "print(2)\n",
    "print(3)\n",
    "print(4)\n",
    "\n",
    "print(i)"
   ]
  },
  {
   "cell_type": "code",
   "execution_count": 8,
   "id": "b955263d-2ff7-4575-bbd0-75e2ad0769e0",
   "metadata": {},
   "outputs": [
    {
     "name": "stdout",
     "output_type": "stream",
     "text": [
      "Hello\n",
      "Hello\n",
      "Hello\n",
      "Hello\n",
      "Hello\n"
     ]
    }
   ],
   "source": [
    "# I want to print hello 5 times\n",
    "for i in range(5):\n",
    "    print(\"Hello\")"
   ]
  },
  {
   "cell_type": "code",
   "execution_count": 9,
   "id": "22fa1744-5bde-4c64-b47d-633ba27b123d",
   "metadata": {},
   "outputs": [
    {
     "name": "stdout",
     "output_type": "stream",
     "text": [
      "72 is even\n"
     ]
    }
   ],
   "source": [
    "import random\n",
    "num=random.randint(1,100)\n",
    "if num%2==0:\n",
    "    print(f\"{num} is even\")\n",
    "\n",
    "else:\n",
    "    print(f\"{num} is odd\")"
   ]
  },
  {
   "cell_type": "code",
   "execution_count": 11,
   "id": "b618c802-d129-422c-8451-9d2299d56561",
   "metadata": {},
   "outputs": [
    {
     "name": "stdout",
     "output_type": "stream",
     "text": [
      "80 is even\n",
      "12 is even\n",
      "81 is odd\n"
     ]
    }
   ],
   "source": [
    "import random\n",
    "for i in range(3):\n",
    "    num=random.randint(1,100)\n",
    "    if num%2==0:\n",
    "        print(f\"{num} is even\")\n",
    "    \n",
    "    else:\n",
    "        print(f\"{num} is odd\")"
   ]
  },
  {
   "cell_type": "code",
   "execution_count": 12,
   "id": "5f5fe9fa-c6f5-4f43-b427-16ca4739e398",
   "metadata": {},
   "outputs": [
    {
     "name": "stdout",
     "output_type": "stream",
     "text": [
      "0\n",
      "1\n",
      "2\n",
      "3\n",
      "4\n",
      "5\n",
      "6\n",
      "7\n",
      "8\n",
      "9\n"
     ]
    }
   ],
   "source": [
    "for i in range(10):\n",
    "    print(i)"
   ]
  },
  {
   "cell_type": "code",
   "execution_count": 13,
   "id": "a4b9b0af-3d26-4554-875d-b38f9d6e60c8",
   "metadata": {},
   "outputs": [
    {
     "name": "stdout",
     "output_type": "stream",
     "text": [
      "0 1 2 3 4\n",
      "9 "
     ]
    }
   ],
   "source": [
    "print(0,end=' ')\n",
    "print(1,end=' ')\n",
    "print(2,end=' ')\n",
    "print(3,end=' ')\n",
    "print(4)\n",
    "print(i,end=' ')"
   ]
  },
  {
   "cell_type": "code",
   "execution_count": 14,
   "id": "ada6d109-81da-4805-ab50-e128f0581a85",
   "metadata": {},
   "outputs": [
    {
     "name": "stdout",
     "output_type": "stream",
     "text": [
      "0 1 2 3 4 5 6 7 8 9 "
     ]
    }
   ],
   "source": [
    "for i in range(10):\n",
    "    print(i,end=' ')"
   ]
  },
  {
   "cell_type": "code",
   "execution_count": 15,
   "id": "101133ca-e155-48c5-8344-b02dbf7da984",
   "metadata": {},
   "outputs": [],
   "source": [
    "# sep: will seperate multiple values in same print statement\n",
    "# end: combine the multiple print statement"
   ]
  },
  {
   "cell_type": "markdown",
   "id": "4950fe26-8e67-41fb-8726-4ea78241404d",
   "metadata": {},
   "source": [
    "$Pattern-2$"
   ]
  },
  {
   "cell_type": "markdown",
   "id": "d4212b6c-3f3d-40af-85d7-946e8db88d21",
   "metadata": {},
   "source": [
    "range(start,stop)\n",
    "- range(10,20)\n",
    "    - start value = 10\n",
    "    - increment=1\n",
    "    - last=stop-1=20-1=19\n",
    "    - ans:10 11 12 13 14 15 16 17 18 19"
   ]
  },
  {
   "cell_type": "code",
   "execution_count": 16,
   "id": "bcb17200-c7c7-4b9a-887e-067b868d9d80",
   "metadata": {},
   "outputs": [
    {
     "name": "stdout",
     "output_type": "stream",
     "text": [
      "10 11 12 13 14 15 16 17 18 19 "
     ]
    }
   ],
   "source": [
    "for i in range(10,20):\n",
    "    print(i,end=' ')"
   ]
  },
  {
   "cell_type": "code",
   "execution_count": 17,
   "id": "0a415258-1e0b-42e2-945b-6ebf3ce0c67d",
   "metadata": {},
   "outputs": [
    {
     "name": "stdout",
     "output_type": "stream",
     "text": [
      "the square of 20 is 400\n",
      "the square of 21 is 441\n",
      "the square of 22 is 484\n",
      "the square of 23 is 529\n",
      "the square of 24 is 576\n"
     ]
    }
   ],
   "source": [
    "# wap ask the user print the square of the number between\n",
    "# 20 to 25\n",
    "for i in range(20,25):\n",
    "    print(f\"the square of {i} is {i*i}\")"
   ]
  },
  {
   "cell_type": "code",
   "execution_count": 19,
   "id": "939cb0e6-76d2-400c-bc73-6d1f27794e11",
   "metadata": {},
   "outputs": [
    {
     "name": "stdout",
     "output_type": "stream",
     "text": [
      "10 is even\n",
      "11 is odd\n",
      "12 is even\n",
      "13 is odd\n",
      "14 is even\n",
      "15 is odd\n",
      "16 is even\n",
      "17 is odd\n",
      "18 is even\n",
      "19 is odd\n"
     ]
    }
   ],
   "source": [
    "# wap ask the user print the number is even or odd between 10 to 20\n",
    "for i in range (10,20):\n",
    "    if i%2==0:\n",
    "        print(f\"{i} is even\")\n",
    "\n",
    "    else:\n",
    "        print(f\"{i} is odd\")"
   ]
  },
  {
   "cell_type": "code",
   "execution_count": 20,
   "id": "2007845a-924c-4fdf-9a56-c664043a056d",
   "metadata": {},
   "outputs": [
    {
     "name": "stdout",
     "output_type": "stream",
     "text": [
      "89 is odd\n",
      "15 is odd\n",
      "6 is even\n"
     ]
    }
   ],
   "source": [
    "import random\n",
    "for i in range(1001,1004):\n",
    "    num=random.randint(1,100)\n",
    "    if num%2==0:\n",
    "        print(f\"{num} is even\")\n",
    "    \n",
    "    else:\n",
    "        print(f\"{num} is odd\")"
   ]
  },
  {
   "cell_type": "markdown",
   "id": "f45cbd27-3f82-4b67-b245-092159927cc5",
   "metadata": {},
   "source": [
    "$Pattern-3$"
   ]
  },
  {
   "cell_type": "markdown",
   "id": "c2e1a8d6-14ad-4107-941b-3440ac477f58",
   "metadata": {},
   "source": [
    "**range(start,stop,step)**\n",
    "- start value = start values\n",
    "- step value\n",
    "    - Positive step value\n",
    "        - if step is positive: increment\n",
    "        - last = stop+1\n",
    "    - negative step value\n",
    "        - if step value is negative: decrement\n",
    "        - last=stop+1"
   ]
  },
  {
   "cell_type": "code",
   "execution_count": 21,
   "id": "a281638a-5808-45aa-882f-f2263fd85691",
   "metadata": {},
   "outputs": [
    {
     "name": "stdout",
     "output_type": "stream",
     "text": [
      "2 4 6 8 10 12 14 16 18 "
     ]
    }
   ],
   "source": [
    "# case-1:\n",
    "for i in range(2,20,2): #range(start,stop,step)\n",
    "    print(i,end=' ')\n",
    "\n",
    "# start=2\n",
    "# step= +ve 2\n",
    "# last= stop-1= 20-1=19\n",
    "# 2 4 6 8 10 12 14 16 18"
   ]
  },
  {
   "cell_type": "code",
   "execution_count": 22,
   "id": "4e2d7c6c-8b63-4d91-9bcd-e3f24b7e1fd3",
   "metadata": {},
   "outputs": [
    {
     "name": "stdout",
     "output_type": "stream",
     "text": [
      "10 "
     ]
    }
   ],
   "source": [
    "#case 2\n",
    "for i in range (10,20,30):\n",
    "    print(i,end=' ')\n",
    "\n",
    "# start = 10\n",
    "# step = 30\n",
    "# last = 20-1=19\n",
    "# 10"
   ]
  },
  {
   "cell_type": "code",
   "execution_count": 23,
   "id": "0674c69b-1fc5-4b3e-8406-9e6cb358f024",
   "metadata": {},
   "outputs": [
    {
     "name": "stdout",
     "output_type": "stream",
     "text": [
      "20 18 16 14 12 10 8 6 4 "
     ]
    }
   ],
   "source": [
    "# case 3\n",
    "for i in range(20,2,-2):\n",
    "    print(i,end=' ')\n",
    "\n",
    "# start = 20\n",
    "# step = -2 -ve\n",
    "# last = stop+1= 2+1=3\n",
    "# 20 18 16 14 12 10 8 6 4 "
   ]
  },
  {
   "cell_type": "code",
   "execution_count": 24,
   "id": "26b9e737-c022-4fb1-8ae9-e15e12dc2bf5",
   "metadata": {},
   "outputs": [],
   "source": [
    "# case 4\n",
    "for i in range(-20,2,-2):\n",
    "    print(i,end=' ')\n",
    "# start= -20\n",
    "# step= -2 neg\n",
    "# last= stop+1 = 2+1=3"
   ]
  },
  {
   "cell_type": "code",
   "execution_count": null,
   "id": "3c5665d7-e72a-4a75-a31d-e4b086b597fa",
   "metadata": {},
   "outputs": [],
   "source": [
    "range(3,20,2) # P\n",
    "range(3,20,-2) # NP\n",
    "range(3,-20,2) # NP\n",
    "range(3,-20,-2) # P\n",
    "range(-3,20,2) # P\n",
    "range(-3,-20,2) # NP\n",
    "range(-3,20,-2) # NP\n",
    "range(-3,-20,-2) # P\n",
    "range(20,3,2) # NP\n",
    "range(20,3,-2) # P\n",
    "range(20,-3,-2) # P\n",
    "range(-20,-3,-2) #NP"
   ]
  },
  {
   "cell_type": "code",
   "execution_count": 26,
   "id": "9a516466-bc89-4c14-9ae1-f494716645fd",
   "metadata": {},
   "outputs": [
    {
     "name": "stdout",
     "output_type": "stream",
     "text": [
      "20 18 16 14 12 10 8 6 4 2 0 -2 "
     ]
    }
   ],
   "source": [
    "for i in range(20,-3,-2):\n",
    "    print(i,end=' ')"
   ]
  },
  {
   "cell_type": "code",
   "execution_count": 1,
   "id": "6df0860e-319b-4f31-9429-1fb8ec867ccc",
   "metadata": {},
   "outputs": [
    {
     "name": "stdin",
     "output_type": "stream",
     "text": [
      "Enter the number 5\n"
     ]
    },
    {
     "name": "stdout",
     "output_type": "stream",
     "text": [
      "The square of 5 is 25\n"
     ]
    },
    {
     "name": "stdin",
     "output_type": "stream",
     "text": [
      "Enter the number 6\n"
     ]
    },
    {
     "name": "stdout",
     "output_type": "stream",
     "text": [
      "The square of 6 is 36\n"
     ]
    },
    {
     "name": "stdin",
     "output_type": "stream",
     "text": [
      "Enter the number 4\n"
     ]
    },
    {
     "name": "stdout",
     "output_type": "stream",
     "text": [
      "The square of 4 is 16\n"
     ]
    }
   ],
   "source": [
    "# wap ask the user enter a number 3 times find the square of the number\n",
    "# How many times loop should run\n",
    "for i in range(3):\n",
    "    num=eval(input(\"Enter the number\"))\n",
    "    print(f\"The square of {num} is {num*num}\")"
   ]
  },
  {
   "cell_type": "code",
   "execution_count": 5,
   "id": "58ca657d-e88a-4911-a7d0-d5607ca920f6",
   "metadata": {},
   "outputs": [
    {
     "name": "stdout",
     "output_type": "stream",
     "text": [
      "14 x 1 = 14\n",
      "14 x 2 = 28\n",
      "14 x 3 = 42\n",
      "14 x 4 = 56\n",
      "14 x 5 = 70\n",
      "14 x 6 = 84\n",
      "14 x 7 = 98\n",
      "14 x 8 = 112\n",
      "14 x 9 = 126\n",
      "14 x 10 = 140\n"
     ]
    }
   ],
   "source": [
    "#5Q print the 14th table\n",
    "# and 14 x 1 = 14\n",
    "#     14 x 2 = 28\n",
    "#\n",
    "#\n",
    "#     14 x 10 = 140\n",
    "\n",
    "for i in range(1,11):\n",
    "    print(f\"14 x {i} = {14*i}\")"
   ]
  },
  {
   "cell_type": "code",
   "execution_count": 7,
   "id": "c6547e5f-5751-4669-9b3c-b369f6249020",
   "metadata": {},
   "outputs": [
    {
     "name": "stdin",
     "output_type": "stream",
     "text": [
      "Enter the table which you want to print 42\n"
     ]
    },
    {
     "name": "stdout",
     "output_type": "stream",
     "text": [
      "42 x 1 = 42\n",
      "42 x 2 = 84\n",
      "42 x 3 = 126\n",
      "42 x 4 = 168\n",
      "42 x 5 = 210\n",
      "42 x 6 = 252\n",
      "42 x 7 = 294\n",
      "42 x 8 = 336\n",
      "42 x 9 = 378\n",
      "42 x 10 = 420\n"
     ]
    }
   ],
   "source": [
    "num=eval(input(\"Enter the table which you want to print\"))\n",
    "for i in range(1,11):\n",
    "    val=i*num\n",
    "    print(f\"{num} x {i} = {val}\")"
   ]
  },
  {
   "cell_type": "code",
   "execution_count": 21,
   "id": "65b4907d-e87a-4790-b723-bb10ca712390",
   "metadata": {},
   "outputs": [
    {
     "name": "stdin",
     "output_type": "stream",
     "text": [
      "Which number factor you want 75\n"
     ]
    },
    {
     "name": "stdout",
     "output_type": "stream",
     "text": [
      " 1 is divisor of 75\n",
      " 3 is divisor of 75\n",
      " 5 is divisor of 75\n",
      " 15 is divisor of 75\n",
      " 25 is divisor of 75\n",
      " 75 is divisor of 75\n"
     ]
    }
   ],
   "source": [
    "#6Q find the factors of 75\n",
    "# step 1 Itratet the loop which number factor you want \n",
    "# apply the if condition \n",
    "#      condition divide the number with each i\n",
    "num=eval(input(\"Which number factor you want\"))\n",
    "for i in range(1,num+1):\n",
    "    if num%i==0:\n",
    "        print(f\" {i} is divisor of {num}\")"
   ]
  },
  {
   "cell_type": "code",
   "execution_count": 33,
   "id": "075bbf08-74f5-40fb-9be6-124dc17579ac",
   "metadata": {},
   "outputs": [
    {
     "name": "stdout",
     "output_type": "stream",
     "text": [
      "0 + 1 = 1\n",
      "1 + 2 = 3\n",
      "3 + 3 = 6\n",
      "6 + 4 = 10\n",
      "10 + 5 = 15\n",
      "15 + 6 = 21\n",
      "21 + 7 = 28\n",
      "28 + 8 = 36\n",
      "36 + 9 = 45\n",
      "45 + 10 = 55\n"
     ]
    }
   ],
   "source": [
    "#Q7 write the sum of first 10 natural numbers\n",
    "# 1 to 10\n",
    "# 1+2+3+4+5+6+7+8+9+10=55\n",
    "summ=0\n",
    "for i in range(1,11):\n",
    "    val=summ\n",
    "    summ=summ + i\n",
    "    print(f\"{val} + {i} = {summ}\")"
   ]
  },
  {
   "cell_type": "markdown",
   "id": "4d8d91c5-64db-456c-bb66-1d4ec85cd831",
   "metadata": {},
   "source": [
    "**Summation wrapper**\n",
    "- initially we need to  keep summ = 0\n",
    "- make sure that do not provide **sum**\n",
    "- because sum is a keyword\n",
    "- inside for loop : summ=summ+i"
   ]
  },
  {
   "cell_type": "code",
   "execution_count": 35,
   "id": "588869e9-8445-464b-8f63-2bfef674f9cb",
   "metadata": {},
   "outputs": [
    {
     "name": "stdout",
     "output_type": "stream",
     "text": [
      "0 inside for loop\n",
      "1 inside for loop\n",
      "2 inside for loop\n",
      "3 inside for loop\n",
      "4 inside for loop\n",
      "outside forloop4\n"
     ]
    }
   ],
   "source": [
    "for i in range(5):\n",
    "    print(f\"{i} inside for loop\")\n",
    "\n",
    "print(f\"outside forloop {i}\")"
   ]
  },
  {
   "cell_type": "code",
   "execution_count": null,
   "id": "e5c59e2a-50d3-4c3a-a08f-b3f97d92c673",
   "metadata": {},
   "outputs": [],
   "source": [
    "**Note**\n",
    "- if we print answer from out "
   ]
  },
  {
   "cell_type": "code",
   "execution_count": 38,
   "id": "7cfe09da-92f6-4373-8e04-d11574b01782",
   "metadata": {},
   "outputs": [
    {
     "name": "stdin",
     "output_type": "stream",
     "text": [
      "Enter the number 10\n"
     ]
    },
    {
     "name": "stdout",
     "output_type": "stream",
     "text": [
      "5.5\n"
     ]
    }
   ],
   "source": [
    "#Q8 avrage of first 10 numbers\n",
    "# avg=summ of all numbers/total numbers\n",
    "summ=0\n",
    "N=eval(input(\"Enter the number\"))\n",
    "for i in range(1,N+1):\n",
    "    summ = (summ + i)\n",
    "print(summ/N)"
   ]
  },
  {
   "cell_type": "markdown",
   "id": "29a322df-3f24-4ea2-a8d8-2b280d519a5e",
   "metadata": {},
   "source": [
    "**Counter Wrapper**\n",
    "- Before for loop intilase with count =0\n",
    "- Under for loop count = count+1\n",
    "- Counter always increase by 1 only                          "
   ]
  },
  {
   "cell_type": "code",
   "execution_count": null,
   "id": "e2b49c37-f855-4954-801b-9d94c478ba77",
   "metadata": {},
   "outputs": [],
   "source": [
    "# 9Q Find the number of divisors of 75\n",
    "# ans 1,3,5,15,25,75\n",
    "# number =6"
   ]
  },
  {
   "cell_type": "code",
   "execution_count": 2,
   "id": "bd049c0a-2195-4034-b98c-434936ba080e",
   "metadata": {},
   "outputs": [
    {
     "name": "stdin",
     "output_type": "stream",
     "text": [
      "Enter the number 75\n"
     ]
    },
    {
     "name": "stdout",
     "output_type": "stream",
     "text": [
      "The number of divisor for 75 is 6\n"
     ]
    }
   ],
   "source": [
    "count=0\n",
    "num=eval(input(\"Enter the number\"))\n",
    "for i in range(1,num+1):\n",
    "    if num%i==0:\n",
    "        count=count+1\n",
    "\n",
    "\n",
    "print(f\"The number of divisor for {num} is {count}\")"
   ]
  },
  {
   "cell_type": "code",
   "execution_count": 44,
   "id": "e1757617-821e-46cf-a3bc-6faf9d0f1d4a",
   "metadata": {},
   "outputs": [
    {
     "name": "stdin",
     "output_type": "stream",
     "text": [
      "Enter the number 5\n"
     ]
    },
    {
     "name": "stdout",
     "output_type": "stream",
     "text": [
      "lost\n"
     ]
    },
    {
     "name": "stdin",
     "output_type": "stream",
     "text": [
      "Enter the number 4\n"
     ]
    },
    {
     "name": "stdout",
     "output_type": "stream",
     "text": [
      "lost\n"
     ]
    },
    {
     "name": "stdin",
     "output_type": "stream",
     "text": [
      "Enter the number 6\n"
     ]
    },
    {
     "name": "stdout",
     "output_type": "stream",
     "text": [
      "lost\n"
     ]
    }
   ],
   "source": [
    "#Q10 get a random number b/w 1-10:num1\n",
    "# ask the user a number : num2\n",
    "# if num1 == num2 then print won\n",
    "# else print fail\n",
    "# give three chances\n",
    "\n",
    "import random\n",
    "for i in range (3):\n",
    "    a=random.randint(1,10)\n",
    "    num=eval(input(\"Enter the number\"))\n",
    "    if a==num:\n",
    "        print(\"you won\")\n",
    "    else:\n",
    "        print(\"lost\")"
   ]
  },
  {
   "cell_type": "code",
   "execution_count": 46,
   "id": "6537e31d-2aca-4680-8aec-3cd2f925e149",
   "metadata": {},
   "outputs": [
    {
     "name": "stdout",
     "output_type": "stream",
     "text": [
      "8\n"
     ]
    },
    {
     "name": "stdin",
     "output_type": "stream",
     "text": [
      "Enter the number 8\n"
     ]
    },
    {
     "name": "stdout",
     "output_type": "stream",
     "text": [
      "you won\n"
     ]
    }
   ],
   "source": [
    "# case 2 whenever you won stop\n",
    "import random\n",
    "for i in range (3):\n",
    "    a=random.randint(1,10)\n",
    "    print(a)\n",
    "    num=eval(input(\"Enter the number\"))\n",
    "    if a==num:\n",
    "        print(\"you won\")\n",
    "        break\n",
    "    else:\n",
    "        print(\"lost\")"
   ]
  },
  {
   "cell_type": "code",
   "execution_count": 2,
   "id": "8f643070-d4b8-426b-a75b-ccd12fb99c46",
   "metadata": {},
   "outputs": [
    {
     "name": "stdout",
     "output_type": "stream",
     "text": [
      "1\n"
     ]
    },
    {
     "name": "stdin",
     "output_type": "stream",
     "text": [
      "Enter the number 5\n"
     ]
    },
    {
     "name": "stdout",
     "output_type": "stream",
     "text": [
      "lost\n",
      "-1\n",
      "5\n"
     ]
    },
    {
     "name": "stdin",
     "output_type": "stream",
     "text": [
      "Enter the number 8\n"
     ]
    },
    {
     "name": "stdout",
     "output_type": "stream",
     "text": [
      "lost\n",
      "0\n",
      "3\n"
     ]
    },
    {
     "name": "stdin",
     "output_type": "stream",
     "text": [
      "Enter the number 1\n"
     ]
    },
    {
     "name": "stdout",
     "output_type": "stream",
     "text": [
      "lost\n",
      "1\n"
     ]
    }
   ],
   "source": [
    "# case 3\n",
    "# suppose i want to give 4 chances \n",
    "# Every time you fail I want to disply number of chances left\n",
    "# if all the chances you are used \n",
    "# try again after 24 hrs\n",
    "# if you are win\n",
    "\n",
    "import random\n",
    "for i in range (3):\n",
    "    a=random.randint(1,10)\n",
    "    print(a)\n",
    "    num=eval(input(\"Enter the number\"))\n",
    "    \n",
    "    if a==num:\n",
    "        print(\"you won\")\n",
    "        break\n",
    "        \n",
    "    else:\n",
    "        print(\"lost\")\n",
    "        "
   ]
  },
  {
   "cell_type": "code",
   "execution_count": 7,
   "id": "fc09443f-a99e-4696-93ba-07293feaf6a5",
   "metadata": {},
   "outputs": [
    {
     "name": "stdout",
     "output_type": "stream",
     "text": [
      "4\n"
     ]
    },
    {
     "name": "stdin",
     "output_type": "stream",
     "text": [
      "Enter the number 5\n"
     ]
    },
    {
     "name": "stdout",
     "output_type": "stream",
     "text": [
      "lost\n",
      "you have 3 left\n",
      "4\n"
     ]
    },
    {
     "name": "stdin",
     "output_type": "stream",
     "text": [
      "Enter the number 4\n"
     ]
    },
    {
     "name": "stdout",
     "output_type": "stream",
     "text": [
      "you won\n"
     ]
    }
   ],
   "source": [
    "# case 3\n",
    "# suppose i want to give 4 chances \n",
    "# Every time you fail I want to disply number of chances left\n",
    "# if all the chances you are used \n",
    "# try again after 24 hrs\n",
    "# if you are win\n",
    "\n",
    "import random\n",
    "a=random.randint(1,10)\n",
    "chances = 4\n",
    "for i in range (4):\n",
    "    \n",
    "    print(a)\n",
    "    num=eval(input(\"Enter the number\"))\n",
    "    \n",
    "    if a==num:\n",
    "        print(\"you won\")\n",
    "        break\n",
    "        \n",
    "    else:\n",
    "        print(\"lost\")\n",
    "        chances=chances-1\n",
    "        if chances==0:\n",
    "            print(\"Try after 24 hours\")\n",
    "        else:\n",
    "            print(f\"you have {chances} left\")"
   ]
  },
  {
   "cell_type": "code",
   "execution_count": null,
   "id": "1bcdede3-ff49-4e9d-bdb4-4322c8639519",
   "metadata": {},
   "outputs": [],
   "source": [
    "# wap ask the user get 5 random numbers\n",
    "# Get it is even or odd number\n",
    "# also count how many even numbers are there \n",
    "# and count how many odd numbers are there\n",
    "\n",
    "#summation\n",
    "# summ=summ+any num\n",
    "\n",
    "# counter \n",
    "# count= count+1\n",
    "\n",
    "# idea \n",
    "# take two counters one even and odd count\n",
    "# for loop 5 times\n",
    "# each time take the random number\n",
    "# if condition\n",
    "#   True counter update\n",
    "# else\n",
    "#   update the counter"
   ]
  },
  {
   "cell_type": "code",
   "execution_count": 13,
   "id": "faacdb71-b017-4304-8c72-886224713bfc",
   "metadata": {},
   "outputs": [
    {
     "name": "stdout",
     "output_type": "stream",
     "text": [
      "The total number of even number are: 3\n",
      "The total number of odd number are: 2\n"
     ]
    }
   ],
   "source": [
    "import random\n",
    "even_count,odd_count = 0,0\n",
    "for i in range(5):\n",
    "    num=random.randint(1,100)\n",
    "    if num%2==0:\n",
    "        even_count=even_count+1\n",
    "    else:\n",
    "        odd_count=odd_count+1\n",
    "\n",
    "print(f\"The total number of even number are: {even_count}\") \n",
    "print(f\"The total number of odd number are: {odd_count}\") "
   ]
  },
  {
   "cell_type": "code",
   "execution_count": 14,
   "id": "242181f3-f81f-4fc3-a175-1d29c3f1c9ad",
   "metadata": {},
   "outputs": [],
   "source": [
    "# wap ask the user get 5 random numbers\n",
    "# Get it is even or odd number\n",
    "# also count how many even numbers are there \n",
    "# and count how many odd numbers are there\n",
    "# summ\n"
   ]
  },
  {
   "cell_type": "code",
   "execution_count": 4,
   "id": "41074560-4856-46cd-be75-77de4c9ee245",
   "metadata": {},
   "outputs": [
    {
     "name": "stdout",
     "output_type": "stream",
     "text": [
      "The summation of all even number are: 202\n",
      "The summation of all odd number are: 69\n"
     ]
    }
   ],
   "source": [
    "import random\n",
    "even_summ,odd_summ = 0,0\n",
    "for i in range(5):\n",
    "    num=random.randint(1,100)\n",
    "    if num%2==0:\n",
    "        even_summ=even_summ+num\n",
    "    else:\n",
    "        odd_summ=odd_summ+num\n",
    "print(f\"The summation of all even number are: {even_summ}\") \n",
    "print(f\"The summation of all odd number are: {odd_summ}\") \n"
   ]
  },
  {
   "cell_type": "code",
   "execution_count": 1,
   "id": "b7cfeeee-d943-4f93-bb91-47240797bc68",
   "metadata": {},
   "outputs": [
    {
     "name": "stdout",
     "output_type": "stream",
     "text": [
      "The summation of all even numbers is: 250\n",
      "The summation of all odd numbers is: 21\n"
     ]
    }
   ],
   "source": [
    "import random\n",
    "\n",
    "even_summ, odd_summ = 0, 0\n",
    "\n",
    "for i in range(5):\n",
    "    num = random.randint(1, 100)\n",
    "    if num % 2 == 0:\n",
    "        even_summ = even_summ + num\n",
    "    else:\n",
    "        odd_summ = odd_summ + num\n",
    "\n",
    "print(f\"The summation of all even numbers is: {even_summ}\")\n",
    "print(f\"The summation of all odd numbers is: {odd_summ}\")\n"
   ]
  },
  {
   "cell_type": "code",
   "execution_count": 6,
   "id": "aa1465a5-8e1c-4dec-b374-d72296e49e91",
   "metadata": {},
   "outputs": [
    {
     "name": "stdout",
     "output_type": "stream",
     "text": [
      "The summation of all even number are: 202\n",
      "The summation of all odd number are: 69\n"
     ]
    }
   ],
   "source": [
    "def sum():\n",
    "    even_summ,odd_summ = 0,0\n",
    "    for i in range(5):\n",
    "        num=random.randint(1,100)\n",
    "        if num%2==0:\n",
    "            even_summ=even_summ+num\n",
    "        else:\n",
    "            odd_summ==odd_summ+num\n",
    "        return(even_sum,odd_sum)\n",
    "print(f\"The summation of all even number are: {even_summ}\") \n",
    "print(f\"The summation of all odd number are: {odd_summ}\") \n"
   ]
  },
  {
   "cell_type": "code",
   "execution_count": 39,
   "id": "90f4d748-073f-4120-ad5b-6699e9efc282",
   "metadata": {},
   "outputs": [
    {
     "name": "stdout",
     "output_type": "stream",
     "text": [
      "The total number of even number are: 3\n",
      "The total number of odd number are: 2\n"
     ]
    }
   ],
   "source": [
    "def countt():\n",
    "    even_count,odd_count = 0,0\n",
    "    for i in range(5):\n",
    "        num=random.randint(1,100)\n",
    "        if num%2==0:\n",
    "            even_count=even_count+1\n",
    "        else:\n",
    "            odd_count=odd_count+1\n",
    "        return(even_count, odd_count) \n",
    "print(f\"The total number of even number are: {even_count}\") \n",
    "print(f\"The total number of odd number are: {odd_count}\") "
   ]
  },
  {
   "cell_type": "markdown",
   "id": "4e9eefb2-1d58-4318-b0c0-9408d21b884a",
   "metadata": {},
   "source": [
    "**In oprator**"
   ]
  },
  {
   "cell_type": "code",
   "execution_count": 37,
   "id": "e23ae331-5592-47f7-95e8-99cd4a09e4b2",
   "metadata": {},
   "outputs": [
    {
     "data": {
      "text/plain": [
       "True"
      ]
     },
     "execution_count": 37,
     "metadata": {},
     "output_type": "execute_result"
    }
   ],
   "source": [
    "string1=\"pyhton\"\n",
    "'p' in string1\n",
    "'y' in string1\n",
    "'t' in string1\n"
   ]
  },
  {
   "cell_type": "code",
   "execution_count": 40,
   "id": "4661a440-e452-4b06-934b-40be89293758",
   "metadata": {},
   "outputs": [
    {
     "ename": "TypeError",
     "evalue": "'str' object cannot be interpreted as an integer",
     "output_type": "error",
     "traceback": [
      "\u001b[1;31m---------------------------------------------------------------------------\u001b[0m",
      "\u001b[1;31mTypeError\u001b[0m                                 Traceback (most recent call last)",
      "Cell \u001b[1;32mIn[40], line 1\u001b[0m\n\u001b[1;32m----> 1\u001b[0m \u001b[38;5;28;01mfor\u001b[39;00m i \u001b[38;5;129;01min\u001b[39;00m \u001b[38;5;28mrange\u001b[39m (string1):\n\u001b[0;32m      2\u001b[0m     \u001b[38;5;28mprint\u001b[39m(i)\n",
      "\u001b[1;31mTypeError\u001b[0m: 'str' object cannot be interpreted as an integer"
     ]
    }
   ],
   "source": [
    "for i in range (string1):\n",
    "    print(i)"
   ]
  },
  {
   "cell_type": "markdown",
   "id": "21201b06-7271-4da9-bdbd-bcb89c6909a9",
   "metadata": {},
   "source": [
    "**Difference b/w in operator and range oprator**\n",
    "\n",
    "- range belongs to math family\n",
    "- inside $range$ we need to keep number only\n",
    "- whenever if we want to iterate through a english letters\n",
    "- we need to choose $in$ operator\n",
    "- range means Numbers\n",
    "- in means string"
   ]
  },
  {
   "cell_type": "code",
   "execution_count": 41,
   "id": "bee8beba-1b28-4931-b8d0-fb5f74e4ce84",
   "metadata": {},
   "outputs": [
    {
     "data": {
      "text/plain": [
       "True"
      ]
     },
     "execution_count": 41,
     "metadata": {},
     "output_type": "execute_result"
    }
   ],
   "source": [
    "'p'>'P'"
   ]
  },
  {
   "cell_type": "markdown",
   "id": "625fec24-a4b2-4053-b410-8beb0933eced",
   "metadata": {},
   "source": [
    "- every english letter\n",
    "- every spl charcters hoe machine will understand?\n",
    "- Machine language always consider as numbers\n",
    "- every noin numeric assign a number\n",
    "- ASCII: American Standard Code for Information Interchange\n",
    "\n",
    "- A : 65, a : 97 "
   ]
  },
  {
   "cell_type": "markdown",
   "id": "68e570e5-6cc8-4a8d-8d71-59fc66633e91",
   "metadata": {},
   "source": [
    "**ord-chr**"
   ]
  },
  {
   "cell_type": "code",
   "execution_count": null,
   "id": "68ed1109-b81e-4b9d-bb2d-ed0825cef0f0",
   "metadata": {},
   "outputs": [],
   "source": [
    "A ===65 ===0b"
   ]
  },
  {
   "cell_type": "code",
   "execution_count": 48,
   "id": "3d08291f-b244-4c96-b55d-77b70d380c2f",
   "metadata": {},
   "outputs": [
    {
     "data": {
      "text/plain": [
       "(65, 97)"
      ]
     },
     "execution_count": 48,
     "metadata": {},
     "output_type": "execute_result"
    }
   ],
   "source": [
    "ord('A'),ord('a')"
   ]
  },
  {
   "cell_type": "code",
   "execution_count": 49,
   "id": "7cd77333-a014-45b7-afb8-ca711f418b11",
   "metadata": {},
   "outputs": [
    {
     "data": {
      "text/plain": [
       "(112, 80)"
      ]
     },
     "execution_count": 49,
     "metadata": {},
     "output_type": "execute_result"
    }
   ],
   "source": [
    "ord('p'),ord('P')"
   ]
  },
  {
   "cell_type": "code",
   "execution_count": 50,
   "id": "f19508cc-c041-4de7-89dd-658a046acc80",
   "metadata": {},
   "outputs": [
    {
     "data": {
      "text/plain": [
       "True"
      ]
     },
     "execution_count": 50,
     "metadata": {},
     "output_type": "execute_result"
    }
   ],
   "source": [
    "'p'>'P'  # 112>80"
   ]
  },
  {
   "cell_type": "code",
   "execution_count": 64,
   "id": "a0fcf658-54c1-4213-8ed7-8df1ab1bf4ad",
   "metadata": {},
   "outputs": [
    {
     "data": {
      "text/plain": [
       "('p', 'P', 'z')"
      ]
     },
     "execution_count": 64,
     "metadata": {},
     "output_type": "execute_result"
    }
   ],
   "source": [
    "chr(112),chr(80),chr(122)"
   ]
  },
  {
   "cell_type": "code",
   "execution_count": 71,
   "id": "b12fbe14-aeaa-4386-8c06-ff04d02cd679",
   "metadata": {},
   "outputs": [
    {
     "name": "stdout",
     "output_type": "stream",
     "text": [
      "The ASCII number for p is 112\n",
      "The ASCII number for y is 121\n",
      "The ASCII number for t is 116\n",
      "The ASCII number for h is 104\n",
      "The ASCII number for o is 111\n",
      "The ASCII number for n is 110\n"
     ]
    }
   ],
   "source": [
    "# I want string1 : 'python'\n",
    "# print all ascii number for 'python'\n",
    "for i in 'python':\n",
    "    print(f\"The ASCII number for {i} is {ord(i)}\")\n",
    "    "
   ]
  },
  {
   "cell_type": "code",
   "execution_count": 74,
   "id": "5c0e81d5-ef40-48b8-8e34-0ec8363480b7",
   "metadata": {},
   "outputs": [
    {
     "name": "stdout",
     "output_type": "stream",
     "text": [
      "The summition is 674\n"
     ]
    }
   ],
   "source": [
    "# I want string1 : 'python'\n",
    "# print all ascii number for 'python'\n",
    "summ=0\n",
    "for i in 'python':\n",
    "    summ=summ+ord(i)\n",
    "print(f\"The summition is {summ}\")"
   ]
  },
  {
   "cell_type": "code",
   "execution_count": 77,
   "id": "d26e4f91-2695-47d4-a61c-493e5024bba2",
   "metadata": {},
   "outputs": [
    {
     "data": {
      "text/plain": [
       "['Formatter',\n",
       " 'Template',\n",
       " '_ChainMap',\n",
       " '__all__',\n",
       " '__builtins__',\n",
       " '__cached__',\n",
       " '__doc__',\n",
       " '__file__',\n",
       " '__loader__',\n",
       " '__name__',\n",
       " '__package__',\n",
       " '__spec__',\n",
       " '_re',\n",
       " '_sentinel_dict',\n",
       " '_string',\n",
       " 'ascii_letters',\n",
       " 'ascii_lowercase',\n",
       " 'ascii_uppercase',\n",
       " 'capwords',\n",
       " 'digits',\n",
       " 'hexdigits',\n",
       " 'octdigits',\n",
       " 'printable',\n",
       " 'punctuation',\n",
       " 'whitespace']"
      ]
     },
     "execution_count": 77,
     "metadata": {},
     "output_type": "execute_result"
    }
   ],
   "source": [
    "# I want to know all ascii number A to Z\n",
    "# package called string \n",
    "#  import pacake\n",
    "# apply the dir\n",
    "# there are some methods are there\n",
    "# in that one methods are there\n",
    "# in that one method will capital lettors\n",
    "\n",
    "import string\n",
    "dir(string)"
   ]
  },
  {
   "cell_type": "code",
   "execution_count": 91,
   "id": "6f1bde04-75e7-425a-820a-97dc15c277b4",
   "metadata": {},
   "outputs": [
    {
     "name": "stdout",
     "output_type": "stream",
     "text": [
      "A 65\n",
      "B 66\n",
      "C 67\n",
      "D 68\n",
      "E 69\n",
      "F 70\n",
      "G 71\n",
      "H 72\n",
      "I 73\n",
      "J 74\n",
      "K 75\n",
      "L 76\n",
      "M 77\n",
      "N 78\n",
      "O 79\n",
      "P 80\n",
      "Q 81\n",
      "R 82\n",
      "S 83\n",
      "T 84\n",
      "U 85\n",
      "V 86\n",
      "W 87\n",
      "X 88\n",
      "Y 89\n",
      "Z 90\n"
     ]
    }
   ],
   "source": [
    "letter=string.ascii_uppercase\n",
    "for i in letter:\n",
    "    print(i,ord(i))   "
   ]
  },
  {
   "cell_type": "code",
   "execution_count": 92,
   "id": "33cf59ff-eb4a-4cee-a7a7-e647395c84f7",
   "metadata": {},
   "outputs": [
    {
     "data": {
      "text/plain": [
       "'!\"#$%&\\'()*+,-./:;<=>?@[\\\\]^_`{|}~'"
      ]
     },
     "execution_count": 92,
     "metadata": {},
     "output_type": "execute_result"
    }
   ],
   "source": [
    "string.punctuation"
   ]
  },
  {
   "cell_type": "code",
   "execution_count": 93,
   "id": "3fc2868a-8d14-4fa9-8086-2dcfe27c1696",
   "metadata": {},
   "outputs": [
    {
     "name": "stdout",
     "output_type": "stream",
     "text": [
      "! 33\n",
      "\" 34\n",
      "# 35\n",
      "$ 36\n",
      "% 37\n",
      "& 38\n",
      "' 39\n",
      "( 40\n",
      ") 41\n",
      "* 42\n",
      "+ 43\n",
      ", 44\n",
      "- 45\n",
      ". 46\n",
      "/ 47\n",
      ": 58\n",
      "; 59\n",
      "< 60\n",
      "= 61\n",
      "> 62\n",
      "? 63\n",
      "@ 64\n",
      "[ 91\n",
      "\\ 92\n",
      "] 93\n",
      "^ 94\n",
      "_ 95\n",
      "` 96\n",
      "{ 123\n",
      "| 124\n",
      "} 125\n",
      "~ 126\n"
     ]
    }
   ],
   "source": [
    "spl_chr=string.punctuation\n",
    "for i in spl_chr:\n",
    "    print(i,ord(i))"
   ]
  },
  {
   "cell_type": "code",
   "execution_count": 95,
   "id": "d45d9ea9-118c-4e56-86f6-c00127e53c82",
   "metadata": {},
   "outputs": [
    {
     "name": "stdout",
     "output_type": "stream",
     "text": [
      "a 97\n",
      "b 98\n",
      "c 99\n",
      "d 100\n",
      "e 101\n",
      "f 102\n",
      "g 103\n",
      "h 104\n",
      "i 105\n",
      "j 106\n",
      "k 107\n",
      "l 108\n",
      "m 109\n",
      "n 110\n",
      "o 111\n",
      "p 112\n",
      "q 113\n",
      "r 114\n",
      "s 115\n",
      "t 116\n",
      "u 117\n",
      "v 118\n",
      "w 119\n",
      "x 120\n",
      "y 121\n",
      "z 122\n"
     ]
    }
   ],
   "source": [
    "lowercase=string.ascii_lowercase\n",
    "for i in lowercase:\n",
    "    print(i,ord(i))"
   ]
  },
  {
   "cell_type": "code",
   "execution_count": 98,
   "id": "72d79803-186f-4db4-993a-0cf7174383d8",
   "metadata": {},
   "outputs": [
    {
     "name": "stdout",
     "output_type": "stream",
     "text": [
      "20 \u0014==>21 \u0015==>22 \u0016==>23 \u0017==>24 \u0018==>25 \u0019==>26 \u001a==>27 \u001b==>28 \u001c",
      "==>29 \u001d",
      "==>30 \u001e",
      "==>31 \u001f==>32  ==>33 !==>34 \"==>35 #==>36 $==>37 %==>38 &==>39 '==>40 (==>41 )==>42 *==>43 +==>44 ,==>45 -==>46 .==>47 /==>48 0==>49 1==>50 2==>51 3==>52 4==>53 5==>54 6==>55 7==>56 8==>57 9==>58 :==>59 ;==>60 <==>61 ===>62 >==>63 ?==>64 @==>65 A==>66 B==>67 C==>68 D==>69 E==>70 F==>71 G==>72 H==>73 I==>74 J==>75 K==>76 L==>77 M==>78 N==>79 O==>80 P==>81 Q==>82 R==>83 S==>84 T==>85 U==>86 V==>87 W==>88 X==>89 Y==>90 Z==>91 [==>92 \\==>93 ]==>94 ^==>95 _==>96 `==>97 a==>98 b==>99 c==>100 d==>101 e==>102 f==>103 g==>104 h==>105 i==>106 j==>107 k==>108 l==>109 m==>110 n==>111 o==>112 p==>113 q==>114 r==>115 s==>116 t==>117 u==>118 v==>119 w==>120 x==>121 y==>122 z==>123 {==>124 |==>125 }==>126 ~==>127 ==>128 ==>129 ==>130 ==>131 ==>132 ==>133 ",
      "==>134 ==>135 ==>136 ==>137 ==>138 ==>139 ==>140 ==>141 ==>142 ==>143 ==>144 ==>145 ==>146 ==>147 ==>148 ==>149 ==>150 ==>151 ==>152 ==>153 ==>154 ==>155 ==>156 ==>157 ==>158 ==>159 ==>160  ==>161 ¡==>162 ¢==>163 £==>164 ¤==>165 ¥==>166 ¦==>167 §==>168 ¨==>169 ©==>170 ª==>171 «==>172 ¬==>173 ­==>174 ®==>175 ¯==>176 °==>177 ±==>178 ²==>179 ³==>180 ´==>181 µ==>182 ¶==>183 ·==>184 ¸==>185 ¹==>186 º==>187 »==>188 ¼==>189 ½==>190 ¾==>191 ¿==>192 À==>193 Á==>194 Â==>195 Ã==>196 Ä==>197 Å==>198 Æ==>199 Ç==>"
     ]
    }
   ],
   "source": [
    "for i in range(20,200):\n",
    "    print(i,chr(i),end='==>')"
   ]
  },
  {
   "cell_type": "code",
   "execution_count": 99,
   "id": "36ce9900-5363-410a-a5af-29d845c81b50",
   "metadata": {},
   "outputs": [
    {
     "name": "stdout",
     "output_type": "stream",
     "text": [
      "900 ΄==>901 ΅==>902 Ά==>903 ·==>904 Έ==>905 Ή==>906 Ί==>907 ΋==>908 Ό==>909 ΍==>910 Ύ==>911 Ώ==>912 ΐ==>913 Α==>914 Β==>915 Γ==>916 Δ==>917 Ε==>918 Ζ==>919 Η==>920 Θ==>921 Ι==>922 Κ==>923 Λ==>924 Μ==>925 Ν==>926 Ξ==>927 Ο==>928 Π==>929 Ρ==>930 ΢==>931 Σ==>932 Τ==>933 Υ==>934 Φ==>935 Χ==>936 Ψ==>937 Ω==>938 Ϊ==>939 Ϋ==>940 ά==>941 έ==>942 ή==>943 ί==>944 ΰ==>945 α==>946 β==>947 γ==>948 δ==>949 ε==>950 ζ==>951 η==>952 θ==>953 ι==>954 κ==>955 λ==>956 μ==>957 ν==>958 ξ==>959 ο==>960 π==>961 ρ==>962 ς==>963 σ==>964 τ==>965 υ==>966 φ==>967 χ==>968 ψ==>969 ω==>970 ϊ==>971 ϋ==>972 ό==>973 ύ==>974 ώ==>975 Ϗ==>976 ϐ==>977 ϑ==>978 ϒ==>979 ϓ==>980 ϔ==>981 ϕ==>982 ϖ==>983 ϗ==>984 Ϙ==>985 ϙ==>986 Ϛ==>987 ϛ==>988 Ϝ==>989 ϝ==>990 Ϟ==>991 ϟ==>992 Ϡ==>993 ϡ==>994 Ϣ==>995 ϣ==>996 Ϥ==>997 ϥ==>998 Ϧ==>999 ϧ==>"
     ]
    }
   ],
   "source": [
    "for i in range(900,1000):\n",
    "    print(i,chr(i),end='==>')"
   ]
  },
  {
   "cell_type": "code",
   "execution_count": 100,
   "id": "75373738-a21b-4735-b8b0-d6e2f5b64b36",
   "metadata": {},
   "outputs": [
    {
     "name": "stdout",
     "output_type": "stream",
     "text": [
      "1500 ל==>1501 ם==>1502 מ==>1503 ן==>1504 נ==>1505 ס==>1506 ע==>1507 ף==>1508 פ==>1509 ץ==>1510 צ==>1511 ק==>1512 ר==>1513 ש==>1514 ת==>1515 ׫==>1516 ׬==>1517 ׭==>1518 ׮==>1519 ׯ==>1520 װ==>1521 ױ==>1522 ײ==>1523 ׳==>1524 ״==>1525 ׵==>1526 ׶==>1527 ׷==>1528 ׸==>1529 ׹==>1530 ׺==>1531 ׻==>1532 ׼==>1533 ׽==>1534 ׾==>1535 ׿==>1536 ؀==>1537 ؁==>1538 ؂==>1539 ؃==>1540 ؄==>1541 ؅==>1542 ؆==>1543 ؇==>1544 ؈==>1545 ؉==>1546 ؊==>1547 ؋==>1548 ،==>1549 ؍==>1550 ؎==>1551 ؏==>1552 ؐ==>1553 ؑ==>1554 ؒ==>1555 ؓ==>1556 ؔ==>1557 ؕ==>1558 ؖ==>1559 ؗ==>1560 ؘ==>1561 ؙ==>1562 ؚ==>1563 ؛==>1564 ؜==>1565 ؝==>1566 ؞==>1567 ؟==>1568 ؠ==>1569 ء==>1570 آ==>1571 أ==>1572 ؤ==>1573 إ==>1574 ئ==>1575 ا==>1576 ب==>1577 ة==>1578 ت==>1579 ث==>1580 ج==>1581 ح==>1582 خ==>1583 د==>1584 ذ==>1585 ر==>1586 ز==>1587 س==>1588 ش==>1589 ص==>1590 ض==>1591 ط==>1592 ظ==>1593 ع==>1594 غ==>1595 ػ==>1596 ؼ==>1597 ؽ==>1598 ؾ==>1599 ؿ==>1600 ـ==>1601 ف==>1602 ق==>1603 ك==>1604 ل==>1605 م==>1606 ن==>1607 ه==>1608 و==>1609 ى==>1610 ي==>1611 ً==>1612 ٌ==>1613 ٍ==>1614 َ==>1615 ُ==>1616 ِ==>1617 ّ==>1618 ْ==>1619 ٓ==>1620 ٔ==>1621 ٕ==>1622 ٖ==>1623 ٗ==>1624 ٘==>1625 ٙ==>1626 ٚ==>1627 ٛ==>1628 ٜ==>1629 ٝ==>1630 ٞ==>1631 ٟ==>1632 ٠==>1633 ١==>1634 ٢==>1635 ٣==>1636 ٤==>1637 ٥==>1638 ٦==>1639 ٧==>1640 ٨==>1641 ٩==>1642 ٪==>1643 ٫==>1644 ٬==>1645 ٭==>1646 ٮ==>1647 ٯ==>1648 ٰ==>1649 ٱ==>1650 ٲ==>1651 ٳ==>1652 ٴ==>1653 ٵ==>1654 ٶ==>1655 ٷ==>1656 ٸ==>1657 ٹ==>1658 ٺ==>1659 ٻ==>1660 ټ==>1661 ٽ==>1662 پ==>1663 ٿ==>1664 ڀ==>1665 ځ==>1666 ڂ==>1667 ڃ==>1668 ڄ==>1669 څ==>1670 چ==>1671 ڇ==>1672 ڈ==>1673 ډ==>1674 ڊ==>1675 ڋ==>1676 ڌ==>1677 ڍ==>1678 ڎ==>1679 ڏ==>1680 ڐ==>1681 ڑ==>1682 ڒ==>1683 ړ==>1684 ڔ==>1685 ڕ==>1686 ږ==>1687 ڗ==>1688 ژ==>1689 ڙ==>1690 ښ==>1691 ڛ==>1692 ڜ==>1693 ڝ==>1694 ڞ==>1695 ڟ==>1696 ڠ==>1697 ڡ==>1698 ڢ==>1699 ڣ==>1700 ڤ==>1701 ڥ==>1702 ڦ==>1703 ڧ==>1704 ڨ==>1705 ک==>1706 ڪ==>1707 ګ==>1708 ڬ==>1709 ڭ==>1710 ڮ==>1711 گ==>1712 ڰ==>1713 ڱ==>1714 ڲ==>1715 ڳ==>1716 ڴ==>1717 ڵ==>1718 ڶ==>1719 ڷ==>1720 ڸ==>1721 ڹ==>1722 ں==>1723 ڻ==>1724 ڼ==>1725 ڽ==>1726 ھ==>1727 ڿ==>1728 ۀ==>1729 ہ==>1730 ۂ==>1731 ۃ==>1732 ۄ==>1733 ۅ==>1734 ۆ==>1735 ۇ==>1736 ۈ==>1737 ۉ==>1738 ۊ==>1739 ۋ==>1740 ی==>1741 ۍ==>1742 ێ==>1743 ۏ==>1744 ې==>1745 ۑ==>1746 ے==>1747 ۓ==>1748 ۔==>1749 ە==>1750 ۖ==>1751 ۗ==>1752 ۘ==>1753 ۙ==>1754 ۚ==>1755 ۛ==>1756 ۜ==>1757 ۝==>1758 ۞==>1759 ۟==>1760 ۠==>1761 ۡ==>1762 ۢ==>1763 ۣ==>1764 ۤ==>1765 ۥ==>1766 ۦ==>1767 ۧ==>1768 ۨ==>1769 ۩==>1770 ۪==>1771 ۫==>1772 ۬==>1773 ۭ==>1774 ۮ==>1775 ۯ==>1776 ۰==>1777 ۱==>1778 ۲==>1779 ۳==>1780 ۴==>1781 ۵==>1782 ۶==>1783 ۷==>1784 ۸==>1785 ۹==>1786 ۺ==>1787 ۻ==>1788 ۼ==>1789 ۽==>1790 ۾==>1791 ۿ==>1792 ܀==>1793 ܁==>1794 ܂==>1795 ܃==>1796 ܄==>1797 ܅==>1798 ܆==>1799 ܇==>"
     ]
    }
   ],
   "source": [
    "for i in range(1500,1800):\n",
    "    print(i,chr(i),end='==>')"
   ]
  },
  {
   "cell_type": "code",
   "execution_count": null,
   "id": "801ca1ed-194a-40a3-a4d0-efc7195056eb",
   "metadata": {},
   "outputs": [],
   "source": []
  }
 ],
 "metadata": {
  "kernelspec": {
   "display_name": "Python 3 (ipykernel)",
   "language": "python",
   "name": "python3"
  },
  "language_info": {
   "codemirror_mode": {
    "name": "ipython",
    "version": 3
   },
   "file_extension": ".py",
   "mimetype": "text/x-python",
   "name": "python",
   "nbconvert_exporter": "python",
   "pygments_lexer": "ipython3",
   "version": "3.11.7"
  }
 },
 "nbformat": 4,
 "nbformat_minor": 5
}
