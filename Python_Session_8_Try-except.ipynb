{
 "cells": [
  {
   "cell_type": "markdown",
   "id": "7110f814-63ba-4fee-aa3d-ca3168b7ef47",
   "metadata": {},
   "source": [
    "**Try-except**\n",
    "- Generally in real time we will write n number of python lines\n",
    "- There is a situation we might get an error,  that error moght be un known\n",
    "- this unkown error doesnot cause any harm\n",
    "- even though we are getiing error we need to proceed further\n",
    "- also we need to catch that error\n",
    "- Because we already know python is a aequential process\n",
    "- means tha lines will execute step by step\n",
    "- suppose you have an error at particular line, the code execution will stop at that line only\n",
    "- but you know that error is not harmful\n",
    "- so you want to continue the execution\n",
    "- then we required try-exception"
   ]
  },
  {
   "cell_type": "markdown",
   "id": "fd125a16-2798-4942-895e-c21f57e5243c",
   "metadata": {},
   "source": [
    "- try-except has two blocks\n",
    "- try block as actual code\n",
    "- except block will catch the error"
   ]
  },
  {
   "cell_type": "code",
   "execution_count": 2,
   "id": "2c1a173e-3d97-4c4d-941e-4776a556f35d",
   "metadata": {},
   "outputs": [
    {
     "name": "stdin",
     "output_type": "stream",
     "text": [
      "Enter the number 1:  10\n",
      "Enter the number 2:  10\n"
     ]
    },
    {
     "name": "stdout",
     "output_type": "stream",
     "text": [
      "20\n"
     ]
    }
   ],
   "source": [
    "try:\n",
    "    n1 = eval(input(\"Enter the number 1: \"))\n",
    "    n2 = eval(input(\"Enter the number 2: \"))\n",
    "    add=n1+n2\n",
    "    print(add)\n",
    "\n",
    "except:\n",
    "    print(\"Hello\")\n",
    "    print(\"you are getting error\")\n",
    "    print(\"Check the code properly\")\n",
    "\n"
   ]
  },
  {
   "cell_type": "markdown",
   "id": "77addd70-bda2-4f44-9370-099aefcb07d6",
   "metadata": {},
   "source": [
    "**Note**\n",
    "- generally try except block is used to catch the errors"
   ]
  },
  {
   "cell_type": "code",
   "execution_count": 4,
   "id": "bdb57aa0-4069-448d-8fc6-39ff2bdf0293",
   "metadata": {},
   "outputs": [
    {
     "name": "stdin",
     "output_type": "stream",
     "text": [
      "Enter the number 1:  20\n",
      "Enter the number 2:  *\n"
     ]
    },
    {
     "name": "stdout",
     "output_type": "stream",
     "text": [
      "invalid syntax (<string>, line 1)\n"
     ]
    }
   ],
   "source": [
    "try:\n",
    "    n1 = eval(input(\"Enter the number 1: \"))\n",
    "    n2 = eval(input(\"Enter the number 2: \"))\n",
    "    add=n1+n2\n",
    "    print(add)\n",
    "\n",
    "except Exception as e:\n",
    "    print(e)"
   ]
  },
  {
   "cell_type": "code",
   "execution_count": 5,
   "id": "febab283-6899-4e7a-bf06-1bfc3abb1a2c",
   "metadata": {},
   "outputs": [],
   "source": [
    "# now onwords every code \n",
    "# need to try try except"
   ]
  },
  {
   "cell_type": "code",
   "execution_count": 8,
   "id": "89c6b133-e20d-437a-bbb8-5196e3cb0bfe",
   "metadata": {},
   "outputs": [
    {
     "name": "stdin",
     "output_type": "stream",
     "text": [
      "enter the number l\n"
     ]
    },
    {
     "name": "stdout",
     "output_type": "stream",
     "text": [
      "name 'l' is not defined\n"
     ]
    }
   ],
   "source": [
    "try:\n",
    "    num = eval(input(\"enter the number\"))\n",
    "    if num%2==0:\n",
    "        print(\"even\")\n",
    "    else:\n",
    "        print(\"odd\")\n",
    "\n",
    "except Exception as e:\n",
    "    print(e)"
   ]
  },
  {
   "cell_type": "code",
   "execution_count": null,
   "id": "0fac0cd0-dfda-4e46-8c27-8a0538ff7fe1",
   "metadata": {},
   "outputs": [],
   "source": []
  }
 ],
 "metadata": {
  "kernelspec": {
   "display_name": "Python 3 (ipykernel)",
   "language": "python",
   "name": "python3"
  },
  "language_info": {
   "codemirror_mode": {
    "name": "ipython",
    "version": 3
   },
   "file_extension": ".py",
   "mimetype": "text/x-python",
   "name": "python",
   "nbconvert_exporter": "python",
   "pygments_lexer": "ipython3",
   "version": "3.11.7"
  }
 },
 "nbformat": 4,
 "nbformat_minor": 5
}
