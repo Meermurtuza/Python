{
 "cells": [
  {
   "cell_type": "markdown",
   "id": "0c6681d9-8296-4d39-85e4-f0344c79537f",
   "metadata": {},
   "source": [
    "**Data Types**\n",
    "- IN python type decleare not required\n",
    "- Python will automatically takes the type based on provided value\n",
    "- we have many Data Types\n",
    "    - Integer\n",
    "    - Float\n",
    "    - boolean\n",
    "    - String\n",
    "    - list\n",
    "    - dict\n",
    "    - tuple\n",
    "    - complex "
   ]
  },
  {
   "cell_type": "markdown",
   "id": "045266a5-8c39-4ff9-a037-ad028bfe955a",
   "metadata": {},
   "source": [
    "**Integer**\n"
   ]
  },
  {
   "cell_type": "code",
   "execution_count": 2,
   "id": "5a841071-b79e-4505-8815-bd7c15f31f5a",
   "metadata": {},
   "outputs": [
    {
     "data": {
      "text/plain": [
       "100"
      ]
     },
     "execution_count": 2,
     "metadata": {},
     "output_type": "execute_result"
    }
   ],
   "source": [
    "n=100\n",
    "n"
   ]
  },
  {
   "cell_type": "markdown",
   "id": "63dadc6d-4524-4c2c-a70b-34d648ef3d92",
   "metadata": {},
   "source": [
    "- Binary representative\n",
    "- Octa representative\n",
    "- hexa representative"
   ]
  },
  {
   "cell_type": "markdown",
   "id": "55768c53-98da-43ff-baeb-0817d07d5d45",
   "metadata": {},
   "source": [
    "**Binary**\n"
   ]
  },
  {
   "cell_type": "markdown",
   "id": "3093291d-6677-4c72-b4f3-6889f4a77ca7",
   "metadata": {},
   "source": [
    "- bi means 2\n",
    "- it requires 2 digits\n",
    "- Generally we have 0,1,2,3,4,5,6,7,8,9\n",
    "- It will represent with 0 and 1\n",
    "- Represantation is 0b10"
   ]
  },
  {
   "cell_type": "code",
   "execution_count": 4,
   "id": "09ae838c-4fca-4cdd-92b9-36d5755645b8",
   "metadata": {},
   "outputs": [
    {
     "data": {
      "text/plain": [
       "7"
      ]
     },
     "execution_count": 4,
     "metadata": {},
     "output_type": "execute_result"
    }
   ],
   "source": [
    "0b111"
   ]
  },
  {
   "cell_type": "code",
   "execution_count": 5,
   "id": "46f8178c-8ac8-4d25-b6bc-6166d5563cbd",
   "metadata": {},
   "outputs": [
    {
     "data": {
      "text/plain": [
       "5"
      ]
     },
     "execution_count": 5,
     "metadata": {},
     "output_type": "execute_result"
    }
   ],
   "source": [
    "0b101"
   ]
  },
  {
   "cell_type": "code",
   "execution_count": 6,
   "id": "abf1f909-ebfb-4d4c-aec3-b71569b00f56",
   "metadata": {},
   "outputs": [
    {
     "data": {
      "text/plain": [
       "9"
      ]
     },
     "execution_count": 6,
     "metadata": {},
     "output_type": "execute_result"
    }
   ],
   "source": [
    "0b1001"
   ]
  },
  {
   "cell_type": "code",
   "execution_count": 1,
   "id": "1248afdc-824a-4f67-8852-e7b694d0500f",
   "metadata": {},
   "outputs": [],
   "source": [
    "import os"
   ]
  },
  {
   "cell_type": "code",
   "execution_count": 4,
   "id": "a8a4e317-4877-4481-a2ee-fa3126f0f8df",
   "metadata": {},
   "outputs": [
    {
     "data": {
      "text/plain": [
       "'C:\\\\Users\\\\asus\\\\Documents\\\\nareshIT\\\\Python'"
      ]
     },
     "execution_count": 4,
     "metadata": {},
     "output_type": "execute_result"
    }
   ],
   "source": [
    "os.getcwd() #get current working directory \n",
    "#it will give ghe path\n",
    "#Where the python file located\n"
   ]
  },
  {
   "cell_type": "code",
   "execution_count": 5,
   "id": "98358fed-eb7a-4870-a7e9-0349868dc7dc",
   "metadata": {},
   "outputs": [
    {
     "data": {
      "text/plain": [
       "15"
      ]
     },
     "execution_count": 5,
     "metadata": {},
     "output_type": "execute_result"
    }
   ],
   "source": [
    "#binary\n",
    "0b1111"
   ]
  },
  {
   "cell_type": "code",
   "execution_count": null,
   "id": "bc55ca25-9bdd-40a7-b9b0-708257b18059",
   "metadata": {},
   "outputs": [],
   "source": [
    "8  4  2  1  num\n",
    "0  0  0  0  0\n",
    "0  0  0  1  1\n",
    "0  0  1  0  2\n",
    "0  0  1  1  3\n",
    "0  1  0  0  4\n",
    "0  1  0  1  5\n",
    "0  1  1  0  6\n",
    "0  1  1  1  7\n",
    "1  0  0  0  8\n",
    "1  0  0  1  9 \n",
    "1  0  1  0  10\n",
    "1  0  1  1  11\n",
    "1  1  0  0  12\n",
    "1  1  0  1  13\n",
    "1  1  1  0  14\n",
    "1  1  1  1  15"
   ]
  },
  {
   "cell_type": "code",
   "execution_count": 7,
   "id": "f6a6906a-2322-4b5d-a5d3-f5f3b346b4de",
   "metadata": {},
   "outputs": [
    {
     "data": {
      "text/plain": [
       "29"
      ]
     },
     "execution_count": 7,
     "metadata": {},
     "output_type": "execute_result"
    }
   ],
   "source": [
    "0b11101"
   ]
  },
  {
   "cell_type": "code",
   "execution_count": 8,
   "id": "46c6be86-6fec-4e4d-a157-4fdc42d3e68e",
   "metadata": {},
   "outputs": [
    {
     "data": {
      "text/plain": [
       "59"
      ]
     },
     "execution_count": 8,
     "metadata": {},
     "output_type": "execute_result"
    }
   ],
   "source": [
    "0b111011"
   ]
  },
  {
   "cell_type": "markdown",
   "id": "750d2229-cb20-4243-a66e-bd24c27e0641",
   "metadata": {},
   "source": [
    "**octal**\n",
    "- octal means 8\n",
    "- it requires 8 digits\n",
    "- Generally we have 0,1,2,3,4,5,6,7,8,9\n",
    "- IT will represent only 0,1,2,3,4,5,6,7\n",
    "- Represantation is 0o123, 0O012345,0O7654321\n",
    "- Wrong representation 0o108,0o987"
   ]
  },
  {
   "cell_type": "code",
   "execution_count": 9,
   "id": "fa76f423-7fed-417a-9f4e-562c32c3cd0d",
   "metadata": {},
   "outputs": [
    {
     "data": {
      "text/plain": [
       "83"
      ]
     },
     "execution_count": 9,
     "metadata": {},
     "output_type": "execute_result"
    }
   ],
   "source": [
    "0o123"
   ]
  },
  {
   "cell_type": "code",
   "execution_count": 10,
   "id": "3095eb0b-041f-4548-8175-10659a1e49df",
   "metadata": {},
   "outputs": [
    {
     "data": {
      "text/plain": [
       "668"
      ]
     },
     "execution_count": 10,
     "metadata": {},
     "output_type": "execute_result"
    }
   ],
   "source": [
    "0o1234"
   ]
  },
  {
   "cell_type": "markdown",
   "id": "fd5922c2-00e5-40cd-986c-736d8a492db1",
   "metadata": {},
   "source": [
    "**Hexa**\n",
    "- hexa means 16\n",
    "- it requires 16 digits\n",
    "- Generally we have 0,1,2,3,4,5,6,7,8,9,A(10),B(11),C(12),D(13),E(14),F(15)\n",
    "- IT will represent only 0-9 A-F\n",
    "- Represantation is 0xF9, 0x01123abc,0xabc\n",
    "- Wrong representation 0xGH,0xabcdefg"
   ]
  },
  {
   "cell_type": "code",
   "execution_count": 11,
   "id": "7aac66fa-2d68-4f7a-bc7b-ab9965013a3c",
   "metadata": {},
   "outputs": [
    {
     "data": {
      "text/plain": [
       "2748"
      ]
     },
     "execution_count": 11,
     "metadata": {},
     "output_type": "execute_result"
    }
   ],
   "source": [
    "0xabc"
   ]
  },
  {
   "cell_type": "code",
   "execution_count": 12,
   "id": "039f8b6e-ec4a-4969-822e-070a9f956240",
   "metadata": {},
   "outputs": [
    {
     "data": {
      "text/plain": [
       "4671"
      ]
     },
     "execution_count": 12,
     "metadata": {},
     "output_type": "execute_result"
    }
   ],
   "source": [
    " 0x123f"
   ]
  },
  {
   "cell_type": "markdown",
   "id": "99de88fb-3c36-43ba-8690-c2ac9f8a135e",
   "metadata": {},
   "source": [
    "**Float**"
   ]
  },
  {
   "cell_type": "code",
   "execution_count": 13,
   "id": "525fe3b1-df2b-4e67-9070-04541e34aba6",
   "metadata": {},
   "outputs": [
    {
     "data": {
      "text/plain": [
       "float"
      ]
     },
     "execution_count": 13,
     "metadata": {},
     "output_type": "execute_result"
    }
   ],
   "source": [
    "n1=100.5\n",
    "type(n1)"
   ]
  },
  {
   "cell_type": "code",
   "execution_count": 14,
   "id": "9cdd1b50-9b5d-43fb-abcf-9ee9adc5e67a",
   "metadata": {},
   "outputs": [
    {
     "data": {
      "text/plain": [
       "int"
      ]
     },
     "execution_count": 14,
     "metadata": {},
     "output_type": "execute_result"
    }
   ],
   "source": [
    "n2=1005\n",
    "type(n2)"
   ]
  },
  {
   "cell_type": "code",
   "execution_count": 19,
   "id": "4dda2c32-85d7-4b54-9e86-437e99879726",
   "metadata": {},
   "outputs": [
    {
     "data": {
      "text/plain": [
       "(10.0, 100.0, 1000.0, 10000.0)"
      ]
     },
     "execution_count": 19,
     "metadata": {},
     "output_type": "execute_result"
    }
   ],
   "source": [
    "1e1,1e2,1e3,1e4\n",
    "#kep =k*10^p"
   ]
  },
  {
   "cell_type": "code",
   "execution_count": 18,
   "id": "44b96bfe-0dd1-4e61-8a41-f59eda39dd4e",
   "metadata": {},
   "outputs": [
    {
     "data": {
      "text/plain": [
       "24000.0"
      ]
     },
     "execution_count": 18,
     "metadata": {},
     "output_type": "execute_result"
    }
   ],
   "source": [
    "24e3\n",
    "#24*1o*3"
   ]
  },
  {
   "cell_type": "code",
   "execution_count": 20,
   "id": "3e00c486-5a82-4bb1-9638-e30fc3705e59",
   "metadata": {},
   "outputs": [
    {
     "data": {
      "text/plain": [
       "(10.0, 100.0, 1000.0, 10000.0)"
      ]
     },
     "execution_count": 20,
     "metadata": {},
     "output_type": "execute_result"
    }
   ],
   "source": [
    "1e+1,1e+2,1e+3,1e+4"
   ]
  },
  {
   "cell_type": "code",
   "execution_count": 21,
   "id": "84b2c80d-7635-4e3a-a8bd-20e4ec4128ab",
   "metadata": {},
   "outputs": [
    {
     "data": {
      "text/plain": [
       "(0.1, 0.01, 0.001)"
      ]
     },
     "execution_count": 21,
     "metadata": {},
     "output_type": "execute_result"
    }
   ],
   "source": [
    "1e-1,1e-2,1e-3"
   ]
  },
  {
   "cell_type": "code",
   "execution_count": 22,
   "id": "3032715a-6b51-4374-ad93-9dfa7f473f0c",
   "metadata": {},
   "outputs": [
    {
     "data": {
      "text/plain": [
       "0.024"
      ]
     },
     "execution_count": 22,
     "metadata": {},
     "output_type": "execute_result"
    }
   ],
   "source": [
    "24e-3"
   ]
  },
  {
   "cell_type": "markdown",
   "id": "df52dd58-793b-4e98-9808-222c97495c48",
   "metadata": {},
   "source": [
    "- Positive(+) means multiply\n",
    "- Negative(-) means divide"
   ]
  },
  {
   "cell_type": "markdown",
   "id": "37633b15-c2f0-44ed-b346-8eaa6ceced77",
   "metadata": {},
   "source": [
    "**Strings**"
   ]
  },
  {
   "cell_type": "markdown",
   "id": "4896aed0-b06a-4c3b-b52c-5729c072c1eb",
   "metadata": {},
   "source": [
    "- Strings are use to represent the english charcters generally\n",
    "- String will represent in\n",
    "    - single quotes ('')\n",
    "    - double quotes(\"\")\n",
    "    - triple quotes(''')\n",
    "   "
   ]
  },
  {
   "cell_type": "code",
   "execution_count": 25,
   "id": "e0491bfe-910d-4eec-b774-7024a3ae74bd",
   "metadata": {},
   "outputs": [
    {
     "data": {
      "text/plain": [
       "str"
      ]
     },
     "execution_count": 25,
     "metadata": {},
     "output_type": "execute_result"
    }
   ],
   "source": [
    "name ='python'\n",
    "type (name)"
   ]
  },
  {
   "cell_type": "code",
   "execution_count": 26,
   "id": "04a9eb68-8c1a-4d50-b242-dd971db90478",
   "metadata": {},
   "outputs": [
    {
     "data": {
      "text/plain": [
       "str"
      ]
     },
     "execution_count": 26,
     "metadata": {},
     "output_type": "execute_result"
    }
   ],
   "source": [
    "name1= \"Meer\"\n",
    "type(name1)"
   ]
  },
  {
   "cell_type": "code",
   "execution_count": 27,
   "id": "b7ed604f-7bff-4a91-a2c5-c4d076f127ca",
   "metadata": {},
   "outputs": [
    {
     "data": {
      "text/plain": [
       "str"
      ]
     },
     "execution_count": 27,
     "metadata": {},
     "output_type": "execute_result"
    }
   ],
   "source": [
    "name2='10'\n",
    "type(name2)"
   ]
  },
  {
   "cell_type": "code",
   "execution_count": 28,
   "id": "961b8aab-cb1e-4d1f-8fd7-beed2e3837e6",
   "metadata": {},
   "outputs": [
    {
     "data": {
      "text/plain": [
       "str"
      ]
     },
     "execution_count": 28,
     "metadata": {},
     "output_type": "execute_result"
    }
   ],
   "source": [
    "eamil_Id=\"meer110@gamil.com\"\n",
    "type(eamil_Id)"
   ]
  },
  {
   "cell_type": "markdown",
   "id": "c15698ad-ca2f-4aa2-9d7b-e307c94ce2e9",
   "metadata": {},
   "source": [
    "**RED colour means strings**\n",
    "\n",
    "**GREEN colour means keywords**\n",
    "\n",
    "**BLACK colour means variables**"
   ]
  },
  {
   "cell_type": "code",
   "execution_count": 30,
   "id": "a9f671e2-08fb-47a3-8eeb-0af0c4fd57f8",
   "metadata": {},
   "outputs": [
    {
     "data": {
      "text/plain": [
       "'python'"
      ]
     },
     "execution_count": 30,
     "metadata": {},
     "output_type": "execute_result"
    }
   ],
   "source": [
    "name = 'python'\n",
    "name1=\"python\"\n",
    "name \n"
   ]
  },
  {
   "cell_type": "code",
   "execution_count": 31,
   "id": "3f25c448-67da-437a-a07d-92a521841b32",
   "metadata": {},
   "outputs": [
    {
     "data": {
      "text/plain": [
       "'python'"
      ]
     },
     "execution_count": 31,
     "metadata": {},
     "output_type": "execute_result"
    }
   ],
   "source": [
    "name1"
   ]
  },
  {
   "cell_type": "markdown",
   "id": "a2c29f29-3b19-43f3-8dc1-532105cd3a03",
   "metadata": {},
   "source": [
    "- OutPut always in single quotes"
   ]
  },
  {
   "cell_type": "code",
   "execution_count": 32,
   "id": "fb36202f-08c2-4d34-b2a5-353af0a9afe1",
   "metadata": {},
   "outputs": [
    {
     "name": "stdout",
     "output_type": "stream",
     "text": [
      "python\n"
     ]
    }
   ],
   "source": [
    "print(name)"
   ]
  },
  {
   "cell_type": "markdown",
   "id": "fa6ab417-0bce-4597-ae40-5c91e1dfc4a9",
   "metadata": {},
   "source": [
    "- Whenever you print quotes will not visible "
   ]
  },
  {
   "cell_type": "code",
   "execution_count": 35,
   "id": "2bba4401-4c76-4cfb-80e3-c220f3b2e11b",
   "metadata": {},
   "outputs": [
    {
     "name": "stdout",
     "output_type": "stream",
     "text": [
      "i like 'python'\n"
     ]
    }
   ],
   "source": [
    "name = \"i like 'python'\"\n",
    "print(name)"
   ]
  },
  {
   "cell_type": "code",
   "execution_count": 36,
   "id": "f4a5d0ee-3b84-4cf5-b87f-226253439c48",
   "metadata": {},
   "outputs": [
    {
     "name": "stdout",
     "output_type": "stream",
     "text": [
      "i like \"python\"\n"
     ]
    }
   ],
   "source": [
    "name1 = 'i like \"python\"'\n",
    "print(name1)"
   ]
  },
  {
   "cell_type": "markdown",
   "id": "7ce7747c-62fa-4f7e-a5c1-e2d2ff760998",
   "metadata": {},
   "source": [
    "- Entire string in double quotes the highlited word in single quotes vice versa"
   ]
  },
  {
   "cell_type": "markdown",
   "id": "8954c6a4-3bdb-42e0-83a3-8f3320fbd17d",
   "metadata": {},
   "source": [
    "**Triple quotes**\n",
    "- Triple quotes is not used for coding\n",
    "- Triple quotes is used to provide the information to the user\n",
    "- In order to provide the information in jupyter notebook we will MArkdown\n",
    "- In vscode or pycharm there is no markdown option\n",
    "- Thatswhy the world start used to write the information in triple quotes\n",
    "- This entire is called **Doc String**"
   ]
  },
  {
   "cell_type": "code",
   "execution_count": 37,
   "id": "ffa0e766-ab46-447a-ba3c-53227e9669a9",
   "metadata": {},
   "outputs": [
    {
     "data": {
      "text/plain": [
       "'\\nhello\\nis writing python code\\nthis python\\n'"
      ]
     },
     "execution_count": 37,
     "metadata": {},
     "output_type": "execute_result"
    }
   ],
   "source": [
    "'''\n",
    "hello\n",
    "is writing python code\n",
    "this python\n",
    "'''"
   ]
  },
  {
   "cell_type": "markdown",
   "id": "e299e77f-93d5-4e6f-86ee-2a7d14026deb",
   "metadata": {},
   "source": [
    "**boolean**"
   ]
  },
  {
   "cell_type": "code",
   "execution_count": 38,
   "id": "b9ed6b12-f519-4272-9b5f-b08cc2d9e09c",
   "metadata": {},
   "outputs": [
    {
     "data": {
      "text/plain": [
       "bool"
      ]
     },
     "execution_count": 38,
     "metadata": {},
     "output_type": "execute_result"
    }
   ],
   "source": [
    "Value =True\n",
    "type(Value)"
   ]
  },
  {
   "cell_type": "code",
   "execution_count": 39,
   "id": "fc1e0a42-36c6-44fd-b5ee-99bedbe5a103",
   "metadata": {},
   "outputs": [
    {
     "data": {
      "text/plain": [
       "bool"
      ]
     },
     "execution_count": 39,
     "metadata": {},
     "output_type": "execute_result"
    }
   ],
   "source": [
    "value1=False\n",
    "type(value1)"
   ]
  },
  {
   "cell_type": "code",
   "execution_count": null,
   "id": "49beb1d8-7396-42dc-9871-f3fae61b11fb",
   "metadata": {},
   "outputs": [],
   "source": [
    "true =\"True\"\n",
    "false=False\n",
    "#small true and small false is variable \n",
    "#tyoe of true is string\n",
    "#type of false is boolean"
   ]
  },
  {
   "cell_type": "markdown",
   "id": "0ce49b86-2f9a-402a-bd9e-2ed8599957c0",
   "metadata": {},
   "source": [
    "- intger data type int\n",
    "- float data type float\n",
    "- string data type str\n",
    "- Boolean data type bool\n"
   ]
  },
  {
   "cell_type": "code",
   "execution_count": 1,
   "id": "7b18561d-d56a-4ff2-a2e4-d02b3a53cb42",
   "metadata": {},
   "outputs": [
    {
     "data": {
      "text/plain": [
       "104959"
      ]
     },
     "execution_count": 1,
     "metadata": {},
     "output_type": "execute_result"
    }
   ],
   "source": [
    "0x199ff"
   ]
  },
  {
   "cell_type": "code",
   "execution_count": 2,
   "id": "f28d1804-5383-4844-ae5f-ed62683e4460",
   "metadata": {},
   "outputs": [
    {
     "data": {
      "text/plain": [
       "96511"
      ]
     },
     "execution_count": 2,
     "metadata": {},
     "output_type": "execute_result"
    }
   ],
   "source": [
    "0x178ff"
   ]
  },
  {
   "cell_type": "code",
   "execution_count": 5,
   "id": "b4d1b56e-993f-4a4c-b506-5d1698a746bb",
   "metadata": {},
   "outputs": [
    {
     "data": {
      "text/plain": [
       "4294967295"
      ]
     },
     "execution_count": 5,
     "metadata": {},
     "output_type": "execute_result"
    }
   ],
   "source": [
    "0xffffffff"
   ]
  },
  {
   "cell_type": "code",
   "execution_count": null,
   "id": "90749a02-74f6-44d7-ad5b-00e312d168d5",
   "metadata": {},
   "outputs": [],
   "source": []
  }
 ],
 "metadata": {
  "kernelspec": {
   "display_name": "Python 3 (ipykernel)",
   "language": "python",
   "name": "python3"
  },
  "language_info": {
   "codemirror_mode": {
    "name": "ipython",
    "version": 3
   },
   "file_extension": ".py",
   "mimetype": "text/x-python",
   "name": "python",
   "nbconvert_exporter": "python",
   "pygments_lexer": "ipython3",
   "version": "3.11.7"
  }
 },
 "nbformat": 4,
 "nbformat_minor": 5
}
